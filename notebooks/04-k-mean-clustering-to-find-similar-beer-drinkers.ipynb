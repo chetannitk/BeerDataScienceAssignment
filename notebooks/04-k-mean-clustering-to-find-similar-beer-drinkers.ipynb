{
  "nbformat": 4,
  "nbformat_minor": 0,
  "metadata": {
    "accelerator": "GPU",
    "colab": {
      "name": "02-Beer_review_natural_language_understanding.ipynb",
      "provenance": [],
      "include_colab_link": true
    },
    "kernelspec": {
      "display_name": "Python [conda env:chetan_ml] *",
      "language": "python",
      "name": "conda-env-chetan_ml-py"
    },
    "language_info": {
      "codemirror_mode": {
        "name": "ipython",
        "version": 3
      },
      "file_extension": ".py",
      "mimetype": "text/x-python",
      "name": "python",
      "nbconvert_exporter": "python",
      "pygments_lexer": "ipython3",
      "version": "3.7.3"
    }
  },
  "cells": [
    {
      "cell_type": "markdown",
      "metadata": {
        "id": "view-in-github",
        "colab_type": "text"
      },
      "source": [
        "<a href=\"https://colab.research.google.com/github/chetannitk/BeerDataScienceAssignment/blob/master/notebooks/04-k-mean-clustering-to-find-similar-beer-drinkers.ipynb\" target=\"_parent\"><img src=\"https://colab.research.google.com/assets/colab-badge.svg\" alt=\"Open In Colab\"/></a>"
      ]
    },
    {
      "cell_type": "markdown",
      "metadata": {
        "colab_type": "text",
        "id": "_KeSXgV-8YKi"
      },
      "source": [
        "<div class=\"alert alert-success\">\n",
        "    <h1> Beer Data Science Assignment <br/></h1>\n",
        "    K-mean clustering to find similar group of beer drinkers.\n",
        "</div>\n"
      ]
    },
    {
      "cell_type": "code",
      "metadata": {
        "id": "V0okdZkJQxZz",
        "colab_type": "code",
        "outputId": "5fccd5b4-5dfc-4678-a4bc-9a32135a8570",
        "colab": {
          "base_uri": "https://localhost:8080/",
          "height": 68
        }
      },
      "source": [
        "## Java version should be 1.8\n",
        "!java -version"
      ],
      "execution_count": 1,
      "outputs": [
        {
          "output_type": "stream",
          "text": [
            "openjdk version \"11.0.7\" 2020-04-14\n",
            "OpenJDK Runtime Environment (build 11.0.7+10-post-Ubuntu-2ubuntu218.04)\n",
            "OpenJDK 64-Bit Server VM (build 11.0.7+10-post-Ubuntu-2ubuntu218.04, mixed mode, sharing)\n"
          ],
          "name": "stdout"
        }
      ]
    },
    {
      "cell_type": "code",
      "metadata": {
        "id": "bXyX6pAMP3D-",
        "colab_type": "code",
        "colab": {
          "base_uri": "https://localhost:8080/",
          "height": 1000
        },
        "outputId": "cb23daa3-db88-4450-8563-4ee0f0891803"
      },
      "source": [
        "!sudo apt install openjdk-8-jdk\n"
      ],
      "execution_count": 2,
      "outputs": [
        {
          "output_type": "stream",
          "text": [
            "Reading package lists... Done\n",
            "Building dependency tree       \n",
            "Reading state information... Done\n",
            "The following additional packages will be installed:\n",
            "  fonts-dejavu-core fonts-dejavu-extra libatk-wrapper-java\n",
            "  libatk-wrapper-java-jni libxxf86dga1 openjdk-8-jdk-headless openjdk-8-jre\n",
            "  openjdk-8-jre-headless x11-utils\n",
            "Suggested packages:\n",
            "  openjdk-8-demo openjdk-8-source visualvm icedtea-8-plugin libnss-mdns\n",
            "  fonts-ipafont-gothic fonts-ipafont-mincho fonts-wqy-microhei\n",
            "  fonts-wqy-zenhei fonts-indic mesa-utils\n",
            "The following NEW packages will be installed:\n",
            "  fonts-dejavu-core fonts-dejavu-extra libatk-wrapper-java\n",
            "  libatk-wrapper-java-jni libxxf86dga1 openjdk-8-jdk openjdk-8-jdk-headless\n",
            "  openjdk-8-jre openjdk-8-jre-headless x11-utils\n",
            "0 upgraded, 10 newly installed, 0 to remove and 31 not upgraded.\n",
            "Need to get 40.7 MB of archives.\n",
            "After this operation, 153 MB of additional disk space will be used.\n",
            "Get:1 http://archive.ubuntu.com/ubuntu bionic/main amd64 libxxf86dga1 amd64 2:1.1.4-1 [13.7 kB]\n",
            "Get:2 http://archive.ubuntu.com/ubuntu bionic/main amd64 fonts-dejavu-core all 2.37-1 [1,041 kB]\n",
            "Get:3 http://archive.ubuntu.com/ubuntu bionic/main amd64 fonts-dejavu-extra all 2.37-1 [1,953 kB]\n",
            "Get:4 http://archive.ubuntu.com/ubuntu bionic/main amd64 x11-utils amd64 7.7+3build1 [196 kB]\n",
            "Get:5 http://archive.ubuntu.com/ubuntu bionic/main amd64 libatk-wrapper-java all 0.33.3-20ubuntu0.1 [34.7 kB]\n",
            "Get:6 http://archive.ubuntu.com/ubuntu bionic/main amd64 libatk-wrapper-java-jni amd64 0.33.3-20ubuntu0.1 [28.3 kB]\n",
            "Get:7 http://archive.ubuntu.com/ubuntu bionic-updates/universe amd64 openjdk-8-jre-headless amd64 8u252-b09-1~18.04 [27.5 MB]\n",
            "Get:8 http://archive.ubuntu.com/ubuntu bionic-updates/universe amd64 openjdk-8-jre amd64 8u252-b09-1~18.04 [69.8 kB]\n",
            "Get:9 http://archive.ubuntu.com/ubuntu bionic-updates/universe amd64 openjdk-8-jdk-headless amd64 8u252-b09-1~18.04 [8,250 kB]\n",
            "Get:10 http://archive.ubuntu.com/ubuntu bionic-updates/universe amd64 openjdk-8-jdk amd64 8u252-b09-1~18.04 [1,622 kB]\n",
            "Fetched 40.7 MB in 6s (6,619 kB/s)\n",
            "debconf: unable to initialize frontend: Dialog\n",
            "debconf: (No usable dialog-like program is installed, so the dialog based frontend cannot be used. at /usr/share/perl5/Debconf/FrontEnd/Dialog.pm line 76, <> line 10.)\n",
            "debconf: falling back to frontend: Readline\n",
            "debconf: unable to initialize frontend: Readline\n",
            "debconf: (This frontend requires a controlling tty.)\n",
            "debconf: falling back to frontend: Teletype\n",
            "dpkg-preconfigure: unable to re-open stdin: \n",
            "Selecting previously unselected package libxxf86dga1:amd64.\n",
            "(Reading database ... 144439 files and directories currently installed.)\n",
            "Preparing to unpack .../0-libxxf86dga1_2%3a1.1.4-1_amd64.deb ...\n",
            "Unpacking libxxf86dga1:amd64 (2:1.1.4-1) ...\n",
            "Selecting previously unselected package fonts-dejavu-core.\n",
            "Preparing to unpack .../1-fonts-dejavu-core_2.37-1_all.deb ...\n",
            "Unpacking fonts-dejavu-core (2.37-1) ...\n",
            "Selecting previously unselected package fonts-dejavu-extra.\n",
            "Preparing to unpack .../2-fonts-dejavu-extra_2.37-1_all.deb ...\n",
            "Unpacking fonts-dejavu-extra (2.37-1) ...\n",
            "Selecting previously unselected package x11-utils.\n",
            "Preparing to unpack .../3-x11-utils_7.7+3build1_amd64.deb ...\n",
            "Unpacking x11-utils (7.7+3build1) ...\n",
            "Selecting previously unselected package libatk-wrapper-java.\n",
            "Preparing to unpack .../4-libatk-wrapper-java_0.33.3-20ubuntu0.1_all.deb ...\n",
            "Unpacking libatk-wrapper-java (0.33.3-20ubuntu0.1) ...\n",
            "Selecting previously unselected package libatk-wrapper-java-jni:amd64.\n",
            "Preparing to unpack .../5-libatk-wrapper-java-jni_0.33.3-20ubuntu0.1_amd64.deb ...\n",
            "Unpacking libatk-wrapper-java-jni:amd64 (0.33.3-20ubuntu0.1) ...\n",
            "Selecting previously unselected package openjdk-8-jre-headless:amd64.\n",
            "Preparing to unpack .../6-openjdk-8-jre-headless_8u252-b09-1~18.04_amd64.deb ...\n",
            "Unpacking openjdk-8-jre-headless:amd64 (8u252-b09-1~18.04) ...\n",
            "Selecting previously unselected package openjdk-8-jre:amd64.\n",
            "Preparing to unpack .../7-openjdk-8-jre_8u252-b09-1~18.04_amd64.deb ...\n",
            "Unpacking openjdk-8-jre:amd64 (8u252-b09-1~18.04) ...\n",
            "Selecting previously unselected package openjdk-8-jdk-headless:amd64.\n",
            "Preparing to unpack .../8-openjdk-8-jdk-headless_8u252-b09-1~18.04_amd64.deb ...\n",
            "Unpacking openjdk-8-jdk-headless:amd64 (8u252-b09-1~18.04) ...\n",
            "Selecting previously unselected package openjdk-8-jdk:amd64.\n",
            "Preparing to unpack .../9-openjdk-8-jdk_8u252-b09-1~18.04_amd64.deb ...\n",
            "Unpacking openjdk-8-jdk:amd64 (8u252-b09-1~18.04) ...\n",
            "Setting up fonts-dejavu-core (2.37-1) ...\n",
            "Setting up libxxf86dga1:amd64 (2:1.1.4-1) ...\n",
            "Setting up fonts-dejavu-extra (2.37-1) ...\n",
            "Setting up openjdk-8-jre-headless:amd64 (8u252-b09-1~18.04) ...\n",
            "update-alternatives: using /usr/lib/jvm/java-8-openjdk-amd64/jre/bin/orbd to provide /usr/bin/orbd (orbd) in auto mode\n",
            "update-alternatives: using /usr/lib/jvm/java-8-openjdk-amd64/jre/bin/servertool to provide /usr/bin/servertool (servertool) in auto mode\n",
            "update-alternatives: using /usr/lib/jvm/java-8-openjdk-amd64/jre/bin/tnameserv to provide /usr/bin/tnameserv (tnameserv) in auto mode\n",
            "Setting up openjdk-8-jdk-headless:amd64 (8u252-b09-1~18.04) ...\n",
            "update-alternatives: using /usr/lib/jvm/java-8-openjdk-amd64/bin/idlj to provide /usr/bin/idlj (idlj) in auto mode\n",
            "update-alternatives: using /usr/lib/jvm/java-8-openjdk-amd64/bin/wsimport to provide /usr/bin/wsimport (wsimport) in auto mode\n",
            "update-alternatives: using /usr/lib/jvm/java-8-openjdk-amd64/bin/jsadebugd to provide /usr/bin/jsadebugd (jsadebugd) in auto mode\n",
            "update-alternatives: using /usr/lib/jvm/java-8-openjdk-amd64/bin/native2ascii to provide /usr/bin/native2ascii (native2ascii) in auto mode\n",
            "update-alternatives: using /usr/lib/jvm/java-8-openjdk-amd64/bin/javah to provide /usr/bin/javah (javah) in auto mode\n",
            "update-alternatives: using /usr/lib/jvm/java-8-openjdk-amd64/bin/clhsdb to provide /usr/bin/clhsdb (clhsdb) in auto mode\n",
            "update-alternatives: using /usr/lib/jvm/java-8-openjdk-amd64/bin/extcheck to provide /usr/bin/extcheck (extcheck) in auto mode\n",
            "update-alternatives: using /usr/lib/jvm/java-8-openjdk-amd64/bin/hsdb to provide /usr/bin/hsdb (hsdb) in auto mode\n",
            "update-alternatives: using /usr/lib/jvm/java-8-openjdk-amd64/bin/schemagen to provide /usr/bin/schemagen (schemagen) in auto mode\n",
            "update-alternatives: using /usr/lib/jvm/java-8-openjdk-amd64/bin/xjc to provide /usr/bin/xjc (xjc) in auto mode\n",
            "update-alternatives: using /usr/lib/jvm/java-8-openjdk-amd64/bin/jhat to provide /usr/bin/jhat (jhat) in auto mode\n",
            "update-alternatives: using /usr/lib/jvm/java-8-openjdk-amd64/bin/wsgen to provide /usr/bin/wsgen (wsgen) in auto mode\n",
            "Setting up x11-utils (7.7+3build1) ...\n",
            "Setting up libatk-wrapper-java (0.33.3-20ubuntu0.1) ...\n",
            "Setting up libatk-wrapper-java-jni:amd64 (0.33.3-20ubuntu0.1) ...\n",
            "Setting up openjdk-8-jre:amd64 (8u252-b09-1~18.04) ...\n",
            "update-alternatives: using /usr/lib/jvm/java-8-openjdk-amd64/jre/bin/policytool to provide /usr/bin/policytool (policytool) in auto mode\n",
            "Setting up openjdk-8-jdk:amd64 (8u252-b09-1~18.04) ...\n",
            "update-alternatives: using /usr/lib/jvm/java-8-openjdk-amd64/bin/appletviewer to provide /usr/bin/appletviewer (appletviewer) in auto mode\n",
            "update-alternatives: using /usr/lib/jvm/java-8-openjdk-amd64/bin/jconsole to provide /usr/bin/jconsole (jconsole) in auto mode\n",
            "Processing triggers for man-db (2.8.3-2ubuntu0.1) ...\n",
            "Processing triggers for hicolor-icon-theme (0.17-2) ...\n",
            "Processing triggers for fontconfig (2.12.6-0ubuntu2) ...\n",
            "Processing triggers for mime-support (3.60ubuntu1) ...\n",
            "Processing triggers for libc-bin (2.27-3ubuntu1) ...\n",
            "/sbin/ldconfig.real: /usr/local/lib/python3.6/dist-packages/ideep4py/lib/libmkldnn.so.0 is not a symbolic link\n",
            "\n"
          ],
          "name": "stdout"
        }
      ]
    },
    {
      "cell_type": "code",
      "metadata": {
        "id": "qVo8GMvVP47l",
        "colab_type": "code",
        "colab": {
          "base_uri": "https://localhost:8080/",
          "height": 187
        },
        "outputId": "ac17b09e-e8d6-4950-be63-9b27f9f06b88"
      },
      "source": [
        "!sudo update-alternatives --config java\n",
        "## Select java 8 option "
      ],
      "execution_count": 3,
      "outputs": [
        {
          "output_type": "stream",
          "text": [
            "There are 2 choices for the alternative java (providing /usr/bin/java).\n",
            "\n",
            "  Selection    Path                                            Priority   Status\n",
            "------------------------------------------------------------\n",
            "* 0            /usr/lib/jvm/java-11-openjdk-amd64/bin/java      1111      auto mode\n",
            "  1            /usr/lib/jvm/java-11-openjdk-amd64/bin/java      1111      manual mode\n",
            "  2            /usr/lib/jvm/java-8-openjdk-amd64/jre/bin/java   1081      manual mode\n",
            "\n",
            "Press <enter> to keep the current choice[*], or type selection number: 2\n",
            "update-alternatives: using /usr/lib/jvm/java-8-openjdk-amd64/jre/bin/java to provide /usr/bin/java (java) in manual mode\n"
          ],
          "name": "stdout"
        }
      ]
    },
    {
      "cell_type": "code",
      "metadata": {
        "colab_type": "code",
        "id": "M54Jfmer8YKk",
        "outputId": "9dec37af-e9b9-4ab5-f008-20759ca6fda4",
        "colab": {
          "base_uri": "https://localhost:8080/",
          "height": 122
        }
      },
      "source": [
        "from IPython.display import HTML\n",
        "import pandas as pd\n",
        "import os\n",
        "import numpy as np\n",
        "from datetime import datetime\n",
        "import wordcloud\n",
        "import warnings\n",
        "import seaborn as sns; sns.set()\n",
        "import matplotlib.pyplot as plt\n",
        "from tqdm._tqdm_notebook import tqdm_notebook\n",
        "tqdm_notebook.pandas()\n",
        "warnings.filterwarnings('ignore')\n",
        "\n",
        "#BASE_PATH = \"../\"\n",
        "#INPUT_DATA_PATH = os.path.join(BASE_PATH, \"data/raw/BeerDataScienceProject.csv\")"
      ],
      "execution_count": 1,
      "outputs": [
        {
          "output_type": "stream",
          "text": [
            "/usr/local/lib/python3.6/dist-packages/statsmodels/tools/_testing.py:19: FutureWarning: pandas.util.testing is deprecated. Use the functions in the public API at pandas.testing instead.\n",
            "  import pandas.util.testing as tm\n",
            "/usr/local/lib/python3.6/dist-packages/ipykernel_launcher.py:10: TqdmDeprecationWarning: This function will be removed in tqdm==5.0.0\n",
            "Please use `tqdm.notebook.*` instead of `tqdm._tqdm_notebook.*`\n",
            "  # Remove the CWD from sys.path while we load stuff.\n"
          ],
          "name": "stderr"
        }
      ]
    },
    {
      "cell_type": "code",
      "metadata": {
        "colab_type": "code",
        "id": "0n4Zed3z8YKp",
        "outputId": "52361868-49c5-4b62-e53b-41c5b0baa2e6",
        "colab": {
          "base_uri": "https://localhost:8080/",
          "height": 34
        }
      },
      "source": [
        "## Upload BeerDataScienceProject.csv file from local system.\n",
        "import zipfile\n",
        "from google.colab import drive\n",
        "\n",
        "drive.mount('/content/drive/')\n",
        "\n",
        "zip_ref = zipfile.ZipFile(\"/content/drive/My Drive/data/BeerDataScienceProject.zip\", 'r')\n",
        "zip_ref.extractall(\"/tmp\")\n",
        "zip_ref.close()"
      ],
      "execution_count": 2,
      "outputs": [
        {
          "output_type": "stream",
          "text": [
            "Drive already mounted at /content/drive/; to attempt to forcibly remount, call drive.mount(\"/content/drive/\", force_remount=True).\n"
          ],
          "name": "stdout"
        }
      ]
    },
    {
      "cell_type": "code",
      "metadata": {
        "colab_type": "code",
        "id": "7jaSmyo8_2Sm",
        "outputId": "d3fee9d7-d1a5-4150-b10a-25e2b5b75bcd",
        "colab": {
          "base_uri": "https://localhost:8080/",
          "height": 187
        }
      },
      "source": [
        "!ls -lrt /tmp"
      ],
      "execution_count": 3,
      "outputs": [
        {
          "output_type": "stream",
          "text": [
            "total 405188\n",
            "drwx------ 2 root root      4096 Jun  1 11:56 tmpbh64ylhv\n",
            "srw------- 1 root root         0 Jun  1 11:56 drivefs_ipc.0\n",
            "srw------- 1 root root         0 Jun  1 11:56 drivefs_ipc.0_shell\n",
            "drwxr-xr-x 3 root root      4096 Jun  1 11:57 tfhub_modules\n",
            "drwxr-xr-x 2 root root      4096 Jun  1 11:58 hsperfdata_root\n",
            "drwxr-xr-x 2 root root      4096 Jun  1 11:58 spark-8e687d17-be98-4cbe-82b5-8811b6623ca0\n",
            "drwxr-xr-x 2 root root      4096 Jun  1 11:58 blockmgr-2a1f6359-c905-4c38-b11b-9ab0a5da8a4f\n",
            "drwx------ 4 root root      4096 Jun  1 11:58 spark-c7078239-b26b-4e2a-8a06-7872077760ef\n",
            "-rw-r--r-- 1 root root 414885425 Jun  1 14:14 BeerDataScienceProject.csv\n"
          ],
          "name": "stdout"
        }
      ]
    },
    {
      "cell_type": "code",
      "metadata": {
        "colab_type": "code",
        "id": "ddLSfoL586l1",
        "colab": {}
      },
      "source": [
        "import io\n",
        "df_beer_raw = pd.read_csv('/tmp/BeerDataScienceProject.csv', encoding=\"ISO-8859-1\")"
      ],
      "execution_count": 0,
      "outputs": []
    },
    {
      "cell_type": "code",
      "metadata": {
        "colab_type": "code",
        "id": "RGVHajpO8YKv",
        "outputId": "ee9d9a7f-1308-4ecc-d60d-1d207884fc20",
        "colab": {
          "base_uri": "https://localhost:8080/",
          "height": 34
        }
      },
      "source": [
        "df_beer_raw.shape"
      ],
      "execution_count": 5,
      "outputs": [
        {
          "output_type": "execute_result",
          "data": {
            "text/plain": [
              "(528870, 13)"
            ]
          },
          "metadata": {
            "tags": []
          },
          "execution_count": 5
        }
      ]
    },
    {
      "cell_type": "code",
      "metadata": {
        "colab_type": "code",
        "id": "3ruuejTi8YK1",
        "outputId": "cb7a5b6a-595a-4faa-fbdf-3f6a0963f491",
        "colab": {
          "base_uri": "https://localhost:8080/",
          "height": 255
        }
      },
      "source": [
        "df_beer_raw.dtypes"
      ],
      "execution_count": 6,
      "outputs": [
        {
          "output_type": "execute_result",
          "data": {
            "text/plain": [
              "beer_ABV              float64\n",
              "beer_beerId             int64\n",
              "beer_brewerId           int64\n",
              "beer_name              object\n",
              "beer_style             object\n",
              "review_appearance     float64\n",
              "review_palette        float64\n",
              "review_overall        float64\n",
              "review_taste          float64\n",
              "review_profileName     object\n",
              "review_aroma          float64\n",
              "review_text            object\n",
              "review_time             int64\n",
              "dtype: object"
            ]
          },
          "metadata": {
            "tags": []
          },
          "execution_count": 6
        }
      ]
    },
    {
      "cell_type": "markdown",
      "metadata": {
        "colab_type": "text",
        "id": "a61brCIO8YK6"
      },
      "source": [
        "### Data Cleaning\n",
        "```In the below cell we can see that there are some columns where data is missing. \n",
        "   We need to remove those data points from our data set.\n",
        "```"
      ]
    },
    {
      "cell_type": "code",
      "metadata": {
        "colab_type": "code",
        "id": "uzLn8W108YK7",
        "outputId": "04de98f8-203f-45dd-fe7b-b766087724ea",
        "colab": {
          "base_uri": "https://localhost:8080/",
          "height": 255
        }
      },
      "source": [
        "df_beer_raw.isna().sum()"
      ],
      "execution_count": 7,
      "outputs": [
        {
          "output_type": "execute_result",
          "data": {
            "text/plain": [
              "beer_ABV              20280\n",
              "beer_beerId               0\n",
              "beer_brewerId             0\n",
              "beer_name                 0\n",
              "beer_style                0\n",
              "review_appearance         0\n",
              "review_palette            0\n",
              "review_overall            0\n",
              "review_taste              0\n",
              "review_profileName      115\n",
              "review_aroma              0\n",
              "review_text             119\n",
              "review_time               0\n",
              "dtype: int64"
            ]
          },
          "metadata": {
            "tags": []
          },
          "execution_count": 7
        }
      ]
    },
    {
      "cell_type": "code",
      "metadata": {
        "colab_type": "code",
        "id": "kpgOI5iQ8YLB",
        "colab": {}
      },
      "source": [
        "df_beer = df_beer_raw.dropna()"
      ],
      "execution_count": 0,
      "outputs": []
    },
    {
      "cell_type": "code",
      "metadata": {
        "colab_type": "code",
        "id": "4W4cl4A68YLG",
        "outputId": "4c326437-1835-4840-cfa6-6ff9260f84cb",
        "colab": {
          "base_uri": "https://localhost:8080/",
          "height": 357
        }
      },
      "source": [
        "df_beer.info()"
      ],
      "execution_count": 9,
      "outputs": [
        {
          "output_type": "stream",
          "text": [
            "<class 'pandas.core.frame.DataFrame'>\n",
            "Int64Index: 508358 entries, 0 to 528796\n",
            "Data columns (total 13 columns):\n",
            " #   Column              Non-Null Count   Dtype  \n",
            "---  ------              --------------   -----  \n",
            " 0   beer_ABV            508358 non-null  float64\n",
            " 1   beer_beerId         508358 non-null  int64  \n",
            " 2   beer_brewerId       508358 non-null  int64  \n",
            " 3   beer_name           508358 non-null  object \n",
            " 4   beer_style          508358 non-null  object \n",
            " 5   review_appearance   508358 non-null  float64\n",
            " 6   review_palette      508358 non-null  float64\n",
            " 7   review_overall      508358 non-null  float64\n",
            " 8   review_taste        508358 non-null  float64\n",
            " 9   review_profileName  508358 non-null  object \n",
            " 10  review_aroma        508358 non-null  float64\n",
            " 11  review_text         508358 non-null  object \n",
            " 12  review_time         508358 non-null  int64  \n",
            "dtypes: float64(6), int64(3), object(4)\n",
            "memory usage: 54.3+ MB\n"
          ],
          "name": "stdout"
        }
      ]
    },
    {
      "cell_type": "code",
      "metadata": {
        "colab_type": "code",
        "id": "RybRJkkjKyaD",
        "colab": {}
      },
      "source": [
        "df_beer = df_beer.reset_index()\n",
        "df_beer['id'] = df_beer.index"
      ],
      "execution_count": 0,
      "outputs": []
    },
    {
      "cell_type": "markdown",
      "metadata": {
        "colab_type": "text",
        "id": "NlBk4FG38YLL"
      },
      "source": [
        "## Data Changes in Raw and Clean dataset"
      ]
    },
    {
      "cell_type": "code",
      "metadata": {
        "colab_type": "code",
        "id": "MJz6u1KX8YLM",
        "outputId": "cfe755aa-daa3-4fcd-b2ea-c8cd15de79ce",
        "colab": {
          "base_uri": "https://localhost:8080/",
          "height": 68
        }
      },
      "source": [
        "print(\"Raw data size: \", df_beer_raw.shape[0])\n",
        "print(\"Clean data size: \", df_beer.shape[0])\n",
        "print(\"Data points difference: \", df_beer_raw.shape[0]-df_beer.shape[0])"
      ],
      "execution_count": 11,
      "outputs": [
        {
          "output_type": "stream",
          "text": [
            "Raw data size:  528870\n",
            "Clean data size:  508358\n",
            "Data points difference:  20512\n"
          ],
          "name": "stdout"
        }
      ]
    },
    {
      "cell_type": "markdown",
      "metadata": {
        "colab_type": "text",
        "id": "SSl1S2dA8YLR"
      },
      "source": [
        "### Describe the categorical features"
      ]
    },
    {
      "cell_type": "code",
      "metadata": {
        "colab_type": "code",
        "id": "IBmfjHHG8YLS",
        "outputId": "f3680abf-42e3-40f0-a5fd-5ab4f468d8db",
        "colab": {
          "base_uri": "https://localhost:8080/",
          "height": 173
        }
      },
      "source": [
        "df_beer.describe(include=[np.object])"
      ],
      "execution_count": 12,
      "outputs": [
        {
          "output_type": "execute_result",
          "data": {
            "text/html": [
              "<div>\n",
              "<style scoped>\n",
              "    .dataframe tbody tr th:only-of-type {\n",
              "        vertical-align: middle;\n",
              "    }\n",
              "\n",
              "    .dataframe tbody tr th {\n",
              "        vertical-align: top;\n",
              "    }\n",
              "\n",
              "    .dataframe thead th {\n",
              "        text-align: right;\n",
              "    }\n",
              "</style>\n",
              "<table border=\"1\" class=\"dataframe\">\n",
              "  <thead>\n",
              "    <tr style=\"text-align: right;\">\n",
              "      <th></th>\n",
              "      <th>beer_name</th>\n",
              "      <th>beer_style</th>\n",
              "      <th>review_profileName</th>\n",
              "      <th>review_text</th>\n",
              "    </tr>\n",
              "  </thead>\n",
              "  <tbody>\n",
              "    <tr>\n",
              "      <th>count</th>\n",
              "      <td>508358</td>\n",
              "      <td>508358</td>\n",
              "      <td>508358</td>\n",
              "      <td>508358</td>\n",
              "    </tr>\n",
              "    <tr>\n",
              "      <th>unique</th>\n",
              "      <td>14028</td>\n",
              "      <td>104</td>\n",
              "      <td>22563</td>\n",
              "      <td>508007</td>\n",
              "    </tr>\n",
              "    <tr>\n",
              "      <th>top</th>\n",
              "      <td>Sierra Nevada Celebration Ale</td>\n",
              "      <td>American IPA</td>\n",
              "      <td>northyorksammy</td>\n",
              "      <td>#NAME?</td>\n",
              "    </tr>\n",
              "    <tr>\n",
              "      <th>freq</th>\n",
              "      <td>2998</td>\n",
              "      <td>42092</td>\n",
              "      <td>1732</td>\n",
              "      <td>90</td>\n",
              "    </tr>\n",
              "  </tbody>\n",
              "</table>\n",
              "</div>"
            ],
            "text/plain": [
              "                            beer_name  ... review_text\n",
              "count                          508358  ...      508358\n",
              "unique                          14028  ...      508007\n",
              "top     Sierra Nevada Celebration Ale  ...      #NAME?\n",
              "freq                             2998  ...          90\n",
              "\n",
              "[4 rows x 4 columns]"
            ]
          },
          "metadata": {
            "tags": []
          },
          "execution_count": 12
        }
      ]
    },
    {
      "cell_type": "markdown",
      "metadata": {
        "colab_type": "text",
        "id": "GAgq6D8K8YLW"
      },
      "source": [
        "### Describe the numerical features"
      ]
    },
    {
      "cell_type": "code",
      "metadata": {
        "colab_type": "code",
        "id": "tW2Tuqlc8YLX",
        "outputId": "7387ed66-a82f-4600-f883-f7724f0f3382",
        "colab": {
          "base_uri": "https://localhost:8080/",
          "height": 317
        }
      },
      "source": [
        "df_beer.describe(include=[np.number])"
      ],
      "execution_count": 13,
      "outputs": [
        {
          "output_type": "execute_result",
          "data": {
            "text/html": [
              "<div>\n",
              "<style scoped>\n",
              "    .dataframe tbody tr th:only-of-type {\n",
              "        vertical-align: middle;\n",
              "    }\n",
              "\n",
              "    .dataframe tbody tr th {\n",
              "        vertical-align: top;\n",
              "    }\n",
              "\n",
              "    .dataframe thead th {\n",
              "        text-align: right;\n",
              "    }\n",
              "</style>\n",
              "<table border=\"1\" class=\"dataframe\">\n",
              "  <thead>\n",
              "    <tr style=\"text-align: right;\">\n",
              "      <th></th>\n",
              "      <th>index</th>\n",
              "      <th>beer_ABV</th>\n",
              "      <th>beer_beerId</th>\n",
              "      <th>beer_brewerId</th>\n",
              "      <th>review_appearance</th>\n",
              "      <th>review_palette</th>\n",
              "      <th>review_overall</th>\n",
              "      <th>review_taste</th>\n",
              "      <th>review_aroma</th>\n",
              "      <th>review_time</th>\n",
              "      <th>id</th>\n",
              "    </tr>\n",
              "  </thead>\n",
              "  <tbody>\n",
              "    <tr>\n",
              "      <th>count</th>\n",
              "      <td>508358.000000</td>\n",
              "      <td>508358.000000</td>\n",
              "      <td>508358.000000</td>\n",
              "      <td>508358.000000</td>\n",
              "      <td>508358.000000</td>\n",
              "      <td>508358.000000</td>\n",
              "      <td>508358.000000</td>\n",
              "      <td>508358.000000</td>\n",
              "      <td>508358.000000</td>\n",
              "      <td>5.083580e+05</td>\n",
              "      <td>508358.000000</td>\n",
              "    </tr>\n",
              "    <tr>\n",
              "      <th>mean</th>\n",
              "      <td>263669.490377</td>\n",
              "      <td>7.017400</td>\n",
              "      <td>21824.120840</td>\n",
              "      <td>2534.273207</td>\n",
              "      <td>3.872676</td>\n",
              "      <td>3.768993</td>\n",
              "      <td>3.840805</td>\n",
              "      <td>3.775327</td>\n",
              "      <td>3.827646</td>\n",
              "      <td>1.226175e+09</td>\n",
              "      <td>254178.500000</td>\n",
              "    </tr>\n",
              "    <tr>\n",
              "      <th>std</th>\n",
              "      <td>152590.091973</td>\n",
              "      <td>2.204528</td>\n",
              "      <td>22124.969107</td>\n",
              "      <td>5237.843825</td>\n",
              "      <td>0.601764</td>\n",
              "      <td>0.682355</td>\n",
              "      <td>0.706408</td>\n",
              "      <td>0.665586</td>\n",
              "      <td>0.715121</td>\n",
              "      <td>7.530843e+07</td>\n",
              "      <td>146750.458409</td>\n",
              "    </tr>\n",
              "    <tr>\n",
              "      <th>min</th>\n",
              "      <td>0.000000</td>\n",
              "      <td>0.010000</td>\n",
              "      <td>5.000000</td>\n",
              "      <td>1.000000</td>\n",
              "      <td>0.000000</td>\n",
              "      <td>1.000000</td>\n",
              "      <td>0.000000</td>\n",
              "      <td>1.000000</td>\n",
              "      <td>1.000000</td>\n",
              "      <td>8.843904e+08</td>\n",
              "      <td>0.000000</td>\n",
              "    </tr>\n",
              "    <tr>\n",
              "      <th>25%</th>\n",
              "      <td>131284.250000</td>\n",
              "      <td>5.300000</td>\n",
              "      <td>1673.000000</td>\n",
              "      <td>132.000000</td>\n",
              "      <td>3.500000</td>\n",
              "      <td>3.500000</td>\n",
              "      <td>3.500000</td>\n",
              "      <td>3.500000</td>\n",
              "      <td>3.500000</td>\n",
              "      <td>1.177202e+09</td>\n",
              "      <td>127089.250000</td>\n",
              "    </tr>\n",
              "    <tr>\n",
              "      <th>50%</th>\n",
              "      <td>263756.500000</td>\n",
              "      <td>6.500000</td>\n",
              "      <td>13850.000000</td>\n",
              "      <td>392.000000</td>\n",
              "      <td>4.000000</td>\n",
              "      <td>4.000000</td>\n",
              "      <td>4.000000</td>\n",
              "      <td>4.000000</td>\n",
              "      <td>4.000000</td>\n",
              "      <td>1.241503e+09</td>\n",
              "      <td>254178.500000</td>\n",
              "    </tr>\n",
              "    <tr>\n",
              "      <th>75%</th>\n",
              "      <td>395689.750000</td>\n",
              "      <td>8.500000</td>\n",
              "      <td>40418.000000</td>\n",
              "      <td>1315.000000</td>\n",
              "      <td>4.000000</td>\n",
              "      <td>4.000000</td>\n",
              "      <td>4.500000</td>\n",
              "      <td>4.000000</td>\n",
              "      <td>4.500000</td>\n",
              "      <td>1.289073e+09</td>\n",
              "      <td>381267.750000</td>\n",
              "    </tr>\n",
              "    <tr>\n",
              "      <th>max</th>\n",
              "      <td>528796.000000</td>\n",
              "      <td>57.700000</td>\n",
              "      <td>77310.000000</td>\n",
              "      <td>27980.000000</td>\n",
              "      <td>5.000000</td>\n",
              "      <td>5.000000</td>\n",
              "      <td>5.000000</td>\n",
              "      <td>5.000000</td>\n",
              "      <td>5.000000</td>\n",
              "      <td>1.326277e+09</td>\n",
              "      <td>508357.000000</td>\n",
              "    </tr>\n",
              "  </tbody>\n",
              "</table>\n",
              "</div>"
            ],
            "text/plain": [
              "               index       beer_ABV  ...   review_time             id\n",
              "count  508358.000000  508358.000000  ...  5.083580e+05  508358.000000\n",
              "mean   263669.490377       7.017400  ...  1.226175e+09  254178.500000\n",
              "std    152590.091973       2.204528  ...  7.530843e+07  146750.458409\n",
              "min         0.000000       0.010000  ...  8.843904e+08       0.000000\n",
              "25%    131284.250000       5.300000  ...  1.177202e+09  127089.250000\n",
              "50%    263756.500000       6.500000  ...  1.241503e+09  254178.500000\n",
              "75%    395689.750000       8.500000  ...  1.289073e+09  381267.750000\n",
              "max    528796.000000      57.700000  ...  1.326277e+09  508357.000000\n",
              "\n",
              "[8 rows x 11 columns]"
            ]
          },
          "metadata": {
            "tags": []
          },
          "execution_count": 13
        }
      ]
    },
    {
      "cell_type": "code",
      "metadata": {
        "colab_type": "code",
        "id": "-A1piu-U8YLb",
        "colab": {}
      },
      "source": [
        "NUMERICAL_ATTRIBUTE = ['beer_ABV', 'review_appearance', 'review_palette', \n",
        "                       'review_overall', 'review_taste', 'review_aroma', 'review_time']\n",
        "CATEGORICAL_ATTRIBUTE = ['beer_name', 'beer_style', 'review_profileName', 'review_text']"
      ],
      "execution_count": 0,
      "outputs": []
    },
    {
      "cell_type": "code",
      "metadata": {
        "colab_type": "code",
        "id": "hUunnLlE8YLg",
        "outputId": "fbb734c0-81a6-4847-9c36-5ef3a2716c03",
        "colab": {
          "base_uri": "https://localhost:8080/",
          "height": 397
        }
      },
      "source": [
        "df_beer.sample(4)"
      ],
      "execution_count": 15,
      "outputs": [
        {
          "output_type": "execute_result",
          "data": {
            "text/html": [
              "<div>\n",
              "<style scoped>\n",
              "    .dataframe tbody tr th:only-of-type {\n",
              "        vertical-align: middle;\n",
              "    }\n",
              "\n",
              "    .dataframe tbody tr th {\n",
              "        vertical-align: top;\n",
              "    }\n",
              "\n",
              "    .dataframe thead th {\n",
              "        text-align: right;\n",
              "    }\n",
              "</style>\n",
              "<table border=\"1\" class=\"dataframe\">\n",
              "  <thead>\n",
              "    <tr style=\"text-align: right;\">\n",
              "      <th></th>\n",
              "      <th>index</th>\n",
              "      <th>beer_ABV</th>\n",
              "      <th>beer_beerId</th>\n",
              "      <th>beer_brewerId</th>\n",
              "      <th>beer_name</th>\n",
              "      <th>beer_style</th>\n",
              "      <th>review_appearance</th>\n",
              "      <th>review_palette</th>\n",
              "      <th>review_overall</th>\n",
              "      <th>review_taste</th>\n",
              "      <th>review_profileName</th>\n",
              "      <th>review_aroma</th>\n",
              "      <th>review_text</th>\n",
              "      <th>review_time</th>\n",
              "      <th>id</th>\n",
              "    </tr>\n",
              "  </thead>\n",
              "  <tbody>\n",
              "    <tr>\n",
              "      <th>226705</th>\n",
              "      <td>234885</td>\n",
              "      <td>10.2</td>\n",
              "      <td>6512</td>\n",
              "      <td>1628</td>\n",
              "      <td>Imperial Russian Stout</td>\n",
              "      <td>Russian Imperial Stout</td>\n",
              "      <td>4.0</td>\n",
              "      <td>4.0</td>\n",
              "      <td>4.5</td>\n",
              "      <td>4.5</td>\n",
              "      <td>Billolick</td>\n",
              "      <td>5.0</td>\n",
              "      <td>On tap at the venerable Blind Tiger ale house ...</td>\n",
              "      <td>1110425548</td>\n",
              "      <td>226705</td>\n",
              "    </tr>\n",
              "    <tr>\n",
              "      <th>392279</th>\n",
              "      <td>407101</td>\n",
              "      <td>6.0</td>\n",
              "      <td>6322</td>\n",
              "      <td>694</td>\n",
              "      <td>Tröegs Hopback Amber Ale</td>\n",
              "      <td>American Amber / Red Ale</td>\n",
              "      <td>4.0</td>\n",
              "      <td>4.0</td>\n",
              "      <td>4.0</td>\n",
              "      <td>4.0</td>\n",
              "      <td>9InchNails</td>\n",
              "      <td>4.0</td>\n",
              "      <td>Creamy white head. Cloudy amber color. Looks r...</td>\n",
              "      <td>1318751035</td>\n",
              "      <td>392279</td>\n",
              "    </tr>\n",
              "    <tr>\n",
              "      <th>248696</th>\n",
              "      <td>257372</td>\n",
              "      <td>8.0</td>\n",
              "      <td>5253</td>\n",
              "      <td>841</td>\n",
              "      <td>Vapeur En Folie</td>\n",
              "      <td>Belgian Strong Pale Ale</td>\n",
              "      <td>4.0</td>\n",
              "      <td>2.0</td>\n",
              "      <td>3.0</td>\n",
              "      <td>4.0</td>\n",
              "      <td>NeroFiddled</td>\n",
              "      <td>2.5</td>\n",
              "      <td>750 ml bottle. Pours a slightly hazy gold body...</td>\n",
              "      <td>1056863320</td>\n",
              "      <td>248696</td>\n",
              "    </tr>\n",
              "    <tr>\n",
              "      <th>452479</th>\n",
              "      <td>470533</td>\n",
              "      <td>7.0</td>\n",
              "      <td>16637</td>\n",
              "      <td>392</td>\n",
              "      <td>Black Hole</td>\n",
              "      <td>Old Ale</td>\n",
              "      <td>4.0</td>\n",
              "      <td>4.0</td>\n",
              "      <td>4.0</td>\n",
              "      <td>4.0</td>\n",
              "      <td>edchicma</td>\n",
              "      <td>4.0</td>\n",
              "      <td>Another good offering from Weyerbacher. Black ...</td>\n",
              "      <td>1145021945</td>\n",
              "      <td>452479</td>\n",
              "    </tr>\n",
              "  </tbody>\n",
              "</table>\n",
              "</div>"
            ],
            "text/plain": [
              "         index  beer_ABV  ...  review_time      id\n",
              "226705  234885      10.2  ...   1110425548  226705\n",
              "392279  407101       6.0  ...   1318751035  392279\n",
              "248696  257372       8.0  ...   1056863320  248696\n",
              "452479  470533       7.0  ...   1145021945  452479\n",
              "\n",
              "[4 rows x 15 columns]"
            ]
          },
          "metadata": {
            "tags": []
          },
          "execution_count": 15
        }
      ]
    },
    {
      "cell_type": "markdown",
      "metadata": {
        "colab_type": "text",
        "id": "L2S4osXP8YLl"
      },
      "source": [
        "<div class=\"alert alert-info\">\n",
        "Convert the review timestamp to datetime format\n",
        "</div>"
      ]
    },
    {
      "cell_type": "code",
      "metadata": {
        "colab_type": "code",
        "id": "L8IcyT1Q8YLl",
        "colab": {}
      },
      "source": [
        "df_beer['d_review_time'] = df_beer.review_time.apply(lambda t: datetime.fromtimestamp(t))"
      ],
      "execution_count": 0,
      "outputs": []
    },
    {
      "cell_type": "code",
      "metadata": {
        "colab_type": "code",
        "id": "I1EY1hW68YLp",
        "colab": {}
      },
      "source": [
        "df_beer['d_review_time_year'] = df_beer['d_review_time'].dt.year\n",
        "df_beer['d_review_time_month'] = df_beer['d_review_time'].dt.month"
      ],
      "execution_count": 0,
      "outputs": []
    },
    {
      "cell_type": "markdown",
      "metadata": {
        "colab_type": "text",
        "id": "n-nr8xtCAOho"
      },
      "source": [
        "<div class=\"alert alert-success\">\n",
        "Q7) How do find similar beer drinkers by using written reviews only?   \n",
        "</div>"
      ]
    },
    {
      "cell_type": "code",
      "metadata": {
        "colab_type": "code",
        "id": "C2QGO9dkAzPZ",
        "outputId": "9883b8a8-3ab0-4196-a0d0-6b617908cfe9",
        "colab": {
          "base_uri": "https://localhost:8080/",
          "height": 683
        }
      },
      "source": [
        "!pip install tensorflow_text"
      ],
      "execution_count": 18,
      "outputs": [
        {
          "output_type": "stream",
          "text": [
            "Requirement already satisfied: tensorflow_text in /usr/local/lib/python3.6/dist-packages (2.2.0)\n",
            "Requirement already satisfied: tensorflow<2.3,>=2.2.0 in /usr/local/lib/python3.6/dist-packages (from tensorflow_text) (2.2.0)\n",
            "Requirement already satisfied: astunparse==1.6.3 in /usr/local/lib/python3.6/dist-packages (from tensorflow<2.3,>=2.2.0->tensorflow_text) (1.6.3)\n",
            "Requirement already satisfied: numpy<2.0,>=1.16.0 in /usr/local/lib/python3.6/dist-packages (from tensorflow<2.3,>=2.2.0->tensorflow_text) (1.18.4)\n",
            "Requirement already satisfied: scipy==1.4.1; python_version >= \"3\" in /usr/local/lib/python3.6/dist-packages (from tensorflow<2.3,>=2.2.0->tensorflow_text) (1.4.1)\n",
            "Requirement already satisfied: h5py<2.11.0,>=2.10.0 in /usr/local/lib/python3.6/dist-packages (from tensorflow<2.3,>=2.2.0->tensorflow_text) (2.10.0)\n",
            "Requirement already satisfied: tensorboard<2.3.0,>=2.2.0 in /usr/local/lib/python3.6/dist-packages (from tensorflow<2.3,>=2.2.0->tensorflow_text) (2.2.1)\n",
            "Requirement already satisfied: opt-einsum>=2.3.2 in /usr/local/lib/python3.6/dist-packages (from tensorflow<2.3,>=2.2.0->tensorflow_text) (3.2.1)\n",
            "Requirement already satisfied: six>=1.12.0 in /usr/local/lib/python3.6/dist-packages (from tensorflow<2.3,>=2.2.0->tensorflow_text) (1.12.0)\n",
            "Requirement already satisfied: termcolor>=1.1.0 in /usr/local/lib/python3.6/dist-packages (from tensorflow<2.3,>=2.2.0->tensorflow_text) (1.1.0)\n",
            "Requirement already satisfied: wrapt>=1.11.1 in /usr/local/lib/python3.6/dist-packages (from tensorflow<2.3,>=2.2.0->tensorflow_text) (1.12.1)\n",
            "Requirement already satisfied: absl-py>=0.7.0 in /usr/local/lib/python3.6/dist-packages (from tensorflow<2.3,>=2.2.0->tensorflow_text) (0.9.0)\n",
            "Requirement already satisfied: google-pasta>=0.1.8 in /usr/local/lib/python3.6/dist-packages (from tensorflow<2.3,>=2.2.0->tensorflow_text) (0.2.0)\n",
            "Requirement already satisfied: tensorflow-estimator<2.3.0,>=2.2.0 in /usr/local/lib/python3.6/dist-packages (from tensorflow<2.3,>=2.2.0->tensorflow_text) (2.2.0)\n",
            "Requirement already satisfied: keras-preprocessing>=1.1.0 in /usr/local/lib/python3.6/dist-packages (from tensorflow<2.3,>=2.2.0->tensorflow_text) (1.1.2)\n",
            "Requirement already satisfied: grpcio>=1.8.6 in /usr/local/lib/python3.6/dist-packages (from tensorflow<2.3,>=2.2.0->tensorflow_text) (1.29.0)\n",
            "Requirement already satisfied: gast==0.3.3 in /usr/local/lib/python3.6/dist-packages (from tensorflow<2.3,>=2.2.0->tensorflow_text) (0.3.3)\n",
            "Requirement already satisfied: wheel>=0.26; python_version >= \"3\" in /usr/local/lib/python3.6/dist-packages (from tensorflow<2.3,>=2.2.0->tensorflow_text) (0.34.2)\n",
            "Requirement already satisfied: protobuf>=3.8.0 in /usr/local/lib/python3.6/dist-packages (from tensorflow<2.3,>=2.2.0->tensorflow_text) (3.10.0)\n",
            "Requirement already satisfied: werkzeug>=0.11.15 in /usr/local/lib/python3.6/dist-packages (from tensorboard<2.3.0,>=2.2.0->tensorflow<2.3,>=2.2.0->tensorflow_text) (1.0.1)\n",
            "Requirement already satisfied: requests<3,>=2.21.0 in /usr/local/lib/python3.6/dist-packages (from tensorboard<2.3.0,>=2.2.0->tensorflow<2.3,>=2.2.0->tensorflow_text) (2.23.0)\n",
            "Requirement already satisfied: google-auth<2,>=1.6.3 in /usr/local/lib/python3.6/dist-packages (from tensorboard<2.3.0,>=2.2.0->tensorflow<2.3,>=2.2.0->tensorflow_text) (1.7.2)\n",
            "Requirement already satisfied: tensorboard-plugin-wit>=1.6.0 in /usr/local/lib/python3.6/dist-packages (from tensorboard<2.3.0,>=2.2.0->tensorflow<2.3,>=2.2.0->tensorflow_text) (1.6.0.post3)\n",
            "Requirement already satisfied: setuptools>=41.0.0 in /usr/local/lib/python3.6/dist-packages (from tensorboard<2.3.0,>=2.2.0->tensorflow<2.3,>=2.2.0->tensorflow_text) (46.4.0)\n",
            "Requirement already satisfied: markdown>=2.6.8 in /usr/local/lib/python3.6/dist-packages (from tensorboard<2.3.0,>=2.2.0->tensorflow<2.3,>=2.2.0->tensorflow_text) (3.2.2)\n",
            "Requirement already satisfied: google-auth-oauthlib<0.5,>=0.4.1 in /usr/local/lib/python3.6/dist-packages (from tensorboard<2.3.0,>=2.2.0->tensorflow<2.3,>=2.2.0->tensorflow_text) (0.4.1)\n",
            "Requirement already satisfied: urllib3!=1.25.0,!=1.25.1,<1.26,>=1.21.1 in /usr/local/lib/python3.6/dist-packages (from requests<3,>=2.21.0->tensorboard<2.3.0,>=2.2.0->tensorflow<2.3,>=2.2.0->tensorflow_text) (1.24.3)\n",
            "Requirement already satisfied: chardet<4,>=3.0.2 in /usr/local/lib/python3.6/dist-packages (from requests<3,>=2.21.0->tensorboard<2.3.0,>=2.2.0->tensorflow<2.3,>=2.2.0->tensorflow_text) (3.0.4)\n",
            "Requirement already satisfied: certifi>=2017.4.17 in /usr/local/lib/python3.6/dist-packages (from requests<3,>=2.21.0->tensorboard<2.3.0,>=2.2.0->tensorflow<2.3,>=2.2.0->tensorflow_text) (2020.4.5.1)\n",
            "Requirement already satisfied: idna<3,>=2.5 in /usr/local/lib/python3.6/dist-packages (from requests<3,>=2.21.0->tensorboard<2.3.0,>=2.2.0->tensorflow<2.3,>=2.2.0->tensorflow_text) (2.9)\n",
            "Requirement already satisfied: pyasn1-modules>=0.2.1 in /usr/local/lib/python3.6/dist-packages (from google-auth<2,>=1.6.3->tensorboard<2.3.0,>=2.2.0->tensorflow<2.3,>=2.2.0->tensorflow_text) (0.2.8)\n",
            "Requirement already satisfied: rsa<4.1,>=3.1.4 in /usr/local/lib/python3.6/dist-packages (from google-auth<2,>=1.6.3->tensorboard<2.3.0,>=2.2.0->tensorflow<2.3,>=2.2.0->tensorflow_text) (4.0)\n",
            "Requirement already satisfied: cachetools<3.2,>=2.0.0 in /usr/local/lib/python3.6/dist-packages (from google-auth<2,>=1.6.3->tensorboard<2.3.0,>=2.2.0->tensorflow<2.3,>=2.2.0->tensorflow_text) (3.1.1)\n",
            "Requirement already satisfied: importlib-metadata; python_version < \"3.8\" in /usr/local/lib/python3.6/dist-packages (from markdown>=2.6.8->tensorboard<2.3.0,>=2.2.0->tensorflow<2.3,>=2.2.0->tensorflow_text) (1.6.0)\n",
            "Requirement already satisfied: requests-oauthlib>=0.7.0 in /usr/local/lib/python3.6/dist-packages (from google-auth-oauthlib<0.5,>=0.4.1->tensorboard<2.3.0,>=2.2.0->tensorflow<2.3,>=2.2.0->tensorflow_text) (1.3.0)\n",
            "Requirement already satisfied: pyasn1<0.5.0,>=0.4.6 in /usr/local/lib/python3.6/dist-packages (from pyasn1-modules>=0.2.1->google-auth<2,>=1.6.3->tensorboard<2.3.0,>=2.2.0->tensorflow<2.3,>=2.2.0->tensorflow_text) (0.4.8)\n",
            "Requirement already satisfied: zipp>=0.5 in /usr/local/lib/python3.6/dist-packages (from importlib-metadata; python_version < \"3.8\"->markdown>=2.6.8->tensorboard<2.3.0,>=2.2.0->tensorflow<2.3,>=2.2.0->tensorflow_text) (3.1.0)\n",
            "Requirement already satisfied: oauthlib>=3.0.0 in /usr/local/lib/python3.6/dist-packages (from requests-oauthlib>=0.7.0->google-auth-oauthlib<0.5,>=0.4.1->tensorboard<2.3.0,>=2.2.0->tensorflow<2.3,>=2.2.0->tensorflow_text) (3.1.0)\n"
          ],
          "name": "stdout"
        }
      ]
    },
    {
      "cell_type": "code",
      "metadata": {
        "colab_type": "code",
        "id": "kNeilvDdBlwx",
        "outputId": "94d475f9-b742-4486-b43a-4fb71869eeb6",
        "colab": {
          "base_uri": "https://localhost:8080/",
          "height": 34
        }
      },
      "source": [
        "import tensorflow as tf\n",
        "import tensorflow_hub as hub\n",
        "import tensorflow_text\n",
        "tf.executing_eagerly()"
      ],
      "execution_count": 19,
      "outputs": [
        {
          "output_type": "execute_result",
          "data": {
            "text/plain": [
              "True"
            ]
          },
          "metadata": {
            "tags": []
          },
          "execution_count": 19
        }
      ]
    },
    {
      "cell_type": "code",
      "metadata": {
        "colab_type": "code",
        "id": "-Ev62HgSBvDj",
        "colab": {}
      },
      "source": [
        "embed = hub.load(\"https://tfhub.dev/google/nnlm-en-dim50-with-normalization/2\")"
      ],
      "execution_count": 0,
      "outputs": []
    },
    {
      "cell_type": "code",
      "metadata": {
        "id": "6MC-I0h1IQa0",
        "colab_type": "code",
        "outputId": "939ee572-5b48-48bf-b117-2b1fa29c3ae2",
        "colab": {
          "base_uri": "https://localhost:8080/",
          "height": 51
        }
      },
      "source": [
        "!pip install pyspark"
      ],
      "execution_count": 21,
      "outputs": [
        {
          "output_type": "stream",
          "text": [
            "Requirement already satisfied: pyspark in /usr/local/lib/python3.6/dist-packages (2.4.5)\n",
            "Requirement already satisfied: py4j==0.10.7 in /usr/local/lib/python3.6/dist-packages (from pyspark) (0.10.7)\n"
          ],
          "name": "stdout"
        }
      ]
    },
    {
      "cell_type": "code",
      "metadata": {
        "colab_type": "code",
        "id": "0b6sAvF7CF2f",
        "outputId": "3dc105f2-da3c-4e8d-ada4-56950e2e4d30",
        "colab": {
          "base_uri": "https://localhost:8080/",
          "height": 34
        }
      },
      "source": [
        "from __future__ import print_function\n",
        "\n",
        "import numpy as np\n",
        "import pandas as pd\n",
        "import matplotlib.pyplot as plt\n",
        "from sklearn.datasets.samples_generator import make_blobs\n",
        "import pyspark\n",
        "from pyspark import SparkContext\n",
        "from pyspark.ml.clustering import KMeans\n",
        "from pyspark.ml.feature import VectorAssembler\n",
        "from pyspark.sql import SQLContext, SparkSession\n",
        "from pyspark.sql.types import *\n",
        "\n",
        "\n",
        "%matplotlib inline\n",
        "\n",
        "print (pyspark.__version__)"
      ],
      "execution_count": 22,
      "outputs": [
        {
          "output_type": "stream",
          "text": [
            "2.4.5\n"
          ],
          "name": "stdout"
        }
      ]
    },
    {
      "cell_type": "code",
      "metadata": {
        "id": "7gndLhh1JLDi",
        "colab_type": "code",
        "colab": {}
      },
      "source": [
        "sc = SparkContext(\"local[*]\", \"First App1\")\n",
        "spark = SparkSession(sc)"
      ],
      "execution_count": 0,
      "outputs": []
    },
    {
      "cell_type": "code",
      "metadata": {
        "colab_type": "code",
        "id": "9cJTFCIn8YMW",
        "colab": {}
      },
      "source": [
        "train = df_beer.review_text.tolist()\n",
        "list_train = [train[i:i+100] for i in range(0,len(train),100)]"
      ],
      "execution_count": 0,
      "outputs": []
    },
    {
      "cell_type": "code",
      "metadata": {
        "id": "ra6uhTeC7ltT",
        "colab_type": "code",
        "outputId": "8c3a8e59-30ee-4694-949c-a2e4584934a9",
        "colab": {
          "base_uri": "https://localhost:8080/",
          "height": 34
        }
      },
      "source": [
        "from tqdm import tqdm\n",
        "data = []\n",
        "for d in tqdm(list_train):\n",
        "    data.extend(embed(d).numpy())"
      ],
      "execution_count": 25,
      "outputs": [
        {
          "output_type": "stream",
          "text": [
            "100%|██████████| 5084/5084 [00:30<00:00, 166.12it/s]\n"
          ],
          "name": "stderr"
        }
      ]
    },
    {
      "cell_type": "code",
      "metadata": {
        "colab_type": "code",
        "id": "OIVQ8BzrH0nX",
        "colab": {}
      },
      "source": [
        "df = pd.DataFrame(data, columns=[\"c\"+str(i) for i in range(50)])\n",
        "df['id'] = df.index\n",
        "df = spark.createDataFrame(df) \n"
      ],
      "execution_count": 0,
      "outputs": []
    },
    {
      "cell_type": "code",
      "metadata": {
        "id": "awGE2Yn5KV5O",
        "colab_type": "code",
        "outputId": "de8a8117-3c6b-43f6-9830-26ed88db32b4",
        "colab": {
          "base_uri": "https://localhost:8080/",
          "height": 479
        }
      },
      "source": [
        "df.show()"
      ],
      "execution_count": 28,
      "outputs": [
        {
          "output_type": "stream",
          "text": [
            "+-------------------+--------------------+--------------------+-------------------+--------------------+--------------------+--------------------+--------------------+--------------------+-------------------+-------------------+--------------------+--------------------+--------------------+--------------------+--------------------+--------------------+--------------------+--------------------+-------------------+--------------------+--------------------+--------------------+-------------------+--------------------+--------------------+--------------------+-------------------+-------------------+--------------------+--------------------+--------------------+-------------------+--------------------+--------------------+--------------------+--------------------+--------------------+--------------------+-------------------+--------------------+--------------------+--------------------+--------------------+--------------------+--------------------+--------------------+--------------------+--------------------+--------------------+---+\n",
            "|                 c0|                  c1|                  c2|                 c3|                  c4|                  c5|                  c6|                  c7|                  c8|                 c9|                c10|                 c11|                 c12|                 c13|                 c14|                 c15|                 c16|                 c17|                 c18|                c19|                 c20|                 c21|                 c22|                c23|                 c24|                 c25|                 c26|                c27|                c28|                 c29|                 c30|                 c31|                c32|                 c33|                 c34|                 c35|                 c36|                 c37|                 c38|                c39|                 c40|                 c41|                 c42|                 c43|                 c44|                 c45|                 c46|                 c47|                 c48|                 c49| id|\n",
            "+-------------------+--------------------+--------------------+-------------------+--------------------+--------------------+--------------------+--------------------+--------------------+-------------------+-------------------+--------------------+--------------------+--------------------+--------------------+--------------------+--------------------+--------------------+--------------------+-------------------+--------------------+--------------------+--------------------+-------------------+--------------------+--------------------+--------------------+-------------------+-------------------+--------------------+--------------------+--------------------+-------------------+--------------------+--------------------+--------------------+--------------------+--------------------+--------------------+-------------------+--------------------+--------------------+--------------------+--------------------+--------------------+--------------------+--------------------+--------------------+--------------------+--------------------+---+\n",
            "|  0.406141459941864|-0.24673917889595032| 0.08120127767324448| 0.4138379991054535|-0.19954505562782288| -0.3824222981929779|0.042459603399038315|  0.2758018374443054|-0.30115917325019836|0.32058635354042053|0.41768166422843933|0.029326915740966797| -0.4130789637565613|-0.10872258991003036|-0.09318576753139496|-0.47035592794418335| 0.26684579253196716|  0.1252903938293457| -0.1174132451415062|-0.6944555044174194|-0.08507709205150604| -0.4828159511089325|  0.1770070642232895|0.16910648345947266|  -0.403067409992218|0.019383296370506287|-0.27493613958358765|0.47514280676841736|0.18167509138584137| -0.5131674408912659| -0.1429898887872696|-0.01183605659753...|0.26494377851486206|-0.45183292031288147|-0.07289344072341919| 0.06528829038143158|-0.14205268025398254| 0.32993653416633606|-0.10458038747310638|-0.9514827728271484|0.023597702383995056| -0.1182902604341507| 0.23860816657543182|-0.04947971180081...|  0.1702580600976944| 0.03705064579844475|0.006667209323495...|-0.05447959899902344|-0.07040266692638397| 0.03680294007062912|  0|\n",
            "|0.41943061351776123|-0.36589616537094116|-0.02530903182923...| 0.3546953499317169|-0.37921491265296936| -0.7094400525093079|-0.04321691393852234| 0.28834110498428345|-0.45790964365005493| 0.6031022071838379| 0.4336126446723938|-0.05956955626606941|-0.18099966645240784| -0.3810887038707733|-0.18395890295505524| -0.6922343969345093|  0.2410331666469574|-0.21378691494464874|-0.10287739336490631|-0.8147996068000793| -0.4471454620361328| -0.5256639719009399|  0.3844356834888458|  0.639556348323822|-0.46192148327827454| 0.07456187158823013|-0.15221968293190002| 0.0705898329615593|  0.171471506357193|-0.21391211450099945|0.018887899816036224| 0.19500181078910828|0.45350414514541626| -0.5968279242515564| 0.19762647151947021|   0.254303902387619|-0.10046916455030441|  0.4786181151866913|-0.02442886494100094|-0.8655781745910645| 0.18110434710979462|0.013754842802882195|  0.2949896454811096|-0.03992729261517525| 0.18097415566444397| 0.18402819335460663|-0.01019282452762127| 0.06968505680561066|-0.19656254351139069|-0.11158192157745361|  1|\n",
            "|0.46863827109336853|-0.47877153754234314|-0.32453790307044983| 0.3254196047782898|-0.09107213467359543| -0.7756218910217285|0.023842262104153633|  0.2638900876045227| -0.4638625979423523| 0.6935505867004395|0.33665645122528076|-0.19774280488491058|-0.24709495902061462|-0.08527331799268723| -0.3889281749725342|  -0.500770092010498|0.035956140607595444| 0.05776754021644592|-0.13491754233837128| -1.041574478149414|-0.15237504243850708|-0.39074763655662537|  0.2558009922504425|0.25854095816612244| -0.8211358189582825|-0.28558021783828735|-0.09017688035964966| 0.3429763913154602|0.21364575624465942| -0.6306605935096741|-0.10903966426849365| 0.19791683554649353|0.40044501423835754| -0.2625635266304016| 0.19196555018424988|  0.3767522871494293| -0.3491738736629486|  0.5746209621429443| 0.11416614800691605|-0.7143458724021912| 0.22704066336154938|-0.03607530891895294|  0.2827065885066986|-0.11518989503383636|-0.04863869026303291|-0.16489964723587036| -0.3475688695907593|  0.0407450906932354|-0.04132652655243...|-0.09219779819250107|  2|\n",
            "| 0.5207552313804626| -0.1249702200293541| 0.15140025317668915| 0.3619542121887207| -0.4159759283065796|-0.49269112944602966| 0.20283207297325134|-0.03014229424297...|-0.28388670086860657| 0.5489863157272339|  0.737902820110321|-0.10154969245195389|-0.03290510177612305|-0.00133983779232...| 0.06664329767227173| -0.6726946830749512| 0.26516205072402954|-0.01077046804130...|-0.09450724720954895|-0.9648045301437378| -0.3079446852207184| -0.8671245574951172| 0.16308943927288055| 0.3432128429412842| -0.4352320432662964|-0.07238118350505829|-0.37785571813583374|0.38634932041168213|0.24631410837173462|  -0.327260285615921|-0.09442976862192154| -0.1268988996744156|0.43514299392700195|-0.45001932978630066|0.003192391479387...| 0.17064626514911652|-0.21880792081356049|  0.4233319163322449|0.038600701838731766|-1.1088393926620483| 0.14871448278427124| 0.10615625977516174| 0.02130303904414177| -0.0375627800822258| 0.03189581632614136|-0.06999032199382782|-0.16944526135921478| -0.1756201535463333|-0.20689953863620758|-0.04929475113749504|  3|\n",
            "| 0.5399869680404663| -0.0795605257153511|  0.5971182584762573| 0.5010977983474731|  -0.396633118391037| -0.5692214369773865| 0.05367281660437584|   0.518203854560852| -0.6104826927185059| 0.3573760986328125|0.20468363165855408| 0.15462929010391235|-0.05624951422214508|-0.45727241039276123| 0.14899000525474548| -0.9921876788139343|-0.38623690605163574| 0.13114798069000244| -0.2686251699924469|-1.3887053728103638|-0.27871838212013245| -0.9522432684898376| 0.27957770228385925|0.48053768277168274|-0.16634388267993927| 0.26588162779808044| -0.6386528611183167| 0.3577544093132019|0.47563862800598145| -0.6128035187721252|-0.34388333559036255|  0.0749957263469696| 0.4591435194015503| -1.1815308332443237|-0.07674785703420639| 0.41954100131988525| -0.0380818210542202|  0.1384631097316742| 0.26559293270111084| -1.260574221611023|-0.01257850509136...|-0.22387045621871948|-0.04225850850343704|   0.324900358915329|-0.46507710218429565| -0.3281736373901367| -0.2398720234632492|-0.09252046793699265| 0.10807404667139053| 0.13090503215789795|  4|\n",
            "|0.14735037088394165| -0.3628689646720886| 0.17583537101745605| 0.7753459811210632| -0.4252157211303711| -0.5467347502708435|  0.1246841698884964| 0.38643595576286316| -0.5500417351722717| 0.5049525499343872|  0.362379789352417| 0.16018493473529816|-0.11487634479999542|-0.13051852583885193|-0.33808135986328125| -1.0539923906326294| 0.16592323780059814| 0.23368079960346222|-0.02518974803388...| -1.410129189491272| -0.3967140018939972| -1.0782713890075684| 0.13025259971618652| 0.5283831357955933|-0.44552457332611084| 0.09694481641054153|-0.24560053646564484| 0.4197157919406891| 0.3492659330368042| -0.5758847594261169|-0.03373770788311958|  0.3379550874233246| 0.4240625202655792| -0.8242415189743042| -0.1930181235074997|  0.3834892809391022|-0.00649643503129...| 0.15319877862930298|  0.5210526585578918|-1.1835753917694092| 0.07030604779720306|-0.06376950442790985| 0.09997454285621643| 0.10475589334964752|-0.26439157128334045|-0.10952892899513245|-0.29517143964767456|-0.03073072247207...|-0.34218043088912964|-0.08092158287763596|  5|\n",
            "| 0.5543110370635986| -0.4541209638118744| -0.2699219882488251|0.33096039295196533|-0.37924590706825256| -0.5295274257659912|-0.15656259655952454|  0.3704914450645447| -0.6038864850997925| 0.5195255279541016| 0.3844497799873352|-0.04026848822832...| 0.05448300763964653|-0.09167642891407013| 0.09578263014554977| -0.5264349579811096|   0.406280517578125| 0.38081052899360657| -0.1883293092250824|-1.0294623374938965| -0.3396831154823303| -0.8679473996162415|-0.12740103900432587|0.46959972381591797| -0.7259454131126404|-0.07771342247724533|-0.04036643728613...|0.25721853971481323|  0.318149596452713|-0.17533600330352783| 0.22502237558364868|  0.4252564311027527| 0.5671993494033813| -0.5684341192245483| 0.12735681235790253| 0.24361634254455566|   -0.14018614590168|  0.1257193684577942| 0.13790123164653778|-0.9797574877738953|  0.3251519501209259|-0.25716039538383484| 0.32977545261383057| -0.3201540410518646|-0.19649000465869904| 0.21694397926330566| -0.1569470912218094|-0.02027667127549...|-0.03506641462445259| 0.01518604438751936|  6|\n",
            "| 0.4393244981765747| -0.4863513708114624|-0.22017450630664825| 0.6572152376174927| -0.2532663643360138| -0.5790848731994629| 0.09844484180212021|  0.2918854355812073| -0.5576204657554626| 0.8385574817657471|0.05237665772438049| -0.3019906282424927|-0.31324338912963867| -0.6538463234901428|-0.44391319155693054| -0.8153262734413147|0.003189481794834137|  0.3012760579586029|0.041836146265268326|-1.3435412645339966| -0.3652644455432892| -0.7525792121887207|0.003244507592171...| 0.2864822447299957| -0.5959828495979309|  0.2369459569454193| -0.4011496305465698| 0.3352741599082947|0.20438967645168304| -0.6724210977554321|-0.04909813776612282|  0.2517128586769104|0.37057802081108093| -0.7801273465156555|0.043714623898267746|  0.4511919915676117|-0.19054539501667023| 0.20831148326396942| 0.39624592661857605|-0.9222171306610107| 0.04689376801252365| 0.09708025306463242|  0.1972724050283432|  0.2753618359565735|  -0.156704381108284|-0.08433886617422104|-0.06435040384531021|-0.02784492075443...| 0.08130904287099838|-0.05482021719217...|  7|\n",
            "| 0.2695004642009735|-0.14111623167991638|-0.24151170253753662| 0.6556485295295715| -0.1170688271522522|-0.46658647060394287|   0.224217489361763|-0.04987748712301254| -0.2477695196866989| 0.6448477506637573|0.27665528655052185|  0.2772585451602936| 0.04763585701584816| 0.12930737435817719|-0.33777493238449097| -0.5487686991691589|-0.18966378271579742| 0.28816869854927063| 0.09270429611206055|-1.0731565952301025|  0.0688183456659317|   -0.52386075258255|  0.0986158475279808| 0.2935910224914551| -0.2016136646270752|  0.1897994428873062| -0.6518962979316711|  0.258729487657547|0.29015833139419556| -0.3601000905036926| -0.2304730862379074|  0.5179610252380371| 0.5593392252922058| -0.4814210534095764| -0.1578557938337326|  0.5572149157524109|-0.17374952137470245| -0.0811656042933464|  0.5493013262748718|-0.8681888580322266| 0.07675430178642273|-0.08415791392326355|  0.1572868674993515| 0.24103832244873047|-0.36573830246925354|-0.10072050243616104| -0.5046358108520508| -0.3466913104057312|3.098167362622916...|  0.1058826893568039|  8|\n",
            "| 0.4546408951282501| -0.6961602568626404|-0.10353761166334152|0.47347354888916016|-0.48019179701805115| -0.5201406478881836|-0.12105290591716766|  0.5914674401283264| -0.5744943022727966| 0.5351965427398682|0.32358285784721375|  -0.198226660490036| -0.1968824565410614|-0.05566207692027092| -0.2683117687702179| -0.8118069767951965| 0.38537415862083435| 0.32443809509277344|0.023696549236774445|-1.3740936517715454| -0.2888372540473938| -0.8561018705368042|-0.02727148681879...| 0.2879738509654999| -0.8912125825881958| 0.03079480677843094|-0.24877722561359406| 0.4077768921852112|  0.649594247341156|-0.27395451068878174|  0.0936608761548996|  0.3646939694881439|  0.631903350353241| -0.5902043581008911|-0.17127536237239838|  0.3274226486682892|-0.19625338912010193| 0.32568952441215515|  0.2452959418296814|  -1.07162606716156| 0.24573463201522827|-0.06680859625339508| 0.08423706144094467|  0.1468004435300827|-0.25775787234306335|-0.13211049139499664| -0.4642632305622101|-0.05577884614467621|-0.09426520019769669| 0.11190872639417648|  9|\n",
            "| 0.5782573223114014|-0.28988268971443176| -0.3601302206516266| 1.2890956401824951| -0.2240728884935379| -1.2712129354476929| 0.14065763354301453|    0.56873619556427| -1.2961547374725342| 1.1093629598617554| 0.2741931974887848|-0.00756800081580...|-0.15538088977336884| -0.1886962652206421| -0.7355087995529175| -0.6840904355049133| -0.4024498164653778|   0.382408082485199|  0.1852847933769226|-2.3804759979248047| -0.2683716118335724| -0.8165175914764404|  0.8984206914901733|0.22466325759887695| -1.1355385780334473|  0.5494633316993713| -1.4339189529418945| 0.3806629180908203|  0.637824296951294| -0.9301669001579285| -0.5650318264961243|  0.8517085909843445| 1.2606011629104614| -1.2130054235458374|-0.27003365755081177|   1.115061640739441|-0.05114175006747246|   0.129205584526062| 0.48455801606178284|-1.2706754207611084| 0.06767395883798599| 0.31384700536727905| 0.38251563906669617|  0.3380415439605713| -0.5114092230796814|  0.2093808650970459|  -0.898516058921814| -0.8341947793960571|  0.3715616464614868|0.002712871180847287| 10|\n",
            "|0.29450130462646484| -0.4876835346221924| -0.1163221150636673|  0.623607873916626| -0.2251923531293869| -0.4802223742008209|  0.1736174076795578| 0.06033441796898842|-0.49481508135795593| 0.4451175332069397|0.27627259492874146|-0.19777467846870422|  -0.267410010099411| -0.3740129768848419|-0.16941119730472565| -0.9096253514289856| 0.14929206669330597|  0.5539968013763428|-0.02901551127433777| -1.128156065940857| -0.3369893431663513|  -0.865530252456665| 0.16522210836410522| 0.5608876347541809| -0.6044139266014099|-0.02799326740205288| -0.2700272500514984|0.13475938141345978| 0.2302190512418747|-0.34547123312950134|-0.23987653851509094| 0.43894195556640625| 0.2440447211265564|-0.36388492584228516|-0.06052811071276665|  0.4231167733669281| 0.09189386665821075| 0.28640133142471313| 0.36855772137641907|-1.1577355861663818| 0.23381875455379486| -0.1489027589559555| 0.12134727835655212|0.024770718067884445|-0.11760091781616211|-0.08767001330852509| 0.11218389123678207| 0.12168937921524048| 0.06690215319395065|-0.06461679190397263| 11|\n",
            "|  0.307551771402359|-0.45461899042129517|-0.01815470866858...| 0.4659332036972046|  -0.341441810131073|-0.38558757305145264|-0.00532660679891...| 0.06058621034026146|-0.33606892824172974| 0.7293485999107361| 0.2504098117351532|0.002075499622151...|  0.0937357172369957|-0.25278955698013306|-0.16889449954032898| -0.6936033964157104|  0.2122928947210312| 0.36781957745552063|-0.00919750146567...| -1.067805528640747| -0.5033825635910034| -0.6241000890731812|  0.0475383885204792|0.44955626130104065| -0.3705085813999176| 0.18418677151203156|-0.45977431535720825| 0.2164417803287506|0.18545345962047577| -0.3731364905834198|-0.15501925349235535| 0.34508565068244934| 0.2897825241088867| -0.4787848889827728|-0.00106018129736...|  0.2759176194667816|-0.20729850232601166| 0.20104104280471802| 0.15687359869480133|-0.8288173079490662| 0.15404975414276123|0.008682872168719769| 0.17740245163440704|-0.05268792808055878|-0.15025529265403748| 0.06632755696773529| 0.07970837503671646| 0.16556435823440552|  0.2342519462108612| 0.04070672020316124| 12|\n",
            "| 0.3466922640800476| -0.1917465776205063|-0.11641039699316025| 1.0699772834777832|-0.00937144458293...| -0.7614020705223083|  0.2913455069065094| 0.16561077535152435| -0.7686014175415039| 0.9931477308273315| 0.5010573863983154| 0.28586307168006897| -0.1526896208524704| 0.14801904559135437|-0.43067026138305664| -0.6315385699272156|-0.31827324628829956|  0.4913696050643921| 0.12966933846473694|-1.5723538398742676|-0.08328293263912201| -0.5947076678276062|  0.5665601491928101|0.47125062346458435| -0.5729150176048279|  0.5197620391845703| -1.4774316549301147|0.23678062856197357|0.17588891088962555| -0.6264269948005676|-0.29924774169921875| 0.37696096301078796|  0.711862325668335|  -0.839474081993103|-0.00979559030383...|  0.7674709558486938|-0.16627271473407745|-0.05917269736528...| 0.43367433547973633|-1.2373706102371216| 0.09631812572479248| 0.12360374629497528| 0.16070757806301117| 0.21634554862976074|-0.45744413137435913|-0.06352820992469788| -0.6625533103942871|-0.42183369398117065|-0.04234902560710907| 0.03005845472216606| 13|\n",
            "| 0.3436175286769867| 0.04322582855820656|-0.15516944229602814| 0.7651052474975586|-0.39185407757759094| -0.3767203092575073|  0.1830177903175354| 0.11903620511293411| -0.7496311664581299| 0.4541078507900238| 0.3985942006111145| 0.18336902558803558|-0.41583332419395447|-0.26857271790504456| -0.2964390814304352| -0.3543553650379181|-0.21114076673984528|0.006218284368515015| 0.03218654543161392|-0.9999834299087524| -0.2222595065832138|-0.45084935426712036|  0.5077378749847412|0.10497952997684479| -0.6537221074104309| 0.19459158182144165| -0.9150038957595825|0.23671334981918335|0.11305803060531616|  -0.434951514005661|-0.26837706565856934| 0.16800330579280853| 0.6307986974716187| -0.5370225310325623|-0.22526520490646362|  0.2974812984466553|-0.02376354858279...| -0.3440006673336029| 0.25523853302001953|-0.9377530813217163| 0.16274958848953247|  0.1088850349187851| -0.1263914257287979| 0.20573586225509644|-0.12608373165130615|-0.01014362368732...| -0.3109653890132904|-0.45745283365249634| 0.05808302015066147|0.019392184913158417| 14|\n",
            "| 0.5443811416625977|-0.07166171818971634| 0.31414327025413513|  0.555272102355957| -0.6304648518562317| -0.4343006908893585| 0.35421136021614075| 0.24055930972099304| -0.6219772696495056| 0.6841031312942505|-0.3429197072982788| 0.05099217966198921| -0.2296002209186554| -0.4629995822906494|-0.17293019592761993| -0.6997746825218201| -0.3609042167663574|-0.08000504970550537|  -0.237395241856575|-1.1328330039978027| -0.2647842466831207|-0.31059056520462036|  0.5185537338256836| 0.4313823878765106| -0.5478292107582092|  0.4067097008228302| -1.4645434617996216|-0.0968175083398819|-0.3092060685157776| -0.8888672590255737| 0.14239786565303802|-0.03129532933235...| 0.9908386468887329| -0.9878420829772949| -0.6149498820304871|  0.5379704236984253|-0.06481575220823288|-0.20553113520145416| 0.32284724712371826|-0.6867713928222656|-0.03651011735200882|  0.0316154882311821|-0.25992870330810547|  0.7885628342628479|-0.20608912408351898| 0.12984032928943634|0.007217525504529476| -0.3929608464241028|-0.03927633166313...|-0.07771524786949158| 15|\n",
            "| 0.3803458511829376| -0.2512161135673523|-0.01603423617780...|0.12152077257633209| -0.1796659380197525|-0.44905373454093933| 0.22562916576862335| 0.49107274413108826|-0.31550881266593933|0.40389177203178406|0.18363109230995178|-0.17657466232776642|-0.18125495314598083| -0.2524546682834625|-0.05316124856472...| -0.5016374588012695|-0.10894561558961868|0.003218234982341528|  0.0225820355117321|-1.1539362668991089|  0.0760214701294899| -0.8413366079330444|-0.09711726754903793| 0.4820091724395752|-0.42817172408103943| 0.08334943652153015| -0.1711331158876419| 0.1426665335893631|0.18971708416938782|-0.01737653464078...| 0.08826260268688202| 0.24965429306030273| 0.2813195288181305| -0.5691511631011963|  0.1321140080690384|  0.2867305278778076|-0.03168638795614...|  0.7500632405281067|  0.2969590723514557|-0.7420141100883484|  0.1309051662683487|-0.02466139569878...| 0.17937688529491425| -0.0657794401049614|-0.15385673940181732|0.013407666236162186| -0.3009085953235626| -0.1421591192483902|-0.02521961927413...|  0.1806875467300415| 16|\n",
            "| 0.5840292572975159| -0.5408981442451477| -0.0555911660194397| 0.2233603447675705| -0.0878022313117981| -0.5666692852973938| 0.14192502200603485|  0.4992077648639679|-0.32873016595840454|0.27118510007858276|0.35285982489585876|-0.20079445838928223| -0.2680988311767578|-0.42609745264053345| -0.3316150903701782| -0.8798232078552246|  0.2594637870788574|  0.5093676447868347|-0.29144424200057983|-1.1254459619522095| -0.3199482262134552| -0.9052342176437378|-0.15207703411579132| 0.5547686219215393| -0.6139883995056152| 0.11344656348228455|-0.17609311640262604| 0.4310317933559418| 0.1237412542104721| -0.3294578790664673|-0.02920441515743...|  0.2967287600040436|0.23296581208705902| -0.7930020093917847| 0.08001016080379486| 0.46202409267425537|-0.12454705685377121| 0.31874799728393555|  0.0861126258969307|-0.9595963954925537|  0.1504928022623062| -0.2620086967945099| 0.21586765348911285| 0.16059868037700653| -0.4333868622779846| 0.08804912120103836|-0.04995857551693916| 0.12000398337841034|  0.3193571865558624|-0.29929330945014954| 17|\n",
            "|  0.521015465259552| -0.7369921803474426| -0.2950577437877655|0.25226184725761414| -0.4033649265766144| -0.5617642402648926|-0.12511196732521057| 0.18362604081630707|-0.18161821365356445|0.24866411089897156| 0.4252876937389374|-0.06029913574457...|-0.17455831170082092| 0.04523729532957077|-0.22707055509090424| -0.5788979530334473|   0.356134295463562| 0.04474981874227524|-0.10430341213941574|-1.1131211519241333| -0.1485247164964676| -0.7204154133796692| -0.2579270303249359| 0.1743338257074356|-0.17785748839378357|-0.10258988291025162| 0.37844446301460266| 0.5757283568382263| 0.4075157940387726|-0.27695488929748535| 0.16783779859542847| 0.10736260563135147| 0.1823159009218216| -0.3253178894519806|  -0.096092090010643|-0.02776237577199936|  -0.245920330286026|  0.5066547989845276| 0.21826963126659393|-0.7422671914100647|  0.0874905213713646|-0.11656419187784195| 0.14084000885486603| -0.1613270789384842|-0.17710143327713013|-0.20386838912963867| -0.2993099093437195|0.026175187900662422| 0.14344727993011475| -0.2572968304157257| 18|\n",
            "| 0.5781765580177307|-0.10496344417333603| 0.14474055171012878|0.41663339734077454| -0.3985420763492584| -0.3657247722148895|  0.3628590404987335|  0.2382381409406662| -0.4438523054122925|0.48661062121391296|0.37754759192466736| 0.09048080444335938|0.041386526077985764|-0.16369999945163727| -0.3206577003002167| -0.7202243804931641| 0.03634123504161835| 0.10855454951524734| -0.1720091700553894|-1.0106123685836792|-0.06330429017543793| -0.7655165791511536| 0.15549488365650177| 0.3528299629688263| -0.2980714440345764|  0.2587660551071167| -0.5461812019348145|0.37765154242515564|0.18373148143291473| -0.4864284098148346| -0.3142351806163788| 0.04743337631225586|0.42172688245773315| -0.8078409433364868|-0.13709910213947296| 0.44924283027648926|  -0.049758180975914|  0.1845778077840805|  0.4888545572757721|  -1.02122163772583|-0.04585285857319832| 0.14432108402252197| 0.05865788832306862|-0.02420338429510...| -0.3080168664455414| 0.19185176491737366| -0.4340364336967468|-0.36228883266448975| 0.05923478305339813|-0.14554402232170105| 19|\n",
            "+-------------------+--------------------+--------------------+-------------------+--------------------+--------------------+--------------------+--------------------+--------------------+-------------------+-------------------+--------------------+--------------------+--------------------+--------------------+--------------------+--------------------+--------------------+--------------------+-------------------+--------------------+--------------------+--------------------+-------------------+--------------------+--------------------+--------------------+-------------------+-------------------+--------------------+--------------------+--------------------+-------------------+--------------------+--------------------+--------------------+--------------------+--------------------+--------------------+-------------------+--------------------+--------------------+--------------------+--------------------+--------------------+--------------------+--------------------+--------------------+--------------------+--------------------+---+\n",
            "only showing top 20 rows\n",
            "\n"
          ],
          "name": "stdout"
        }
      ]
    },
    {
      "cell_type": "code",
      "metadata": {
        "id": "EmqpA_UFErSB",
        "colab_type": "code",
        "outputId": "6e88b1bd-d971-4e83-ccc6-2436e5d13781",
        "colab": {
          "base_uri": "https://localhost:8080/",
          "height": 479
        }
      },
      "source": [
        "FEATURES_COL = [\"c\"+str(i) for i in range(50)]\n",
        "for col in df.columns:\n",
        "    if col in FEATURES_COL:\n",
        "        df = df.withColumn(col,df[col].cast('float'))\n",
        "df.show()"
      ],
      "execution_count": 29,
      "outputs": [
        {
          "output_type": "stream",
          "text": [
            "+----------+------------+------------+----------+------------+-----------+------------+------------+-----------+----------+-----------+------------+------------+-------------+-----------+-----------+------------+------------+-------------+-----------+-----------+-----------+------------+----------+-----------+------------+------------+-----------+-----------+------------+------------+------------+----------+-----------+-------------+------------+------------+------------+------------+-----------+------------+------------+-----------+------------+-----------+------------+-------------+------------+------------+------------+---+\n",
            "|        c0|          c1|          c2|        c3|          c4|         c5|          c6|          c7|         c8|        c9|        c10|         c11|         c12|          c13|        c14|        c15|         c16|         c17|          c18|        c19|        c20|        c21|         c22|       c23|        c24|         c25|         c26|        c27|        c28|         c29|         c30|         c31|       c32|        c33|          c34|         c35|         c36|         c37|         c38|        c39|         c40|         c41|        c42|         c43|        c44|         c45|          c46|         c47|         c48|         c49| id|\n",
            "+----------+------------+------------+----------+------------+-----------+------------+------------+-----------+----------+-----------+------------+------------+-------------+-----------+-----------+------------+------------+-------------+-----------+-----------+-----------+------------+----------+-----------+------------+------------+-----------+-----------+------------+------------+------------+----------+-----------+-------------+------------+------------+------------+------------+-----------+------------+------------+-----------+------------+-----------+------------+-------------+------------+------------+------------+---+\n",
            "|0.40614146| -0.24673918|  0.08120128|  0.413838| -0.19954506| -0.3824223| 0.042459603|  0.27580184|-0.30115917|0.32058635| 0.41768166| 0.029326916| -0.41307896|  -0.10872259|-0.09318577|-0.47035593|   0.2668458|   0.1252904| -0.117413245| -0.6944555|-0.08507709|-0.48281595|  0.17700706|0.16910648| -0.4030674| 0.019383296| -0.27493614|  0.4751428| 0.18167509| -0.51316744| -0.14298989|-0.011836057|0.26494378|-0.45183292|  -0.07289344|  0.06528829| -0.14205268|  0.32993653| -0.10458039| -0.9514828| 0.023597702| -0.11829026| 0.23860817| -0.04947971| 0.17025806| 0.037050646| 0.0066672093|  -0.0544796| -0.07040267|  0.03680294|  0|\n",
            "| 0.4194306| -0.36589617|-0.025309032|0.35469535|  -0.3792149|-0.70944005|-0.043216914|   0.2883411|-0.45790964| 0.6031022| 0.43361264|-0.059569556| -0.18099967|   -0.3810887| -0.1839589| -0.6922344|  0.24103317| -0.21378691|  -0.10287739| -0.8147996|-0.44714546|  -0.525664|  0.38443568|0.63955635|-0.46192148|  0.07456187| -0.15221968| 0.07058983|  0.1714715| -0.21391211|   0.0188879|  0.19500181|0.45350415| -0.5968279|   0.19762647|   0.2543039|-0.100469165|  0.47861812|-0.024428865| -0.8655782|  0.18110435| 0.013754843| 0.29498965|-0.039927293| 0.18097416|   0.1840282|-0.0101928245|  0.06968506| -0.19656254| -0.11158192|  1|\n",
            "|0.46863827| -0.47877154|  -0.3245379| 0.3254196|-0.091072135| -0.7756219| 0.023842262|   0.2638901| -0.4638626| 0.6935506| 0.33665645|  -0.1977428| -0.24709496|  -0.08527332|-0.38892817| -0.5007701|  0.03595614|  0.05776754|  -0.13491754| -1.0415745|-0.15237504|-0.39074764|    0.255801|0.25854096| -0.8211358| -0.28558022| -0.09017688|  0.3429764| 0.21364576|  -0.6306606|-0.109039664|  0.19791684|  0.400445|-0.26256353|   0.19196555|   0.3767523| -0.34917387|  0.57462096|  0.11416615| -0.7143459|  0.22704066| -0.03607531|  0.2827066|-0.115189895|-0.04863869| -0.16489965|  -0.34756887|  0.04074509|-0.041326527|  -0.0921978|  2|\n",
            "|0.52075523| -0.12497022|  0.15140025| 0.3619542| -0.41597593|-0.49269113|  0.20283207|-0.030142294| -0.2838867| 0.5489863|  0.7379028| -0.10154969|  -0.0329051|-0.0013398378|  0.0666433| -0.6726947|  0.26516205|-0.010770468|  -0.09450725|-0.96480453| -0.3079447|-0.86712456|  0.16308944|0.34321284|-0.43523204| -0.07238118| -0.37785572| 0.38634932| 0.24631411|  -0.3272603| -0.09442977|  -0.1268989|  0.435143|-0.45001933| 0.0031923915|  0.17064627| -0.21880792|  0.42333192|   0.0386007| -1.1088394|  0.14871448|  0.10615626|0.021303039| -0.03756278|0.031895816| -0.06999032|  -0.16944526| -0.17562015| -0.20689954| -0.04929475|  3|\n",
            "|0.53998697|-0.079560526|  0.59711826| 0.5010978| -0.39663312|-0.56922144| 0.053672817|  0.51820385| -0.6104827| 0.3573761| 0.20468363|  0.15462929|-0.056249514|   -0.4572724|    0.14899| -0.9921877|  -0.3862369|  0.13114798|  -0.26862517| -1.3887054|-0.27871838|-0.95224327|   0.2795777|0.48053768|-0.16634388|  0.26588163| -0.63865286|  0.3577544| 0.47563863|  -0.6128035| -0.34388334|  0.07499573|0.45914352| -1.1815308|  -0.07674786|    0.419541| -0.03808182|  0.13846311|  0.26559293| -1.2605742|-0.012578505| -0.22387046|-0.04225851|  0.32490036| -0.4650771| -0.32817364|  -0.23987202| -0.09252047|  0.10807405|  0.13090503|  4|\n",
            "|0.14735037| -0.36286896|  0.17583537|  0.775346| -0.42521572|-0.54673475|  0.12468417|  0.38643596|-0.55004174|0.50495255|  0.3623798|  0.16018493|-0.114876345|  -0.13051853|-0.33808136| -1.0539924|  0.16592324|   0.2336808| -0.025189748| -1.4101292|  -0.396714| -1.0782714|   0.1302526|0.52838314|-0.44552457|  0.09694482| -0.24560054|  0.4197158| 0.34926593| -0.57588476|-0.033737708|   0.3379551|0.42406252| -0.8242415|  -0.19301812|  0.38348928|-0.006496435|  0.15319878|  0.52105266| -1.1835754|  0.07030605|-0.063769504| 0.09997454|  0.10475589|-0.26439157| -0.10952893|  -0.29517144|-0.030730722| -0.34218043| -0.08092158|  5|\n",
            "|0.55431104| -0.45412096|   -0.269922| 0.3309604|  -0.3792459| -0.5295274|  -0.1565626|  0.37049145| -0.6038865| 0.5195255| 0.38444978| -0.04026849| 0.054483008|  -0.09167643| 0.09578263|-0.52643496|  0.40628052|  0.38081053|  -0.18832931| -1.0294623|-0.33968312| -0.8679474| -0.12740104|0.46959972| -0.7259454| -0.07771342|-0.040366437| 0.25721854|  0.3181496|   -0.175336|  0.22502238|  0.42525643|0.56719935| -0.5684341|   0.12735681|  0.24361634| -0.14018615|  0.12571937|  0.13790123| -0.9797575|  0.32515195|  -0.2571604| 0.32977545| -0.32015404|   -0.19649|  0.21694398|  -0.15694709|-0.020276671|-0.035066415| 0.015186044|  6|\n",
            "| 0.4393245| -0.48635137|  -0.2201745|0.65721524| -0.25326636| -0.5790849|  0.09844484|  0.29188544|-0.55762047| 0.8385575|0.052376658| -0.30199063|  -0.3132434|   -0.6538463| -0.4439132| -0.8153263|0.0031894818|  0.30127606|  0.041836146| -1.3435413|-0.36526445| -0.7525792|0.0032445076|0.28648224|-0.59598285|  0.23694596| -0.40114963| 0.33527416| 0.20438968|  -0.6724211|-0.049098138|  0.25171286|0.37057802|-0.78012735|  0.043714624|    0.451192|  -0.1905454|  0.20831148|  0.39624593|-0.92221713| 0.046893768|  0.09708025|  0.1972724|  0.27536184|-0.15670438|-0.084338866| -0.064350404| -0.02784492|  0.08130904|-0.054820217|  7|\n",
            "|0.26950046| -0.14111623|  -0.2415117| 0.6556485| -0.11706883|-0.46658647|  0.22421749|-0.049877487|-0.24776952|0.64484775|  0.2766553|  0.27725855| 0.047635857|   0.12930737|-0.33777493| -0.5487687| -0.18966378|   0.2881687|  0.092704296| -1.0731566|0.068818346|-0.52386075|  0.09861585|0.29359102|-0.20161366|  0.18979944|  -0.6518963|  0.2587295| 0.29015833|  -0.3601001| -0.23047309|    0.517961| 0.5593392|-0.48142105|   -0.1578558|   0.5572149| -0.17374952|-0.081165604|   0.5493013|-0.86818886|   0.0767543|-0.084157914| 0.15728687|  0.24103832| -0.3657383|  -0.1007205|   -0.5046358|  -0.3466913|3.0981674E-4|  0.10588269|  8|\n",
            "| 0.4546409| -0.69616026| -0.10353761|0.47347355|  -0.4801918|-0.52014065|-0.121052906|  0.59146744| -0.5744943|0.53519654| 0.32358286| -0.19822666| -0.19688246| -0.055662077|-0.26831177|  -0.811807|  0.38537416|   0.3244381|   0.02369655| -1.3740937|-0.28883725| -0.8561019|-0.027271487|0.28797385| -0.8912126| 0.030794807| -0.24877723|  0.4077769| 0.64959425|  -0.2739545| 0.093660876|  0.36469397|0.63190335|-0.59020436|  -0.17127536|  0.32742265| -0.19625339|  0.32568952|  0.24529594| -1.0716261|  0.24573463|-0.066808596| 0.08423706|  0.14680044|-0.25775787| -0.13211049|  -0.46426323|-0.055778846|  -0.0942652|  0.11190873|  9|\n",
            "| 0.5782573|  -0.2898827| -0.36013022| 1.2890956| -0.22407289| -1.2712129|  0.14065763|   0.5687362| -1.2961547|  1.109363|  0.2741932|-0.007568001| -0.15538089|  -0.18869627| -0.7355088|-0.68409044| -0.40244982|  0.38240808|    0.1852848|  -2.380476| -0.2683716| -0.8165176|   0.8984207|0.22466326| -1.1355386|  0.54946333|   -1.433919| 0.38066292|  0.6378243|  -0.9301669|  -0.5650318|   0.8517086| 1.2606012| -1.2130054|  -0.27003366|   1.1150616| -0.05114175|  0.12920558|  0.48455802| -1.2706754|  0.06767396|    0.313847| 0.38251564|  0.33804154| -0.5114092|  0.20938087|  -0.89851606|  -0.8341948|  0.37156165|0.0027128712| 10|\n",
            "| 0.2945013| -0.48768353|-0.116322115| 0.6236079| -0.22519235|-0.48022237|  0.17361741| 0.060334418|-0.49481508|0.44511753|  0.2762726| -0.19777468|    -0.26741|  -0.37401298| -0.1694112|-0.90962535|  0.14929207|   0.5539968| -0.029015511| -1.1281561|-0.33698934|-0.86553025|  0.16522211|0.56088763| -0.6044139|-0.027993267| -0.27002725| 0.13475938| 0.23021905| -0.34547123| -0.23987654|  0.43894196|0.24404472|-0.36388493|  -0.06052811|  0.42311677|  0.09189387|  0.28640133|  0.36855772| -1.1577356|  0.23381875| -0.14890276| 0.12134728| 0.024770718|-0.11760092| -0.08767001|   0.11218389|  0.12168938|  0.06690215| -0.06461679| 11|\n",
            "|0.30755177|   -0.454619|-0.018154709| 0.4659332|  -0.3414418|-0.38558757|-0.005326607|  0.06058621|-0.33606893| 0.7293486|  0.2504098|0.0020754996|  0.09373572|  -0.25278956| -0.1688945| -0.6936034|   0.2122929|  0.36781958|-0.0091975015| -1.0678055|-0.50338256| -0.6241001|  0.04753839|0.44955626|-0.37050858|  0.18418677| -0.45977432| 0.21644178| 0.18545346|  -0.3731365| -0.15501925|  0.34508565|0.28978252| -0.4787849|-0.0010601813|  0.27591762|  -0.2072985|  0.20104104|   0.1568736| -0.8288173|  0.15404975| 0.008682872| 0.17740245|-0.052687928| -0.1502553|  0.06632756|  0.079708375|  0.16556436|  0.23425195|  0.04070672| 12|\n",
            "|0.34669226| -0.19174658|  -0.1164104| 1.0699773|-0.009371445| -0.7614021|   0.2913455|  0.16561078| -0.7686014|0.99314773|  0.5010574|  0.28586307| -0.15268962|   0.14801905|-0.43067026|-0.63153857| -0.31827325|   0.4913696|   0.12966934| -1.5723538|-0.08328293|-0.59470767|  0.56656015|0.47125062|  -0.572915|  0.51976204|  -1.4774317| 0.23678063| 0.17588891|   -0.626427| -0.29924774|  0.37696096| 0.7118623| -0.8394741|  -0.00979559|  0.76747096| -0.16627271|-0.059172697|  0.43367434| -1.2373706| 0.096318126|  0.12360375| 0.16070758|  0.21634555|-0.45744413| -0.06352821|   -0.6625533|  -0.4218337|-0.042349026| 0.030058455| 13|\n",
            "|0.34361753|  0.04322583| -0.15516944|0.76510525| -0.39185408| -0.3767203|  0.18301779| 0.119036205|-0.74963117|0.45410785|  0.3985942|  0.18336903| -0.41583332|  -0.26857272|-0.29643908|-0.35435537| -0.21114077|0.0062182844|  0.032186545|-0.99998343| -0.2222595|-0.45084935|   0.5077379|0.10497953| -0.6537221|  0.19459158|  -0.9150039| 0.23671335| 0.11305803|  -0.4349515| -0.26837707|   0.1680033| 0.6307987|-0.53702253|   -0.2252652|   0.2974813|-0.023763549| -0.34400067|  0.25523853| -0.9377531|  0.16274959| 0.108885035|-0.12639143|  0.20573586|-0.12608373|-0.010143624|   -0.3109654| -0.45745283|  0.05808302| 0.019392185| 14|\n",
            "|0.54438114| -0.07166172|  0.31414327| 0.5552721| -0.63046485| -0.4343007|  0.35421136|  0.24055931|-0.62197727|0.68410313| -0.3429197|  0.05099218| -0.22960022|  -0.46299958| -0.1729302| -0.6997747| -0.36090422| -0.08000505|  -0.23739524|  -1.132833|-0.26478425|-0.31059057|  0.51855373| 0.4313824| -0.5478292|   0.4067097|  -1.4645435|-0.09681751|-0.30920607| -0.88886726|  0.14239787| -0.03129533|0.99083865| -0.9878421|   -0.6149499|   0.5379704| -0.06481575| -0.20553114|  0.32284725| -0.6867714|-0.036510117|  0.03161549| -0.2599287|  0.78856283|-0.20608912|  0.12984033| 0.0072175255| -0.39296085| -0.03927633| -0.07771525| 15|\n",
            "|0.38034585|  -0.2512161|-0.016034236|0.12152077| -0.17966594|-0.44905373|  0.22562917|  0.49107274| -0.3155088|0.40389177| 0.18363109| -0.17657466| -0.18125495|  -0.25245467|-0.05316125|-0.50163746|-0.108945616| 0.003218235|  0.022582036| -1.1539363| 0.07602147| -0.8413366| -0.09711727|0.48200917|-0.42817172|  0.08334944| -0.17113312| 0.14266653| 0.18971708|-0.017376535|   0.0882626|   0.2496543|0.28131953|-0.56915116|   0.13211401|  0.28673053|-0.031686388|  0.75006324|  0.29695907| -0.7420141|  0.13090517|-0.024661396| 0.17937689| -0.06577944|-0.15385674| 0.013407666|   -0.3009086| -0.14215912| -0.02521962|  0.18068755| 16|\n",
            "|0.58402926| -0.54089814|-0.055591166|0.22336034| -0.08780223| -0.5666693|  0.14192502|  0.49920776|-0.32873017| 0.2711851| 0.35285982| -0.20079446| -0.26809883|  -0.42609745| -0.3316151| -0.8798232|   0.2594638|  0.50936764|  -0.29144424|  -1.125446|-0.31994823| -0.9052342| -0.15207703| 0.5547686| -0.6139884|  0.11344656| -0.17609312|  0.4310318|0.123741254| -0.32945788|-0.029204415|  0.29672876|0.23296581|  -0.793002|   0.08001016|   0.4620241| -0.12454706|    0.318748| 0.086112626| -0.9595964|   0.1504928|  -0.2620087| 0.21586765|  0.16059868|-0.43338686|  0.08804912| -0.049958576|  0.12000398|   0.3193572|  -0.2992933| 17|\n",
            "|0.52101547|  -0.7369922| -0.29505774|0.25226185| -0.40336493|-0.56176424| -0.12511197|  0.18362604|-0.18161821|0.24866411|  0.4252877|-0.060299136| -0.17455831|  0.045237295|-0.22707056|-0.57889795|   0.3561343|  0.04474982|  -0.10430341| -1.1131212|-0.14852472| -0.7204154| -0.25792703|0.17433383|-0.17785749| -0.10258988|  0.37844446| 0.57572836|  0.4075158|  -0.2769549|   0.1678378| 0.107362606| 0.1823159| -0.3253179|  -0.09609209|-0.027762376| -0.24592033|   0.5066548|  0.21826963| -0.7422672|  0.08749052| -0.11656419| 0.14084001| -0.16132708|-0.17710143| -0.20386839|   -0.2993099| 0.026175188|  0.14344728| -0.25729683| 18|\n",
            "|0.57817656|-0.104963444|  0.14474055| 0.4166334| -0.39854208|-0.36572477|  0.36285904|  0.23823814| -0.4438523|0.48661062|  0.3775476| 0.090480804| 0.041386526|      -0.1637| -0.3206577| -0.7202244| 0.036341235|  0.10855455|  -0.17200917| -1.0106124|-0.06330429| -0.7655166|  0.15549488|0.35282996|-0.29807144|  0.25876606|  -0.5461812| 0.37765154| 0.18373148|  -0.4864284| -0.31423518| 0.047433376|0.42172688|-0.80784094|   -0.1370991|  0.44924283| -0.04975818|  0.18457781|  0.48885456| -1.0212216| -0.04585286|  0.14432108| 0.05865789|-0.024203384|-0.30801687|  0.19185176|  -0.43403643| -0.36228883| 0.059234783| -0.14554402| 19|\n",
            "+----------+------------+------------+----------+------------+-----------+------------+------------+-----------+----------+-----------+------------+------------+-------------+-----------+-----------+------------+------------+-------------+-----------+-----------+-----------+------------+----------+-----------+------------+------------+-----------+-----------+------------+------------+------------+----------+-----------+-------------+------------+------------+------------+------------+-----------+------------+------------+-----------+------------+-----------+------------+-------------+------------+------------+------------+---+\n",
            "only showing top 20 rows\n",
            "\n"
          ],
          "name": "stdout"
        }
      ]
    },
    {
      "cell_type": "code",
      "metadata": {
        "id": "kBLeYB3hK_bS",
        "colab_type": "code",
        "outputId": "f272d395-db97-41cd-82a8-875f8144c689",
        "colab": {
          "base_uri": "https://localhost:8080/",
          "height": 479
        }
      },
      "source": [
        "df = df.na.drop()\n",
        "df.show()"
      ],
      "execution_count": 30,
      "outputs": [
        {
          "output_type": "stream",
          "text": [
            "+----------+------------+------------+----------+------------+-----------+------------+------------+-----------+----------+-----------+------------+------------+-------------+-----------+-----------+------------+------------+-------------+-----------+-----------+-----------+------------+----------+-----------+------------+------------+-----------+-----------+------------+------------+------------+----------+-----------+-------------+------------+------------+------------+------------+-----------+------------+------------+-----------+------------+-----------+------------+-------------+------------+------------+------------+---+\n",
            "|        c0|          c1|          c2|        c3|          c4|         c5|          c6|          c7|         c8|        c9|        c10|         c11|         c12|          c13|        c14|        c15|         c16|         c17|          c18|        c19|        c20|        c21|         c22|       c23|        c24|         c25|         c26|        c27|        c28|         c29|         c30|         c31|       c32|        c33|          c34|         c35|         c36|         c37|         c38|        c39|         c40|         c41|        c42|         c43|        c44|         c45|          c46|         c47|         c48|         c49| id|\n",
            "+----------+------------+------------+----------+------------+-----------+------------+------------+-----------+----------+-----------+------------+------------+-------------+-----------+-----------+------------+------------+-------------+-----------+-----------+-----------+------------+----------+-----------+------------+------------+-----------+-----------+------------+------------+------------+----------+-----------+-------------+------------+------------+------------+------------+-----------+------------+------------+-----------+------------+-----------+------------+-------------+------------+------------+------------+---+\n",
            "|0.40614146| -0.24673918|  0.08120128|  0.413838| -0.19954506| -0.3824223| 0.042459603|  0.27580184|-0.30115917|0.32058635| 0.41768166| 0.029326916| -0.41307896|  -0.10872259|-0.09318577|-0.47035593|   0.2668458|   0.1252904| -0.117413245| -0.6944555|-0.08507709|-0.48281595|  0.17700706|0.16910648| -0.4030674| 0.019383296| -0.27493614|  0.4751428| 0.18167509| -0.51316744| -0.14298989|-0.011836057|0.26494378|-0.45183292|  -0.07289344|  0.06528829| -0.14205268|  0.32993653| -0.10458039| -0.9514828| 0.023597702| -0.11829026| 0.23860817| -0.04947971| 0.17025806| 0.037050646| 0.0066672093|  -0.0544796| -0.07040267|  0.03680294|  0|\n",
            "| 0.4194306| -0.36589617|-0.025309032|0.35469535|  -0.3792149|-0.70944005|-0.043216914|   0.2883411|-0.45790964| 0.6031022| 0.43361264|-0.059569556| -0.18099967|   -0.3810887| -0.1839589| -0.6922344|  0.24103317| -0.21378691|  -0.10287739| -0.8147996|-0.44714546|  -0.525664|  0.38443568|0.63955635|-0.46192148|  0.07456187| -0.15221968| 0.07058983|  0.1714715| -0.21391211|   0.0188879|  0.19500181|0.45350415| -0.5968279|   0.19762647|   0.2543039|-0.100469165|  0.47861812|-0.024428865| -0.8655782|  0.18110435| 0.013754843| 0.29498965|-0.039927293| 0.18097416|   0.1840282|-0.0101928245|  0.06968506| -0.19656254| -0.11158192|  1|\n",
            "|0.46863827| -0.47877154|  -0.3245379| 0.3254196|-0.091072135| -0.7756219| 0.023842262|   0.2638901| -0.4638626| 0.6935506| 0.33665645|  -0.1977428| -0.24709496|  -0.08527332|-0.38892817| -0.5007701|  0.03595614|  0.05776754|  -0.13491754| -1.0415745|-0.15237504|-0.39074764|    0.255801|0.25854096| -0.8211358| -0.28558022| -0.09017688|  0.3429764| 0.21364576|  -0.6306606|-0.109039664|  0.19791684|  0.400445|-0.26256353|   0.19196555|   0.3767523| -0.34917387|  0.57462096|  0.11416615| -0.7143459|  0.22704066| -0.03607531|  0.2827066|-0.115189895|-0.04863869| -0.16489965|  -0.34756887|  0.04074509|-0.041326527|  -0.0921978|  2|\n",
            "|0.52075523| -0.12497022|  0.15140025| 0.3619542| -0.41597593|-0.49269113|  0.20283207|-0.030142294| -0.2838867| 0.5489863|  0.7379028| -0.10154969|  -0.0329051|-0.0013398378|  0.0666433| -0.6726947|  0.26516205|-0.010770468|  -0.09450725|-0.96480453| -0.3079447|-0.86712456|  0.16308944|0.34321284|-0.43523204| -0.07238118| -0.37785572| 0.38634932| 0.24631411|  -0.3272603| -0.09442977|  -0.1268989|  0.435143|-0.45001933| 0.0031923915|  0.17064627| -0.21880792|  0.42333192|   0.0386007| -1.1088394|  0.14871448|  0.10615626|0.021303039| -0.03756278|0.031895816| -0.06999032|  -0.16944526| -0.17562015| -0.20689954| -0.04929475|  3|\n",
            "|0.53998697|-0.079560526|  0.59711826| 0.5010978| -0.39663312|-0.56922144| 0.053672817|  0.51820385| -0.6104827| 0.3573761| 0.20468363|  0.15462929|-0.056249514|   -0.4572724|    0.14899| -0.9921877|  -0.3862369|  0.13114798|  -0.26862517| -1.3887054|-0.27871838|-0.95224327|   0.2795777|0.48053768|-0.16634388|  0.26588163| -0.63865286|  0.3577544| 0.47563863|  -0.6128035| -0.34388334|  0.07499573|0.45914352| -1.1815308|  -0.07674786|    0.419541| -0.03808182|  0.13846311|  0.26559293| -1.2605742|-0.012578505| -0.22387046|-0.04225851|  0.32490036| -0.4650771| -0.32817364|  -0.23987202| -0.09252047|  0.10807405|  0.13090503|  4|\n",
            "|0.14735037| -0.36286896|  0.17583537|  0.775346| -0.42521572|-0.54673475|  0.12468417|  0.38643596|-0.55004174|0.50495255|  0.3623798|  0.16018493|-0.114876345|  -0.13051853|-0.33808136| -1.0539924|  0.16592324|   0.2336808| -0.025189748| -1.4101292|  -0.396714| -1.0782714|   0.1302526|0.52838314|-0.44552457|  0.09694482| -0.24560054|  0.4197158| 0.34926593| -0.57588476|-0.033737708|   0.3379551|0.42406252| -0.8242415|  -0.19301812|  0.38348928|-0.006496435|  0.15319878|  0.52105266| -1.1835754|  0.07030605|-0.063769504| 0.09997454|  0.10475589|-0.26439157| -0.10952893|  -0.29517144|-0.030730722| -0.34218043| -0.08092158|  5|\n",
            "|0.55431104| -0.45412096|   -0.269922| 0.3309604|  -0.3792459| -0.5295274|  -0.1565626|  0.37049145| -0.6038865| 0.5195255| 0.38444978| -0.04026849| 0.054483008|  -0.09167643| 0.09578263|-0.52643496|  0.40628052|  0.38081053|  -0.18832931| -1.0294623|-0.33968312| -0.8679474| -0.12740104|0.46959972| -0.7259454| -0.07771342|-0.040366437| 0.25721854|  0.3181496|   -0.175336|  0.22502238|  0.42525643|0.56719935| -0.5684341|   0.12735681|  0.24361634| -0.14018615|  0.12571937|  0.13790123| -0.9797575|  0.32515195|  -0.2571604| 0.32977545| -0.32015404|   -0.19649|  0.21694398|  -0.15694709|-0.020276671|-0.035066415| 0.015186044|  6|\n",
            "| 0.4393245| -0.48635137|  -0.2201745|0.65721524| -0.25326636| -0.5790849|  0.09844484|  0.29188544|-0.55762047| 0.8385575|0.052376658| -0.30199063|  -0.3132434|   -0.6538463| -0.4439132| -0.8153263|0.0031894818|  0.30127606|  0.041836146| -1.3435413|-0.36526445| -0.7525792|0.0032445076|0.28648224|-0.59598285|  0.23694596| -0.40114963| 0.33527416| 0.20438968|  -0.6724211|-0.049098138|  0.25171286|0.37057802|-0.78012735|  0.043714624|    0.451192|  -0.1905454|  0.20831148|  0.39624593|-0.92221713| 0.046893768|  0.09708025|  0.1972724|  0.27536184|-0.15670438|-0.084338866| -0.064350404| -0.02784492|  0.08130904|-0.054820217|  7|\n",
            "|0.26950046| -0.14111623|  -0.2415117| 0.6556485| -0.11706883|-0.46658647|  0.22421749|-0.049877487|-0.24776952|0.64484775|  0.2766553|  0.27725855| 0.047635857|   0.12930737|-0.33777493| -0.5487687| -0.18966378|   0.2881687|  0.092704296| -1.0731566|0.068818346|-0.52386075|  0.09861585|0.29359102|-0.20161366|  0.18979944|  -0.6518963|  0.2587295| 0.29015833|  -0.3601001| -0.23047309|    0.517961| 0.5593392|-0.48142105|   -0.1578558|   0.5572149| -0.17374952|-0.081165604|   0.5493013|-0.86818886|   0.0767543|-0.084157914| 0.15728687|  0.24103832| -0.3657383|  -0.1007205|   -0.5046358|  -0.3466913|3.0981674E-4|  0.10588269|  8|\n",
            "| 0.4546409| -0.69616026| -0.10353761|0.47347355|  -0.4801918|-0.52014065|-0.121052906|  0.59146744| -0.5744943|0.53519654| 0.32358286| -0.19822666| -0.19688246| -0.055662077|-0.26831177|  -0.811807|  0.38537416|   0.3244381|   0.02369655| -1.3740937|-0.28883725| -0.8561019|-0.027271487|0.28797385| -0.8912126| 0.030794807| -0.24877723|  0.4077769| 0.64959425|  -0.2739545| 0.093660876|  0.36469397|0.63190335|-0.59020436|  -0.17127536|  0.32742265| -0.19625339|  0.32568952|  0.24529594| -1.0716261|  0.24573463|-0.066808596| 0.08423706|  0.14680044|-0.25775787| -0.13211049|  -0.46426323|-0.055778846|  -0.0942652|  0.11190873|  9|\n",
            "| 0.5782573|  -0.2898827| -0.36013022| 1.2890956| -0.22407289| -1.2712129|  0.14065763|   0.5687362| -1.2961547|  1.109363|  0.2741932|-0.007568001| -0.15538089|  -0.18869627| -0.7355088|-0.68409044| -0.40244982|  0.38240808|    0.1852848|  -2.380476| -0.2683716| -0.8165176|   0.8984207|0.22466326| -1.1355386|  0.54946333|   -1.433919| 0.38066292|  0.6378243|  -0.9301669|  -0.5650318|   0.8517086| 1.2606012| -1.2130054|  -0.27003366|   1.1150616| -0.05114175|  0.12920558|  0.48455802| -1.2706754|  0.06767396|    0.313847| 0.38251564|  0.33804154| -0.5114092|  0.20938087|  -0.89851606|  -0.8341948|  0.37156165|0.0027128712| 10|\n",
            "| 0.2945013| -0.48768353|-0.116322115| 0.6236079| -0.22519235|-0.48022237|  0.17361741| 0.060334418|-0.49481508|0.44511753|  0.2762726| -0.19777468|    -0.26741|  -0.37401298| -0.1694112|-0.90962535|  0.14929207|   0.5539968| -0.029015511| -1.1281561|-0.33698934|-0.86553025|  0.16522211|0.56088763| -0.6044139|-0.027993267| -0.27002725| 0.13475938| 0.23021905| -0.34547123| -0.23987654|  0.43894196|0.24404472|-0.36388493|  -0.06052811|  0.42311677|  0.09189387|  0.28640133|  0.36855772| -1.1577356|  0.23381875| -0.14890276| 0.12134728| 0.024770718|-0.11760092| -0.08767001|   0.11218389|  0.12168938|  0.06690215| -0.06461679| 11|\n",
            "|0.30755177|   -0.454619|-0.018154709| 0.4659332|  -0.3414418|-0.38558757|-0.005326607|  0.06058621|-0.33606893| 0.7293486|  0.2504098|0.0020754996|  0.09373572|  -0.25278956| -0.1688945| -0.6936034|   0.2122929|  0.36781958|-0.0091975015| -1.0678055|-0.50338256| -0.6241001|  0.04753839|0.44955626|-0.37050858|  0.18418677| -0.45977432| 0.21644178| 0.18545346|  -0.3731365| -0.15501925|  0.34508565|0.28978252| -0.4787849|-0.0010601813|  0.27591762|  -0.2072985|  0.20104104|   0.1568736| -0.8288173|  0.15404975| 0.008682872| 0.17740245|-0.052687928| -0.1502553|  0.06632756|  0.079708375|  0.16556436|  0.23425195|  0.04070672| 12|\n",
            "|0.34669226| -0.19174658|  -0.1164104| 1.0699773|-0.009371445| -0.7614021|   0.2913455|  0.16561078| -0.7686014|0.99314773|  0.5010574|  0.28586307| -0.15268962|   0.14801905|-0.43067026|-0.63153857| -0.31827325|   0.4913696|   0.12966934| -1.5723538|-0.08328293|-0.59470767|  0.56656015|0.47125062|  -0.572915|  0.51976204|  -1.4774317| 0.23678063| 0.17588891|   -0.626427| -0.29924774|  0.37696096| 0.7118623| -0.8394741|  -0.00979559|  0.76747096| -0.16627271|-0.059172697|  0.43367434| -1.2373706| 0.096318126|  0.12360375| 0.16070758|  0.21634555|-0.45744413| -0.06352821|   -0.6625533|  -0.4218337|-0.042349026| 0.030058455| 13|\n",
            "|0.34361753|  0.04322583| -0.15516944|0.76510525| -0.39185408| -0.3767203|  0.18301779| 0.119036205|-0.74963117|0.45410785|  0.3985942|  0.18336903| -0.41583332|  -0.26857272|-0.29643908|-0.35435537| -0.21114077|0.0062182844|  0.032186545|-0.99998343| -0.2222595|-0.45084935|   0.5077379|0.10497953| -0.6537221|  0.19459158|  -0.9150039| 0.23671335| 0.11305803|  -0.4349515| -0.26837707|   0.1680033| 0.6307987|-0.53702253|   -0.2252652|   0.2974813|-0.023763549| -0.34400067|  0.25523853| -0.9377531|  0.16274959| 0.108885035|-0.12639143|  0.20573586|-0.12608373|-0.010143624|   -0.3109654| -0.45745283|  0.05808302| 0.019392185| 14|\n",
            "|0.54438114| -0.07166172|  0.31414327| 0.5552721| -0.63046485| -0.4343007|  0.35421136|  0.24055931|-0.62197727|0.68410313| -0.3429197|  0.05099218| -0.22960022|  -0.46299958| -0.1729302| -0.6997747| -0.36090422| -0.08000505|  -0.23739524|  -1.132833|-0.26478425|-0.31059057|  0.51855373| 0.4313824| -0.5478292|   0.4067097|  -1.4645435|-0.09681751|-0.30920607| -0.88886726|  0.14239787| -0.03129533|0.99083865| -0.9878421|   -0.6149499|   0.5379704| -0.06481575| -0.20553114|  0.32284725| -0.6867714|-0.036510117|  0.03161549| -0.2599287|  0.78856283|-0.20608912|  0.12984033| 0.0072175255| -0.39296085| -0.03927633| -0.07771525| 15|\n",
            "|0.38034585|  -0.2512161|-0.016034236|0.12152077| -0.17966594|-0.44905373|  0.22562917|  0.49107274| -0.3155088|0.40389177| 0.18363109| -0.17657466| -0.18125495|  -0.25245467|-0.05316125|-0.50163746|-0.108945616| 0.003218235|  0.022582036| -1.1539363| 0.07602147| -0.8413366| -0.09711727|0.48200917|-0.42817172|  0.08334944| -0.17113312| 0.14266653| 0.18971708|-0.017376535|   0.0882626|   0.2496543|0.28131953|-0.56915116|   0.13211401|  0.28673053|-0.031686388|  0.75006324|  0.29695907| -0.7420141|  0.13090517|-0.024661396| 0.17937689| -0.06577944|-0.15385674| 0.013407666|   -0.3009086| -0.14215912| -0.02521962|  0.18068755| 16|\n",
            "|0.58402926| -0.54089814|-0.055591166|0.22336034| -0.08780223| -0.5666693|  0.14192502|  0.49920776|-0.32873017| 0.2711851| 0.35285982| -0.20079446| -0.26809883|  -0.42609745| -0.3316151| -0.8798232|   0.2594638|  0.50936764|  -0.29144424|  -1.125446|-0.31994823| -0.9052342| -0.15207703| 0.5547686| -0.6139884|  0.11344656| -0.17609312|  0.4310318|0.123741254| -0.32945788|-0.029204415|  0.29672876|0.23296581|  -0.793002|   0.08001016|   0.4620241| -0.12454706|    0.318748| 0.086112626| -0.9595964|   0.1504928|  -0.2620087| 0.21586765|  0.16059868|-0.43338686|  0.08804912| -0.049958576|  0.12000398|   0.3193572|  -0.2992933| 17|\n",
            "|0.52101547|  -0.7369922| -0.29505774|0.25226185| -0.40336493|-0.56176424| -0.12511197|  0.18362604|-0.18161821|0.24866411|  0.4252877|-0.060299136| -0.17455831|  0.045237295|-0.22707056|-0.57889795|   0.3561343|  0.04474982|  -0.10430341| -1.1131212|-0.14852472| -0.7204154| -0.25792703|0.17433383|-0.17785749| -0.10258988|  0.37844446| 0.57572836|  0.4075158|  -0.2769549|   0.1678378| 0.107362606| 0.1823159| -0.3253179|  -0.09609209|-0.027762376| -0.24592033|   0.5066548|  0.21826963| -0.7422672|  0.08749052| -0.11656419| 0.14084001| -0.16132708|-0.17710143| -0.20386839|   -0.2993099| 0.026175188|  0.14344728| -0.25729683| 18|\n",
            "|0.57817656|-0.104963444|  0.14474055| 0.4166334| -0.39854208|-0.36572477|  0.36285904|  0.23823814| -0.4438523|0.48661062|  0.3775476| 0.090480804| 0.041386526|      -0.1637| -0.3206577| -0.7202244| 0.036341235|  0.10855455|  -0.17200917| -1.0106124|-0.06330429| -0.7655166|  0.15549488|0.35282996|-0.29807144|  0.25876606|  -0.5461812| 0.37765154| 0.18373148|  -0.4864284| -0.31423518| 0.047433376|0.42172688|-0.80784094|   -0.1370991|  0.44924283| -0.04975818|  0.18457781|  0.48885456| -1.0212216| -0.04585286|  0.14432108| 0.05865789|-0.024203384|-0.30801687|  0.19185176|  -0.43403643| -0.36228883| 0.059234783| -0.14554402| 19|\n",
            "+----------+------------+------------+----------+------------+-----------+------------+------------+-----------+----------+-----------+------------+------------+-------------+-----------+-----------+------------+------------+-------------+-----------+-----------+-----------+------------+----------+-----------+------------+------------+-----------+-----------+------------+------------+------------+----------+-----------+-------------+------------+------------+------------+------------+-----------+------------+------------+-----------+------------+-----------+------------+-------------+------------+------------+------------+---+\n",
            "only showing top 20 rows\n",
            "\n"
          ],
          "name": "stdout"
        }
      ]
    },
    {
      "cell_type": "code",
      "metadata": {
        "id": "vNCScK1BLgvW",
        "colab_type": "code",
        "outputId": "db33e60b-cc48-4b3c-f1ec-fb223ffe5464",
        "colab": {
          "base_uri": "https://localhost:8080/",
          "height": 459
        }
      },
      "source": [
        "##Create a features column to be used in the clustering\n",
        "vecAssembler = VectorAssembler(inputCols=FEATURES_COL, outputCol=\"features\")\n",
        "df_kmeans = vecAssembler.transform(df).select('id', 'features')\n",
        "df_kmeans.show()"
      ],
      "execution_count": 31,
      "outputs": [
        {
          "output_type": "stream",
          "text": [
            "+---+--------------------+\n",
            "| id|            features|\n",
            "+---+--------------------+\n",
            "|  0|[0.40614145994186...|\n",
            "|  1|[0.41943061351776...|\n",
            "|  2|[0.46863827109336...|\n",
            "|  3|[0.52075523138046...|\n",
            "|  4|[0.53998696804046...|\n",
            "|  5|[0.14735037088394...|\n",
            "|  6|[0.55431103706359...|\n",
            "|  7|[0.43932449817657...|\n",
            "|  8|[0.26950046420097...|\n",
            "|  9|[0.45464089512825...|\n",
            "| 10|[0.57825732231140...|\n",
            "| 11|[0.29450130462646...|\n",
            "| 12|[0.30755177140235...|\n",
            "| 13|[0.34669226408004...|\n",
            "| 14|[0.34361752867698...|\n",
            "| 15|[0.54438114166259...|\n",
            "| 16|[0.38034585118293...|\n",
            "| 17|[0.58402925729751...|\n",
            "| 18|[0.52101546525955...|\n",
            "| 19|[0.57817655801773...|\n",
            "+---+--------------------+\n",
            "only showing top 20 rows\n",
            "\n"
          ],
          "name": "stdout"
        }
      ]
    },
    {
      "cell_type": "markdown",
      "metadata": {
        "id": "_1eJhZQCueen",
        "colab_type": "text"
      },
      "source": [
        "## Optimize choice of k (Number of cluster center)\n",
        "To optimize k we cluster a fraction of the data for different choices of k and look for an \"elbow\" in the cost function."
      ]
    },
    {
      "cell_type": "code",
      "metadata": {
        "id": "VTyfQzXzLr_0",
        "colab_type": "code",
        "outputId": "221e153e-6796-40b9-a04a-bf3058011b57",
        "colab": {
          "base_uri": "https://localhost:8080/",
          "height": 34
        }
      },
      "source": [
        "from tqdm import tqdm\n",
        "\n",
        "cost = np.zeros(20)\n",
        "for k in tqdm(range(2,20)):\n",
        "    kmeans = KMeans().setK(k).setSeed(1).setFeaturesCol(\"features\")\n",
        "    model = kmeans.fit(df_kmeans.sample(False,0.1, seed=42))\n",
        "    cost[k] = model.computeCost(df_kmeans) "
      ],
      "execution_count": 0,
      "outputs": [
        {
          "output_type": "stream",
          "text": [
            "\r  0%|          | 0/18 [00:00<?, ?it/s]"
          ],
          "name": "stderr"
        }
      ]
    },
    {
      "cell_type": "code",
      "metadata": {
        "id": "UBT6AShoQ4vj",
        "colab_type": "code",
        "colab": {}
      },
      "source": [
        "fig, ax = plt.subplots(1,1, figsize =(8,6))\n",
        "ax.plot(range(2,20),cost[2:20])\n",
        "ax.set_xlabel('k')\n",
        "ax.set_ylabel('cost')"
      ],
      "execution_count": 0,
      "outputs": []
    },
    {
      "cell_type": "markdown",
      "metadata": {
        "id": "hW8nFj5O_vgT",
        "colab_type": "text"
      },
      "source": [
        "## Train the Model"
      ]
    },
    {
      "cell_type": "code",
      "metadata": {
        "id": "5YHp1jltT-k3",
        "colab_type": "code",
        "colab": {}
      },
      "source": [
        "k = 10\n",
        "kmeans = KMeans().setK(k).setSeed(1).setFeaturesCol(\"features\")\n",
        "model = kmeans.fit(df_kmeans)\n",
        "centers = model.clusterCenters()\n",
        "\n",
        "print(\"Cluster Centers: \")\n",
        "for center in centers:\n",
        "    print(center)"
      ],
      "execution_count": 0,
      "outputs": []
    },
    {
      "cell_type": "markdown",
      "metadata": {
        "id": "j0Ky-iY3_2Oy",
        "colab_type": "text"
      },
      "source": [
        "## Assign cluster to rows"
      ]
    },
    {
      "cell_type": "code",
      "metadata": {
        "id": "HLBBK_Ti_ycy",
        "colab_type": "code",
        "colab": {}
      },
      "source": [
        "transformed = model.transform(df_kmeans).select('id', 'prediction')\n",
        "rows = transformed.collect()\n",
        "print(rows[:3])"
      ],
      "execution_count": 0,
      "outputs": []
    },
    {
      "cell_type": "code",
      "metadata": {
        "id": "8yzPsZa4ADTe",
        "colab_type": "code",
        "colab": {}
      },
      "source": [
        "df_pred = spark.createDataFrame(rows)\n",
        "df_pred.show()"
      ],
      "execution_count": 0,
      "outputs": []
    },
    {
      "cell_type": "markdown",
      "metadata": {
        "id": "garXFEOOAUIR",
        "colab_type": "text"
      },
      "source": [
        "## Join the prediction with the original data\n"
      ]
    },
    {
      "cell_type": "code",
      "metadata": {
        "id": "laapl5YkAR9p",
        "colab_type": "code",
        "colab": {}
      },
      "source": [
        "df_pred = df_pred.toPandas()\n"
      ],
      "execution_count": 0,
      "outputs": []
    }
  ]
}