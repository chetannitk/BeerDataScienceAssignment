{
  "nbformat": 4,
  "nbformat_minor": 0,
  "metadata": {
    "accelerator": "GPU",
    "colab": {
      "name": "02-Beer_review_natural_language_understanding.ipynb",
      "provenance": [],
      "include_colab_link": true
    },
    "kernelspec": {
      "display_name": "Python [conda env:chetan_spark]",
      "language": "python",
      "name": "conda-env-chetan_spark-py"
    },
    "language_info": {
      "codemirror_mode": {
        "name": "ipython",
        "version": 3
      },
      "file_extension": ".py",
      "mimetype": "text/x-python",
      "name": "python",
      "nbconvert_exporter": "python",
      "pygments_lexer": "ipython3",
      "version": "3.7.3"
    }
  },
  "cells": [
    {
      "cell_type": "markdown",
      "metadata": {
        "id": "view-in-github",
        "colab_type": "text"
      },
      "source": [
        "<a href=\"https://colab.research.google.com/github/chetannitk/BeerDataScienceAssignment/blob/master/notebooks/05-sklearn-k-mean-clustering-to-find-similar-beer-drinkers.ipynb\" target=\"_parent\"><img src=\"https://colab.research.google.com/assets/colab-badge.svg\" alt=\"Open In Colab\"/></a>"
      ]
    },
    {
      "cell_type": "markdown",
      "metadata": {
        "colab_type": "text",
        "id": "_KeSXgV-8YKi"
      },
      "source": [
        "<div class=\"alert alert-success\">\n",
        "    <h1> Beer Data Science Assignment <br/></h1>\n",
        "    K-mean clustering to find similar group of beer drinkers.\n",
        "</div>\n"
      ]
    },
    {
      "cell_type": "code",
      "metadata": {
        "colab_type": "code",
        "id": "M54Jfmer8YKk",
        "outputId": "7a775893-3f67-4302-a8e4-891f62ac8979",
        "colab": {
          "base_uri": "https://localhost:8080/",
          "height": 122
        }
      },
      "source": [
        "from IPython.display import HTML\n",
        "import pandas as pd\n",
        "import os\n",
        "import numpy as np\n",
        "from datetime import datetime\n",
        "import wordcloud\n",
        "import warnings\n",
        "import seaborn as sns; sns.set()\n",
        "import matplotlib.pyplot as plt\n",
        "from tqdm._tqdm_notebook import tqdm_notebook\n",
        "tqdm_notebook.pandas()\n",
        "warnings.filterwarnings('ignore')\n",
        "\n",
        "BASE_PATH = \"../\"\n",
        "INPUT_DATA_PATH = os.path.join(BASE_PATH, \"data/raw/BeerDataScienceProject.csv\")"
      ],
      "execution_count": 1,
      "outputs": [
        {
          "output_type": "stream",
          "text": [
            "/usr/local/lib/python3.6/dist-packages/statsmodels/tools/_testing.py:19: FutureWarning: pandas.util.testing is deprecated. Use the functions in the public API at pandas.testing instead.\n",
            "  import pandas.util.testing as tm\n",
            "/usr/local/lib/python3.6/dist-packages/ipykernel_launcher.py:10: TqdmDeprecationWarning: This function will be removed in tqdm==5.0.0\n",
            "Please use `tqdm.notebook.*` instead of `tqdm._tqdm_notebook.*`\n",
            "  # Remove the CWD from sys.path while we load stuff.\n"
          ],
          "name": "stderr"
        }
      ]
    },
    {
      "cell_type": "code",
      "metadata": {
        "colab_type": "code",
        "id": "0n4Zed3z8YKp",
        "outputId": "72b91c64-f078-48dd-b6d5-ac9f663070d4",
        "colab": {
          "base_uri": "https://localhost:8080/",
          "height": 122
        }
      },
      "source": [
        "## Upload BeerDataScienceProject.csv file from local system.\n",
        "import zipfile\n",
        "from google.colab import drive\n",
        "\n",
        "drive.mount('/content/drive/')\n",
        "\n",
        "zip_ref = zipfile.ZipFile(\"/content/drive/My Drive/data/BeerDataScienceProject.zip\", 'r')\n",
        "zip_ref.extractall(\"/tmp\")\n",
        "zip_ref.close()"
      ],
      "execution_count": 2,
      "outputs": [
        {
          "output_type": "stream",
          "text": [
            "Go to this URL in a browser: https://accounts.google.com/o/oauth2/auth?client_id=947318989803-6bn6qk8qdgf4n4g3pfee6491hc0brc4i.apps.googleusercontent.com&redirect_uri=urn%3aietf%3awg%3aoauth%3a2.0%3aoob&response_type=code&scope=email%20https%3a%2f%2fwww.googleapis.com%2fauth%2fdocs.test%20https%3a%2f%2fwww.googleapis.com%2fauth%2fdrive%20https%3a%2f%2fwww.googleapis.com%2fauth%2fdrive.photos.readonly%20https%3a%2f%2fwww.googleapis.com%2fauth%2fpeopleapi.readonly\n",
            "\n",
            "Enter your authorization code:\n",
            "··········\n",
            "Mounted at /content/drive/\n"
          ],
          "name": "stdout"
        }
      ]
    },
    {
      "cell_type": "code",
      "metadata": {
        "colab_type": "code",
        "id": "7jaSmyo8_2Sm",
        "outputId": "c2888a31-100c-4fa3-d46d-37a80f7916ef",
        "colab": {
          "base_uri": "https://localhost:8080/",
          "height": 102
        }
      },
      "source": [
        "!ls -lrt /tmp"
      ],
      "execution_count": 3,
      "outputs": [
        {
          "output_type": "stream",
          "text": [
            "total 405172\n",
            "drwx------ 2 root root      4096 Jun  1 17:08 tmpz00gqf1l\n",
            "srw------- 1 root root         0 Jun  1 17:08 drivefs_ipc.0\n",
            "srw------- 1 root root         0 Jun  1 17:08 drivefs_ipc.0_shell\n",
            "-rw-r--r-- 1 root root 414885425 Jun  1 17:08 BeerDataScienceProject.csv\n"
          ],
          "name": "stdout"
        }
      ]
    },
    {
      "cell_type": "code",
      "metadata": {
        "colab_type": "code",
        "id": "ddLSfoL586l1",
        "colab": {}
      },
      "source": [
        "import io\n",
        "df_beer_raw = pd.read_csv('/tmp/BeerDataScienceProject.csv', encoding=\"ISO-8859-1\")"
      ],
      "execution_count": 0,
      "outputs": []
    },
    {
      "cell_type": "code",
      "metadata": {
        "colab_type": "code",
        "id": "RGVHajpO8YKv",
        "outputId": "ea2fcebb-8327-481f-8a94-f05f44ce2272",
        "colab": {
          "base_uri": "https://localhost:8080/",
          "height": 34
        }
      },
      "source": [
        "df_beer_raw.shape"
      ],
      "execution_count": 5,
      "outputs": [
        {
          "output_type": "execute_result",
          "data": {
            "text/plain": [
              "(528870, 13)"
            ]
          },
          "metadata": {
            "tags": []
          },
          "execution_count": 5
        }
      ]
    },
    {
      "cell_type": "code",
      "metadata": {
        "colab_type": "code",
        "id": "3ruuejTi8YK1",
        "outputId": "a8263547-c604-4511-95e5-83f10d0f0108",
        "colab": {
          "base_uri": "https://localhost:8080/",
          "height": 255
        }
      },
      "source": [
        "df_beer_raw.dtypes"
      ],
      "execution_count": 6,
      "outputs": [
        {
          "output_type": "execute_result",
          "data": {
            "text/plain": [
              "beer_ABV              float64\n",
              "beer_beerId             int64\n",
              "beer_brewerId           int64\n",
              "beer_name              object\n",
              "beer_style             object\n",
              "review_appearance     float64\n",
              "review_palette        float64\n",
              "review_overall        float64\n",
              "review_taste          float64\n",
              "review_profileName     object\n",
              "review_aroma          float64\n",
              "review_text            object\n",
              "review_time             int64\n",
              "dtype: object"
            ]
          },
          "metadata": {
            "tags": []
          },
          "execution_count": 6
        }
      ]
    },
    {
      "cell_type": "markdown",
      "metadata": {
        "colab_type": "text",
        "id": "a61brCIO8YK6"
      },
      "source": [
        "### Data Cleaning\n",
        "```In the below cell we can see that there are some columns where data is missing. \n",
        "   We need to remove those data points from our data set.\n",
        "```"
      ]
    },
    {
      "cell_type": "code",
      "metadata": {
        "colab_type": "code",
        "id": "uzLn8W108YK7",
        "outputId": "34dd9288-159e-47d4-863b-ef23f7bbc93b",
        "colab": {
          "base_uri": "https://localhost:8080/",
          "height": 255
        }
      },
      "source": [
        "df_beer_raw.isna().sum()"
      ],
      "execution_count": 7,
      "outputs": [
        {
          "output_type": "execute_result",
          "data": {
            "text/plain": [
              "beer_ABV              20280\n",
              "beer_beerId               0\n",
              "beer_brewerId             0\n",
              "beer_name                 0\n",
              "beer_style                0\n",
              "review_appearance         0\n",
              "review_palette            0\n",
              "review_overall            0\n",
              "review_taste              0\n",
              "review_profileName      115\n",
              "review_aroma              0\n",
              "review_text             119\n",
              "review_time               0\n",
              "dtype: int64"
            ]
          },
          "metadata": {
            "tags": []
          },
          "execution_count": 7
        }
      ]
    },
    {
      "cell_type": "code",
      "metadata": {
        "colab_type": "code",
        "id": "kpgOI5iQ8YLB",
        "colab": {}
      },
      "source": [
        "df_beer = df_beer_raw.dropna()"
      ],
      "execution_count": 0,
      "outputs": []
    },
    {
      "cell_type": "code",
      "metadata": {
        "colab_type": "code",
        "id": "4W4cl4A68YLG",
        "outputId": "7e859136-c6ef-407b-efd8-fa5a855e5c92",
        "colab": {
          "base_uri": "https://localhost:8080/",
          "height": 357
        }
      },
      "source": [
        "df_beer.info()"
      ],
      "execution_count": 9,
      "outputs": [
        {
          "output_type": "stream",
          "text": [
            "<class 'pandas.core.frame.DataFrame'>\n",
            "Int64Index: 508358 entries, 0 to 528796\n",
            "Data columns (total 13 columns):\n",
            " #   Column              Non-Null Count   Dtype  \n",
            "---  ------              --------------   -----  \n",
            " 0   beer_ABV            508358 non-null  float64\n",
            " 1   beer_beerId         508358 non-null  int64  \n",
            " 2   beer_brewerId       508358 non-null  int64  \n",
            " 3   beer_name           508358 non-null  object \n",
            " 4   beer_style          508358 non-null  object \n",
            " 5   review_appearance   508358 non-null  float64\n",
            " 6   review_palette      508358 non-null  float64\n",
            " 7   review_overall      508358 non-null  float64\n",
            " 8   review_taste        508358 non-null  float64\n",
            " 9   review_profileName  508358 non-null  object \n",
            " 10  review_aroma        508358 non-null  float64\n",
            " 11  review_text         508358 non-null  object \n",
            " 12  review_time         508358 non-null  int64  \n",
            "dtypes: float64(6), int64(3), object(4)\n",
            "memory usage: 54.3+ MB\n"
          ],
          "name": "stdout"
        }
      ]
    },
    {
      "cell_type": "code",
      "metadata": {
        "colab_type": "code",
        "id": "RybRJkkjKyaD",
        "colab": {}
      },
      "source": [
        "df_beer = df_beer.reset_index()\n",
        "df_beer['id'] = df_beer.index"
      ],
      "execution_count": 0,
      "outputs": []
    },
    {
      "cell_type": "markdown",
      "metadata": {
        "colab_type": "text",
        "id": "NlBk4FG38YLL"
      },
      "source": [
        "## Data Changes in Raw and Clean dataset"
      ]
    },
    {
      "cell_type": "code",
      "metadata": {
        "colab_type": "code",
        "id": "MJz6u1KX8YLM",
        "outputId": "eb8dac64-7a29-49f0-fc03-a7db39fa1e2f",
        "colab": {
          "base_uri": "https://localhost:8080/",
          "height": 68
        }
      },
      "source": [
        "print(\"Raw data size: \", df_beer_raw.shape[0])\n",
        "print(\"Clean data size: \", df_beer.shape[0])\n",
        "print(\"Data points difference: \", df_beer_raw.shape[0]-df_beer.shape[0])"
      ],
      "execution_count": 11,
      "outputs": [
        {
          "output_type": "stream",
          "text": [
            "Raw data size:  528870\n",
            "Clean data size:  508358\n",
            "Data points difference:  20512\n"
          ],
          "name": "stdout"
        }
      ]
    },
    {
      "cell_type": "markdown",
      "metadata": {
        "colab_type": "text",
        "id": "SSl1S2dA8YLR"
      },
      "source": [
        "### Describe the categorical features"
      ]
    },
    {
      "cell_type": "code",
      "metadata": {
        "colab_type": "code",
        "id": "IBmfjHHG8YLS",
        "outputId": "6f8766bb-eda9-4c9c-9d0b-4b39b75121f7",
        "colab": {
          "base_uri": "https://localhost:8080/",
          "height": 173
        }
      },
      "source": [
        "df_beer.describe(include=[np.object])"
      ],
      "execution_count": 12,
      "outputs": [
        {
          "output_type": "execute_result",
          "data": {
            "text/html": [
              "<div>\n",
              "<style scoped>\n",
              "    .dataframe tbody tr th:only-of-type {\n",
              "        vertical-align: middle;\n",
              "    }\n",
              "\n",
              "    .dataframe tbody tr th {\n",
              "        vertical-align: top;\n",
              "    }\n",
              "\n",
              "    .dataframe thead th {\n",
              "        text-align: right;\n",
              "    }\n",
              "</style>\n",
              "<table border=\"1\" class=\"dataframe\">\n",
              "  <thead>\n",
              "    <tr style=\"text-align: right;\">\n",
              "      <th></th>\n",
              "      <th>beer_name</th>\n",
              "      <th>beer_style</th>\n",
              "      <th>review_profileName</th>\n",
              "      <th>review_text</th>\n",
              "    </tr>\n",
              "  </thead>\n",
              "  <tbody>\n",
              "    <tr>\n",
              "      <th>count</th>\n",
              "      <td>508358</td>\n",
              "      <td>508358</td>\n",
              "      <td>508358</td>\n",
              "      <td>508358</td>\n",
              "    </tr>\n",
              "    <tr>\n",
              "      <th>unique</th>\n",
              "      <td>14028</td>\n",
              "      <td>104</td>\n",
              "      <td>22563</td>\n",
              "      <td>508007</td>\n",
              "    </tr>\n",
              "    <tr>\n",
              "      <th>top</th>\n",
              "      <td>Sierra Nevada Celebration Ale</td>\n",
              "      <td>American IPA</td>\n",
              "      <td>northyorksammy</td>\n",
              "      <td>#NAME?</td>\n",
              "    </tr>\n",
              "    <tr>\n",
              "      <th>freq</th>\n",
              "      <td>2998</td>\n",
              "      <td>42092</td>\n",
              "      <td>1732</td>\n",
              "      <td>90</td>\n",
              "    </tr>\n",
              "  </tbody>\n",
              "</table>\n",
              "</div>"
            ],
            "text/plain": [
              "                            beer_name  ... review_text\n",
              "count                          508358  ...      508358\n",
              "unique                          14028  ...      508007\n",
              "top     Sierra Nevada Celebration Ale  ...      #NAME?\n",
              "freq                             2998  ...          90\n",
              "\n",
              "[4 rows x 4 columns]"
            ]
          },
          "metadata": {
            "tags": []
          },
          "execution_count": 12
        }
      ]
    },
    {
      "cell_type": "markdown",
      "metadata": {
        "colab_type": "text",
        "id": "GAgq6D8K8YLW"
      },
      "source": [
        "### Describe the numerical features"
      ]
    },
    {
      "cell_type": "code",
      "metadata": {
        "colab_type": "code",
        "id": "tW2Tuqlc8YLX",
        "outputId": "5fe60025-a406-4bfa-ecf0-133b075e1537",
        "colab": {
          "base_uri": "https://localhost:8080/",
          "height": 317
        }
      },
      "source": [
        "df_beer.describe(include=[np.number])"
      ],
      "execution_count": 13,
      "outputs": [
        {
          "output_type": "execute_result",
          "data": {
            "text/html": [
              "<div>\n",
              "<style scoped>\n",
              "    .dataframe tbody tr th:only-of-type {\n",
              "        vertical-align: middle;\n",
              "    }\n",
              "\n",
              "    .dataframe tbody tr th {\n",
              "        vertical-align: top;\n",
              "    }\n",
              "\n",
              "    .dataframe thead th {\n",
              "        text-align: right;\n",
              "    }\n",
              "</style>\n",
              "<table border=\"1\" class=\"dataframe\">\n",
              "  <thead>\n",
              "    <tr style=\"text-align: right;\">\n",
              "      <th></th>\n",
              "      <th>index</th>\n",
              "      <th>beer_ABV</th>\n",
              "      <th>beer_beerId</th>\n",
              "      <th>beer_brewerId</th>\n",
              "      <th>review_appearance</th>\n",
              "      <th>review_palette</th>\n",
              "      <th>review_overall</th>\n",
              "      <th>review_taste</th>\n",
              "      <th>review_aroma</th>\n",
              "      <th>review_time</th>\n",
              "      <th>id</th>\n",
              "    </tr>\n",
              "  </thead>\n",
              "  <tbody>\n",
              "    <tr>\n",
              "      <th>count</th>\n",
              "      <td>508358.000000</td>\n",
              "      <td>508358.000000</td>\n",
              "      <td>508358.000000</td>\n",
              "      <td>508358.000000</td>\n",
              "      <td>508358.000000</td>\n",
              "      <td>508358.000000</td>\n",
              "      <td>508358.000000</td>\n",
              "      <td>508358.000000</td>\n",
              "      <td>508358.000000</td>\n",
              "      <td>5.083580e+05</td>\n",
              "      <td>508358.000000</td>\n",
              "    </tr>\n",
              "    <tr>\n",
              "      <th>mean</th>\n",
              "      <td>263669.490377</td>\n",
              "      <td>7.017400</td>\n",
              "      <td>21824.120840</td>\n",
              "      <td>2534.273207</td>\n",
              "      <td>3.872676</td>\n",
              "      <td>3.768993</td>\n",
              "      <td>3.840805</td>\n",
              "      <td>3.775327</td>\n",
              "      <td>3.827646</td>\n",
              "      <td>1.226175e+09</td>\n",
              "      <td>254178.500000</td>\n",
              "    </tr>\n",
              "    <tr>\n",
              "      <th>std</th>\n",
              "      <td>152590.091973</td>\n",
              "      <td>2.204528</td>\n",
              "      <td>22124.969107</td>\n",
              "      <td>5237.843825</td>\n",
              "      <td>0.601764</td>\n",
              "      <td>0.682355</td>\n",
              "      <td>0.706408</td>\n",
              "      <td>0.665586</td>\n",
              "      <td>0.715121</td>\n",
              "      <td>7.530843e+07</td>\n",
              "      <td>146750.458409</td>\n",
              "    </tr>\n",
              "    <tr>\n",
              "      <th>min</th>\n",
              "      <td>0.000000</td>\n",
              "      <td>0.010000</td>\n",
              "      <td>5.000000</td>\n",
              "      <td>1.000000</td>\n",
              "      <td>0.000000</td>\n",
              "      <td>1.000000</td>\n",
              "      <td>0.000000</td>\n",
              "      <td>1.000000</td>\n",
              "      <td>1.000000</td>\n",
              "      <td>8.843904e+08</td>\n",
              "      <td>0.000000</td>\n",
              "    </tr>\n",
              "    <tr>\n",
              "      <th>25%</th>\n",
              "      <td>131284.250000</td>\n",
              "      <td>5.300000</td>\n",
              "      <td>1673.000000</td>\n",
              "      <td>132.000000</td>\n",
              "      <td>3.500000</td>\n",
              "      <td>3.500000</td>\n",
              "      <td>3.500000</td>\n",
              "      <td>3.500000</td>\n",
              "      <td>3.500000</td>\n",
              "      <td>1.177202e+09</td>\n",
              "      <td>127089.250000</td>\n",
              "    </tr>\n",
              "    <tr>\n",
              "      <th>50%</th>\n",
              "      <td>263756.500000</td>\n",
              "      <td>6.500000</td>\n",
              "      <td>13850.000000</td>\n",
              "      <td>392.000000</td>\n",
              "      <td>4.000000</td>\n",
              "      <td>4.000000</td>\n",
              "      <td>4.000000</td>\n",
              "      <td>4.000000</td>\n",
              "      <td>4.000000</td>\n",
              "      <td>1.241503e+09</td>\n",
              "      <td>254178.500000</td>\n",
              "    </tr>\n",
              "    <tr>\n",
              "      <th>75%</th>\n",
              "      <td>395689.750000</td>\n",
              "      <td>8.500000</td>\n",
              "      <td>40418.000000</td>\n",
              "      <td>1315.000000</td>\n",
              "      <td>4.000000</td>\n",
              "      <td>4.000000</td>\n",
              "      <td>4.500000</td>\n",
              "      <td>4.000000</td>\n",
              "      <td>4.500000</td>\n",
              "      <td>1.289073e+09</td>\n",
              "      <td>381267.750000</td>\n",
              "    </tr>\n",
              "    <tr>\n",
              "      <th>max</th>\n",
              "      <td>528796.000000</td>\n",
              "      <td>57.700000</td>\n",
              "      <td>77310.000000</td>\n",
              "      <td>27980.000000</td>\n",
              "      <td>5.000000</td>\n",
              "      <td>5.000000</td>\n",
              "      <td>5.000000</td>\n",
              "      <td>5.000000</td>\n",
              "      <td>5.000000</td>\n",
              "      <td>1.326277e+09</td>\n",
              "      <td>508357.000000</td>\n",
              "    </tr>\n",
              "  </tbody>\n",
              "</table>\n",
              "</div>"
            ],
            "text/plain": [
              "               index       beer_ABV  ...   review_time             id\n",
              "count  508358.000000  508358.000000  ...  5.083580e+05  508358.000000\n",
              "mean   263669.490377       7.017400  ...  1.226175e+09  254178.500000\n",
              "std    152590.091973       2.204528  ...  7.530843e+07  146750.458409\n",
              "min         0.000000       0.010000  ...  8.843904e+08       0.000000\n",
              "25%    131284.250000       5.300000  ...  1.177202e+09  127089.250000\n",
              "50%    263756.500000       6.500000  ...  1.241503e+09  254178.500000\n",
              "75%    395689.750000       8.500000  ...  1.289073e+09  381267.750000\n",
              "max    528796.000000      57.700000  ...  1.326277e+09  508357.000000\n",
              "\n",
              "[8 rows x 11 columns]"
            ]
          },
          "metadata": {
            "tags": []
          },
          "execution_count": 13
        }
      ]
    },
    {
      "cell_type": "code",
      "metadata": {
        "colab_type": "code",
        "id": "-A1piu-U8YLb",
        "colab": {}
      },
      "source": [
        "NUMERICAL_ATTRIBUTE = ['beer_ABV', 'review_appearance', 'review_palette', \n",
        "                       'review_overall', 'review_taste', 'review_aroma', 'review_time']\n",
        "CATEGORICAL_ATTRIBUTE = ['beer_name', 'beer_style', 'review_profileName', 'review_text']"
      ],
      "execution_count": 0,
      "outputs": []
    },
    {
      "cell_type": "code",
      "metadata": {
        "colab_type": "code",
        "id": "hUunnLlE8YLg",
        "outputId": "3c16632a-345f-49f5-8396-57ab048b28dd",
        "colab": {
          "base_uri": "https://localhost:8080/",
          "height": 414
        }
      },
      "source": [
        "df_beer.sample(4)"
      ],
      "execution_count": 15,
      "outputs": [
        {
          "output_type": "execute_result",
          "data": {
            "text/html": [
              "<div>\n",
              "<style scoped>\n",
              "    .dataframe tbody tr th:only-of-type {\n",
              "        vertical-align: middle;\n",
              "    }\n",
              "\n",
              "    .dataframe tbody tr th {\n",
              "        vertical-align: top;\n",
              "    }\n",
              "\n",
              "    .dataframe thead th {\n",
              "        text-align: right;\n",
              "    }\n",
              "</style>\n",
              "<table border=\"1\" class=\"dataframe\">\n",
              "  <thead>\n",
              "    <tr style=\"text-align: right;\">\n",
              "      <th></th>\n",
              "      <th>index</th>\n",
              "      <th>beer_ABV</th>\n",
              "      <th>beer_beerId</th>\n",
              "      <th>beer_brewerId</th>\n",
              "      <th>beer_name</th>\n",
              "      <th>beer_style</th>\n",
              "      <th>review_appearance</th>\n",
              "      <th>review_palette</th>\n",
              "      <th>review_overall</th>\n",
              "      <th>review_taste</th>\n",
              "      <th>review_profileName</th>\n",
              "      <th>review_aroma</th>\n",
              "      <th>review_text</th>\n",
              "      <th>review_time</th>\n",
              "      <th>id</th>\n",
              "    </tr>\n",
              "  </thead>\n",
              "  <tbody>\n",
              "    <tr>\n",
              "      <th>265045</th>\n",
              "      <td>274634</td>\n",
              "      <td>4.7</td>\n",
              "      <td>2249</td>\n",
              "      <td>68</td>\n",
              "      <td>In-Heat Wheat</td>\n",
              "      <td>Hefeweizen</td>\n",
              "      <td>4.0</td>\n",
              "      <td>3.0</td>\n",
              "      <td>4.0</td>\n",
              "      <td>3.0</td>\n",
              "      <td>rajendra82</td>\n",
              "      <td>3.0</td>\n",
              "      <td>Poured out of the 12 oz. bottle, into a proper...</td>\n",
              "      <td>1143437434</td>\n",
              "      <td>265045</td>\n",
              "    </tr>\n",
              "    <tr>\n",
              "      <th>421480</th>\n",
              "      <td>437594</td>\n",
              "      <td>6.0</td>\n",
              "      <td>710</td>\n",
              "      <td>197</td>\n",
              "      <td>Fischer Tradition Amber</td>\n",
              "      <td>Euro Dark Lager</td>\n",
              "      <td>3.5</td>\n",
              "      <td>3.0</td>\n",
              "      <td>4.0</td>\n",
              "      <td>2.5</td>\n",
              "      <td>flagmantho</td>\n",
              "      <td>3.5</td>\n",
              "      <td>Poured from 22 oz swing-top bottle into a pint...</td>\n",
              "      <td>1252341047</td>\n",
              "      <td>421480</td>\n",
              "    </tr>\n",
              "    <tr>\n",
              "      <th>407174</th>\n",
              "      <td>422224</td>\n",
              "      <td>5.8</td>\n",
              "      <td>226</td>\n",
              "      <td>73</td>\n",
              "      <td>Great Lakes Edmund Fitzgerald Porter</td>\n",
              "      <td>American Porter</td>\n",
              "      <td>4.0</td>\n",
              "      <td>4.5</td>\n",
              "      <td>4.5</td>\n",
              "      <td>4.0</td>\n",
              "      <td>yankeeheel</td>\n",
              "      <td>4.5</td>\n",
              "      <td>Pours a beautiful deep dark mahogany with a we...</td>\n",
              "      <td>1068155892</td>\n",
              "      <td>407174</td>\n",
              "    </tr>\n",
              "    <tr>\n",
              "      <th>355609</th>\n",
              "      <td>368950</td>\n",
              "      <td>4.9</td>\n",
              "      <td>1693</td>\n",
              "      <td>22</td>\n",
              "      <td>U Blond Pilsner</td>\n",
              "      <td>Euro Pale Lager</td>\n",
              "      <td>3.0</td>\n",
              "      <td>3.0</td>\n",
              "      <td>3.5</td>\n",
              "      <td>3.0</td>\n",
              "      <td>allergictomacros</td>\n",
              "      <td>3.0</td>\n",
              "      <td>Clear gold with a weak, brittle head. Soft lem...</td>\n",
              "      <td>1243898308</td>\n",
              "      <td>355609</td>\n",
              "    </tr>\n",
              "  </tbody>\n",
              "</table>\n",
              "</div>"
            ],
            "text/plain": [
              "         index  beer_ABV  ...  review_time      id\n",
              "265045  274634       4.7  ...   1143437434  265045\n",
              "421480  437594       6.0  ...   1252341047  421480\n",
              "407174  422224       5.8  ...   1068155892  407174\n",
              "355609  368950       4.9  ...   1243898308  355609\n",
              "\n",
              "[4 rows x 15 columns]"
            ]
          },
          "metadata": {
            "tags": []
          },
          "execution_count": 15
        }
      ]
    },
    {
      "cell_type": "markdown",
      "metadata": {
        "colab_type": "text",
        "id": "L2S4osXP8YLl"
      },
      "source": [
        "<div class=\"alert alert-info\">\n",
        "Convert the review timestamp to datetime format\n",
        "</div>"
      ]
    },
    {
      "cell_type": "code",
      "metadata": {
        "colab_type": "code",
        "id": "L8IcyT1Q8YLl",
        "colab": {}
      },
      "source": [
        "df_beer['d_review_time'] = df_beer.review_time.apply(lambda t: datetime.fromtimestamp(t))"
      ],
      "execution_count": 0,
      "outputs": []
    },
    {
      "cell_type": "code",
      "metadata": {
        "colab_type": "code",
        "id": "I1EY1hW68YLp",
        "colab": {}
      },
      "source": [
        "df_beer['d_review_time_year'] = df_beer['d_review_time'].dt.year\n",
        "df_beer['d_review_time_month'] = df_beer['d_review_time'].dt.month"
      ],
      "execution_count": 0,
      "outputs": []
    },
    {
      "cell_type": "markdown",
      "metadata": {
        "colab_type": "text",
        "id": "n-nr8xtCAOho"
      },
      "source": [
        "<div class=\"alert alert-success\">\n",
        "Q7) How do find similar beer drinkers by using written reviews only?   \n",
        "</div>"
      ]
    },
    {
      "cell_type": "code",
      "metadata": {
        "colab_type": "code",
        "id": "C2QGO9dkAzPZ",
        "outputId": "53bc2ccf-e330-43a2-d9c2-ad5fb06092d5",
        "colab": {
          "base_uri": "https://localhost:8080/",
          "height": 751
        }
      },
      "source": [
        "!pip install tensorflow_text"
      ],
      "execution_count": 18,
      "outputs": [
        {
          "output_type": "stream",
          "text": [
            "Collecting tensorflow_text\n",
            "\u001b[?25l  Downloading https://files.pythonhosted.org/packages/78/e7/d260e51d44bea241e8eee39d0266df9b33a3d6219ded118a1c81a872e848/tensorflow_text-2.2.0-cp36-cp36m-manylinux1_x86_64.whl (3.0MB)\n",
            "\r\u001b[K     |                                | 10kB 16.6MB/s eta 0:00:01\r\u001b[K     |▏                               | 20kB 6.1MB/s eta 0:00:01\r\u001b[K     |▎                               | 30kB 8.6MB/s eta 0:00:01\r\u001b[K     |▍                               | 40kB 10.9MB/s eta 0:00:01\r\u001b[K     |▌                               | 51kB 7.0MB/s eta 0:00:01\r\u001b[K     |▋                               | 61kB 8.2MB/s eta 0:00:01\r\u001b[K     |▊                               | 71kB 9.2MB/s eta 0:00:01\r\u001b[K     |▉                               | 81kB 9.3MB/s eta 0:00:01\r\u001b[K     |█                               | 92kB 8.2MB/s eta 0:00:01\r\u001b[K     |█                               | 102kB 9.0MB/s eta 0:00:01\r\u001b[K     |█▏                              | 112kB 9.0MB/s eta 0:00:01\r\u001b[K     |█▎                              | 122kB 9.0MB/s eta 0:00:01\r\u001b[K     |█▍                              | 133kB 9.0MB/s eta 0:00:01\r\u001b[K     |█▌                              | 143kB 9.0MB/s eta 0:00:01\r\u001b[K     |█▋                              | 153kB 9.0MB/s eta 0:00:01\r\u001b[K     |█▊                              | 163kB 9.0MB/s eta 0:00:01\r\u001b[K     |█▉                              | 174kB 9.0MB/s eta 0:00:01\r\u001b[K     |██                              | 184kB 9.0MB/s eta 0:00:01\r\u001b[K     |██                              | 194kB 9.0MB/s eta 0:00:01\r\u001b[K     |██▏                             | 204kB 9.0MB/s eta 0:00:01\r\u001b[K     |██▎                             | 215kB 9.0MB/s eta 0:00:01\r\u001b[K     |██▍                             | 225kB 9.0MB/s eta 0:00:01\r\u001b[K     |██▌                             | 235kB 9.0MB/s eta 0:00:01\r\u001b[K     |██▋                             | 245kB 9.0MB/s eta 0:00:01\r\u001b[K     |██▊                             | 256kB 9.0MB/s eta 0:00:01\r\u001b[K     |██▉                             | 266kB 9.0MB/s eta 0:00:01\r\u001b[K     |███                             | 276kB 9.0MB/s eta 0:00:01\r\u001b[K     |███                             | 286kB 9.0MB/s eta 0:00:01\r\u001b[K     |███▏                            | 296kB 9.0MB/s eta 0:00:01\r\u001b[K     |███▎                            | 307kB 9.0MB/s eta 0:00:01\r\u001b[K     |███▍                            | 317kB 9.0MB/s eta 0:00:01\r\u001b[K     |███▌                            | 327kB 9.0MB/s eta 0:00:01\r\u001b[K     |███▋                            | 337kB 9.0MB/s eta 0:00:01\r\u001b[K     |███▊                            | 348kB 9.0MB/s eta 0:00:01\r\u001b[K     |███▉                            | 358kB 9.0MB/s eta 0:00:01\r\u001b[K     |████                            | 368kB 9.0MB/s eta 0:00:01\r\u001b[K     |████                            | 378kB 9.0MB/s eta 0:00:01\r\u001b[K     |████▏                           | 389kB 9.0MB/s eta 0:00:01\r\u001b[K     |████▎                           | 399kB 9.0MB/s eta 0:00:01\r\u001b[K     |████▍                           | 409kB 9.0MB/s eta 0:00:01\r\u001b[K     |████▌                           | 419kB 9.0MB/s eta 0:00:01\r\u001b[K     |████▌                           | 430kB 9.0MB/s eta 0:00:01\r\u001b[K     |████▋                           | 440kB 9.0MB/s eta 0:00:01\r\u001b[K     |████▊                           | 450kB 9.0MB/s eta 0:00:01\r\u001b[K     |████▉                           | 460kB 9.0MB/s eta 0:00:01\r\u001b[K     |█████                           | 471kB 9.0MB/s eta 0:00:01\r\u001b[K     |█████                           | 481kB 9.0MB/s eta 0:00:01\r\u001b[K     |█████▏                          | 491kB 9.0MB/s eta 0:00:01\r\u001b[K     |█████▎                          | 501kB 9.0MB/s eta 0:00:01\r\u001b[K     |█████▍                          | 512kB 9.0MB/s eta 0:00:01\r\u001b[K     |█████▌                          | 522kB 9.0MB/s eta 0:00:01\r\u001b[K     |█████▋                          | 532kB 9.0MB/s eta 0:00:01\r\u001b[K     |█████▊                          | 542kB 9.0MB/s eta 0:00:01\r\u001b[K     |█████▉                          | 552kB 9.0MB/s eta 0:00:01\r\u001b[K     |██████                          | 563kB 9.0MB/s eta 0:00:01\r\u001b[K     |██████                          | 573kB 9.0MB/s eta 0:00:01\r\u001b[K     |██████▏                         | 583kB 9.0MB/s eta 0:00:01\r\u001b[K     |██████▎                         | 593kB 9.0MB/s eta 0:00:01\r\u001b[K     |██████▍                         | 604kB 9.0MB/s eta 0:00:01\r\u001b[K     |██████▌                         | 614kB 9.0MB/s eta 0:00:01\r\u001b[K     |██████▋                         | 624kB 9.0MB/s eta 0:00:01\r\u001b[K     |██████▊                         | 634kB 9.0MB/s eta 0:00:01\r\u001b[K     |██████▉                         | 645kB 9.0MB/s eta 0:00:01\r\u001b[K     |███████                         | 655kB 9.0MB/s eta 0:00:01\r\u001b[K     |███████                         | 665kB 9.0MB/s eta 0:00:01\r\u001b[K     |███████▏                        | 675kB 9.0MB/s eta 0:00:01\r\u001b[K     |███████▎                        | 686kB 9.0MB/s eta 0:00:01\r\u001b[K     |███████▍                        | 696kB 9.0MB/s eta 0:00:01\r\u001b[K     |███████▌                        | 706kB 9.0MB/s eta 0:00:01\r\u001b[K     |███████▋                        | 716kB 9.0MB/s eta 0:00:01\r\u001b[K     |███████▊                        | 727kB 9.0MB/s eta 0:00:01\r\u001b[K     |███████▉                        | 737kB 9.0MB/s eta 0:00:01\r\u001b[K     |████████                        | 747kB 9.0MB/s eta 0:00:01\r\u001b[K     |████████                        | 757kB 9.0MB/s eta 0:00:01\r\u001b[K     |████████▏                       | 768kB 9.0MB/s eta 0:00:01\r\u001b[K     |████████▎                       | 778kB 9.0MB/s eta 0:00:01\r\u001b[K     |████████▍                       | 788kB 9.0MB/s eta 0:00:01\r\u001b[K     |████████▌                       | 798kB 9.0MB/s eta 0:00:01\r\u001b[K     |████████▋                       | 808kB 9.0MB/s eta 0:00:01\r\u001b[K     |████████▊                       | 819kB 9.0MB/s eta 0:00:01\r\u001b[K     |████████▉                       | 829kB 9.0MB/s eta 0:00:01\r\u001b[K     |█████████                       | 839kB 9.0MB/s eta 0:00:01\r\u001b[K     |█████████                       | 849kB 9.0MB/s eta 0:00:01\r\u001b[K     |█████████                       | 860kB 9.0MB/s eta 0:00:01\r\u001b[K     |█████████▏                      | 870kB 9.0MB/s eta 0:00:01\r\u001b[K     |█████████▎                      | 880kB 9.0MB/s eta 0:00:01\r\u001b[K     |█████████▍                      | 890kB 9.0MB/s eta 0:00:01\r\u001b[K     |█████████▌                      | 901kB 9.0MB/s eta 0:00:01\r\u001b[K     |█████████▋                      | 911kB 9.0MB/s eta 0:00:01\r\u001b[K     |█████████▊                      | 921kB 9.0MB/s eta 0:00:01\r\u001b[K     |█████████▉                      | 931kB 9.0MB/s eta 0:00:01\r\u001b[K     |██████████                      | 942kB 9.0MB/s eta 0:00:01\r\u001b[K     |██████████                      | 952kB 9.0MB/s eta 0:00:01\r\u001b[K     |██████████▏                     | 962kB 9.0MB/s eta 0:00:01\r\u001b[K     |██████████▎                     | 972kB 9.0MB/s eta 0:00:01\r\u001b[K     |██████████▍                     | 983kB 9.0MB/s eta 0:00:01\r\u001b[K     |██████████▌                     | 993kB 9.0MB/s eta 0:00:01\r\u001b[K     |██████████▋                     | 1.0MB 9.0MB/s eta 0:00:01\r\u001b[K     |██████████▊                     | 1.0MB 9.0MB/s eta 0:00:01\r\u001b[K     |██████████▉                     | 1.0MB 9.0MB/s eta 0:00:01\r\u001b[K     |███████████                     | 1.0MB 9.0MB/s eta 0:00:01\r\u001b[K     |███████████                     | 1.0MB 9.0MB/s eta 0:00:01\r\u001b[K     |███████████▏                    | 1.1MB 9.0MB/s eta 0:00:01\r\u001b[K     |███████████▎                    | 1.1MB 9.0MB/s eta 0:00:01\r\u001b[K     |███████████▍                    | 1.1MB 9.0MB/s eta 0:00:01\r\u001b[K     |███████████▌                    | 1.1MB 9.0MB/s eta 0:00:01\r\u001b[K     |███████████▋                    | 1.1MB 9.0MB/s eta 0:00:01\r\u001b[K     |███████████▊                    | 1.1MB 9.0MB/s eta 0:00:01\r\u001b[K     |███████████▉                    | 1.1MB 9.0MB/s eta 0:00:01\r\u001b[K     |████████████                    | 1.1MB 9.0MB/s eta 0:00:01\r\u001b[K     |████████████                    | 1.1MB 9.0MB/s eta 0:00:01\r\u001b[K     |████████████▏                   | 1.1MB 9.0MB/s eta 0:00:01\r\u001b[K     |████████████▎                   | 1.2MB 9.0MB/s eta 0:00:01\r\u001b[K     |████████████▍                   | 1.2MB 9.0MB/s eta 0:00:01\r\u001b[K     |████████████▌                   | 1.2MB 9.0MB/s eta 0:00:01\r\u001b[K     |████████████▋                   | 1.2MB 9.0MB/s eta 0:00:01\r\u001b[K     |████████████▊                   | 1.2MB 9.0MB/s eta 0:00:01\r\u001b[K     |████████████▉                   | 1.2MB 9.0MB/s eta 0:00:01\r\u001b[K     |█████████████                   | 1.2MB 9.0MB/s eta 0:00:01\r\u001b[K     |█████████████                   | 1.2MB 9.0MB/s eta 0:00:01\r\u001b[K     |█████████████▏                  | 1.2MB 9.0MB/s eta 0:00:01\r\u001b[K     |█████████████▎                  | 1.2MB 9.0MB/s eta 0:00:01\r\u001b[K     |█████████████▍                  | 1.3MB 9.0MB/s eta 0:00:01\r\u001b[K     |█████████████▌                  | 1.3MB 9.0MB/s eta 0:00:01\r\u001b[K     |█████████████▌                  | 1.3MB 9.0MB/s eta 0:00:01\r\u001b[K     |█████████████▋                  | 1.3MB 9.0MB/s eta 0:00:01\r\u001b[K     |█████████████▊                  | 1.3MB 9.0MB/s eta 0:00:01\r\u001b[K     |█████████████▉                  | 1.3MB 9.0MB/s eta 0:00:01\r\u001b[K     |██████████████                  | 1.3MB 9.0MB/s eta 0:00:01\r\u001b[K     |██████████████                  | 1.3MB 9.0MB/s eta 0:00:01\r\u001b[K     |██████████████▏                 | 1.3MB 9.0MB/s eta 0:00:01\r\u001b[K     |██████████████▎                 | 1.4MB 9.0MB/s eta 0:00:01\r\u001b[K     |██████████████▍                 | 1.4MB 9.0MB/s eta 0:00:01\r\u001b[K     |██████████████▌                 | 1.4MB 9.0MB/s eta 0:00:01\r\u001b[K     |██████████████▋                 | 1.4MB 9.0MB/s eta 0:00:01\r\u001b[K     |██████████████▊                 | 1.4MB 9.0MB/s eta 0:00:01\r\u001b[K     |██████████████▉                 | 1.4MB 9.0MB/s eta 0:00:01\r\u001b[K     |███████████████                 | 1.4MB 9.0MB/s eta 0:00:01\r\u001b[K     |███████████████                 | 1.4MB 9.0MB/s eta 0:00:01\r\u001b[K     |███████████████▏                | 1.4MB 9.0MB/s eta 0:00:01\r\u001b[K     |███████████████▎                | 1.4MB 9.0MB/s eta 0:00:01\r\u001b[K     |███████████████▍                | 1.5MB 9.0MB/s eta 0:00:01\r\u001b[K     |███████████████▌                | 1.5MB 9.0MB/s eta 0:00:01\r\u001b[K     |███████████████▋                | 1.5MB 9.0MB/s eta 0:00:01\r\u001b[K     |███████████████▊                | 1.5MB 9.0MB/s eta 0:00:01\r\u001b[K     |███████████████▉                | 1.5MB 9.0MB/s eta 0:00:01\r\u001b[K     |████████████████                | 1.5MB 9.0MB/s eta 0:00:01\r\u001b[K     |████████████████                | 1.5MB 9.0MB/s eta 0:00:01\r\u001b[K     |████████████████▏               | 1.5MB 9.0MB/s eta 0:00:01\r\u001b[K     |████████████████▎               | 1.5MB 9.0MB/s eta 0:00:01\r\u001b[K     |████████████████▍               | 1.5MB 9.0MB/s eta 0:00:01\r\u001b[K     |████████████████▌               | 1.6MB 9.0MB/s eta 0:00:01\r\u001b[K     |████████████████▋               | 1.6MB 9.0MB/s eta 0:00:01\r\u001b[K     |████████████████▊               | 1.6MB 9.0MB/s eta 0:00:01\r\u001b[K     |████████████████▉               | 1.6MB 9.0MB/s eta 0:00:01\r\u001b[K     |█████████████████               | 1.6MB 9.0MB/s eta 0:00:01\r\u001b[K     |█████████████████               | 1.6MB 9.0MB/s eta 0:00:01\r\u001b[K     |█████████████████▏              | 1.6MB 9.0MB/s eta 0:00:01\r\u001b[K     |█████████████████▎              | 1.6MB 9.0MB/s eta 0:00:01\r\u001b[K     |█████████████████▍              | 1.6MB 9.0MB/s eta 0:00:01\r\u001b[K     |█████████████████▌              | 1.6MB 9.0MB/s eta 0:00:01\r\u001b[K     |█████████████████▋              | 1.7MB 9.0MB/s eta 0:00:01\r\u001b[K     |█████████████████▊              | 1.7MB 9.0MB/s eta 0:00:01\r\u001b[K     |█████████████████▉              | 1.7MB 9.0MB/s eta 0:00:01\r\u001b[K     |██████████████████              | 1.7MB 9.0MB/s eta 0:00:01\r\u001b[K     |██████████████████              | 1.7MB 9.0MB/s eta 0:00:01\r\u001b[K     |██████████████████              | 1.7MB 9.0MB/s eta 0:00:01\r\u001b[K     |██████████████████▏             | 1.7MB 9.0MB/s eta 0:00:01\r\u001b[K     |██████████████████▎             | 1.7MB 9.0MB/s eta 0:00:01\r\u001b[K     |██████████████████▍             | 1.7MB 9.0MB/s eta 0:00:01\r\u001b[K     |██████████████████▌             | 1.8MB 9.0MB/s eta 0:00:01\r\u001b[K     |██████████████████▋             | 1.8MB 9.0MB/s eta 0:00:01\r\u001b[K     |██████████████████▊             | 1.8MB 9.0MB/s eta 0:00:01\r\u001b[K     |██████████████████▉             | 1.8MB 9.0MB/s eta 0:00:01\r\u001b[K     |███████████████████             | 1.8MB 9.0MB/s eta 0:00:01\r\u001b[K     |███████████████████             | 1.8MB 9.0MB/s eta 0:00:01\r\u001b[K     |███████████████████▏            | 1.8MB 9.0MB/s eta 0:00:01\r\u001b[K     |███████████████████▎            | 1.8MB 9.0MB/s eta 0:00:01\r\u001b[K     |███████████████████▍            | 1.8MB 9.0MB/s eta 0:00:01\r\u001b[K     |███████████████████▌            | 1.8MB 9.0MB/s eta 0:00:01\r\u001b[K     |███████████████████▋            | 1.9MB 9.0MB/s eta 0:00:01\r\u001b[K     |███████████████████▊            | 1.9MB 9.0MB/s eta 0:00:01\r\u001b[K     |███████████████████▉            | 1.9MB 9.0MB/s eta 0:00:01\r\u001b[K     |████████████████████            | 1.9MB 9.0MB/s eta 0:00:01\r\u001b[K     |████████████████████            | 1.9MB 9.0MB/s eta 0:00:01\r\u001b[K     |████████████████████▏           | 1.9MB 9.0MB/s eta 0:00:01\r\u001b[K     |████████████████████▎           | 1.9MB 9.0MB/s eta 0:00:01\r\u001b[K     |████████████████████▍           | 1.9MB 9.0MB/s eta 0:00:01\r\u001b[K     |████████████████████▌           | 1.9MB 9.0MB/s eta 0:00:01\r\u001b[K     |████████████████████▋           | 1.9MB 9.0MB/s eta 0:00:01\r\u001b[K     |████████████████████▊           | 2.0MB 9.0MB/s eta 0:00:01\r\u001b[K     |████████████████████▉           | 2.0MB 9.0MB/s eta 0:00:01\r\u001b[K     |█████████████████████           | 2.0MB 9.0MB/s eta 0:00:01\r\u001b[K     |█████████████████████           | 2.0MB 9.0MB/s eta 0:00:01\r\u001b[K     |█████████████████████▏          | 2.0MB 9.0MB/s eta 0:00:01\r\u001b[K     |█████████████████████▎          | 2.0MB 9.0MB/s eta 0:00:01\r\u001b[K     |█████████████████████▍          | 2.0MB 9.0MB/s eta 0:00:01\r\u001b[K     |█████████████████████▌          | 2.0MB 9.0MB/s eta 0:00:01\r\u001b[K     |█████████████████████▋          | 2.0MB 9.0MB/s eta 0:00:01\r\u001b[K     |█████████████████████▊          | 2.0MB 9.0MB/s eta 0:00:01\r\u001b[K     |█████████████████████▉          | 2.1MB 9.0MB/s eta 0:00:01\r\u001b[K     |██████████████████████          | 2.1MB 9.0MB/s eta 0:00:01\r\u001b[K     |██████████████████████          | 2.1MB 9.0MB/s eta 0:00:01\r\u001b[K     |██████████████████████▏         | 2.1MB 9.0MB/s eta 0:00:01\r\u001b[K     |██████████████████████▎         | 2.1MB 9.0MB/s eta 0:00:01\r\u001b[K     |██████████████████████▍         | 2.1MB 9.0MB/s eta 0:00:01\r\u001b[K     |██████████████████████▌         | 2.1MB 9.0MB/s eta 0:00:01\r\u001b[K     |██████████████████████▋         | 2.1MB 9.0MB/s eta 0:00:01\r\u001b[K     |██████████████████████▋         | 2.1MB 9.0MB/s eta 0:00:01\r\u001b[K     |██████████████████████▊         | 2.2MB 9.0MB/s eta 0:00:01\r\u001b[K     |██████████████████████▉         | 2.2MB 9.0MB/s eta 0:00:01\r\u001b[K     |███████████████████████         | 2.2MB 9.0MB/s eta 0:00:01\r\u001b[K     |███████████████████████         | 2.2MB 9.0MB/s eta 0:00:01\r\u001b[K     |███████████████████████▏        | 2.2MB 9.0MB/s eta 0:00:01\r\u001b[K     |███████████████████████▎        | 2.2MB 9.0MB/s eta 0:00:01\r\u001b[K     |███████████████████████▍        | 2.2MB 9.0MB/s eta 0:00:01\r\u001b[K     |███████████████████████▌        | 2.2MB 9.0MB/s eta 0:00:01\r\u001b[K     |███████████████████████▋        | 2.2MB 9.0MB/s eta 0:00:01\r\u001b[K     |███████████████████████▊        | 2.2MB 9.0MB/s eta 0:00:01\r\u001b[K     |███████████████████████▉        | 2.3MB 9.0MB/s eta 0:00:01\r\u001b[K     |████████████████████████        | 2.3MB 9.0MB/s eta 0:00:01\r\u001b[K     |████████████████████████        | 2.3MB 9.0MB/s eta 0:00:01\r\u001b[K     |████████████████████████▏       | 2.3MB 9.0MB/s eta 0:00:01\r\u001b[K     |████████████████████████▎       | 2.3MB 9.0MB/s eta 0:00:01\r\u001b[K     |████████████████████████▍       | 2.3MB 9.0MB/s eta 0:00:01\r\u001b[K     |████████████████████████▌       | 2.3MB 9.0MB/s eta 0:00:01\r\u001b[K     |████████████████████████▋       | 2.3MB 9.0MB/s eta 0:00:01\r\u001b[K     |████████████████████████▊       | 2.3MB 9.0MB/s eta 0:00:01\r\u001b[K     |████████████████████████▉       | 2.3MB 9.0MB/s eta 0:00:01\r\u001b[K     |█████████████████████████       | 2.4MB 9.0MB/s eta 0:00:01\r\u001b[K     |█████████████████████████       | 2.4MB 9.0MB/s eta 0:00:01\r\u001b[K     |█████████████████████████▏      | 2.4MB 9.0MB/s eta 0:00:01\r\u001b[K     |█████████████████████████▎      | 2.4MB 9.0MB/s eta 0:00:01\r\u001b[K     |█████████████████████████▍      | 2.4MB 9.0MB/s eta 0:00:01\r\u001b[K     |█████████████████████████▌      | 2.4MB 9.0MB/s eta 0:00:01\r\u001b[K     |█████████████████████████▋      | 2.4MB 9.0MB/s eta 0:00:01\r\u001b[K     |█████████████████████████▊      | 2.4MB 9.0MB/s eta 0:00:01\r\u001b[K     |█████████████████████████▉      | 2.4MB 9.0MB/s eta 0:00:01\r\u001b[K     |██████████████████████████      | 2.4MB 9.0MB/s eta 0:00:01\r\u001b[K     |██████████████████████████      | 2.5MB 9.0MB/s eta 0:00:01\r\u001b[K     |██████████████████████████▏     | 2.5MB 9.0MB/s eta 0:00:01\r\u001b[K     |██████████████████████████▎     | 2.5MB 9.0MB/s eta 0:00:01\r\u001b[K     |██████████████████████████▍     | 2.5MB 9.0MB/s eta 0:00:01\r\u001b[K     |██████████████████████████▌     | 2.5MB 9.0MB/s eta 0:00:01\r\u001b[K     |██████████████████████████▋     | 2.5MB 9.0MB/s eta 0:00:01\r\u001b[K     |██████████████████████████▊     | 2.5MB 9.0MB/s eta 0:00:01\r\u001b[K     |██████████████████████████▉     | 2.5MB 9.0MB/s eta 0:00:01\r\u001b[K     |███████████████████████████     | 2.5MB 9.0MB/s eta 0:00:01\r\u001b[K     |███████████████████████████     | 2.5MB 9.0MB/s eta 0:00:01\r\u001b[K     |███████████████████████████     | 2.6MB 9.0MB/s eta 0:00:01\r\u001b[K     |███████████████████████████▏    | 2.6MB 9.0MB/s eta 0:00:01\r\u001b[K     |███████████████████████████▎    | 2.6MB 9.0MB/s eta 0:00:01\r\u001b[K     |███████████████████████████▍    | 2.6MB 9.0MB/s eta 0:00:01\r\u001b[K     |███████████████████████████▌    | 2.6MB 9.0MB/s eta 0:00:01\r\u001b[K     |███████████████████████████▋    | 2.6MB 9.0MB/s eta 0:00:01\r\u001b[K     |███████████████████████████▊    | 2.6MB 9.0MB/s eta 0:00:01\r\u001b[K     |███████████████████████████▉    | 2.6MB 9.0MB/s eta 0:00:01\r\u001b[K     |████████████████████████████    | 2.6MB 9.0MB/s eta 0:00:01\r\u001b[K     |████████████████████████████    | 2.7MB 9.0MB/s eta 0:00:01\r\u001b[K     |████████████████████████████▏   | 2.7MB 9.0MB/s eta 0:00:01\r\u001b[K     |████████████████████████████▎   | 2.7MB 9.0MB/s eta 0:00:01\r\u001b[K     |████████████████████████████▍   | 2.7MB 9.0MB/s eta 0:00:01\r\u001b[K     |████████████████████████████▌   | 2.7MB 9.0MB/s eta 0:00:01\r\u001b[K     |████████████████████████████▋   | 2.7MB 9.0MB/s eta 0:00:01\r\u001b[K     |████████████████████████████▊   | 2.7MB 9.0MB/s eta 0:00:01\r\u001b[K     |████████████████████████████▉   | 2.7MB 9.0MB/s eta 0:00:01\r\u001b[K     |█████████████████████████████   | 2.7MB 9.0MB/s eta 0:00:01\r\u001b[K     |█████████████████████████████   | 2.7MB 9.0MB/s eta 0:00:01\r\u001b[K     |█████████████████████████████▏  | 2.8MB 9.0MB/s eta 0:00:01\r\u001b[K     |█████████████████████████████▎  | 2.8MB 9.0MB/s eta 0:00:01\r\u001b[K     |█████████████████████████████▍  | 2.8MB 9.0MB/s eta 0:00:01\r\u001b[K     |█████████████████████████████▌  | 2.8MB 9.0MB/s eta 0:00:01\r\u001b[K     |█████████████████████████████▋  | 2.8MB 9.0MB/s eta 0:00:01\r\u001b[K     |█████████████████████████████▊  | 2.8MB 9.0MB/s eta 0:00:01\r\u001b[K     |█████████████████████████████▉  | 2.8MB 9.0MB/s eta 0:00:01\r\u001b[K     |██████████████████████████████  | 2.8MB 9.0MB/s eta 0:00:01\r\u001b[K     |██████████████████████████████  | 2.8MB 9.0MB/s eta 0:00:01\r\u001b[K     |██████████████████████████████▏ | 2.8MB 9.0MB/s eta 0:00:01\r\u001b[K     |██████████████████████████████▎ | 2.9MB 9.0MB/s eta 0:00:01\r\u001b[K     |██████████████████████████████▍ | 2.9MB 9.0MB/s eta 0:00:01\r\u001b[K     |██████████████████████████████▌ | 2.9MB 9.0MB/s eta 0:00:01\r\u001b[K     |██████████████████████████████▋ | 2.9MB 9.0MB/s eta 0:00:01\r\u001b[K     |██████████████████████████████▊ | 2.9MB 9.0MB/s eta 0:00:01\r\u001b[K     |██████████████████████████████▉ | 2.9MB 9.0MB/s eta 0:00:01\r\u001b[K     |███████████████████████████████ | 2.9MB 9.0MB/s eta 0:00:01\r\u001b[K     |███████████████████████████████ | 2.9MB 9.0MB/s eta 0:00:01\r\u001b[K     |███████████████████████████████▏| 2.9MB 9.0MB/s eta 0:00:01\r\u001b[K     |███████████████████████████████▎| 2.9MB 9.0MB/s eta 0:00:01\r\u001b[K     |███████████████████████████████▍| 3.0MB 9.0MB/s eta 0:00:01\r\u001b[K     |███████████████████████████████▌| 3.0MB 9.0MB/s eta 0:00:01\r\u001b[K     |███████████████████████████████▋| 3.0MB 9.0MB/s eta 0:00:01\r\u001b[K     |███████████████████████████████▋| 3.0MB 9.0MB/s eta 0:00:01\r\u001b[K     |███████████████████████████████▊| 3.0MB 9.0MB/s eta 0:00:01\r\u001b[K     |███████████████████████████████▉| 3.0MB 9.0MB/s eta 0:00:01\r\u001b[K     |████████████████████████████████| 3.0MB 9.0MB/s eta 0:00:01\r\u001b[K     |████████████████████████████████| 3.0MB 9.0MB/s \n",
            "\u001b[?25hRequirement already satisfied: tensorflow<2.3,>=2.2.0 in /usr/local/lib/python3.6/dist-packages (from tensorflow_text) (2.2.0)\n",
            "Requirement already satisfied: tensorflow-estimator<2.3.0,>=2.2.0 in /usr/local/lib/python3.6/dist-packages (from tensorflow<2.3,>=2.2.0->tensorflow_text) (2.2.0)\n",
            "Requirement already satisfied: six>=1.12.0 in /usr/local/lib/python3.6/dist-packages (from tensorflow<2.3,>=2.2.0->tensorflow_text) (1.12.0)\n",
            "Requirement already satisfied: gast==0.3.3 in /usr/local/lib/python3.6/dist-packages (from tensorflow<2.3,>=2.2.0->tensorflow_text) (0.3.3)\n",
            "Requirement already satisfied: astunparse==1.6.3 in /usr/local/lib/python3.6/dist-packages (from tensorflow<2.3,>=2.2.0->tensorflow_text) (1.6.3)\n",
            "Requirement already satisfied: protobuf>=3.8.0 in /usr/local/lib/python3.6/dist-packages (from tensorflow<2.3,>=2.2.0->tensorflow_text) (3.10.0)\n",
            "Requirement already satisfied: opt-einsum>=2.3.2 in /usr/local/lib/python3.6/dist-packages (from tensorflow<2.3,>=2.2.0->tensorflow_text) (3.2.1)\n",
            "Requirement already satisfied: numpy<2.0,>=1.16.0 in /usr/local/lib/python3.6/dist-packages (from tensorflow<2.3,>=2.2.0->tensorflow_text) (1.18.4)\n",
            "Requirement already satisfied: keras-preprocessing>=1.1.0 in /usr/local/lib/python3.6/dist-packages (from tensorflow<2.3,>=2.2.0->tensorflow_text) (1.1.2)\n",
            "Requirement already satisfied: h5py<2.11.0,>=2.10.0 in /usr/local/lib/python3.6/dist-packages (from tensorflow<2.3,>=2.2.0->tensorflow_text) (2.10.0)\n",
            "Requirement already satisfied: absl-py>=0.7.0 in /usr/local/lib/python3.6/dist-packages (from tensorflow<2.3,>=2.2.0->tensorflow_text) (0.9.0)\n",
            "Requirement already satisfied: wheel>=0.26; python_version >= \"3\" in /usr/local/lib/python3.6/dist-packages (from tensorflow<2.3,>=2.2.0->tensorflow_text) (0.34.2)\n",
            "Requirement already satisfied: google-pasta>=0.1.8 in /usr/local/lib/python3.6/dist-packages (from tensorflow<2.3,>=2.2.0->tensorflow_text) (0.2.0)\n",
            "Requirement already satisfied: scipy==1.4.1; python_version >= \"3\" in /usr/local/lib/python3.6/dist-packages (from tensorflow<2.3,>=2.2.0->tensorflow_text) (1.4.1)\n",
            "Requirement already satisfied: grpcio>=1.8.6 in /usr/local/lib/python3.6/dist-packages (from tensorflow<2.3,>=2.2.0->tensorflow_text) (1.29.0)\n",
            "Requirement already satisfied: termcolor>=1.1.0 in /usr/local/lib/python3.6/dist-packages (from tensorflow<2.3,>=2.2.0->tensorflow_text) (1.1.0)\n",
            "Requirement already satisfied: tensorboard<2.3.0,>=2.2.0 in /usr/local/lib/python3.6/dist-packages (from tensorflow<2.3,>=2.2.0->tensorflow_text) (2.2.1)\n",
            "Requirement already satisfied: wrapt>=1.11.1 in /usr/local/lib/python3.6/dist-packages (from tensorflow<2.3,>=2.2.0->tensorflow_text) (1.12.1)\n",
            "Requirement already satisfied: setuptools in /usr/local/lib/python3.6/dist-packages (from protobuf>=3.8.0->tensorflow<2.3,>=2.2.0->tensorflow_text) (47.1.1)\n",
            "Requirement already satisfied: werkzeug>=0.11.15 in /usr/local/lib/python3.6/dist-packages (from tensorboard<2.3.0,>=2.2.0->tensorflow<2.3,>=2.2.0->tensorflow_text) (1.0.1)\n",
            "Requirement already satisfied: google-auth<2,>=1.6.3 in /usr/local/lib/python3.6/dist-packages (from tensorboard<2.3.0,>=2.2.0->tensorflow<2.3,>=2.2.0->tensorflow_text) (1.7.2)\n",
            "Requirement already satisfied: tensorboard-plugin-wit>=1.6.0 in /usr/local/lib/python3.6/dist-packages (from tensorboard<2.3.0,>=2.2.0->tensorflow<2.3,>=2.2.0->tensorflow_text) (1.6.0.post3)\n",
            "Requirement already satisfied: markdown>=2.6.8 in /usr/local/lib/python3.6/dist-packages (from tensorboard<2.3.0,>=2.2.0->tensorflow<2.3,>=2.2.0->tensorflow_text) (3.2.2)\n",
            "Requirement already satisfied: google-auth-oauthlib<0.5,>=0.4.1 in /usr/local/lib/python3.6/dist-packages (from tensorboard<2.3.0,>=2.2.0->tensorflow<2.3,>=2.2.0->tensorflow_text) (0.4.1)\n",
            "Requirement already satisfied: requests<3,>=2.21.0 in /usr/local/lib/python3.6/dist-packages (from tensorboard<2.3.0,>=2.2.0->tensorflow<2.3,>=2.2.0->tensorflow_text) (2.23.0)\n",
            "Requirement already satisfied: pyasn1-modules>=0.2.1 in /usr/local/lib/python3.6/dist-packages (from google-auth<2,>=1.6.3->tensorboard<2.3.0,>=2.2.0->tensorflow<2.3,>=2.2.0->tensorflow_text) (0.2.8)\n",
            "Requirement already satisfied: rsa<4.1,>=3.1.4 in /usr/local/lib/python3.6/dist-packages (from google-auth<2,>=1.6.3->tensorboard<2.3.0,>=2.2.0->tensorflow<2.3,>=2.2.0->tensorflow_text) (4.0)\n",
            "Requirement already satisfied: cachetools<3.2,>=2.0.0 in /usr/local/lib/python3.6/dist-packages (from google-auth<2,>=1.6.3->tensorboard<2.3.0,>=2.2.0->tensorflow<2.3,>=2.2.0->tensorflow_text) (3.1.1)\n",
            "Requirement already satisfied: importlib-metadata; python_version < \"3.8\" in /usr/local/lib/python3.6/dist-packages (from markdown>=2.6.8->tensorboard<2.3.0,>=2.2.0->tensorflow<2.3,>=2.2.0->tensorflow_text) (1.6.0)\n",
            "Requirement already satisfied: requests-oauthlib>=0.7.0 in /usr/local/lib/python3.6/dist-packages (from google-auth-oauthlib<0.5,>=0.4.1->tensorboard<2.3.0,>=2.2.0->tensorflow<2.3,>=2.2.0->tensorflow_text) (1.3.0)\n",
            "Requirement already satisfied: certifi>=2017.4.17 in /usr/local/lib/python3.6/dist-packages (from requests<3,>=2.21.0->tensorboard<2.3.0,>=2.2.0->tensorflow<2.3,>=2.2.0->tensorflow_text) (2020.4.5.1)\n",
            "Requirement already satisfied: chardet<4,>=3.0.2 in /usr/local/lib/python3.6/dist-packages (from requests<3,>=2.21.0->tensorboard<2.3.0,>=2.2.0->tensorflow<2.3,>=2.2.0->tensorflow_text) (3.0.4)\n",
            "Requirement already satisfied: urllib3!=1.25.0,!=1.25.1,<1.26,>=1.21.1 in /usr/local/lib/python3.6/dist-packages (from requests<3,>=2.21.0->tensorboard<2.3.0,>=2.2.0->tensorflow<2.3,>=2.2.0->tensorflow_text) (1.24.3)\n",
            "Requirement already satisfied: idna<3,>=2.5 in /usr/local/lib/python3.6/dist-packages (from requests<3,>=2.21.0->tensorboard<2.3.0,>=2.2.0->tensorflow<2.3,>=2.2.0->tensorflow_text) (2.9)\n",
            "Requirement already satisfied: pyasn1<0.5.0,>=0.4.6 in /usr/local/lib/python3.6/dist-packages (from pyasn1-modules>=0.2.1->google-auth<2,>=1.6.3->tensorboard<2.3.0,>=2.2.0->tensorflow<2.3,>=2.2.0->tensorflow_text) (0.4.8)\n",
            "Requirement already satisfied: zipp>=0.5 in /usr/local/lib/python3.6/dist-packages (from importlib-metadata; python_version < \"3.8\"->markdown>=2.6.8->tensorboard<2.3.0,>=2.2.0->tensorflow<2.3,>=2.2.0->tensorflow_text) (3.1.0)\n",
            "Requirement already satisfied: oauthlib>=3.0.0 in /usr/local/lib/python3.6/dist-packages (from requests-oauthlib>=0.7.0->google-auth-oauthlib<0.5,>=0.4.1->tensorboard<2.3.0,>=2.2.0->tensorflow<2.3,>=2.2.0->tensorflow_text) (3.1.0)\n",
            "Installing collected packages: tensorflow-text\n",
            "Successfully installed tensorflow-text-2.2.0\n"
          ],
          "name": "stdout"
        }
      ]
    },
    {
      "cell_type": "code",
      "metadata": {
        "colab_type": "code",
        "id": "kNeilvDdBlwx",
        "outputId": "c722a4c0-26e0-4de7-f6dd-3bab413c8bda",
        "colab": {
          "base_uri": "https://localhost:8080/",
          "height": 34
        }
      },
      "source": [
        "import tensorflow as tf\n",
        "import tensorflow_hub as hub\n",
        "import tensorflow_text\n",
        "tf.executing_eagerly()"
      ],
      "execution_count": 19,
      "outputs": [
        {
          "output_type": "execute_result",
          "data": {
            "text/plain": [
              "True"
            ]
          },
          "metadata": {
            "tags": []
          },
          "execution_count": 19
        }
      ]
    },
    {
      "cell_type": "code",
      "metadata": {
        "colab_type": "code",
        "id": "-Ev62HgSBvDj",
        "colab": {}
      },
      "source": [
        "embed = hub.load(\"https://tfhub.dev/google/nnlm-en-dim50-with-normalization/2\")"
      ],
      "execution_count": 0,
      "outputs": []
    },
    {
      "cell_type": "code",
      "metadata": {
        "colab_type": "code",
        "id": "9cJTFCIn8YMW",
        "colab": {}
      },
      "source": [
        "train = df_beer.review_text.tolist()\n",
        "list_train = [train[i:i+100] for i in range(0,len(train),100)]"
      ],
      "execution_count": 0,
      "outputs": []
    },
    {
      "cell_type": "markdown",
      "metadata": {
        "id": "5Jp8sn4d99op",
        "colab_type": "text"
      },
      "source": [
        "## The below cell creates embedding vector for review-text data."
      ]
    },
    {
      "cell_type": "code",
      "metadata": {
        "colab_type": "code",
        "id": "ra6uhTeC7ltT",
        "outputId": "f68cf238-f912-44b7-c670-fbd979fa5f8e",
        "colab": {
          "base_uri": "https://localhost:8080/",
          "height": 34
        }
      },
      "source": [
        "from tqdm import tqdm\n",
        "data = []\n",
        "for d in tqdm(list_train):\n",
        "    data.extend(embed(d).numpy())"
      ],
      "execution_count": 22,
      "outputs": [
        {
          "output_type": "stream",
          "text": [
            "100%|██████████| 5084/5084 [00:23<00:00, 220.75it/s]\n"
          ],
          "name": "stderr"
        }
      ]
    },
    {
      "cell_type": "markdown",
      "metadata": {
        "id": "UmX--7AA2lXV",
        "colab_type": "text"
      },
      "source": [
        "## Optimal number of k in K-Means"
      ]
    },
    {
      "cell_type": "code",
      "metadata": {
        "id": "xuXiQoEJ2lXX",
        "colab_type": "code",
        "colab": {}
      },
      "source": [
        "from sklearn.cluster import KMeans\n",
        "\n",
        "distortions = []\n",
        "for i in tqdm(range(1, 21)):\n",
        "    km = KMeans(\n",
        "        n_clusters=i, init='random',\n",
        "        n_init=10, max_iter=300,\n",
        "        tol=1e-04, random_state=0\n",
        "    )\n",
        "    km.fit(data)\n",
        "    distortions.append(km.inertia_)\n"
      ],
      "execution_count": 0,
      "outputs": []
    },
    {
      "cell_type": "code",
      "metadata": {
        "id": "8nI8SCq37R7a",
        "colab_type": "code",
        "colab": {
          "base_uri": "https://localhost:8080/",
          "height": 285
        },
        "outputId": "2a2c4db2-cf55-455a-eff3-9cbc358750f7"
      },
      "source": [
        "# plot\n",
        "plt.plot(range(1, 21), distortions, marker='o')\n",
        "plt.xlabel('Number of clusters')\n",
        "plt.ylabel('Distortion')\n",
        "plt.show()"
      ],
      "execution_count": 25,
      "outputs": [
        {
          "output_type": "display_data",
          "data": {
            "image/png": "[encoded data removed]",
            "text/plain": [
              "<Figure size 432x288 with 1 Axes>"
            ]
          },
          "metadata": {
            "tags": [],
            "needs_background": "light"
          }
        }
      ]
    },
    {
      "cell_type": "markdown",
      "metadata": {
        "id": "CnK7lgjDBD3z",
        "colab_type": "text"
      },
      "source": [
        "## Above graph shows that elbow point lies at k=10"
      ]
    },
    {
      "cell_type": "code",
      "metadata": {
        "id": "SnLXgnM_2lXe",
        "colab_type": "code",
        "colab": {}
      },
      "source": [
        "from sklearn.cluster import KMeans\n",
        "\n",
        "k=10\n",
        "km = KMeans(\n",
        "    n_clusters=k, init='random',\n",
        "    n_init=10, max_iter=300, \n",
        "    tol=1e-04, random_state=0\n",
        ")\n",
        "y_pred = km.fit_predict(data)"
      ],
      "execution_count": 0,
      "outputs": []
    },
    {
      "cell_type": "code",
      "metadata": {
        "id": "LN2tjqdRBK4-",
        "colab_type": "code",
        "colab": {
          "base_uri": "https://localhost:8080/",
          "height": 34
        },
        "outputId": "e5738698-47e0-4e75-e998-e40962211dfe"
      },
      "source": [
        "len(y_pred)"
      ],
      "execution_count": 28,
      "outputs": [
        {
          "output_type": "execute_result",
          "data": {
            "text/plain": [
              "508358"
            ]
          },
          "metadata": {
            "tags": []
          },
          "execution_count": 28
        }
      ]
    },
    {
      "cell_type": "code",
      "metadata": {
        "id": "_k2r2BmGCIoi",
        "colab_type": "code",
        "colab": {
          "base_uri": "https://localhost:8080/",
          "height": 34
        },
        "outputId": "93ef2f22-06af-4207-fb4a-5ff65b0d3668"
      },
      "source": [
        "df_beer.shape"
      ],
      "execution_count": 29,
      "outputs": [
        {
          "output_type": "execute_result",
          "data": {
            "text/plain": [
              "(508358, 18)"
            ]
          },
          "metadata": {
            "tags": []
          },
          "execution_count": 29
        }
      ]
    },
    {
      "cell_type": "code",
      "metadata": {
        "id": "ZOv9Q9lVCNAO",
        "colab_type": "code",
        "colab": {}
      },
      "source": [
        "df_beer['cluster_group'] = y_pred"
      ],
      "execution_count": 0,
      "outputs": []
    },
    {
      "cell_type": "code",
      "metadata": {
        "id": "Rji8XC3BCWfT",
        "colab_type": "code",
        "colab": {
          "base_uri": "https://localhost:8080/",
          "height": 204
        },
        "outputId": "1fa1f0c1-13bf-4c66-cf0d-ae57613b092a"
      },
      "source": [
        "df_beer.cluster_group.value_counts()"
      ],
      "execution_count": 31,
      "outputs": [
        {
          "output_type": "execute_result",
          "data": {
            "text/plain": [
              "4    73974\n",
              "7    64167\n",
              "5    62305\n",
              "8    58982\n",
              "1    54292\n",
              "2    45656\n",
              "6    45310\n",
              "0    43930\n",
              "3    43050\n",
              "9    16692\n",
              "Name: cluster_group, dtype: int64"
            ]
          },
          "metadata": {
            "tags": []
          },
          "execution_count": 31
        }
      ]
    },
    {
      "cell_type": "markdown",
      "metadata": {
        "id": "FBPcYfwtC-zX",
        "colab_type": "text"
      },
      "source": [
        "## Below Cell will club all beer_name in cluster 0"
      ]
    },
    {
      "cell_type": "code",
      "metadata": {
        "id": "pQ_J4ka2CbLk",
        "colab_type": "code",
        "colab": {
          "base_uri": "https://localhost:8080/",
          "height": 54
        },
        "outputId": "5eaaed51-d954-4a0a-cee4-a0564f004a6b"
      },
      "source": [
        "print(set(df_beer[df_beer.cluster_group==0]['beer_name'].tolist()))"
      ],
      "execution_count": 34,
      "outputs": [
        {
          "output_type": "stream",
          "text": [
            "{'Leeuw Pilsener', 'ESB Amber Ale', 'Crown Brewery Stannington Stout', 'Samuel Adams Utopias', 'Steelback Tiverton Dark Lager', 'Full Suspension Pale Ale', 'Le Secret', 'Plutonium Pilsner', 'Harveys Porter', 'Reserve Wheat Ale', 'White Birch Wrigian', 'Ten Penny Ale Reserve', 'Trappist Pale Ale', 'Pigs Fly Pilsner', 'Curly Horse IPA', 'Hofbräu Premium Lager', 'Zötler Korbinian Dunkel', 'Oude Tart With Sour Cherries', 'Santo Viejo', 'Green Bullet (9th Anniversary)', 'La Clef Des Champs', 'Saison Rue', 'Sierra Nevada Glissade Golden Bock', \"Ridin' Dirty\", 'Best Of Beer Camp: Weizenbock - Beer Camp #37', 'Steam Engine Lager', 'Scarface Stout', 'The Wanderer', 'Russian Roulette', 'Dog Bite High Gravity Lager', 'Acoustic Amber Ale', 'Belgh Brasse Taïga', 'Le Cheval Blanc Rousse', '\"Requisite\" Imperialistic Stout', 'Pike Pale Ale', 'St. Paul Triple', 'Samuel Adams Chocolate Bock', 'Vanilla Bourbon Stout', 'Oktoberfest Marzen', \"Cantillon Pinot D'Aunis\", 'Double Nut Brown', 'Windansea Wheat Hefeweizen', 'Carling', '2x4 IPA', 'Kaiser', 'Arbor Brewing Mackinac Island Fudge Stout', 'Uerige Sticke', 'Hurricane Reef Pale Ale', 'Lion Stout', 'Unearthly (Imperial India Pale Ale)', \"Michael Shea's Irish Amber\", 'Saint-Laurent Pilsener', 'Third Voyage Double IPA', 'Barleywine Style Ale', \"Hell's Gate Pale Ale\", 'Hell For Certain', 'McAuslan Vintage Ale', 'Lips Of Faith - Dark Kriek', 'Starr Hill Amber Ale', \"Stoudt's Fest\", \"Baht'at Pale Ale\", 'Frankenmuth Traditional German Pilsner', 'Arbor Brewing No Parking Pilsner', 'Hopyard IPA', '1900 Amber Lager', '12th Street Pilsner (15th Anniversary)', 'Kapittel Pater', 'Taps Belgian IPA', 'Sinpalsken Winterbier', 'Old Credit Pale Pilsner', 'Original Flag Porter', 'Horny Toad IPA', 'Kronenbourg 1664', 'Founders Black Biscuit', 'Hopback Summer Lightning', 'Coopers Best Extra Stout', 'Rock Art IPA (II)', 'Amsterdam Oktoberfest Lager', 'Point Cascade Pale Ale', 'Stony Man Stout (Oak Barrel Conditioned)', 'Longleg', 'Harveys Kiss Ale', 'Hop Riot IPA', 'Ramstein Winter Wheat', \"Ichtegem's Grand Cru\", 'Bière Du Désert', 'Love (Peach Whiskey Barrel Aged)', 'Uber Pale Ale', 'Barbar', 'Scotch Ale Impériale', 'Briglin Road Red', 'House Ale', 'Wisby Klosteröl', '22 Bines Blonde IPA - Beer Camp #9', 'Cooper\\x92s Gold Kolsch', 'Sweetwater Dank Tank DP Barleywine Ale', 'Fall Fest', 'Turbodog', \"O'Hara's Irish Stout\", 'Wildcat', 'Brockton IPA', 'Hite Stout', 'Juniper Black Ale (JBA) - Beer Camp #16', 'Rebel Ale', \"McArdle's Irish Ale\", 'Old Court Ale', 'Bourbon Porter', 'Brass Monkey Stout', 'Pong Beer Lite', 'Strathaven Old Mortality', 'Exit 9', 'Weltenburger Kloster Asam-Bock', 'Ridge Runner', 'Karl Strauss Stargazer Ale', 'Session Ale #28: Best Dressed Chicken', 'WinterCoat Double Hop', 'Weissbier', 'Wonder Wiener Wheat', 'Dancing Man Wheat', 'Yeti', 'Kirkland Signature India Pale Ale', '6X', \"Brewer's Alley Maibock\", 'Butte Creek Organic India Pale Ale', 'Kubelbier', 'AtTENuation', 'Zhiguly Grande 9,5', 'Pike Double IPA', 'Diebels Alt', 'Sloeber', 'Barrel-aged Batch 500', 'Southampton Foreign Extra Stout', 'Original Oettinger Schwarzbier', 'Old Heathen Imperial Stout', \"Mahr's Bock-Bier\", 'Founders Cashew Mountain Brown', 'Balashi', \"Dawk's Porter\", 'Imperial American Porter (2010 Beer Week Collaboration With Rocky River)', 'ÜberSun (Imperial Summer Wheat Beer)', 'Julius Echter Hefe-Weissbier Dunkel', 'Liefmans Fruitesse (Fruitbier)', 'Chocolate Stout', 'Bavaria Gold', 'Stonefly Rye', 'AleSmith English Wee Heavy', 'Camerons Christmas Ale', \"Harvey's London Olympia Golden Ale\", 'St-Hubert', 'Belsnickler Ale', 'Samuel Adams Millennium', 'Royal 100', 'Bière Du Boucanier Dark', 'IPA (India Pale Ale)', 'Ill-Tempered Gnome', 'Boiler Room Nut Brown Ale', 'Golden Best', 'Mon Cherie', 'Morimoto Black Obi Soba Ale', \"Henry Weinhard's Organic Amber Premium Ale\", 'Batch 300', 'Afanasy Svetloye', 'Batch #69 Double Cream Ale - Fig', 'Elwood', 'Chinook Imperial IPA', 'Cypress Honey Lager', 'Frankenmuth Oktoberfest', 'HopCat Oil Rigger', 'Great Lakes Rapid Red Ale', '110K+OT Batch #3 - The Other West Coast IPA', 'Mayabe Calidad Extra', 'XS Imperial Red', 'Rockford Bay IPA', 'Odin', \"Samuel Smith's Winter Welcome Ale\", 'Cascadian Dark Ale', 'Jai Alai IPA - Peach', 'Barleywine Ale', '15th Anniversary Wood Aged', 'Imperial Raspberry Beret', 'Rauch Ür Bock', 'Homewrecker', 'Festivale', 'Rocky Mountain IPA', 'Tuborg Premium Lager (Gold / Guld)', 'The Chronic', \"O'Hara's Irish Pale Ale\", 'Southampton Imperial Porter', 'Uff-da', 'Olde Hickory Bardstown Brand Ale Aged In Bourbon Barrels', 'Outer Darkness', '3rd Anniversary Double IPA', 'Abominable Winter Ale', 'Molson Stock Ale', 'Southampton Pumpkin Ale', 'Jouluolut IV', \"Tilburg's Dutch Brown Ale\", 'Neustadt 10w30', 'Dark', 'LongShot Lemon Pepper Saison', \"Midwinter's Imperial Stout\", 'Razzbeery Wheat Ale', 'Farm Girl Saison', 'Samuel Smith Strong Golden Barley Wine', \"CB's Spring Fever\", 'Blue Moon Winter Abbey Ale', 'Nik Gold', 'Beaumont Bock', 'Amadeus Biere Blanche', 'Framboise Triple', 'Altbier', \"Wag's Wheat\", 'Tuborg Fine Festival (FF)', 'Lysée Noire', 'Olvi III (Special)', 'Estrada Real IPA', \"Reunion '09 Double Wheat\", 'Arany Ászok', 'Dragon Stout', 'Single Source Lager', 'Coopers Draught', 'Augustiner Bräu Märzen Bier', 'Steep Trail Amber Ale', 'Founders El Diablo Del Noche', 'Traverse Brewing Company Stout', \"Samuel Smith's Nut Brown Ale\", 'Liquid Evil', 'Minerva Colonial', 'Pilsen 6.0', 'Sheepshead Stout', \"Mitchell's Extra Special Bitter\", 'California Ale', 'Newport Storm Rhode Island Blueberry', 'Founders Porter', 'The Golden Flounder', 'Pull Chain Pail Ale', \"Smithwick's Ale\", 'Gouverneur Brune', \"Sweetwater Dank Tank Big Ol' Belgian Blue Balls\", 'Retro Red', 'Sierra Nevada Celebration Ale', 'Bluff Creek Pale Ale', 'R.J. King Wingwalker Light Lager', 'Original Oettinger Export', 'Doheny Double IPA', 'Asahi Super Dry', \"Lasto's Oatmeal Stout\", 'Sequoia Red', 'Blanche De Meteor', 'Samurai Ale', '1 A.M. Ale', 'Bourbon Street Brown', 'Blackberry Wheat Ale', 'White Birch Apprentice Series Nyx', \"Bannatyne's Scotch Ale\", 'Bad Knees Barrel Aged Old Ale', 'Carlsbad Cow Stout', 'Imperial Stout Trooper', 'Molson Dry Cold Shots', 'Beerlao Light', \"Lord Wimsey's\", 'Stony Face Red Ale', 'Moreeke', 'SuperShow 69', 'Bombshell Blonde', 'Snowshoe Red Ale', 'Sweet Spot Hefeweizen', 'Cherish Raspberry Lambic', 'Two Rivers Red', 'Goldmine', 'EZ Ryeder', 'Dundee Pale Ale', 'Cookie Beer', 'Rebelle Québécoise', \"Harvey's Quatercentenary Ale\", 'Kiwi Rising', 'Coton', \"46'er Pale Ale\", 'El Rey Original Cerveza', 'Vindicator IPA', 'Puur', 'Klinskoye Zolotoye', 'Skunk Black IPA', 'Hopdaemon Leviathan', 'YuleSmith (Summer)', 'Public Enemy Pilsner', 'Beaver Brown Ale', 'Pseudo IPA', 'Pipers Pale Ale', 'Dirty Penny Ale', 'Bombay Rouge', \"Atwater Shaman's Porter\", 'Hop Back Pickled Santa', 'Stouterik', 'Lengthwise Centennial Ale', 'Spruikers Challenge', 'Blueberry Fields Forever', 'Nimbus Dirty Güera (Blonde) Ale', 'ESG (Extra Special Golden)', 'Old Style Genuine Draft', 'Chicca', 'Ovila Quad', 'Castlemaine XXXX Off The Wood', 'Jubelfestbier', 'Native Ale', 'Palmetto Pale Ale', 'Belgian Barley Wine', 'Rigor Mortis Double', 'Belgian IPA', 'Sando Stout', 'Wien', 'President', 'Great Lakes The Stein Bock', 'Mohawk Extra India Pale Ale', 'Tenaya Creek Imperial Stout', \"Hale's Wee Heavy Winter Ale\", 'Mountain Beast Ale', 'Centennial Red (Brewmaster Series)', 'Session Ale #23 Monkey GIRL Dunkelweizen', 'La Beau-Soir Hilairemontaise', 'Black Cuillin', 'Vector', 'Sixteen', 'Founders Brassworks Ale', 'Point Belgian White', 'Weizen', 'Sierra Nevada ESB (Early Spring Beer)', \"BJ's Abbey Normal\", 'Augustiner Bräu Christmas Bock Bier', 'Hopback Thunderstorm', 'Valley City Cream Ale', \"Drink'in The Sunbelt\", \"Danny's Irish Style Red Ale\", 'Cerveza Premium', 'Mike Duggan #03 German Pilsner', 'Ertvelds Wit', 'Samuel Adams Wee Heavy (Imperial Series)', 'Thunder Road', 'Astika', 'Sunshine Wit', 'Old Izaak', '1850 London Porter', 'Bercloise Ambrée', 'Oettinger Pils', 'Kraftbräu Chocolate Stout', \"Stoudt's Triple (Belgian Abbey-Style Ale)\", 'Sierra Nevada Belgian Trippel', 'LongShot Cranberry Wit', 'Premium Pils Beer', 'Mike', 'Spalter Helles Vollbier', 'Unibroue 15', 'The Audacity Of Hops', 'Noël Baladin', 'Atwater Conniption Fit Double IPA', 'Chelsea Porter', 'Cantillon Lambic', 'KUL', 'Fat Tire Amber Ale', 'Organic Pinkus Jubilate', 'Fischer Bitter', \"Watou's Wit Beer\", 'Exit 16', 'Life', 'Russian Gun Imperial Stout', 'Castaway Barleywine', 'Gage Roads India Pale Ale', 'Elixir Céleste', 'Imperial Chocolate Stout (Ezo Beer)', 'Anti Ox', 'Nils Oscar India Pale Ale', 'Veldensteiner Premium Pils', 'Amber Stone Ale', 'Prime Time', 'Cocoa Cream Stout', 'Long Trail Ale', 'Noble Alpha Red', 'Broken Paddle ESB', 'Doppelbock', 'Wipeout I.P.A.', \"Marshal Zhukov's Imperial Stout - Double Barrel Aged\", 'Hofbräu Munich Weizen', 'Rochester Mills Cornerstone IPA', 'Baladin Nora', 'Dear Abbey Dubbel', 'Unibroue 10', 'White Hills', 'Palomino American Pale Ale', 'Unsinkable Molly Brown Ale', 'Table Rock Pale Ale', 'Existent', 'White Birch Espresso Imperial Stout', \"Twain's Mad Happy Pale Ale\", 'Tröegs Mad Elf', 'Chelsea Cream Stout', 'Saku Porter', 'Brewhouse Blonde', \"Hyland's Sturbridge Farmhand Ale\", 'Gruut Belgian Amber Ale', 'Trafalgar Peppermint Porter', 'Ramstein Revelation Golden Lager', 'Betrayal', \"Glen's Hop Vice Imperial IPA\", 'Fireside Ale', 'Sheltowee Sunrise Golden Ale', 'Rogue Somer Orange Honey Ale', 'Wood-Aged Life & Limb', 'Brakspear Bitter', \"Dempsey's Petaluma Strong Ale\", 'Dark Wheat', \"Baltic Porter De L'Ancrier\", 'Hitachino Nest New Year Celebration Ale 2004', 'Karl Strauss Double IPA', 'Slaapmutske Dry-Hopped Lager', 'River Horse Tripel Horse', 'Premium Light', 'Founders Backwoods Bastard', 'Founders Oatmeal Stout', 'Old Town Brown', 'Dry Hopped Spring Ale', \"Rosie's Old Ale\", 'Pale Moon', 'St. Ides High Gravity Malt Liquor', 'Sweetwater Festive Ale', 'Citra Session Ale', 'Angst Alt Lager', 'Belle Gueule 20 Years Anniversary Brew', 'Founders Hand Of Doom', 'Watkin OSB Old Style Bitter', 'Untouchable Pale Ale', 'Lambic #2', 'Yershistoye', 'Einbock', 'Dundee Pilsner', 'Blanche Du Paradis', 'Green Flash Bourbon Barrel Aged Double Stout', 'Liberty', 'Original Oettinger Hefeweissbier', 'Beerlao Dark', 'Cerberus Tripel', 'La Muerta', 'Hofbräu Light', 'Isaac', 'Imperial', 'Humulus Session', 'Saison De Noel', 'Keystone Light', 'Terminal Gravity IPA', 'Antebellum Ale', \"JW Dundee's Amber Lager\", 'Snow Day Winter Ale', 'Ultra Soif', 'Ramstein Classic', 'Kronenbourg Premier Cru', 'Bintara Pale Ale', 'Trappistes Rochefort 10', 'Pegasus IPA', 'Samuel Adams I.P.A.', 'Killellan Bitter', 'Dark Star Lager', 'Southampton Abbot 12', 'Kerberos Tripel', 'Green Flash Brandy Barrel Aged Barleywine (2008)', 'Will-Brau Ur-Bock', 'Pike Dry Wit', 'Sierra Nevada Octoberfest', 'Moosehead Pale Ale', 'BrouCzech Lager (Brou&#269;ek Beer)', 'Great Lakes Grassroots Ale', 'U Rousse', 'Doppel-Hirsch', 'Unibroue 17', \"DeGroen's Pils\", 'Founders Nemesis 2009', 'Christmas Ale 2010', 'Britt Blonde-Melen', 'Pike Old Bawdy Barley Wine', 'Fish On! IPA', 'Lips Of Faith - Super Cru', 'Chili Beer', 'Oaked IPA', 'Motor City Brewing Pale Ale', 'La Trappe Blond (Koningshoeven / Dominus)', 'Sterkens White Ale', 'Woody Organic IPA', 'Orgemont Triple', 'Sweetwater Donkey Punch', \"Black Lie 7th Anniversary Liar's Club Dark IPA\", 'Mountain Goat Pale Ale', 'JP (2009)', 'Quakertown Stout', \"Old Man's Barleywine\", 'Blatz Beer', 'Feral White', 'Old Herb Barleywine', 'Founders Gruit', 'IKALE', 'Caulier Saaz Ale', 'Broad Axe Stout', 'Kidd Lager', 'Golden Fleece Maibock', 'XXXX Bitter', 'Belgian Wheat', 'Nils Oscar Kalasöl', 'Old Milwaukee Ice', 'Imperial Silver', 'WinterCoat Valdmosel', 'Heineken Premium Light Lager', 'Burning Bush', 'Snaggletooth Stout', 'Samuel Adams Golden Pilsner', 'Ding Ding Double IPA', 'Burning Oak Black Lager', 'Grizzly Peak ESB', 'Bowes Dry Treebu', 'Bedele Gold Label Special Beer', \"Monk's Uncle Tripel\", 'Chipotle Ale', 'Sunshine Coast Summer Ale', 'Newport Storm - Isabel (Cyclone Series)', 'Squatters IPA', 'Sierra Nevada Wheat Beer', 'Padre Porter', 'Pilsner', 'Kapittel Blond', 'Guava Grove Saison', 'Carrabassett Winter Ale', 'Pelican Pale Ale', 'Estate Homegrown Wet Hop Ale', 'Smoked Porter', 'Masala Mama India Pale Ale', 'Burgen Pils', 'Endless Summer Pale Ale', 'Brakspear Oxford Gold', 'Adriaen Brouwer Dark Gold Ale', 'St-Ambroise Millésimée 2006', 'Point Spring Bock', 'Broad Ripple Lawnmower Pale Ale', 'Oso De Oro', 'Summer Blonde', 'Cantillon Iris', 'Northmæn Blonde', 'Red', 'Provo Girl Pilsner', 'Jubilation Winter Warmer 2010', 'DAGDA Strong Irish Red Ale', \"What's Brewing? Pale Ale\", 'The Don', 'Portside Amber Premium Ale', 'Hacker-Pschorr Braumeister Pils', 'Black Heart Lager', 'Barrel Aged B.O.R.I.S. Oatmeal Imperial Stout', 'Old Orbiter Doppelbock', 'Gouden Schoen', 'Heineken Dark Lager', 'Eurotrash Pilz', 'Bruegel Amber Ale', 'Hobsons  Mild', \"Mahr's Ungespundet-hefetrüb\", 'Chocolate Raspberry Stout', \"Holt's Bitter\", 'HogWild IPA', 'Cuvee Series Two (Oak Aged Series)', 'Rat City IPA', 'Green House Lager', 'Buck Range Light', 'Big Rock Russian Imperial Stout', 'Königsbacher Pils', 'Southampton Biere De Mars', 'Morimoto Imperial Pilsner', 'The Big O', 'Oatmeal Amber', 'Pick Axe India Pale Ale', 'Trainwreck Organic Barleywine Style Ale', \"Nuthin' In Common - Beer Camp #8\", 'Jalepeño Ale', 'Gordon Finest Platinum 12-12', 'Kingfisher Super Strong', 'Lobkowicz Premium Lager', 'Werewolf', 'Scarlet Fire IPA', 'NapTown Brown', 'Kitzmann Kellerbier 1904', 'Sawtooth Ale', 'Tuborg Pilsner Beer (Green / Grøn)', 'Awesome', 'Julius Echter Hefe-Weissbier Hell', 'Moosekiller Barley Wine Style Ale', 'Chimay Première (Red)', \"Gallows Point Dead Man's Porter\", 'Lone Star Light', 'Merry Monks  Dopplebock', 'Eggenberg Helles Bier', 'Captain Fred', 'Cluster Fuggle', 'Procrastinator', 'Dunkel', 'Booya Steez', 'Ruddy Red', 'Prominent', 'Cerveza Jerome Rubia', 'Trafalgar Hop Nouveau 2009', 'Heavy Metal', 'Green Flash Anniversary Ale 2005', 'Double Simcoe IPA', \"Bateman's Combined Harvest\", 'Founders Syrup Del Noche', 'WinterCoat Cockney Imperial Stout', 'Gulden Fraug Belgian Style Ale', 'Arctic Beer', 'Golden Slipper', '5th Anniversary', 'Frambozenbier', 'Flying Mouflan', 'Brahma Chopp', 'Sweetwater Waterkeeper Hefeweizen', 'Horn Dog Barley Wine Style Ale', 'Mothership Wit (Organic Wheat Beer)', 'Coopers Birell', 'Karhu III', \"Marshal Zhukov's Imperial Stout - Zhukov's Final Push\", 'Buckwheat Ale', 'Rule Of Thirds (Import Series Vol. 4)', 'Big Hop IPA', 'El Gordo', 'Rochester Mills Brickshot ESB', 'The Grizz', 'Alpine Lager', 'Scotch Ale', 'Jai Alai IPA - Tropic-ale', 'Jaguar', 'Ice Pick Ale', 'Chatoe Rogue First Growth Creek Ale', 'R.J. King Wingwalker Amber Ale', 'The Devastator Double Bock', 'Bourbon Barrel Scotch Ale', 'Night Rider', \"Ridley's IPA\", 'Raspberry Ale', 'Elora Special Bitter', 'Founders Harvest Ale', 'Cerveza Jerome Diablo', 'Nils Oscar God Lager', 'Hacker-Pschorr Edelhell', '364 IPA', 'Tripel Threat', 'Scratch Beer 42 - 2011 (Razz-ma-dizzle)', 'Livinus Blond', 'Klinskoye Redkoye', 'Roughneck Stout', 'Mort Subite Gueuze', \"Santa's Little Helper - Bourbon Barrel Aged\", 'Route Des Épices (Ale Rousse Au Poivre)', 'Blonde Bomb', 'Poperings Nunnebier (for Nevejan Of Krombeke)', 'Knuckle Sandwich', \"Le Cheval Blanc Ambree D'orge\", \"Horny Goat Hopped Up 'N Horny\", 'Sierra Madre Light', 'Old Abominable', 'Revenante', 'Black Top', 'Taps Charleston Lager', 'Great Lakes Wood Tooth Porter', 'Fortuna Czerwony Smok', 'Aecht Schlenkerla Rauchbier Märzen', \"Wolfgang's German Style Beer\", 'Taiphoon', 'Muskoka Hefe-Weissbier', 'Lips Of Faith - Sahti', 'Alcatraz Sledgehammer Strong Ale', 'Hairoun', 'Horny Goat Belgian Style Wheat', 'Pittsfield ESB', 'Cosaco Roja', 'India Pale Ale Classique', 'Lunar Lager', 'Certified Organic Porter', 'Harveys Elizabethan Ale', 'Molson Ice', 'Sun Valley Sawtooth Gold Lager', 'Peja Pilsner', 'Purple Haze', 'Zatte', \"Bieber's Teabag Honey Chamomile Wheat\", 'Salt Spring Golden Ale', \"Sweetwater Sch'Wheat\", 'Fuel', 'Veldensteiner Landbier', 'Minnesota Mild', 'Blue Moon Grand Cru', \"Darwin's Original\", 'Honey Amber Rose', 'Bourbon Barrel Imperial Stout', 'Fallenbock', 'Monk Madness (JLS Release #18)', 'Tröegs ESB Ale', 'Radical Raspberry Porter', \"Samuel Smith's Organic Raspberry Fruit Beer\", 'Colt 45 High Gravity Lager', 'Red Wheat', 'Stoudts Honey Double MaiBock', 'Hopsichord - Beer Camp #36', 'Limfjordsporter', 'Sinebrychoff Porter', 'Burly Brown', 'Nicola', 'Paleo IPA', 'Belle Gueule Originale', \"Tsar's Imperial Stout\", 'Black Saddle', 'Amsterdam Boneshaker IPA', 'Big Bad Dog', 'Nounette [Brasserie Des Rocs Blonde]', 'Southampton Burton Ale', 'Single Hop Imperial IPA (Centennial)', 'Irish Stout', 'Salamander Crossing Steam Lager', 'Rye 75', 'Bucanero Fuerte', 'Otway Organic Lager', 'Neustadt Scottish Ale', 'Double Dog Double Pale Ale', 'Highballer Pumpkin Ale', 'North Bridge Extreme', 'White Birch Barrel Aged Night Falls', 'Atwater VJ Black', 'Diablo Dark Ale', \"Mahr's Pilsner\", 'Mild Ale', 'Soproni', 'Faxe Extra Strong', 'Chernigivske Mitsne', 'Ace Of Spades', \"O'Hara's Celebration Stout\", 'Great Lakes Imperial Dortmunder', 'Dundee Nut Brown Ale', 'Lightning Strike Stout', 'Hitachino Nest Espresso Stout', 'Kraftbräu Munich Red', 'Dundee Kolsch Style Ale', 'Amsterdam Tilted Kilt Scotch Ale', 'Brahma', 'Foggy Bottom Ale', 'Timbuck2', 'Brown Ale', 'Autumn 2011 Farmhouse Ale', 'Colorado Brewing Old Hand', 'Bell In Hand', 'Samuel Adams Hefeweizen', 'Pausa P.I.L.S.', 'Wild Fire Wheat', 'Strike Out Stout', 'Blue Cowrie', 'Bakalar Svetlý Le\\x9eák', 'Dundee Irish Red Lager', '\\x8eaibo', 'Dundee Festive Ale', 'Bios Vlaamse Bourgogne', 'Dirty Blonde Ale', 'Cerveza ChileBeso', 'Bia Ha Noi', \"Hell's Gate Lager\", 'Bière Du Boucanier Red', 'Adelscott', 'Arbor Brewing Milestone Porter', 'Three Hour Tour', 'Midnight Wit', 'Southampton Berliner Weisse', 'Innstadt Edelsud', 'Ushers Ruby Ale', 'Anniversary Ale', 'Triple', 'GPA 8.0 High Gravity Cream Ale', 'Hoegaarden Speciale', 'Samuel Adams Spring Ale', 'Schwartzbier (JLS Release #6)', 'Stateside Saison', 'Belgian Style Dubbel', 'Green Flash Trippel', 'Crazy Mountain Amber Ale', 'Grande Noirceur', 'Wunder Weisse', 'West Bank Pub Ale', 'Lake Placid Hefeweizen', 'Gonzo Imperial Porter', 'Landlord - Strong Pale Ale', \"Younger's Special Bitter\", 'Funky Junky', 'Saku Kuld', 'Jezebel IPA', 'River Horse Double Wit', 'Extra Stout', 'Atlantic IPA', 'Abita Select Double IPA', 'Hi Dry', 'Snake Pro Double IPA', 'Unplugged Cranbic Ale', 'Scratch Beer 28 - 2010 (Troggen Roggen)', 'Rosita Cervesa Artesanal De Tarragona', \"Henry Weinhard's Belgian Style Wheat Ale\", 'Kingston Lager', 'Woody Mountain Porter', 'Unfiltered Wheat', 'Southampton Triple Abbey Style Ale', 'Triune (Fresh Hop Pale Ale)', \"McSorley's Irish Pale Ale\", 'Haystack Blonde Ale', 'Cantillon Cuvée Des Champions', 'Black Hole', 'Riggwelter Yorkshire Ale', 'Agent Orange', 'Mogul Madness Ale', 'Copperhead', 'Fischer Bière Blonde', 'Bravo', 'Frostnipper Winter Warmer', 'Dark Corner (Red Cap)', 'French Country Christmas Ale (Biere De Garde)', 'St. Croix Maple Ale', 'Kraftbräu Vienna', 'Honey Ginger Porter (Winter Ale)', 'Tallgrass Ale', 'Twelve', 'Saku Hele', 'Don de Dieu', 'Full Nelson Wet Hopped Harvest Edition', 'Lights Out Holiday Ale', 'Cherokee Red Ale', 'Dixie Crystal Beer', 'Yinpu Black Rice Beer', \"Stroh's\", 'Totally Naked', 'Arbor Brewing Terminator Doppelbock', 'Heroes Bitter', 'Tuborg Kylle Kylle Påskebryg', 'Oktober Fest', 'Curly Tail Ale', 'Dry Hop Orange', 'Extra Special Bitter', 'Sherbrooke Bad Hare Day', 'Hophead Organic IPA', 'Nevskoye Kronwerk', \"Phin & Matt's Extraordinary Ale\", 'Holzar-Bier', 'Saison Farmhouse Ale', 'Mort Subite Faro', 'Zwickelbier Hefetrub-Dunkel', 'Basse Messe', 'Bourbon Barrel Smoked Bock', 'Mort Subite Peche', 'Killarney Stout', 'Scratch Beer 33 - 2010 (Saison De Mueze)', 'Dry Hop Red', 'Folie Douce', 'Brewbies Pink Ale', 'Struise Witte', 'E.S.B.', 'Haverale Summer Brew', 'Imperial Pale Ale', 'Moosehead Cracked Canoe', 'Fischer Bière De Noël', 'Powerhouse Pale Ale', 'Seven Niepoort Barrel', 'Olde Yeller IPA', 'Rock Art Stock Ale', 'Gunslinger IPA', 'Wild Dog Double Pale Ale', 'Original 1649 Jubiläumsbier', 'Genesee Ice Beer', 'Gingerbread Stout', 'Trois Pistoles', 'Great Lakes Engine 20 Smoked Pale Ale', 'Bedele Beer', 'Glühkriek', 'Atlantic Au Pineau', 'Big Oak', \"Doc's American Porter\", 'Rogue 21', 'Sierra Nevada Pale Bock', 'White Birch 1 Anniversary Ale', '4 Calling Birds', 'Black Ball Porter', 'Sheltowee Hop-A-Lot IPA', 'Brutal Bitter Ale', 'Lips Of Faith - Le Terroir', 'Paranoid Pale Ale', 'Pike Street XXXXX Stout', 'Brugse Tripel', 'Mountain Light', \"Brewer's Art Le Canard\", 'St-Ambroise Stout Impériale Russe', 'Double Irish Red', 'Tire Bite Golden Ale', \"D'Ham Noire Sur Lie\", 'Insanity', 'La Binchoise Blonde Tradition', 'Collaboration Series: Marrón Acidifié', 'Wee Heavy Scotch Ale', 'Port Republic Lager', 'Paint The Town Red', 'Unplugged Smoke On The Porter', 'Bock', \"Newport Storm '09\", 'Rumspringa Two In The Bush IPA', 'Santa Rosa Red', 'Headbangerz Brown Ale', 'Off The Rails', \"MacHayden's WeeHeavy Scotch Ale\", 'Cañón Del Huajuco', 'World Beat Wheat', 'Scheyern Kloster-Doppelbock Dunkel', 'Bochkarev Bochkovoye', 'Blanche De Chambly', 'Coors', '4th Anniversary Double IPA', 'Keyte Dobbel Tripel', 'LongShot Dortmunder Style Export', 'Big Flats 1901 Light', 'Harvest Pale', \"Newport Storm '05\", 'Spinnakers Nut Brown Ale', 'Blue Mountain Lager', \"Brewer's Alley Scotch Ale\", 'Dunkelweiss', 'Andechser Weissbier Hefetrüb', 'Hansa Pilsener', 'Ginga Kogen Weizen', 'Weltenburger Kloster Anno 1050', 'Nutty Brewnette', 'Saison Deluxe', 'Faxe Free', 'Taps Vanilla Wheat', 'Mount Joy Light Pilsner', 'LSD (Lompoc Strong Draft)', 'Brasserie Des Rocs Triple Impériale', 'Stone Mill Organic Pale Ale', 'Bottleworks 10th Anniversary Wild Ale', 'Crazy Jackass Ale', 'Red Spot', 'Backpacker I.P.A.', 'The Ugly American', 'Danish Beerhouse Barrel Aged Imperial Stout', 'PM Porter', 'Bright Spot Golden Ale', 'Samuel Adams Utopias MMIII', 'Blackwater Uber Pale Ale', 'Giddy Up!', 'Blackstone Stout', 'Creemore Springs Kellerbier', 'Old Blarney Barleywine', \"Levud's (Bourbon Barrel)\", 'Blackbird Oatmeal Stout', 'Belle Gueule Rousse', \"Samuel Smith's Organically Produced Ale\", 'Devassa Negra (Tropical Dark)', 'Klinskoye Samurai', 'Grave Robber', 'Union', 'Twelve Days', 'Castlemaine XXXX Draught Lager', 'E Figoun', 'Kronenbourg', 'Griffon Extra Blonde', 'Quaff Bros Jones IPA', 'Golf', \"Tetley's English Ale\", \"Great Lakes Conway's Irish Ale\", 'Heritage Maple Bush Lager', 'Bell Ringer', 'Stillwater / Mikkeller Two Gypsies - Our Side', \"McGarvey's Scottish Ale\", 'Shotgun Shack Black Rye Ale', 'Rockfish Red', 'Trafalgar Oak-Aged Rye', 'Humulus XPA', \"Sweetwater Crank Tank Rye'd Ale\", \"Stoudt's Pump-King\", 'Black Widow Oatmeal Stout', 'Lips Of Faith - BELGO Belgian India Pale Ale', \"DeGroen's Marzen Amber Lager\", 'Port Truck Stout', 'Lucy', 'London Best', 'LongShot Boysenberry Wheat', 'Instigator Doppelbock', \"Bootblack's Extra Stout\", 'HefeWeizen', 'Leopold Bros. Hefeweizen', 'Stella', 'Sasquatch Ale', 'Staghorn Octoberfest', 'Ultra', 'Rye Wit', 'Long Snout Stout', 'Bokrijks Kruikenbier', 'Vas Deferens Ale', \"MacAndrew's Stock Ale\", 'Arbor Brewing Sacred Cow IPA', 'Winter Wobbler 2007', 'Hair Of The Bear', 'Gordon Finest Silver', 'Belvidere Big IPA', 'Taps Big E Chokeslam IPA', 'SOB', 'River Rock Bitter', 'Stoney Creek Anniversary Ale', 'Gambrinus Svetly', 'Saison Voisin', 'Orange & Black Congrats Ale!', 'Red Angus Pilsener', \"Henry Weinhard's India Pale Ale\", 'Amsterdam Nut Brown Ale', 'White Christmas Double Wheat', 'Private IPA', 'Backburner (Imperial Barley Wine Style Ale)', 'Estrella Galicia', 'Andechser  Dunkles Weissbier', 'Festival Bock', 'XS McRogue Scotch Ale', 'Nor Easter', 'Southampton Abbey Double', 'Le Vieux Couvent', 'La Gaspésienne', 'Haffenreffer Private Stock', 'Penn Quarter Porter', 'Ritual Dark Ale', 'Twice Bitten', 'Gulden Draak (Dark Triple)', 'Ducassis', \"Slater's Why Knot\", \"Brewer's Art House (Birdhouse) Pale Ale\", \"30th Anniversary - Jack & Ken's Ale\", 'Belgian Style Blond', 'Breznak Svetly Lezák', 'Chocolate By The Barrel Cream Stout', \"Brewer's Art Nein!\", 'Stoney Creek Vanilla Porter', 'BottleTree Belgian Blonde', 'Centennial Wheatwine', 'Pamola Xtra Pale Ale', 'Ultramour', 'Spring Hill Blonde', 'Mountain Goat Hightail Ale', 'Biere De Garde', 'Hog Pound Brown Ale', 'Taint Town Pale Ale', 'Real Rock', 'Augustijn Grand Cru', 'Sünner Kölsch', \"Liechtensteiner Brauhaus Hell's\", 'Baffling Spoon', 'Camo High Gravity Lager', 'Hacker-Pschorr Anno 1417', 'Verhaeghe Echte Kriek / Echte Kriekenbier', 'Hop Rising Double IPA', \"Fat Gary's Nut Brown Ale\", 'National Bohemian Ice Beer', 'Union Jack', \"Rickard's India Pale Ale\", 'Blue Whale Ale', 'Code Blue', 'Bumbleberry Wheat Ale', 'Cantillon Soleil De Minuit', 'La Binchoise La Belge Biere Speciale', 'Hop Whompus', 'Fresh Hop 2006', 'Dark Lager (Tmavý Le\\x9eák)', 'Anthracite Ale', 'Great Lakes The Doppelrock', 'Barons Lager', 'Iron Head Porter Old No. 3', 'Basement Bitter', 'Kamakura Prime Beer Hoshi No Taiga', 'Andechser Bergbock Hell', 'Great Lakes Woodtooth Porter', 'Hellshire I', 'Sleighor Double IPA', 'Danish Continental Lager', 'Unplugged Cherry Stout', 'Starr Hill Jomo Lager', 'Amsterdam Natural Blonde Lager', 'Apple Ale', 'Yerba Mate Pale Ale', \"Brewer's Art Tiny Tim\", 'Moylans Dragoons Dry Irish Stout', 'Yankee Jim Ice Bock', 'The Libertine', 'Mort Subite Oude Gueuze', 'Yankee Jim Genuine Draft', 'Black Hole XXX Stout', 'Rusky', 'Arbor Brewing Bavarian Bliss', 'Jolly Guava', 'Old Style Pilsner', 'Yella Belly Organic Ale', 'The Drafting Room 10th Anniversary Ale', 'Ballz Deep Double IPA', 'Big Daddy IPA', 'Gouyasse Triple', \"Henry Weinhard's Summer Wheat Ale\", \"Samuel Smith's Organically Produced Lager Beer\", 'Raspberry Imperial Stout', 'Night Rider - Bourbon Barrel Aged', 'Saxon Sons Pilsner', 'Big Bear Malt Liquor', 'Starobrno', 'Deathly Pale Ale', 'Butte Creek Organic Revolution X Imperial IPA', 'Double Dead Guy Ale', 'St-Ambroise Oatmeal Stout', 'Firewater IPA', 'Weizenbock - Beer Camp #37', 'Casco Bay Pilsner', 'Bootleg Settlers Pale Ale', \"Poor Richard's Ale\", 'Maibock', 'Imperial 375 Pale Ale', 'Rebellion', 'Tröegs Sunshine Pils', 'Great Lakes Barley Wine', 'Pecan Harvest Ale', 'Quelque Chose', 'Mort Subite Framboise', 'Fat Boy', 'Frankenmuth Munich Style Dunkel Lager', 'IPA', '11', 'Krampus (Imperial Helles Lager)', 'Penny Weiz Ale', 'Black River Imperial Stout', 'XXX Warlock Double Imperial Stout', \"Tetley's Original Bitter\", 'Weiss', 'Notch Session Ale', 'The Drafting Room 13th Anniversary Lager', 'Cellar Door', 'Station 33 Firehouse Red', 'La Montagnarde [Brasserie Des Rocs Ambree]', 'Bodacious Bitter', \"Henry Weinhard's Private Reserve\", 'Minoh Beer Weizen', '? The Riddler ?', 'Edge City ESB', 'Panzer Imperial Pilsner', \"Saint Bridget's Porter\", \"McCleod's Ewe\", 'Synergy', 'Fourteen Special Dark', 'AleSmith X', 'Cubanero Fuerte', 'Farny Kristall-Weizen', 'Forbidden Fruit', 'Rocky River Pirate Light', 'Minoh Ukon (Tumeric)', 'Czar Jack Imperial Stout', 'Hoppy Poppy IPA', 'Harboe Bjørnebryg (Bear Beer)', 'Bock De Joliette', 'Big Black Poochie', 'Martens Pilsener', 'Whistler Imperial Pils', 'Ghosttown', 'Boxcar Porter', 'Ravnsborg Rød', 'Valley Ghoul', 'Boddingtons Pub Ale', 'Karlovacko', 'Pandora', 'Double Coffee Stout', \"Hale's Cream Ale\", 'Freehouse Cream Ale', 'Bochkarev Svetloye', 'Ballantine XXX Ale', 'Yule Bock', 'Hidalgo', 'Chautauqua Brew', 'Black IPA', \"Dragon's Milk\", 'St-Ambroise 20th Anniversary Vintage Ale (2009)', 'Chili Pepper Ale', 'Publick House Porter', 'Ultra Blonde', 'Samuel Adams Blackberry Witbier', 'Wet Hopsickle Triple India Pale Ale', 'Irish Dry Stout', 'St. Georgenbräu  Keller Bier', 'Moose Island Ale', 'Fat Boy Blue', 'Casta Triguera (Wheat Ale)', 'Black Sheep Ale (Special)', 'Black Whole', 'Great Lakes Anniversary Ale', 'Big Fish - Strong American Pale Ale', 'Light Rock', 'Whole Hog Raspberry Saison', \"Nick's Balls Of Gold\", 'Edge City Wit Bier', 'Bolita Brown - Mochaccino', 'Nektar', 'Barrel Aged Yeti', 'Hibernation Ale', 'Summer Ale', 'Southern Flyer Light Lager', 'Hitachino Nipponia', 'EMU Export', 'Wild Wacky Wit', 'Oud Bruin', 'Goudenband', \"Hop Master's Abbey Belgian-Style Double IPA\", 'Pabst Blue Ribbon (PBR)', 'Jockamo IPA', 'Cucapá La Migra Imperial Stout', 'Authentique Triple', 'Pils', 'Skinny Dip', 'Whitewater Wheat Ale', 'Sierra Nevada Draught Style Pale Ale', 'R&D Bourbon Barrel Kriek', 'Eleven', 'Founders Curmudgeon (Old Ale)', 'Cold Smoke Scotch Ale', 'Rainier Ale', 'AleSmith Decadence 2006 (Dead By Dawn)', 'Saison De Aviator Royale', 'Newport Storm - Derek (Cyclone Series)', 'Gleumes Lager', 'Leroy Stout', 'Wild Range Amber Ale', 'Iron Horse Stout', 'Spinnakers Tsarist Imperial Stout', 'Aecht Schlenkerla Eiche', 'Double Barrelled', 'Hop Prop IPA', 'VlasKop', 'Generation', 'Schmidt Ice', 'Big Rock Double Trouble Sour Belgian', 'Harvest India Pale Ale', 'Whittier White', 'Porter Du Marché', 'Crystal Bitter Ale', 'Session Ale #38: Deserving Porcupine', 'Sierra Nevada Brown Ale', 'Cerveza Taina - IPA', 'Sierra Nevada Best Bitter Ale', 'Triple Malt', 'Yellow Wolf Imperial IPA', 'Olde Pelican', 'Wrasslers XXXX Stout', '6:56 (2010)', 'Therezópolis Gold', 'Conductor Imperial India Pale Ale', 'Hawaiian Honey', 'Cocoa Nut Brown', 'Loaders Light', 'Bavaria Light', 'Black Hops Beer', 'Father Christmas Highland Ale', \"Monteith's Original Ale\", 'Java Sutra Coffee Porter', 'Horny Goat Red Vixen', 'Pale Ale', 'Lips Of Faith - Kick', 'Griffes Du Diable', 'Wilson Mild Stout', 'Hougaerdse DAS', 'Megadestroyer Imperial Licorice Stout', 'Trafalgar Malted Corpse', \"Equinoxe D'automne\", 'Light', 'Kennebunkport IPA', 'Zhu Jiang Draft Beer', 'Genesee Bock', 'Samuel Adams Scotch Ale', 'Living Proof', \"Brewer's Art Odum Dubbel\", 'Cuvee Series One (Oak Aged Series)', 'Maribo Slots Guld', 'Rock Art IPA', 'Écume', 'Kiltlifter Scotch Ale', 'Blue Moon Spring Blonde Wheat Ale', 'Founders Nemesis 2010', \"Bishop's Tipple\", 'Lonely Blonde', \"Monk's Café Flemish Sour Ale\", 'Éphémère (Cassis / Black Currant)', 'Alpine Wit', 'Steinweizen', 'Paienne', 'Ramstein Oktoberfest', 'Piranha Pale Ale', 'Newport Storm Hurricane Amber Ale', 'Abockalypse Now', 'Doggie Style Classic Pale Ale', 'Certified California Blonde Ale', 'Point Oktoberfest', 'Heretic', 'The Cowboy Kolsch', 'Old Eight Porter', '6288 Stout', 'Batch #69 Double Cream Ale - Barrel Aged', \"Louie's Demise\", 'Prinzregent Luitpold Weissbier', 'Red Rock', 'Mad Abbot Abbey Ale', 'Barons Pale Ale', \"Brewer's Reserve Old Godfather Barley Wine\", 'Cable Car Small Batch Lager', 'Alley Kat Smoked Porter', 'Potent Peter IPA', 'Wandle', 'Amber Road Amber Ale', 'Harboe Bjørnebryg Extra Stark (Bear Beer Extra Strong)', 'Brauerei Königshof Export', 'Old Rag Mountain Ale', 'Driven Snow', 'Killer Whale Stout', 'Red Fife Wheat', 'Mountain Hawk Red Ale', \"Blues' Golden Ale\", 'Ybor Gold Wheat Ale', 'Three - Triple Anniversary Ale', 'Harveys XX Mild Ale', 'Rieder UrEcht', 'La Trappe Quadrupel Barrique (Oak Aged)', 'Farm Brew Altbier', 'Payback Porter', 'Sixtus', '22nd Anniversary Vanilla Imperial Stout', 'Heritage', 'LongShot Mile High Barley Wine Ale', 'Asahi Kita No Syokunin', 'Bernard Svetly Lezak', 'Red Rocket Ale', 'St. Bruno', '3 Sheets', 'Celtic Gold Ale', 'Lima', 'Helltown Organic Hefeweizen', 'Truckee River Red Organic Ale', 'Camo 900 High Gravity Lager', 'One Night Stand Pale Ale', 'Steelback Light', 'Mountain Goat Rare Breed IPA', 'Founders Vanilla Porter', 'Transatlantique Kriek', 'Menage A Singe', 'Oberdorfer Weisssbier Kristallsweizen', 'Rackhouse Ale', 'Bintara Lager', 'Survival \"7-Grain\" Stout', 'Honigbock', 'White Christmas Spiced Winter Lager', 'AleSmith Old Numbskull', 'Tower 10 IPA', 'Dernière Volonté Réserve Spéciale (Vieillie En Fût De Pinot Noir)', 'Gedanken Gruit - Cedar Aged (Humidor Series)', 'Scratch Beer 24 - 2009 (a.k.a. Van De Hoorn)', \"Barley's Glenlenny's Scotch Ale\", 'Just Beer Semper Ri', 'Poperings Hommel Bier', 'Certified Organic I.P.A.', 'Ybor Gold Amber Lager', 'Jacob Best Light', 'Karl Strauss Saison', 'Copper Legend', 'Merrimack Mild', 'St. Georgenbräu Helles Vollbier', 'West Coast IPA', 'Pierpont India Pale Ale', 'Baden Baden Cristal', 'De Boomgaard Framboise', 'Märzen Madness', 'County Porter', \"Captain Bastard's Oatmeal Stout\", 'Lips Of Faith - Dandelion Ale', 'Mysterious Amber Ale', 'Riverboat Porter', 'Creemore Springs Premium Lager', \"Bessie's Brown Ale\", 'Irish Red Ale', 'Total Eclipse Of The Hop Imperial India Pale Ale', 'Sweetwater Dank Tank Mean Joe Bean', \"Brewer's Art Sublimation\", 'Cuvee-Brut', 'Pit Bull', 'Coors Light', 'Tartare', 'Hieronymus', 'Nut Brown', 'Oak Aged Unearthly (Imperial India Pale Ale)', 'Falcon Ale 3,5%', 'Maduro Oatmeal Brown Ale - Oatmeal Raisin Cookie', \"Hale's Troll Porter\", 'Traverse Brewing Old Mission Lighthouse Ale', 'Atwater D Light', 'Wild Rose I.P.A. (India Pale Ale)', 'Love Child Belgiweizen', 'Motor City Brewing Nut Brown Ale', '9303 German Red Ale', 'Westnatte Lupulus - Beer Camp #34', 'Wee Beast (Cuillin Beast)', 'Afanasy Tyemnoye', 'Vitis Series: Pinotlambicus', 'Brewer Patriot Collection - 1790 Root Beer Brew', 'Railbender Ale', 'Velvet Fog', 'Lavender Abbey', 'Super Bock Stout', 'AleSmith Speedway Stout - Barrel Aged', 'Kingfisher Strong', 'Whole Hog Smoked Porter', \"DeGroen's Altfest\", 'Desperados', 'Super 7 - Beer Camp #1', 'Bombay Grab IPA', \"Mahr's Leicht\", 'Pugnacious Pale Ale', 'Allgäuer Ökobier', 'Grizzly Peak Pale Ale', 'Ale Of Fergus', 'HopStar IPA', 'Eugene City Brewery Track Town 100 Meter Ale', 'Bust A Nut', \"Dave's Ice\", 'Red Smiddy', 'Blonde De Noël', 'Chimay Tripel (White)', \"Hell's Bock\", \"CB's Krysztoff\", 'Tap Room No. 21 Amber Ale', 'Blue Monk Barleywine', 'Legacy Pale Ale', \"Henry Weinhard's Ice Ale\", 'Indian River Amberjack Alt', \"Wit's End\", 'Black Perle', \"Jurgy's Pale Lager\", '3 Judges Barleywine', 'Dead Guy Ale', 'Cerveza Cristal', 'Big Rock Imperial Hefeweizen', 'Stauder Premium Pils', 'Coedo Beniaka', 'The Incredible Hop Imperial India Style Wheat Ale', 'Vermonster', 'Grazias', \"Mann's Brown Ale\", 'Sierra Nevada Bigfoot Barleywine Style Ale (Whiskey Barrel)', 'Bluff Point Brown', 'Edge City IPA', 'Provisions Series: Premiére', 'Sleeping Giant IPA', 'Bee Sting Honey Ale', 'Christmas Ale 2001', 'Red Oak Amber', 'Black Mamba', 'Wild Dog Collaborator Doppelbock', 'Z Lager', 'Mischief', 'Hoegaarden Citron', '30th Anniversary - Grand Cru', 'St-Ambroise Pale Ale', 'Claire De Lune', 'Springbock', 'Heidelberger Hefe Weizen Hell', 'Oak Creek Amber', 'Newport Storm - Ryan (Cyclone Series)', 'Stoudts American Pale Ale', 'Horizon Wheat', 'Extra Pale Ale', 'Total Eclipse Black Ale', 'Dos Perros', 'Zipfer', 'Octo-Bock', 'Flywheel Bright Lager', 'Kona Coffee Stout', 'Founders Looking Glass', 'Buckeye Beer', '\"33\" Export', 'Late Harvest IPA', 'Old Man Winter', 'Founders Bourbon Del Noche', 'Holiday \"Cheery\" Stout', 'White Birch Barrel Aged Barley Wine', 'Éphemère (Framboise)', 'Port Republic Light', 'Duchesse De Bourgogne', 'Raspberry Wheat Beer', \"Mahr's Weisse\", 'Beehive', 'Crooked Antler Spiced Ale', 'Ranfurly Draught', 'Harveys Armada Ale', 'Back Yard India Pale Ale', 'S. McTaggert Scottish Ale', 'Abbaye Des Rocs [Brasserie Des Rocs Brune]', 'Totem Pale', 'Golden Trout Ale', 'Massatucky Brown', 'Hr. Frederiksen', 'Scottish Ale', 'Unplugged Abt', 'Andechser Spezial Hell', 'Colón Negra', 'Flagship IPA', \"Farmer's Tan Imperial Pale Lager\", 'Onward Stout Aged On Cherries', 'AleSmith Decadence 2008 Barrel Aged', 'Kamenitza Lev', 'Cheseborough IPA', \"Great Lakes Rock's Rye\", 'Frankenmuth English IPA', 'California Common', 'Issaquah Ménage À Frog', 'White Label', 'Bon-Secours Ambrée', 'Coopers Dark Ale', \"Tetley's Imperial (Cask & Can)\", 'Founders Deca 10th Anniversary', \"DeGroen's Doppelbock\", 'Hoodoo Voodoo IPA', 'Red Banshee', \"Black Brutal '07 (JLS Release #23)\", 'White Out Wit', 'Eichoff Klosterbrau Edeltrüb St. Fidelis', 'Blanche Des Honnelles [Brasserie Des Rocs Blanche Double]', 'Oak Aged Yeti Imperial Stout', \"Dave's Double\", 'Perfect Storm Double IPA', 'Silk Porter', 'Sea Hag IPA', 'Hickory Stick Stout', 'Harnas', 'White Rabbit Dark Ale', 'The Almond Marzen Project - Beer Camp #26', 'In-Heat Wheat', 'Trafalgar Cedar Cream Ale', 'Sonoma Irish Style Ale', 'Zeunerts Höga Kusten', 'India Pale Ale', 'Full Moon Pale Ale', 'Red Head Red Ale', 'Frosty Knuckle Ale', 'Rosey Nosey', 'Centennial India Pale Ale', 'Founders Pale Ale', 'Verte Du Mont Blanc', 'Nils Oscar Rökporter', 'Super Brew 15', \"Stoudt's Abbey Double Ale\", 'Alexander', 'Moosehead Light Lime', 'Courage', 'Vaisseau Des Songes', 'Vermont Smoked Porter', '2010 Bluesapalooza', 'King Billy', 'Golden Strong Ale', 'Atwater Rost', 'Currant Noir', 'Pomdher Hütt', 'Southampton May Bock', 'Genesee Beer', 'Jack Whacker Wheat Ale', 'Stud Service Stout', 'Baden Baden Red Ale Especial', 'Pennbrook Lager', \"Bert Grant's Scottish Ale\", 'Piraat Ale', 'Mamma Mia Pizza Beer', 'Portage Porter', 'Sierra Nevada Southern Hemisphere Harvest Fresh Hop Ale', 'Oakshire Wheat', 'Baltas', 'Autumn Maple', 'San Marcos Red Amber Ale', 'Tiger Beer', 'Jai Alai IPA - White Oak', 'Trafalgar Smoked Oatmeal Stout', 'LongShot Old Ben Ale', 'Back Forty Bock', 'Amazing Grace', 'Capricho Oscuro - Batch 4', 'Atwater Bloktoberfest', 'Birra Del Vecchio Calabrese', \"Monteith's Radler\", 'Double Take IPA', 'Braugold Premium Lager', 'Founders Lazy Daze', 'Edition 2004', 'Squatters Hefeweizen', \"Ochsner's 1905 Alberta Porter\", \"Elwood's IPA\", \"Samuel Smith's Oatmeal Stout\", 'Sweetwater Swiss Miss Stout', 'La Scottish', \"What's Brewing? Porter\", \"30th Anniversary- Charlie, Fred And Ken's Bock\", 'Butte Creek Organic Revolution XI Imperial IPA', 'Douze', 'Three Nuns Ale', 'Winter Mint', 'Samuel Adams Coastal Wheat', 'Blue Moon Harvest Moon Pumpkin Ale', 'Nils Oscar God Ale', 'Irvington IPA', 'Tröegs Perpetual IPA', 'Edition Vollbier', 'Coton (100% Bourbon Barrel Aged)', 'Amber Waves Amber Lager', 'Moonraker Scotch Ale', '2 Turtle Doves', 'Green Flash Hop Head Red Ale', 'Steenbrugge Dubbel Bruin', \"Brewer's Alley Nut Brown Ale\", 'River Horse Oatmeal Milk Stout', 'Cosaco Clara', 'Special Pale Ale (SPA)', 'Lips Of Faith - Clutch Collabeeration', 'Crystal Wheat', 'Blue Reserve 2010', 'Birdman Brown', 'Traverse Brewing Sleeping Bear Brown Ale', 'Arch City Pale', 'Barrel Aged Keyser Soze', \"Hunahpu's Imperial Stout - Whiskey Barrel Aged\", 'Double Porter Smoked', 'Summer Wheat Ale', 'Whole Hog Imperial Pilsner', 'Slaapmutske Triple Nightcap', 'Saris 12% Premium', 'Haystack (English Summer Ale)', 'Southampton Espresso Stout', 'Samichlaus Bier', 'Twerp', \"Henry Weinhard's Blue Boar Ale\", 'Kirkland Signature Hefeweizen', \"Samuel Smith's Sovereign Best Bitter\", 'Stillwater Chardonnay Barrel-Aged Stateside Saison', 'Belle Vue Framboise', 'Arbor Brewing Holy Heifer!', 'Dark Star Porter', 'High Prairie Wheat', 'Kraftbräu Dunkel', 'Viru', 'La Bolduc', 'Overcast Espresso Stout', 'Pintail Pale Ale', \"Rudyard's Rare Barley Wine\", 'Imperial Stout', 'Mortality Stout', 'La Madragore', 'Samuel Adams Octoberfest', 'AleSmith Decadence 2005 Barrel Aged', 'Golden Zhujiang', \"Mjölnir - Thor's Hammer\", 'White Birch Tripel', 'Éphémère (Peach)', 'AleSmith My Bloody Valentine', \"Brewer's Alley Pils\", 'Grey Whale Ale', \"Demon D'or\", 'Belgian-Style Trippel', 'Late Harvest', 'La Trappe Quadrupel (Koningshoeven / Dominus)', 'Avalanche Light', 'Pumpkin', 'California Blonde Ale', \"Bob's Memorial Braggot\", 'Double Haul IPA', 'Stoudts Heifer-in-Wheat', \"Stoudt's Barrel Aged Old Abominable\", 'Wild Dog Weizenbock', 'Lierse Caves', 'Double Aught', 'Coffee Stout', 'Molson Canadian Light', 'House Brand IPA', 'Older Viscosity', 'Feral Organic Pilsner', 'Bière Du Démon', 'Pionnière', 'Trafalgar Maple Bock', 'Moonstone Porter', 'Edel-Pils', \"Samuel Smith's Old Brewery Bitter\", 'Great Lakes The Instigator', 'Decker In The Rye', 'Stoudts Pils', 'Scratch Beer 30 - 2010 (Jerman Bock)', 'Berliner Bürgerbräu Premium Pils', 'Honey Wheat Beer', 'Black Horse', 'Roggenator', 'Saison De Beaver', 'Biobok', 'Robust Porter', 'Southside Strong', 'Imperial Red I.P.A.', 'Nimbus Old Monkeyshine', 'Mocha Java Double Brown', 'Blackwater Porter', 'Pilsener', 'The Doctor', 'Barrel Aged Hibernation Ale', 'Bohr', 'Kells Irish Style Lager', 'Victory Pale Ale', 'India Ink - Beer Camp #42', 'Pearl River Lager Beer', 'St. Sebastiaan Dark', 'Hell', 'Stoney Creek Double Chocolate Ale', 'Quench', 'Epic IPA', 'Desert Pale Ale', 'Auld Alliance', 'Unibroue 11', \"Startin' Starve Out Winter Stout\", 'Mission Blonde', \"Brewer's Art Ozzy Ale\", 'Imperial I.P.A.', 'Weltenburger Kloster Winter-Traum', 'St. Paul Special', 'Honey Brown', 'Le Coq Imperial Extra Double Stout', 'Gypsy Ale', 'Swamis IPA', 'Molson Dry', 'La Réserve De Maître Kanter', 'Péché Mortel (Bourbon Barrel)', 'Reading Pils', 'Checker Cab Blonde Ale', \"Henry Weinhard's Amber Ale\", \"Samuel Smith's Yorkshire Stingo\", 'Barnsley Blonde (for Barnsley Beer Company)', 'Newport Storm - Chloe (Cyclone Series)', 'Abdis Bruin', 'Rogers Chocolate Stout', 'Ring Berry Ale', 'Floating Rock Hefeweizen', 'Premium Pale Ale', 'Blasphemy', 'El Mirador', 'Super Bock Green', 'Corne De Brume', 'Okocim Beer', \"Captain Sig's Northwestern Ale\", 'Macau Beer', 'Breakfast Porter', 'Harvest Ale', 'Mean Manalishi Double I.P.A.', 'Helles Lager', 'Irresistible Blond', \"Somethin' Lite\", 'Provisions Series: Gunga Galunga', 'Fourteen Ale', 'Capital Alt Ale', \"DeGroen's Weizenbock\", 'Great Lakes Christmas Ale', 'Spring Ale', 'Sweetwater Dank Tank Magnum IP', 'Sierra Nevada Stricklander (Belgian Style Golden Ale)', 'Passion Saison', 'Founders Cascade Harvest', 'After Battle Pale', 'Goldhorn Club', 'Organic Hefe-Weizen', 'Belikin', 'Amsterdam Irish Stout', 'Hancock Old Gambrinus Beer Dark', 'Winter Ale - Chocolate Mint Porter', 'Asahi Shinnama', 'Roggen Bier', 'Mornington Peninsula Saison', \"Stoudt's India Pale Ale\", 'LaCrosse Lager', 'Wisp Of Smoke', 'Utah Pale Ale', 'Butthead Doppelbock', 'Rebel Red', 'Inferno Pod Ale', 'Bootleg Toms Brown Ale', 'White Birch Dubbel', 'Hopsquatch Barleywine', 'Centennial Pale Ale', 'Wappenbrau', 'Starkenberger Gold Lager', 'Samuel Adams Irish Red', 'Skärgaards Porter', 'Founders Cerise', 'Coco Jones', 'Ginga Kogen White Beer', 'AleSmith Old Numbskull - Barrel Aged', 'Scotch Ale SA', 'Rugbrød', 'Old Viscosity', 'Eau Benite', 'La Mouska', 'Gold', 'Horny Goat Horny Blonde', \"Stoudt's Scotch Style Ale\", 'LongShot Grape Pale Ale', 'Belgian Style Tripel', 'True Blonde Ale', 'Maple Nut Brown Ale', 'Brockway Brown', 'Cole Porter', 'Cobra', 'Atwater Vanilla Java Porter', 'Leatherlips IPA', 'Westside Imperial Stout', 'Sierra Nevada Summerfest Lager', 'Zhigulevskoye Lubitelskoye', 'Old Style L.A.', 'Avalanche IPA', 'Red Fox', 'Stallhagen Summer Ale', \"Lips Of Faith - Hagdorn's Helles\", 'Founders Cherry Pale Ale', 'Picture City Porter', 'Offshore Amber Ale', 'Raj Cobra', 'Pioneer Dark Harvest Imperial Porter', 'Abbey Ale', \"Monteith's Pilsener\", 'Nico Kölsch', \"Stoudt's Scarlet Lady ESB\", '16', 'Amnesia IPA', 'Black Magic Stout', \"Hale's Cream Stout\", 'Big Aft Pale Ale', 'Jubilation Spiced Ale', 'DeadEye Jack', 'Hoegaarden Original White Ale', 'Town Hall Lager', 'Green Flash Le Freak', 'Pride Of Milford Special Ale', 'Maduro Oatmeal Brown Ale - Cacao Aged', 'Scratch Beer 21 (Naked Elf)', 'Provisions Series: Old Richland', 'Barley Wine', 'Helltown Devious Ale', 'Faxe 1901 Classic', 'Hipp-O-Lantern', 'Coopers Sparkling Ale', 'San Miguel 1516', 'Cucapá Light', 'Bootleg Wils Pils', 'Harbour Gold Premium Pilsner', 'Celis White', 'Monkey Boy', 'Biscotti', 'Golden Tripple', \"Clancy's Red\", 'DreamWeaver Wheat', \"St. Benedict's Winter Ale\", 'Hop Sun (Summer Wheat Beer)', 'Dark Starr Stout', 'Abbaye De Saint Bon-Chien Grand Cru (Aged In Merlot Barrels)', 'Barnegat Lite', 'Chili-Smoked Hefe', 'Oak Creek Nut Brown Ale', 'De Boomgaard Tropicale', 'Gambrinus', 'Humulus Lupulus', 'Kirkland Signature Pale Ale', 'Woodstock Wheat', 'Faxe Fest Bock', 'Dreamenator', 'Great Lakes Oktoberfest', 'Duke Pale Ale', 'Lvivske Premium', 'Über Pils', 'Butte Creek Organic Pale Ale', 'Newport Storm - Neo (Cyclone Series)', 'Hacker-Pschorr Münchner Gold', 'Great Lakes Alberta Clipper', 'Palmetto Lager', 'Champion Reserve IPA', 'BeRazzled', 'Bolita Brown - Bourbon Barrel Aged', 'Golden Glow', 'Nickel Plate Porter', 'Ironman Wheat', 'Sierra Nevada Imperial Stout', 'Coffee Porter', 'Ise Kadoya Genmai Ale', 'Bakalá&#345; Polotmavé Vý&#269;epní 11° (Bakalar Light Dark Beer)', 'Twisted Spoke 15th Anniversary', \"Brewer's Alley Barleywine\", 'Königsbacher Zischke Dunkel', 'Best Bitter Special (Dry Hopped)', 'Stillwater / Mikkeller Two Gypsies - Our Side (Dry Hopped With Simcoe)', 'Kaltenberg Oktoberfest', 'Taras Boulba', 'Sunshine Wheat Beer', \"Ramblin' Reck Amber Ale\", 'Evil 8° Belgian-Style Dubbel Ale', 'Tallgrass Köld', 'Imperial White Orchard', \"Rickard's White\", 'Swan Draught', 'Spetsnaz', 'Anniversary Ale 2004', 'Sunny And 75', 'Blackbeard Ale', 'Rumspringa Harvest Gold Kolsch', 'Belle Vue Gueuze', 'Founders Hop Sun', 'Wee Heavy', '80 Shilling Scottish Ale', 'Quintine Ambrée / Quintine Biere De Noël', 'El Oso', 'Natural Blonde Organic (Czech) Pilsener', 'Neuschwansteiner', 'Great Lakes Ohio City Oatmeal Stout', 'Dry Stout', '5th Anniversary Ale', 'Black Cat', 'English ESB', 'AleSmith Wee Heavy - Barrel Aged', 'Tenaya Creek Belgian Triple', 'Amber Sun Ale', 'La Torpille', 'Blueberry Wheat Beer', 'Samuel Adams Black Lager', 'Devassa Ruiva', \"Brewer's Alley Wedding Alt\", 'Kapittel Prior', 'Octoberfest', 'Abeelsen Stout', 'Kraftbräu Bohemian', 'Sweet Josie Brown Ale', 'Industrial Park Ale', 'Double Chocolate Stout', 'Augustijn Blond', 'Blue Marble Organic Pilsner', 'Asahi Honnama Gold', 'Brouwers Imagination Series #2 Strong Sour', 'Yellow Snow IPA', 'Great Lakes Edmund Fitzgerald Porter', 'Old Man Winter Warmer', 'Third Eye P.A.', 'Anvil Ale ESB', 'Mill Gap Bitter', 'Headwall Alt', 'Northern Lights IPA', 'Robson Street Hefeweizen', 'Wisdom Cream Ale', 'Coopers Clear', 'Authentique Ambrée', 'Columbus India Pale Ale', 'Sea Witch Watermelon Wheat', 'Rustic Rye IPA', 'Southampton Cuvee Des Fleurs', 'U Blond Pilsner', 'Summer Days Premium Lager', 'Scratch Beer 32 - 2010 (Keystone Common)', 'Lips Of Faith - Belgian Style Blond Ale', 'Bogemia', 'Pike India Pale Ale', 'Samuel Adams Koggen', 'Ridgeline Amber Ale', 'Improv (Improvisación) Oatmeal Rye India-Style Brown Ale', \"Lips Of Faith - Eric's Ale\", 'Chico IPA', \"Cantillon Fou' Foune\", 'Genuine ALE', 'Great Lakes Locktender Lager', 'Slam Dunkel', 'Old Elephant Foot IPA', 'Bourbon Barrel Stout', 'Mike Duggan #05 Asian Lager', 'Apple Wit', \"Monteith's Doppelbock\", 'Sugar Moon Maple Ale', 'Battenkill Ale', 'Muller Beer', 'Point The Way IPA', 'Galaxy Pale Ale', 'Havre Stout', 'Nine Man Ale Golden Ale', 'Red Nose Imperial Porter', 'Founders Super Gold', 'Dog Schwarz', 'Cocoa For Coconuts', 'Topvar 11.5% Svetlé', 'Veltins Pilsner', 'Molly Coddle', 'Tijuana Light', 'Flaming Damsel', 'Topvar Premium Lager', \"Chico's Revenge\", 'Decelerator Doppelbock', 'Heritage Traditional Dark', 'Exportation', 'Hefe Weizen', 'Spruce Goose', 'Matacabras', 'Radegast Birell', 'Oat (Imperial Oatmeal Stout)', \"Scott's Big IPL\", 'Breughel Double', 'Samuel Adams Summer Ale', 'Kraftbräu Rock Harbor Red Ale', 'Hyland Octoberfest', 'Moosehead Premium Dry', 'Crosstown Pale Ale', 'Märzenbier', 'Ameni India Pale Ale', 'Aspen Edge', 'Paradise Pale Ale', 'Great Lakes Independence Ale', \"Duff's Microbrew\", 'Gentse Strop', 'Klokke Roeland', \"Joe Z's Coconut Porter\", 'Frankenmuth Cass River Blonde Ale', \"Victor's Gold\", 'Colt 45 Malt Liquor', 'La Rullés Triple (Bière De Gaume)', 'Roadrunner IPA', 'Tun Tavern Leather-Neck Stout', 'Schwarz Bier (5.2%)', 'Hop E Soul', 'Cantillon Crianza Helena', 'Southampton Saison', 'Bee Sting', 'Irvington Juniper Porter', 'Caldera Ginger Beer', 'Las Cumbres', 'Wytchmaker Rye IPA', 'Heavy Weizen (Imperial Unfiltered Wheat Ale)', 'Red Dragon', 'Latitude 48 Deconstructed IPA - Ahtanum', 'Extra Special Pale Ale (ESP)', 'Ballistic Brewing Co. - Gargoyle India Pale Ale', 'William Penn Colonial Style Lager', 'Iron City Beer', 'Summer Solstice Wheat', 'Mocny Full', 'Tuborg Lager (Red / Rød)', 'Stillwater / Mikkeller Rauchstar', 'Mike Duggan #99 (#18) Double IPA', 'San Miguel Eco', \"Frog's Hollow Double Pumpkin Ale\", 'Hefeweizen', \"AleSmith Speedway Stout - Tod's Decaf Blend\", '11th Hour IPA', 'Dunkle', 'Sunshine Coast Noosa Premium Ale', 'Tuborg Porter Double Stout', \"Hale's Drawbridge Blonde\", 'Melange No. 3', 'Caporal', 'Double Eagle Ale', 'Spotted Cow', 'Founders Rübæus', 'Evil Twin Yang', 'Double Stout', 'Blanche', 'Xingu Black Beer', 'Samuel Adams Bonfire Rauchbier', 'Munich Light', 'All Nighter', 'Spaceman', 'Anisocoria', 'Oakquinox Lager', 'Black Orchard', 'Hite', 'Harboe Classic 110', 'Porter Fume', 'Laughing Fox', 'Kingfisher Premium Lager', 'Hazelnut Brown Nectar', 'One Hop Wonder IPA', 'Irvington Pale Ale', 'Dark Alt', 'Andechser Dunkel', 'Grand Baltic Porter', 'Sweetwater Georgia Brown', 'Slavutich White', 'Apa', 'Shipwreck Stout', 'Nils Oscar Julöl 2005', 'Starobrno Cerveny Drak', \"Monteith's Winter Ale\", 'Belle Vue Sélection Lambic', 'Luscious', 'Kraftbräu Maibock', 'Coconut Jack Frost', 'Great Lakes Eliot Ness', 'Noire De Chambly / Chambly Noire', 'Wasabi Brew', 'Cocoa Porter Winter Warmer', 'Brewer (15th Anniversary)', 'Blanche Belge Classique', 'Cocker Hoop', \"S'more Tuesday\", 'Charbonniere', 'Gouyasse Tradition', 'Rye IPA 75', 'Imperial Overcast Espresso Stout', 'Kraftbräu Helles', 'IJ Wit (Scharrel Wit)', 'Belgian Style Dark', 'Tocobaga Red Ale', \"Blonde D'Achouffe\", 'Cantillon Lou Pepe - Kriek', \"Spike's 2010\", 'Hellshire II', 'Silver', 'California Honey Ale', 'Benevolence', 'Heady Topper', 'Lorelei', 'Hopsnort Golden Pale Ale', 'Samuel Adams Old Fezziwig Ale', 'Black Moon IPA', 'Exit 11', 'La Black Watch', \"Killian's Irish Red\", 'Okocim Jasne Pelne', 'Alpha Weizen', 'Maudite', 'Cerberus Belgian Tripel', \"Stoudt's Abbey Triple (750ml Release)\", 'Super Natural ESB', 'Amber', 'Highwater Porter', 'Mongo', 'Nielsbohrium', 'Samuel Adams White Ale', 'Great Lakes Prohibition Pils', 'River Horse Summer Blonde', 'Sierra Nevada Anniversary Ale (2007-2009)', 'Afanasy Dobroe', 'Pike Auld Acquaintance Hoppy Holiday Ale', 'Wheat Wine', 'Great Lakes Nosferatu', 'Fritzkrieg Hop IPA', 'Blond', 'Great Lakes Holy Moses', 'Breznak Schwarzbier', 'Chikara Imperial Pilsner', 'Ashland Amber', 'Scratch Beer 19 -  2009', 'Bon-Secours Brune', 'Mocha Java Stout', 'Double Daddy Imperial India Pale Ale', 'Szalon Sor', 'Hopsickle Imperial India Pale Ale', \"Clancy's Amber\", 'Cwrw Braf', 'Belgian Style Yeti', 'Aestas Ale', 'Mojave Gold', 'Uerige Weizen', '5th Element', 'Wit', 'Samuel Adams Honey Porter', 'Somer Orange Honey Wheat', 'Apache Trout Stout', 'Breznak Lager', \"Fool's Golden Ale\", 'Mørke - Pumpernickel Porter', 'Samuel Adams Alpine Spring', 'Sunnyside Pale', 'Lips Of Faith - Prickly Passion Saison', \"Founder's Stout\", 'Last Drop Bitter', 'Unplugged Eisbock', 'Blue Paddle Pilsner', 'Bintara Australian Lager', '8th Street Ale', 'Brew Eyed Lager', 'Imperial Pumpkin Ale', 'White Birch Apprentice Series Deviant Monk Oak Aged Ale', 'Wet Coast Wheat Ale', 'HopCat Frontiersman', 'Tröegs Dead Reckoning Porter', \"Grain D'Orge\", 'Charlie (JLS Release #22)', 'Pink IPA', 'Eisbrau Czech', 'Ten', 'Samuel Adams Cranberry Lambic', 'Cardinal Direction Abbey Dubbel', 'Four In Hand IPA', 'Filthy Blonde', 'Castle Lite', 'Kamenitza 0%', 'Eight (8) Wiezenbock', 'Black Metal Imperial Stout', 'Tröegs Nugget Nectar', 'Foghorn Porter', \"Bert Grant's Hopzilla IPA\", \"'t Gaverhopke Extra\", 'Indian Red Head', 'La Trappe Enkel', 'Big Man Ale', 'Bohemia Regent Prezident', 'Atwater Hell Pale Lager', 'Harmon Killer Brew, Version 9', 'Hite Prime', 'Splinter Black', 'Commemorative Ale', 'Potbelly Pumpkin Ale', 'Asahi Draft (Jukusen)', 'Yardy', 'Hopknocker Imperial IPA', 'Samuel Adams Boston Lager', 'Ornery Amber', 'Walter Payton Pilsener', 'Queue De Charrue Triple', 'Golden Leaf Pale Ale', 'Bottleworks XII', 'Whole Hog Barley Wine Style Ale', 'Black Ban Bitter', 'Momotaro', 'Palmetto Espresso Porter', 'Fischer Tradition Amber', 'Muskoka Cream Ale', 'Juliet', 'Dark Hops', \"Dohoney's Gold\", \"Tetley's Cask Bitter\", 'Love & Hoppiness (JLS Release #3)', 'Newport Storm Maelstrom IPA', 'Knee Deep In Powder', '30th Street Pale Ale', 'Founders X-mas Porter', 'José Martí India Porter', 'Big Barrel Double IPA', 'Oatmeal Ellie', 'Pumking', 'Copper Bell Lager', 'Imperial Chocolate Stout', 'Karnival Kolsch', 'Newport Storm Summer Ale', 'Molson M', 'Road Slush Stout', \"Plowman's Anniversary Ale\", 'Sierra Nevada Ruthless Rye IPA', 'Wildcat Wheat', 'Okocim Porter', 'Booster Rocket', \"Crazy Cascadin' Ale\", \"Monks' Ale\", 'Augustiner Lager', 'Drunkelweizen', 'Home Town Blonde', 'Hitachino Nest Japanese Classic Ale', 'Harvest Ale #3', 'Total Eclipse Breakfast Stout', 'Burleigh Hefeweizen', 'Snowbound', 'De Boomgaard Kriek', 'Belgian Black', 'Garibaldi Honey Pale Ale', 'T Street Wheat', 'Barrel Aged Old Bat Rastard', \"Poor Man's Double IPA\", 'Redemption Red Ale', 'Dynamo Copper Lager', 'Butte Creek Organic Ale', 'No Fault Line', 'Lips Of Faith - Fresh Hop India Pale Ale', 'Magna Cucurbita', 'Ginga Kogen Organic Beer', 'Black Bear Ale', 'Hirsch Bavarian-Weissbier Hefeweisse', 'Triple Fff Moondance', 'Cucapá Honey', 'Bière Du Mai', 'Prickly Moses Red Ale', 'Hopback Entire Stout', 'Outta Kilter', 'St. Festivus', 'Trappistes Rochefort 6', 'IPA 395', 'Russian Imperial Stout', 'Adam & Eve Ale', 'Éphémère (Original)', 'Air', 'Mother Jones Trappist-style Dubbel', 'American Pale Ale', '1635 (UU375)', 'Karl Strauss Oktoberfest Beer', 'Modelo Daze', 'TSB', 'Belle Gueule Pilsner', 'Niksicko Tamno (Dark)', 'The Public Ale', 'Hopdinger', 'Old No. 23', 'Amber Alt Ale', 'Rock Art American Red Ale', 'Lion Heart Stout', 'Gageleer', 'Cantillon Bruocsella (1900) Grand Cru', 'EMU Bitter', 'The Fear', \"Hummin' Bird\", 'Founders Imperial Stout', 'Rising Moon Spring Ale', 'Lips Of Faith - Grand Cru Abbey Ale', 'Hawg Wash Belgian Pale Ale', 'El Jefe Weizen Ale', 'Rude Boy', 'Fischer Réserve Ambrée  (Dorelei)', 'Brewers Reserve Adamstown Brown', 'Elora Grand Lager', 'Bourbon Barrel Aged Siberian Night', 'White Oak', \"John Martin's Pale Ale\", 'Seigneuriale', 'Brador', 'Yokel', 'Founders Barrel Aged Imperial Stout', 'Sugar Plum Brown', 'Cantillon Gueuze 100% Lambic', 'Charles River Porter', 'Chocolate Cherry Bomb Imperial Stout', 'Great Lakes Market Street Wheat', 'Newport Storm - Alyssa (Cyclone Series)', 'Gordon Finest Gold', 'La Seigneuriale', 'Silver Creek Porter', 'Oak Aged Stout', 'Scratch Beer 37 - 2010 (IPA #1 Of 4)', 'Wheat Beer', 'Yeti Imperial Stout', 'Latitude 48 Deconstructed IPA - Zeus', 'Aecht Schlenkerla Rauchbier Urbock', 'Revolver Single Hop Pale Ale', 'Blitzen Holiday Ale', 'Quad', 'Kirkland Signature German Style Lager', 'Black Raven IV Imperial Rye Stout - Malt & Vine 4th Anniversary', 'Blue Hills India Pale Ale', 'Dark Element', 'XS Old Crustacean', 'Titanic Stout', \"Brewer's Art Wit Trash\", 'Bonecrusher Stout', 'Great Lakes Barrel-Aged Blackout Stout', 'La Trappe Bockbier', 'La Follie', 'Hoosier Honey Wheat', 'Ecaussinnes La Loubécoise', 'Riedenburger Einkorn Edelbier', 'Cable Car Small Batch Amber Ale', 'Arquebus', 'Soproni Fekete Démon', 'Doublelips Imperial IPA', 'A. Le Coq Premium', 'Seven Mules Strong Ale', \"La Boucaneuse Fumee'\", 'Columbine Kolsch', 'Sweetwater IPA', 'Emmerdale', 'Pearl Light', 'Hitachino Nest Sweet Stout (Lacto)', 'Oakshire Amber', 'Unfiltered Double Simcoe IPA', 'Alewife Ale', 'Keystone Ice', 'Dunkel Weiss', 'BORIS Royale', 'LIDO Speci&#257;lais', 'Coors Winterfest', 'Platinum Premium Lager', 'Restoration Pale Ale', 'Xyauyù Etichetta Argento (Silver)', 'Provisions Series: Run B.M.C.', \"AleSmith Blacksmith's Blonde Ale\", 'Best Of Beer Camp: California Common - Beer Camp #8', 'Baron Trenck', \"Samuel Smith's Pure Brewed Lager Beer\", \"Don't Call Me Wit\", \"Freakin' Frog Blueberry Ale\", 'Blackbeary Wheat', 'Champale Golden', 'Newport Storm Regenschauer Oktoberfest', 'Laurentide', \"Henry Weinhard's Blonde\", 'Evil Twin Soft Dookie', 'Jai Alai IPA - Flora - Cedar Aged (Humidor Series)', 'Super Brown Ale', 'Trouble Brewing Amber Ale', \"CB's Scotch Ale\", \"Hoppin' Mad\", 'Cuvée Du 8ème', \"Witches' Brew\", 'Happy Holidaze', \"Newport Storm '03\", \"Bert Grant's IPA\", 'Amarillo Brillo', 'Christmas Ale', 'Edelweiss', 'Cinco Estrellas', 'Bourbon Barrel Big Brown', 'Maduro Oatmeal Brown Ale', 'Wild Dog Coffee Stout', 'Nude Beach Summer Wheat', 'Get Wet', 'A Saison Darkly (Import Series Vol. #2)', 'Roots Organic Pale Ale', 'Red Stripe Jamaican Lager', 'Spiced Pumpkin Ale', 'Blueberry Hill', 'Pelgrim Mayflower Tripel', 'Jahva (Imperial Coffee Stout)', \"Puppy's Breath Porter\", 'Cool Grand ESB', 'Sweetwater Dank Tank Ghoulash', 'Bière De Noël', 'Eggenberg Svetlý Lezák (Premium Lager)', 'Monumental IPA', '2010 Reserve Pale Ale', 'E.J. Phair Pilsner', 'Silva Stout', 'Lobkowicz Knight', 'Austral Pale Ale', 'Cantillon Vigneronne', \"Henry's IPA\", 'Midnight Expression', 'Cafe Racer 15', 'Oberdorfer Hefeweizen Dunkel', 'St-Ambroise India Pale Ale', 'Molson Export', 'Der Weisse Bock', 'Count Magnus', 'Detroit Pale Ale', 'Tap Room No. 21 Lager', 'Big Bear Black Stout', 'Live Organic', 'Mt. Prevost Porter', 'Shaved Tail Ale', 'Batch One', 'El Torero Organic IPA', 'Cascade Amber', 'Scratch Beer 14 - 2008', 'Tenth Anniversary Wee Heavier Ale', 'Temne', 'Foxtrot', 'Half-E-Weizen', 'Tuborg Julebryg', 'Kapittel Abt', \"Bert Grant's Perfect Porter\", 'Sierra Nevada Bigfoot Barleywine Style Ale', 'Oak Aged Rye 75', 'St-Ambroise Scotch Ale', 'Samuel Adams Rustic Saison', 'Coronel', 'The Raj IPA', 'Maksimum', 'Aecht Schlenkerla Helles Lagerbier', 'Bolita Brown Double Nut Brown Ale', 'Stump Jumper Gnarly Stout', 'Honey-Ginger Ale', 'Hacker-Pschorr Hefe Weisse Natürtrub', 'Warmer Winter Winter Warmer', 'Denver Pale Ale', 'The Gobbler 2009', 'Columbus', 'Scratch Beer 38 - 2010 (IPA #2 Of 4)', 'Game Day Light', 'Pepperjack Hand Crafted Ale', 'Dunkel Lager', '1800 Old English IPA', \"Baron's Strong Brew\", 'Red Ryder', 'Ranger', 'Frosted Frog Christmas Ale', 'Mountain Brew Beer Ice', 'St-Ambroise Millésimée 2007', 'R.J. King Wingwalker Lager', 'Unplugged Imperial Saison', 'Lobkowicz Baron', 'Wheach', 'White Rabbit White Ale', 'Humulus Blonde', 'Camerons Strongarm', 'Unplugged Smoked Rye Bock', 'Life & Limb', 'West Point Market 75th Anniversary Pale Ale', 'Taps Premium Lager', 'Hoppus Maximus', 'Amsterdam Strong Spring Bock', 'Basil', 'Ename Dubbel', 'D.O.R.I.S. The Destroyer Double Imperial Stout', 'Tenaya Creek Nut Brown Ale', 'Horny Goat Oktoberfest', 'European-Style Premium Lager', 'Plaza Porter', \"Bert Grant's Fresh Hop Ale\", 'Highland Wild Ale', 'Samuel Adams Noble Pils', 'Exit 4', \"Emily's Ember\", 'Newport Storm - Henry (Cyclone Series)', 'Hacker-Pschorr Sternweisse', 'Hot Rocks Lager', 'Imperial Blackberry', 'Atwater Winter Bock', 'Sierra Nevada Kölsch Style Ale', 'Asahi Honnama Red', 'Faxe Amber', '16th Anniversary Wood Aged', 'Partridge In A Pear Tree Barrel Aged', \"Brown's Point ESB\", 'Festivus 2007', 'Super Baladin', 'Titanium', 'Autumn Fest', 'Kingpin Kolsch', 'Sester Kölsch', 'Rochester Mills Rochester Red', 'Gentse Tripel', 'Oaked Aged Hercules Double IPA', 'Saison', \"Hale's Moss Bay Extra\", 'La Dragonne', 'Retribution', 'Solomon Juneau Ale', 'Golden Pippin Ale', 'Longshot Blackened Hops', 'Baro Tradicinis', 'Puckerfish', 'Brown Bear Ale', 'Tall Ship Amber Ale', 'Double Dragon', 'Black Jack Stout', 'Bodega Head IPA', 'Raspberry Wheat', '6ième Soir', 'Tröegs Oatmeal Stout', 'Coopers Light Beer', 'Northern Hemisphere Harvest Wet Hop Ale', 'Sunsplash Golden Ale', 'Molson Special Dry', 'John John Hazelnut (Rum Barrel Aged)', 'Jan Van Gent', 'Emersons Taieri George', 'Seattle Beer Week 2010 DIPA', 'Imperial Pilsner', \"Shenandoah Millenium Ale / Sneaky Pete's Barleywine\", 'Great Lakes Grand Cru', 'Yorkshire Pub Ale', 'Weltenburger Hefe-Weissbier Hell', 'Saint Landelin Spéciale Noël', 'Kiper Bock', '1554 Enlightened Black Ale', 'Rince Cochon', 'Jibber Jabber Java Stout', 'Barley Wine Ale', \"Henry Weinhard's Hefeweizen\", \"Monteith's Summer Ale\", 'Motor City Motown Lager', 'Boiler Room IPA', 'Abbaye Des Rocs Nuits Blanches', 'Wildcat White Ale', 'Hedonism Ale', '606 Ale', 'Chelsea Hop Angel IPA', 'Chodovar 11%', 'Paradisiac Cuivrée', 'Super Bock Abadia Gold', 'Embrasse', 'Gilde Pilsener', 'Samuel Adams Hallertau Imperial Pilsner', 'Gin Lane Ale', 'Belle Vue Kriek', 'Nitro Porter', 'Big Red (Imperial Red)', 'Philadelphia ExPorter - Beer Camp #25', 'Unplugged Old English Porter', 'Session Ale #07: American Wheat Hop', 'Heather Ale', 'Inevitable Ale', \"Merry Monks' Ale\", 'Mission IPA', 'St. Paul Double', 'Halcyon Unfiltered Wheat', 'Kitzmann Bergkirchweihbier', 'Péché Mortel (Imperial Stout Au Cafe)', 'Picnic Ants', 'White Birch Apprentice Series Aloha Ale', 'Organic Ale', 'Amplus Acerba', 'Old Leghumper', \"Petunia's Pumpkin Ale\", 'Road Dog Porter', 'Woody Creek White', \"Hale's Kölsch\", 'Cucumber Saison', 'Thomas Fawcett Single Malt Bitter', 'Troublette', 'Trapp Dunkel Lager', 'Bauern Bock', 'Hop Yard Pale', \"Stoudt's Fat Dog (Imperial Oatmeal Stout)\", \"Levud's\", 'The Incredible Hop #1', 'Green Flash Imperial India Pale Ale', 'Four Twenty Brilliant Lager', 'Trafalgar Critical Mass', 'White Birch Barrel Aged Tripel', \"Tuckerman's Pale Ale\", 'Pollenator', 'Amstel Bock', 'Apocalypse IPA', 'Evil Twin Monk Suffers Serious Sugar Rush On Barbados', \"DeGroen's Edel Weiss\", 'Dirt Dauber Roggenbier', 'Great Lakes Glockenspiel Weizenbock', 'Zipfer Urtyp', 'Samuel Adams Double Bock (Imperial Series)', 'Sierra Nevada India Pale Ale', 'Red God IPA', 'True North Cream Ale', \"Mahr's Hell\", 'Smoke (Smoked Porter)', 'Oak Creek Gold Lager', 'Founders Imperial Breakfast Stout', 'FOAM Pilsner', 'Oktoberfest Bier', 'Founders Braggot', 'Table Saison', 'La Kamour', 'Red Ale', 'Scratch Beer 48 - 2011 (Fest Bier)', 'Tord Vis', 'Carlsbad Cream Ale', \"Raven's Eye Imperial Stout\", 'The Love', '1906 Reserva Especial', '110K+OT Batch #2 - I.R.I.S.', 'Veldensteiner Weißbier', 'AleSmith Grand Cru Ale', 'Horny Goat Stacked', 'Le Woody', 'SpringFest', 'White Birch Triple Aged In Pinot Noir Cask', 'St. Honoré Blond', 'Palmetto Bocat Watermelon Wheat Ale', \"Brewer's Alley Resinator\", 'Oktoberfest Brau', 'Mad Goose', 'Asahi Black (Kuronama)', 'Raspberry Tart', 'Hop Juice Double IPA', 'Amigo Lager', 'Son Of A Peach', 'Trafalgar Cherry Ale', \"Barley's Christmas Ale\", 'Trickster IPA', 'Sweetwater Blue', 'Devastator Double Bock', \"L'Ampounette De Redu (Bière à La Framboise)\", 'Battlefield Black', 'Shark Attack Double Red Ale', 'Tuckaleechee Porter', 'Vapor Cave IPA', 'Sierra Nevada Double DeBockEl', 'Barkeater Amber Ale', 'Either', 'Brouemont India Pale', 'Rigor Mortis Blonde', 'Stones Bitter', '25th Anniversary Vanilla Doubledog', 'Single Hop Imperial IPA (Simcoe)', 'Bärnsten Öl', 'Rip Tide Amber', 'Aftermath Imperial IPA', 'Belgian Tripel', 'Mastra Roja Cerveza Strong Scotch Ale', \"Charlie's Black Beer\", 'Eye Opener Coffee Porter', 'Sweetwater Dank Tank Brown-Eyed Buckeye', 'Wicked Elf Pale Ale', \"The Landlord's Daughter In Black Satin\", 'Golden Ace', 'Kaltentaler Horn-Zwickl', 'Brakspear Vintage Ale 1999', 'Hop Attack!!!', 'Faxe Fad', 'Colorado Appia', 'Charles II Scotch Ale', \"L'Ecossaise\", \"Newport Storm '01\", 'Flying Armadillo Porter', 'Forst Premium', \"Green Flash 2008 Surf's Up Symposium IPA\", 'Ramstein Blonde Wheat Beer', 'Chi Orientale', 'Weisser Hirsch Allgäuer Weizen', 'Tijuana Güera', 'Irresistible Brune', '20th Anniversary Pilsner', 'La Rullés Cuvée Meilleurs Voeux (Bière De Gaume)', 'Samuel Adams Boston 375 Colonial Ale', 'Oaked Butt Head Bock', 'Ubu Ale', 'Chipinque', 'Headstrong Pale Ale', 'Chris (15th Anniversary)', 'Arbor Brewing Larry Hoppe Imperial IPA', 'Porterhouse Red', 'Molson Canadian 67', 'Super Bock', '2010 Reserve Amber Ale', 'Trafalgar Abbey Belgian Spice Ale', 'Zorg', 'Olde Deuteronomy', 'River Horse Special Ale ESB', 'Mandolin', 'Blonde Bock (Bluesapalooza 2011)', 'Snow Melt Winter Ale', 'Blue Moon Pale Moon', 'Édition 2005', 'Regio Light', 'Old Bob', 'Old Spice', 'Rainier Lager', 'Buckwheat After Dark', 'Two Tier Bier (15th Anniversary)', 'Lupulin Maximus Imperial IPA', 'White Birch Berliner Weisse', 'Abdis Tripel', '78 Anniversary Ale', 'Genesee NA', 'Cream Ale', 'Latitude 48 Deconstructed IPA - Hallertau Mittelfrueh', 'Jubiliation Spiced Ale 2008', 'MaDonna', 'König Ludwig Weiss (Royal Bavarian Hefe-Weizen)', 'Hope & King Scotch Ale', 'Lompeizer', 'Riga', 'Black Tuesday', 'Scratch Beer 29 - 2010 (NBPA)', 'Molson Canadian Ice', 'St. Pacome', 'Nils Oscar Rökporter 2007', \"Santa's Private Reserve Ale\", 'Carlsberg Lager (UK)', 'Big Hop Harvest Ale', 'Vapeur Cochonne', 'Bornem Dubbel', 'Imperial IPA', 'Slamma Jamma Juice', '1984 Golden Ale', 'Black Diamond Winter Ale', 'Dutch Enkel', 'Victory Ale', 'Molson Ultra', 'California Kind Pale Ale', 'Double Wood Imperial IPA', \"Stoudt's Gold Lager\", 'Harveys Christmas Ale', 'Florida Cracker White Ale', 'Taps Rauchbier', 'Pike Weisse', 'Coffee Oatmeal Stout', 'Skeeter Bite Weizenbock', 'Loakal Red', 'Tallgrass IPA', '2° Below Winter Ale', 'Casta Milenia', 'Wisdom Amber Ale', 'Siberian Night Imperial Stout', '2011 Reserve Amber Ale', 'Pantius Droppus', 'Bootleg Amber Light', 'Batch 19', 'Meister Max', 'Mountain Mantra', 'Molson Canadian Cold Shots', 'Jacob Best Ice', 'BrightSide Belgian White', \"Rickard's Gold\", 'Port Republic Light Lager', 'Sibirskaya Korona Non Alcoholic', 'Alt-erior Motive', 'Heritage Premium Ale', 'Kraftbräu Doppelbock', 'Rye Pale Ale', 'Heine Brothers Coffee Stout', 'Bozone Hefe Weizen', 'The Old Toad Nut Brown Ale', 'Southampton Saison Brun', 'Weekapaug Gruit Ale', 'Full Nelson Virginia Pale Ale', 'Heather', 'Kanterbräu', 'Magic Lagyr', 'Blanche De Saisis', \"Marshal Zhukov's Imperial Stout - 4 Roses Aged\", 'Cherish Kriek Lambic', 'Five Way IPA', 'Red Star Golden Light', 'Massive IPA', 'Regio', 'Festie', 'LongShot Old Ale', 'Callewaert Stout (for Callwaert Of Zwevezele)', 'Autumnal', 'The Bitter End', 'Graupner Schwarz', 'Taj Mahal Premium Lager', 'Andygator', \"Tetley's Smoothflow\", 'Scratch Beer 5 - 2007', 'R&D Golden Ale', 'Kapittel Dubbel', 'Le Cheval Blanc Blanche', 'Unplugged Smoked Rye Ale', 'Natty Red', 'KB Double Chocolate Ale  First Edition', 'Dark Hare', 'Apex', 'Steelback Premium Draught', 'Righteous Red', 'Eylenbosch Gueuze', \"Monteith's Doppelbock Winter Ale\", 'Karl Strauss Oatmeal Stout', \"Barley's Barleywine!\", 'Chain', 'Samuel Adams Stony Brook Red (Barrel Room Collection)', 'Landsman Pale Ale', 'Raftman', 'Black Wheat', 'Aecht Schlenkerla Fastenbier', 'Hitachino Nest Celebration Ale', 'Rochester Mills Paint Creek Porter', 'Amarillo Armadillo', \"Robinson's Old Tom Strong Ale\", 'Sly Rye Porter', 'Henry Hudson IPA', 'Honey Cream Ale', 'Strong Ale', 'La Fin Du Monde', 'Key West Golden Lager', 'Helles', \"Emma's Pale Ale\", 'Nimbus Oatmeal Stout', 'Ybor Gold Brown Ale', 'Høst Bryg Kirsebær', 'Great Pumpkin Ale', 'Rapture', 'Casta Morena (Dark Ale)', 'José Martí India Porter - French Oak', \"Drake's Crude\", \"Idiot's Drool\", 'Rainier Ice', \"Churchill's Finest Hour 2010\", 'Hop-a-lot-amus', 'San Lucas Cerveza', 'Barilla Bay Oyster Stout', 'Natte', 'Scratch Beer 1 - 2007', 'Hakim Stout', 'Diablo Rojo', 'Coal Creek Porter', 'Southampton Keller Pils', 'Great American Brown Porter', \"Hunahpu's Imperial Stout - Rum Barrel Aged\", 'Scratch Beer 16 - 2008', 'Bochkarev Krepkoye (Strong)', 'Double Diamond', 'The \"Herc\" C-130 Strong Ale', 'Triple Bag', 'Cantillon Zwanze 2008', 'Jasmine Pale Ale', 'Asahi Mugikaorutoki', 'Cantillon Kriek 100% Lambic', 'Abita Select Doppelbock', 'Moondance IPA', 'Toasted Coconut Porter', 'Bofferding Lager Pils', 'Gold Lager Beer', 'Blue Hills Pub Draft IPA', 'Tuborg Weihnachts Pilsener', 'Midnight Special India-Style Black Ale', 'Regensburger Premium', 'Muskoka Mad Tom IPA', 'Arbor Brewing Jackhammer Old Ale', '3 Coins Malt Lager', 'K-9 Cruiser Winter Ale', 'Chatoe Rogue First Growth Single Malt Ale', 'Slap & Tickle', 'Zlatorog', 'Battlefield Bock', 'Kapel Van Viven Bruin', 'Founders Gold Sunshine', 'Asahi Sparks', 'Coopers Original Pale Ale', 'Westheimer Premium Pilsner', 'La Binchoise Spéciale Noël (Reserve Special - USA)', 'Kitsilano Maple Cream Ale', \"Becky's Black Cat Porter\", 'Nimbus Rillito Red Ale', 'Gilde Lindener Spezial Premium Beer', 'Atwater Salvation IPA', 'Greif-Bräu Weisse', 'Goldspur', 'Black Scotch Ale', 'Amstel Light', 'Dunedin Spatz BarkeyWine Barley Wine Style Ale', 'Polygamy Porter', 'YouEnjoyMyStout', \"Newport Storm '00\", 'White Birch Indulgence Ale', 'Citra DIPA', \"Stoudt's Blonde Double MaiBock\", 'Super Natural Oatmeal Stout', 'Empire Strikes Black Imperial Stout - Beer Camp #6', 'Black Radish Dark Lager', 'Hacker-Pschorr Animator', 'Whiskey Dick Stout', 'Isis', 'Founders Scalawag Old Ale', 'Amstel Lager', 'Kopparbergs Elk Brew X-Strong', 'Embalmer', '668 The Neighbor Of The Beast', 'Mathias Imperial IPA', 'Smokestack Heritage Porter', 'Jurassian Imperial Stout (Cuvée Alex Le Rouge)', 'Evil Twin Before, During And After Christmas Beer', 'Dundee Original Honey Brown Lager', 'La Trappe Dubbel (Koningshoeven / Dominus)', 'Quivering Quail Winter Ale', 'White Zin', 'Rye Of The Tiger', 'Big Hurt Beer', 'Founders Devil Dancer', 'Sweetwater 420 Extra Pale Ale', 'Lengthwise Golden Ale', 'Boson De Higgs', 'Juniper Pale Ale', 'La Tabachéra', 'Rembrandt', \"Mephistopheles' Metamorphosis\", 'Lemongrass Wheat Ale', 'Raspberry Wheat Ale', 'Sunshine Coast Robinsons Hot Chilli Beer', 'Hopportunity Knocks', 'Blue Ball Porter', 'Monon Porter', 'Struis', 'Yorkshire Terrier', 'Mardi Gras Bock', 'Maduro Oatmeal Brown Ale -  Mocha Cubano', 'Sarajevo Beer', 'Amber Tease', \"Monkman's Slaughter Ale\", 'Great Lakes Wolfhound Stout', 'Winter Witte', 'Latitude 48 Deconstructed IPA - East Kent Goldings', 'Dunkel Fester', 'Oyster Stout', \"Farmer Ted's Farmhouse Ale\", 'Brasseurs Et Frères Mort De Rire', 'Coopers Special Old Stout', 'The Corruption', 'Red Trolley Ale', 'Double Double', 'Maduro Oatmeal Brown Ale - Cedar Aged (Humidor Series)', 'Ein Prosit!', 'Hoegaarden Grand Cru', 'Premium Blonde Ale', 'Robert Moses Pale Ale', 'Hillsborough River Dry Stout (Patio Tools)', 'Bischofshof Pils', 'Latter Days Stout', 'Stoudts Winter Ale (2009-2010)', 'Nimbus Nut Brown Ale', 'Market Cross Excalibur Imperial Stout', 'Jack The Quaffer Porter', 'Puget Sound Porter', \"Ne'Tra Gal\", 'B.O.R.I.S. The Crusher Oatmeal-Imperial Stout', 'Winter Wobbler 2011', 'Saison Athene', 'Rye Saison', 'Belikin Stout', 'Ouden Bruinen', \"Barrel-aged Hunter's Point Porter\", 'Batemans Salem Porter', 'Chatoe Rogue First Growth Dirtoir Black Lager', \"Monty Python's Holy Grail Ale\", 'St-Ambroise Citrouille (Pumpkin Ale)', 'Boardwalk Black Rye', 'Mecktoberfest', 'Octoberfest Lager', 'Lips Of Faith - Fall Wild Ale', 'Spiced Cream Ale', 'Incinerator Doppelbock', 'InFamous', 'Singel', 'Bald Eagle Brown', 'Verboten', 'Foggy Bottom Lager', 'Double IPA (Brewmaster Series)', 'Alter Ego', 'Kronenbourg 1664 Millésime', 'Laughing Lab Scottish-Style Ale', 'Big Shot', 'Copper Kettle Weiss', 'Samuel Adams Latitude 48 IPA', 'Hottenroth Berliner Weisse', 'Hades Ale', 'Southampton Golden Lager', 'Overall IIPA', 'Before-After', \"'t Gaverhopke Zingende Blondine\", 'Hopworks IPA', 'Casablanca', 'White Christmas Holiday Bock', 'Svyturys Ekstra', 'Stowaway I.P.A', 'Herkulean IPA', 'Kplus Pivo', 'Tenaya Creek Hop Ride IPA', 'Big Sound Scotch Ale - Rum Barrel Aged', 'Squatters Pumpkin Ale', 'Wild Dog Colorado Saison', 'Mocha Porter', \"Dad's Little Helper Black IPA\", 'Doble IPA', 'European Pilz', 'Blue Dog White Ale', 'Exfeel', 'Elevation ESB', 'Ichtegems Ale (Oud Bruin)', '2XIPA', 'Detmolder Pilsener', 'Kennebunkport Apricot Wheat Beer', 'Goliath Red', 'Arbor Brewing Oatmeal Java Breakfast Stout', '10th Street Cherry Wheat', \"Brewer's Alley Smoked Porter\", 'Tenebreuse', 'Swan Stout', 'American-Belgo Style IPA', 'East Village Amber', 'Hitachino Nest Real Ginger Brew', 'Wapiti Amber Ale', 'Bigger Hop IPA', \"Samuel Smith's Organic Cherry Fruit Beer\", 'Endless Summer IPA', 'Aleworks Altbier', 'Tallulah Blonde', 'Love (Foeder #3)', 'Total Eclipse', 'Voodoo Chile Lager', 'Nutfield Auburn Ale', 'Rex Attitude', 'Larine Grand 95', 'Hofbräu Dunkel', 'Blatz Light', 'Weltenburger Pils', 'Colorado Kolsch', 'Swamp Fox IPA', 'Schorschbräu Schorschbock 40%', \"Centurion's Ghost Ale\", 'Leaderboard Trophy Lager', \"I'm Still Lonely Belgian Single\", 'Aviator Red', 'Jeremiah Red Ale', 'Kölsch-Style Beer', 'Turbo Shandy', 'Ise Kadoya IPA', 'Weltenburger Kloster Barock-Hell', 'Gold Stock Ale', 'Schwaben Pilsner', 'Moon Man', 'Cerveza Jerome Roja', 'Brewer Patriot Collection - Traditional Ginger Honey Ale', 'Cable Car Small Batch India Pale Ale', 'Honey Brown Lager', 'River Horse Belgian Freeze Belgian Style Winter Ale', 'Oil City', 'Mai Bock', 'Dundee Oktoberfest', 'Blackball Belgian IPA', \"Bearded Pat's Barleywine\", 'Founders Double Trouble', 'Founders Death', 'Papier (Brandy Barrel)', \"Pile O' Dirt Porter\", 'Bitter Rain', 'Pumpkin Ale', 'Bière Du Boucanier Golden', \"D'HamNation\", 'Molson Dopplebock', \"King Don's Original Pumpkin Ale\", 'Kannigedda IPA', 'Peoples Pale Ale', 'Skunk-Ape Stout', 'La Granja Stout', 'Barrel Aged Claymore Scotch Ale', 'Karthuizer Ipso Facto', 'Carling Black Label Light', \"The Captain's Porter\", 'Country Club Malt Liquor', 'Hibernator', 'Great Lakes Pumpkin Ale', 'Buzzards Bay Black Lager', 'ABC Extra Stout', 'Latitude  48 IPA', 'Alligator Blackened Lager', 'Porter', 'Tallgrass Buffalo Sweat', 'ESB Ale', 'Glass City Pale Ale', 'Celebration Stout', 'Gulden Draak Quad', 'The Novice Light', 'A. Le Coq Black Beer', 'Black H2O Oatmeal Stout', 'Faxe Premium Danish Lager', 'Slavutich Mitzne', 'Old World Hefeweizen', 'Titan IPA', 'Spitzkrug Pils', 'Tröegs Naked Elf', 'Unplugged Triple', 'Cuvee Jeune', 'Granitbock', \"Pete's Brown (Tribute Ale)\", 'Ramstein Maibock', 'Wladimir II Monomach', 'Moosehead Light', 'Nostradamus', 'Tenaya Creek Hefeweizen', 'County Line - Farmhouse Ale', 'Razorback Red', 'Joshua Norton Imperial Stout', 'Split Rock Bock', 'Svijetlo Velebitsko', 'Steenbrugge Abbey Tripel', 'Organic Revolution', 'Zwickel', 'Legacy IPA', 'Oberdorfer Hefeweizen Hell', 'Engine House Porter', 'Black Sheep Best Bitter', 'Fresh Hop Pale Ale', 'Teufel Bock', 'Mighty Arrow Pale Ale', 'Saison De Pipaix', 'Niksicko Pivo', \"Robinson's Dizzy Blond Light Bitter\", 'Scratch Beer 41 - 2011 (Cacaoabunga Redux)', 'Pabst Genuine Draft', 'Blarney Blonde', 'Buffalo Lager', 'Red, White & Blue', 'Butte Creek Organic Porter', 'Biere De Noel', 'Kiper Pils', 'Blanche De Septembre', \"Rip Roarin' Red Ale\", 'Post Coloniale', 'Mort Subite Cassis', 'Keystone Premium', 'Samuel Adams Imperial Stout', 'IS Imperial Stout', 'Santa Fe', 'Twisted Kilt Scotch Ale', 'Jamaica Stout', 'Good Gourd Imperial Pumpkin Ale', \"Vetter's 33°\", 'Lion Lager', 'Evil Twin Christmas Eve At A New York City Hotel Room (2011)', 'Quarrgnan Stout', 'Ravensbrau Porter', 'DFG IPA', 'American Lager', 'Granville Island Lager', 'Slavutic Yekstra', 'Hacker-Pschorr Münchner Hell', 'Raspberry Blonde', 'Mythical White', 'Dundee Porter', 'Colette Farmhouse Ale', 'Unibroue 16', 'Augustijn Ale', 'Saison De Lente', 'Guzzler', 'C Street Wheat Ale', 'Filibuster Pils', 'The Citizen', 'Evil Twin Molotov Cocktail', 'Kriekbier', 'Limb & Life', 'Staropolskie Zlote', 'Kirkland Signature Belgian White', 'Sierra Nevada Brown Saison', 'High Tide Fresh Hop IPA', 'Kennebunkport Blueberry Wheat Ale', 'Imperial Mild', 'Sierra Nevada Porter', 'Premium Lager', 'Pick Axe IPA', \"Matt's Red\", 'Starr Hill Pale Ale', 'Lech Premium', 'Big City Ice', 'Haagen Lager', 'Raspberry Mead', 'Cantillon Faro', 'Slavutych Khmilne Svitle', 'LAV', 'Dark Mild', 'Maggie', \"My Wife's Bitter\", \"Monteith's Golden\", 'Vitale', 'Munich Eisbock', 'XO Beer', 'Hitachino Nest Weizen', '1731 Dark', 'Triple Fff Pressed Rat & Warthog', 'Belzebuth 8,4', 'Kiss Me Kate', 'Muse Farmhouse Ale', 'Copper Flask', 'Brave Hand IPA', 'Shenandoah Chocolate Donut Beer', 'Trappistes Rochefort 8', 'Slammer Wheat', 'Sea Bass', 'Czech Mate', 'Captain Cooker Manuka Beer', 'Werewolf (Green Label)', 'Red Dragon Smoked Amber Ale', 'Endless Summer Light', 'Pilsen', 'Saison De Suitcase', 'Kujo Imperial Coffee Stout', 'Bourbon Stout', 'Watershed IPA', 'Founders KBS (Kentucky Breakfast Stout)', 'Strawberry Blonde', 'Harvest Hefeweizen', 'White Christmas Belgian Style Wit', 'Imperial Russian Stout', 'Strawberry Harvest Lager', 'Bourbon Barrel Imperial Stout (Signature Series)', 'Hercule Stout', 'Homewood Reserve', 'Voodoo Doughnut Maple Bacon Ale', 'Bourbon Barrel Abominable', 'Alpine Glacier Pilsner', 'Grimousse', 'Lager', 'Horse Piss Beer', 'Provisions Series: Salt Of The Earth', 'Flying Horse Royal Lager', 'Tasman Red IPA', 'Star Spangled Stout', 'Cantillon Saint Lamvinus', 'Steiner Märzen', 'Chatoe Rogue First Growth OREgasmic Ale', 'Beantowne Espresso Stout', 'Genesee Red Lager', \"Hale's Special Bitter\", 'True North India Pale Ale', 'Arbor Brewing Olde Number 22 Alt Bier', 'Molson XXX', 'KLB Raspberry Wheat Beer', 'Cheyenne Canon Pinon Nut Brown Ale', 'Infinium', 'Hopfix', 'Red Stallion', 'Bitter', 'Wisdom Seeker', 'XXX Bitter', 'Iron Rat Stout', 'Heineken Lager Beer', \"Finchley's IPA\", 'R.J. King Wingwalker Pale Ale', 'Wild Range India Pale Ale', 'Atwater Double Down Imperial Amber Ale', 'Carbine Stout', 'Imperial Schwarzbier', 'Lisberger Bock', 'Samuel Adams Brown Ale', 'Orange Blossom Cream Ale', \"Grinch's Grog\", \"Stober's Wedding Celebration\", 'Samuel Adams Imperial Pilsner 2005 Harvest', 'Uerige Doppelsticke', 'Cranberry Saison', 'Sidewinder Ale', 'Wild Dog Barrel-Aged Gonzo Imperial Porter', 'Kennebunkport Pumpkin Ale', 'Victoria', 'Belgo Belgian India Pale Ale', 'Lincoln Lager', 'Hachenburger Pils', 'AleSmith IPA', 'Tall Tale Pale Ale', '100% Barrel Fermented Autumn Maple', 'St-Ambroise Apricot Wheat Ale', 'Chaman', 'Anna-Fest-Bier', 'Real McCoy Amber Ale', \"Franklin's Imperial Stout\", 'Kronenbourg 1664 Cold Premiere', 'Blonde Bombshell', 'Whole Hog Pumpkin Ale', \"Hue's Honey Wheat\", 'Mt. Shasta Ale', \"Brewer's Ale 2008\", 'India', 'Verboden Vrucht  / Fruit Defendu (Forbidden Fruit)', 'Imperial Skärgaards Porter In Cabernet Barrel', '57 Wild', 'Mild Stout', 'Pearl Lager', 'Peak XV Imperial Porter', 'Liberally Hopped Pale Ale', 'Just Outstanding IPA', 'Arbor Brewing Brasserie Blonde Sparkling Ale', 'Big River Vienna Lager', 'Velas Helles', 'Rochester Mills Double IPA', 'Dundee Wheat Beer', 'Vanilla Ice', \"Hunahpu's Imperial Stout\", 'AleSmith Decadence 2008 English Style Barleywine', 'BrewFarm Select', 'Old Man Ale', \"Hoppin' To Heaven IPA\", 'Samuel Adams 3 Weiss Men', 'Founders Newaygo County Cherry', 'Ascension', 'Xyauyù Etichetta Oro (Gold)', 'Elora ESB', 'Munich Dunkel (Tavern Lager)', 'Citra IPA', 'Hitchhiker', 'Lezajsk 1525 Legendary Premium Lager', 'Gratitude', \"Barley's St. Joan's Revenge\", 'NorCal IPA', 'Great Lakes Honey Ale', 'Yankee Jim Honey Lager', \"Frankenlou's IPA\", 'Mugshot IPA', \"Ryan Sullivan's Imperial Stout\", 'Neustadt Lager', 'Hoppy Face Amber Ale', 'Rochester Mills Lazy Daze Lager', 'White Birch Cherry Quad', 'Trafalgar Celtic Ale', 'Blue Moon Summer Honey Wheat', 'Patriot Pale', 'Wet Hop Citra Ale', 'Mission Hefeweizen', 'Hacker-Pschorr Oktoberfest-Märzen', 'Okocim (Zagloba) Premium Beer', \"XS Imperial Younger's Special Bitter\", 'Minoh Stout', 'Mt. Takhoma Blonde Ale', 'Dundee India Pale Ale', 'Hop Knot', 'Porch Swing Single Ale', 'Heidelberger Weihnachtsbier', 'Sweetwater Motor Boat', 'Lake Effect Pale Ale', 'Bohemia Regent', 'Green Flash Grand Cru', '1784', 'Ellicottville Octoberfest Lager', 'Caldera Pale Ale', 'Organic Ur Pils', 'Toña Cerveza', 'Plant To Pint', 'Carlsbad Chronic', 'Hoptimum Double IPA - Beer Camp #19', 'Killer Dana Double IPA', 'Simcoe Pale Ale', 'HUB Lager', \"Brewer's Art Proletary Ale\", 'Kozlak', 'Andechser Doppelbock Dunkel', 'Empress Of India', 'Bar X Stout', 'Abita Select Black IPA', 'Barrel Aged Smoke (Smoked Porter)', 'Ghidorah Double IPA - Beer Camp #29', 'Z Man Stout', 'Hop Whoopin', 'Troegenator Double Bock', 'Bufalo', 'Old Milwaukee Non Alcoholic', 'Sierra Nevada Torpedo Extra IPA', 'Fireside Winter Ale', 'Trafalgar Korruptor', 'Yorkshire Square Ale', 'Canvas Back American Pale Ale', 'Scratch Beer 4 - 2007', 'Glen Ale ( JLS Release #27)', 'Urban Wilderness Pale Ale', 'Jolly Ploughman', 'Whistling Pig Red Ale', 'Tsarry Night', 'Double Bag', 'Shakespeare Oatmeal Stout', 'Man Beer', 'Sgt. Pepper', 'Artisan Saison', 'La Binchoise Brune Tradition', 'La Gaillarde', 'Samuel Adams American Kriek (Barrel Room Collection)', 'Two Tortugas', 'Lips Of Faith - Metric 10/10/10', 'Newport Storm - Elle (Cyclone Series)', 'Blanche de Bruges', 'Big Flats 1901', 'Molson Golden', 'Guinness Foreign Extra Stout (Jamaica)', 'Abbey Belgian Style Ale', 'Rude Parrot', \"I'm So Lonely Belgian Single\", 'Black Dawn Coffee Porter', 'Zagloba Mocne', 'Moosehead Dry Ice', 'Tallgrass Oasis', \"Barley's Centennial India Pale Ale\", \"Brewer's Art Coup De Boule\", 'Ram Tam', 'Red Rye', 'Bornem Triple', 'Motor City Brewing Ghettoblaster', 'Green Flash West Coast I.P.A.', 'Bloody Third IPA', 'Great Lakes Hop Madness (\"Quitness\")', 'Samuel Adams Dunkelweizen', 'Kolsch', 'Red Rye Ale', '1908', 'Wild Raspberry Ale', 'Flying Frog Lager', 'Blackstrap Stout', 'Dawn Patrol Dark Mild', 'Tipperary Pale Ale', 'Wild Warthog Hefeweizen', 'Morimoto Soba Ale', 'Creemore Springs Traditional Pilsner', \"Mahr's Festtags Weisse\", 'Weetwood Best Cask Bitter', 'Meteor Lager', 'Coedo Shikkoku', \"Patrick's Pick Extra Special Bitter\", 'National Bohemian Beer', \"La Trappe Isid'or\", '6 Vs. 44 English Pale Ale', 'Agent Provocateur', 'La Trouille', 'Hardway IPA', 'Hop Rod Rye', 'Presidendi 10', 'Nut Brown Ale', \"Barrel Aged Ryan Sullivan's Imperial Stout\", 'Nero\\x92s Apecchio Red Ale', 'Silver Creek IPA', 'Scratch Beer 17 - 2009', 'AleSmith Speedway Stout - Kopi Luwak', 'Superstition Pale Ale', 'Campeador - Rurik Ale (2010)', 'Melange No. 1', 'Schwarzbier', 'Mach 10', 'Goudale', 'Tröegs Pale Ale', 'Camo Black Extra', 'Butte Creek Organic Spring Ale', 'Seven Mules Kick Ass Ale', 'Bolita Brown - Cedar Aged (Humidor Series)', 'La Rubia', 'Blackberry Scottish-Style', 'Boswell', \"Major Tom's Pomegranate Wheat\", 'Gold Tooth Berliner Weiss', \"Moling's Traditional Red Ale\", 'Caldera Pilsener Bier', \"Henry Weinhard's Blackberry Wheat\", 'Tucson Blonde', \"Elliwill Bière D'épinettes\", 'A. Le Coq Jõuluporter', 'Black Fox Cracked Pepper Saison', 'Crop Circle', 'Old Hooky', 'Atlantic Amber', 'Lips Of Faith - Dark Heather Saison', 'Bieken', 'Saku Originaal', 'Special', 'MN Tan', 'Old Scratch Amber Lager', 'Czechoslovakian Original Lager', 'Foxy Brown', 'Small Patch Pumpkin Harvest Ale', 'Celebration Inverno 2010', 'White Birch Bohemian Edition Tripel', 'Winter Warmer', 'Dry Hopped Abominable Ale', 'Newport Storm Blizzard Porter', 'Brewer (JLS Release #17)', 'Great Lakes Blackout Stout', 'Lengthwise Triple Hop Red', 'Croy Blond', 'Imperial Porter (Brewmaster Series)', 'The Master', 'AleSmith Decadence 2010 English Style Old Ale', 'Shark Bite Red Ale', \"Elves' Elixer 2011\", 'Abbaye De Saint Bon-Chien Grand Cru (Aged In Rhum Barrels)', 'Bir\\x9eie&#269;iu', 'Scheyern Kloster-Gold Hell', 'LongShot Traditional Bock', 'Olympia 95% Malt', 'Coors Non-Alcoholic', 'Onward Irish Stout', 'Wit Bier', 'LongShot Weizenbock', 'La Petite Mort', 'Magnumus Ete Tomahawkus ESB³', 'Muskoka Dark Ale', 'Clay County Coffee Stout', 'Unplugged Enigma', 'Thorny Goat', 'Sierra Nevada Tumbler Autumn Brown Ale', 'Lectio Divina', \"Dad's Pale Ale\", 'Hacker-Pschorr Weisse Bock', 'Nimbus Belgian Gold', 'Founders Amber', 'Tenaya Creek Monsoon', 'Old Orange Old Dummy', 'Rock Ice', 'Julöl', 'Varsity (for Morrells Of Oxford Pub Group)', \"Barbeau L'Audacieuse\", 'Vapeur Vanille', 'Sunshine Coast Robinsons Chilli Beer', \"Bob's Gnarley WIne\", 'Rainforest Amber Ale', 'Winter Warlock Oatmeal Stout', 'I.P.A.', 'Hop Smack - Beer Camp #48', 'Fontaine Du Diable', '4th Anniversary Ale', 'Wild Range Wheat Beer', 'XP Pale Ale', 'Taquamari', 'Carling Black Label Big 10%', 'Lawnmower Lager', 'Otro Mundo Strong Red Ale', 'Ultra Brune', 'Sam Adams Light', 'Lobster Lovers Beer', 'Eichhof Lager', 'AleSmith Nautical Nut Brown Ale', 'Wicked Elf Witbier', 'A. Le Coq Porter', 'Old Chico Crystal Wheat', 'Arbor Brewing HXL', 'Founders Breakfast Stout', 'Maduro Oatmeal Brown Ale - Cubano-Style Espresso', 'Liquid Sunshine Blonde Ale', 'Forst Kronen Speciale', 'Cabin Fever', 'Weltenburger Kloster Urtyp Hell', 'Hopped Up Johnnie', '1837', 'Pilsner Urquell Kvasnicový (Unfiltered Yeast Beer)', 'White Wolf Golden Ale', 'Cask Aid', 'Taps Red Cream Ale', 'Southampton 10th Anniversary Old Ale', 'Longshot Friar Hop Ale', 'Black Phoenix (Chipotle Coffee Ale)', 'Double White Ale', 'Blue Moon Belgian White', 'Wormtown Pumpkin Ale', \"Newcomb's IPA\", 'Inspiration Ale', \"Hunahpu's Imperial Stout - Bourbon Barrel Aged\", 'Buffalo Tap Room India Pale Ale', 'Andechser Hell', 'Morro Bay IPA', 'Molson Canadian Lager', 'Sierra Nevada Kellerweis Hefeweizen', 'Hop Hog', \"Griffin's Bow\", 'Fest Amber Lager', 'Seven Kings', 'Southampton Nut Brown Ale', 'Pabst Blue Ribbon Ice', \"McSorley's Irish Black Lager\", 'Founders Centennial IPA', 'Bourbon Barrel Porter', 'Maierfest Lager', \"Bourbon Barrel Bearded Pat's Barleywine\", 'La Blonde', 'Harvest', 'Weltenburger Kloster Barock Dunkel', 'Bert Grants Lazy Days Pale Ale', 'Breughel Gueuze', 'Mike Duggan #10 Triple', 'Authentique 621', 'Stonehenge Stout', 'Integrity IPA', 'EXXXtra Pale Ale', 'Edgar Lager', 'Samuel Adams 13th Hour Stout', 'Friar Weisse', 'Reserve No. 6', 'Marzen', 'Hyland Amber Ale', \"Barley's Weizen Bock\", 'Markus Brau (JLS Release)', 'Elves Elixer', 'Sinpalsken Blond', 'White Birch Hooksett Ale', 'The Legendary Duff Beer', 'Evil Twin Biscotti Break', 'Orval Trappist Ale', 'Hoogstraten Poorter', 'Tröegs Rugged Trail Nut Brown Ale', 'Fuggles IPA', 'Honey Pilsner', 'Killer Bee', 'Bootleg Raging Bull', 'Adlys Ale', 'Frontier Pilsner', 'Headstrong Munich Lager', \"Hale's Red Menace Big Amber\", 'Pelgrim Bockbier', 'Lucky Lager', \"Brune D'Achouffe\", \"Paul's Black Lager (JLS Release)\", 'ChemoSabe', 'Stormy Water Cream Stout', \"Rajah's Royal IPA\", \"The Colonel's Porter\", 'Collaboration Series: ISO:FT', 'Castle Milk Stout', 'Sweetwater Dank Tank Border Hopper', 'Arbor Brewing Red Snapper Special Bitter', 'Bucksnort Stout', 'Caulier Blonde', \"Paddy's Irish Red\", 'McAuslan Cream Ale', 'Blue Moon Spiced Amber Ale', 'Buzzards Bay West Porter', 'Chatoe Rogue First Growth Wet Hop Ale', 'Newport Storm - Kim (Cyclone Series)', 'Cuir', 'Saint-Omer', 'Horny Goat Exposed', 'Sternquell Pils', 'Karl Strauss Downtown After Dark Brown', 'Forester Pale Ale', 'Diekirch Premium', \"CB's Caged Alpha Monkey IPA\", 'Honey Beer', 'Golden', 'Oyster House Dirty Blonde', 'Schorschbräu Donner Weizen', 'Coyote', 'Chocolate Cherry Porter', 'Imperial Nut Brown Ale', 'Arizona Peach', 'Saison De Beaver-Sour Version', 'Ontario Coast IPA', 'Prophecy', 'Xenu Honey Cream Ale', 'Koerseklakske', 'Lone Star Beer', \"Ol' Red Cease And Desist\", 'Evil Twin Yin', 'Amber Ale - German Style Altbier', 'Puffers Smoked Porter', 'Dublins Irish Ale', 'Barktoberfest', 'White Lightning American Wheat Beer', 'Tomahawk Pale Ale', 'Spring Training IPA', 'Big Sound Scotch Ale', 'Red Ant', 'Pump Room Lager', 'Mort Subite Blanche', \"O'Ryan's Oatmeal Stout\", 'Mexicali Smoke', 'Rig Pig Pale Ale', 'Atwater Dunkel', 'Pike Kilt Lifter Scotch Style Ale', 'Loaded Goat Maibock', 'Raspberry Porter', 'Zhujiang Beer', 'Pintail Pale Ale (double Dry-hopped)', 'Honey Moon Summer Ale', 'Super Baladin Sour Edition 2004', 'Great Lakes Berlot (2010 Beer Week Collaboration With Cellar Rats)', 'Dutch Republic 1581', 'Batemans XXXB', 'Golan Brewery HaGalil', 'Heine The Elder Double Espresso Stout', 'Coqui 900 Premium Malt Liquor', \"Baltic Porter De L'Ancrier Oak Aged\", 'Kichesippi Natural Blonde', 'Hooky Gold', 'ESP (Extra Special Porter)', 'Edge Of Darkness - Beer Camp #12', 'Scratch Beer 2 - 2007', 'Dark Ale', 'Christmas Beeracle', 'Apricot Honey Bitter', 'Svyturys Ekstra Draught', 'Trade Winds', 'Irish Porter', 'Whippet Wheat', 'Oude Tart', 'Hacker-Pschorr Dunkle Weisse', 'Ginga Kogen Wheat Beer', 'Cerveza Jerome Negra', 'Medalla Light', \"Mad Anthony's APA\", \"Hale's Mongoose IPA\", 'Great Lakes Dortmunder Gold', 'Star Beer', 'Natural Blonde Organic Pilsener', 'Belgoo Magus', \"Dr Tim's Traditional Ale\", 'La Terrible', 'Moosehead Lager', \"Stoudt's Winter Ale (2008-2009)\", 'Black Eye PA', 'Lips Of Faith - Dunkel Weiss', 'Lucky Beer', \"Barley's Alexander's Russian Imperial Stout\", 'Una Mas', 'Great Lakes Barrel Select Pils', 'Zoe', 'XS Imperial India Pale Ale', 'Kopparbergs Special Brew X-Strong 7.5%', 'The Pale', '4 Pines Pale Ale', 'Oktoberfest', 'Resolution Ale', 'Hop Hearty Ale', 'Tripel De Lente Sauternes Barrel', 'Weltenburger Kloster Oktober-Festbier', 'Abbaye De Saint Bon-Chien Grand Cru (Aged In Spirit Barrels)', 'Pillowrock Pilsner', 'Mater Witbier', 'Pumpkin Porter', 'Northwest Wheat', \"Pilgrim's Porter\", 'El Diablo Rojo', 'Lips Of Faith - Vrienden (Allagash Collaboration)', 'Founders South Island IPA', 'Banyan Brown Ale', 'Old Redwood Porter', 'Dogtoberfest', 'Wobbly Bob APA', 'South Pacific Lager', 'Double Mocha Porter', 'Coffee Stout (Brewmaster Series)', 'Coup De Grisou', \"CB's Christmas Ale\", 'Het Kerstbier (Green Cap)', 'Fifteen', 'King Heffy Imperial Hefeweizen', 'Kazbegi Hunter Lager', 'Krankshaft Kölsch', 'Monk In The Trunk', 'Pilsner Urquell', 'Hakusekikan Super Vintage', 'Arbor Brewing Blackheath Sweet Stout', 'Bondi Blonde Natural Ale', 'Ne Goeien Saison', 'Tamerlane Brown Porter', 'Four Horsemen Ale', 'Cerise Cassée American Sour Ale', 'Tripel', 'Weizenbock', 'Trafalgar Celebration Ale', 'Tidings', 'Jai Alai IPA - Juniper Cedar Aged \"Twigs And Berries\" (Humidor Series)', 'Headstrong Black & Tan', 'Chernigivske Bile Nefiltrovane', 'Secession Black India Pale Ale (CDA)', 'Mokah', 'Lion Imperial Premium Malt Pilsner', \"Barely's Frambwha!?\", 'Tank Slapper DIPA', 'Tiger Classic Special Edition', 'Guinness Foreign Extra Stout (Africa)', 'Hasseröder Premium Pils', 'Anniversary Porter', 'Old Blarney Barleywine - Chardonnay Barrel Aged', 'Brown Cow Ale', 'Plain Old Porter', 'Hercules Double IPA', 'Indian River Shoal Draft', 'Or', 'Old Oakland Ale', 'Guava Groove', 'Koff III', 'Provisions Series: Tart Of Darkness', 'Captain James Jack Pilsner', 'Seaside Stout', 'GestAlt', \"Crack'd Wheat\", 'Dirty Blonde', 'Founders Yukon Cornelious Spiced Ale', 'Lobster Lovers Beer (Blue Label)', 'Riverdog ESB', 'Black Label Beer', 'Galactic Imperial Red', 'Éphémère (Cranberry)', 'Secret Stash', 'Olympia Beer', 'Cairn', 'Leute Bok', 'Saku Estonian Porter', 'Autumn Harvest Wheat', \"Henry Weinhard's Classic Dark Lager\", 'Acai Berry Wheat', 'Nörten-Hardenberger Pils', 'Heineken Oud Bruin', 'Stone Soup', 'Cantillon Gueuze 100% Lambic-Bio (Organic Gueuze)', 'Hurricane Reef Caribbean Pilsner', 'Amarillo Pale Ale', 'Bulkhead Red', 'Fremantle Pilsner', 'Founders Blushing Monk', 'White Birch Saison', 'Steelback Tiverton Honey Brown', 'Martello Stout', 'Hoptober Golden Ale', 'Sarvara', 'Mass Transit Ale', 'Burning Barrel', 'Nutfield Summer Wheat', 'Casco Bay Winter Ale (Old Port Ale)', 'Frambozen Raspberry Brown Ale', \"Brouwer's Imagination Series Saison 2008\", 'Seven Grain Saison', 'Hopburst IPA', 'Heresy', 'Latitude 48 Deconstructed IPA - Simcoe', 'Buzzards Bay Olde Buzzard Pale Ale', 'Marzen Lager', 'LongShot Double IPA', 'Cornballer', 'Duck Dive Hefeweizen', 'Buzzards Bay Oktoberfest', 'Union Smile', 'Ten Penny Ale', 'Amber Ale', 'Nomad', 'Stockyard IPA', 'Ybor Gold Gaspars Porter', \"Kirley Q's IPA\", 'Trade Winds Tripel', 'Luna Llena', 'Nils Oscar Farm Ale', 'Bufadora', '422 Pale Wheat Ale', 'Hitachino Nest Red Rice Ale', 'Autumn Maple Barrel Aged', \"Marshal Zhukov's Imperial Stout - Brandy Barrel Aged\", 'Smoked Baltic Porter', 'Klinskoye Arriva', 'Humboldt Brown Hemp Ale', 'Rogue Creamery 75th Anniversary Ale', 'Heineken Pilsener', 'Pee Klak Royal', 'Kvass', 'Garde Dog', 'Buffalo Tap Room Amber Ale', 'Pioneer Stout', 'Belgian Enkel', 'Scratch Beer 40 - 2010 (IPA #4 Of 4)', 'Barley Jules ESB', 'Blithering Idiot', 'Devil Dog Pale Ale', 'BluCreek Blueberry Ale', \"Samuel Smith's Organic Strawberry Fruit Beer\", 'La Granja Stout (Ontario Maple Syrup Edition)', 'Quatre-Centième Brassin Commémoratif', 'Key West Sunset Ale', 'Session Ale #08: Kvass 100', 'Samuel Adams Winter Lager', 'Coopers Mild Ale', 'Chocolate Oatmeal Stout', 'Amsterdam Teichert Smoked Porter', 'Pabst Non-Alcoholic', 'Christmas Ale 2011', 'Hop Strike Black IPA', 'Plzen', 'Great Lakes Commodore Perry IPA', 'Essentia Bina', 'Cuir (100% Bourbon Barrel Aged)', 'Club Premium', 'Okto Braü', 'Belgica', \"Longshot Honey B's Lavender Ale\", 'Cerezo', 'Adirondack Abbey Ale', \"Marshal Zhukov's Imperial Stout\", 'Brussels Blonde', 'Stackpole Porter', 'Hoponius Union', 'Desperados Mas', \"Brewer's Alley Oatmeal Stout\", \"Founders Barrel Aged Red's Rye\", 'Butchertown Black', 'Whole Hog Russian Imperial Stout', 'Black Bear XX Stout', 'Lips Of Faith - Transatlantique Kriek', 'Eight Point IPA', 'Celts Golden Ale', 'Old Slipperyskin India Pale Ale', \"Session Ale #19: Black Sumthin'\", 'Taina', 'Kirner Pils Premium', 'Arbor Brewing Batch 1000 Smoked Lager', '2012 Black Ale', 'Red Baron Ale', 'OktoberFish', \"Samuel Smith's Tadcaster Bitter\", 'Dundee English-Style Ale', 'Jai Alai IPA - Cedar Aged (Humidor Series)', 'Beetlejuice Hefeweizen', \"Hogan's Pale Ale\", 'Little Stubby', 'Farmhouse Summer Ale', 'Lindeboom Pils', 'Two Rivers Lager', 'Lips Of Faith - Biere De Mars', 'Earthquake High Gravity Lager', 'Point Classic Amber', 'Black Stag Stout', 'AleSmith Decadence 2007 Imperial Porter Barrel Aged', 'Harveys Sweet Sussex', 'River Horse Hop Hazard Pale Ale', 'Presque Isle Pilsner', 'Crawdad Red Ale', '3rd Eye Triple', 'Hooky  Bitter', 'Queue De Charrue Brune', 'Haver Ale', 'Abbaye De Saint Bon-Chien', 'Neuschwansteiner Weihnachts-Bier', 'Two Brothers Pale Ale', 'Wild Dog Coffee Stout (Batch 2)', \"Warmer Winter Winter Warmer - Laird's Apple Brandy Barrel Aged\", 'Sunrise Belgian Blonde Ale', 'Witte Trappist', 'Sunbru Kölsch-Style Ale', 'Winter Solstice Ale', 'Great Lakes The Wright Pils', 'Issaquah White Frog Ale', 'Scratch Beer 8 - 2008', 'Riegele Alte Weisse', 'Karl Strauss Star Of India Pale Ale', 'Molson Ex Light', 'Unplugged Iced Barleywine', 'Crimson Ale', \"Hale's O'Brien's Harvest Ale\", 'Cuvee Series Three (Oak Aged Series)', 'Boddingtons Bitter', 'Cherry Chocolate Beer', 'John John Juniper', 'Chiller', 'Saxo', 'Scratch Beer 11 - 2008', 'Samuel Adams Boston Ale (Stock Ale)', 'Sierra Nevada Stout', \"Steel Drivin' Stout\", \"Rudolph's Revenge Winter Ale (6%)\", 'Karhu A (IV A)', \"Worthington's Creamflow Draught Bitter\", 'Best Bitter', 'Saison Versa - Beer Camp #30', \"Bert Grant's Imperial Stout\", 'Brown', 'Chocolate Rain', 'Schmitt Ale', 'Optimal Wit', 'Black Hop Rising', \"Jefferson's Reserve Bourbon Barrel Stout\", 'Circle City Wheat', 'Brau Union Sárkány Sör', 'Traverse Brewing Manitou Amber Ale', 'Pike Pale Heirloom Amber Ale', 'Whitetail Golden Ale', 'Belikin Premium', 'Hoptimus Prime', 'Chatoe First Growth Good Chit Pilsner', \"Stoudt's Holiday Reserve\", 'Climax Noel - Imperial Red Ale', 'Skol Lager', 'Bodacious Black & Tan', 'Scratch Beer 7 - 2008', 'Red Zone', 'Wet Willy Scotch Ale', 'ESB', 'Tijuana Morena', '5 Day IPA', 'Snapping Turtle IPA', 'Lakeside British Ale', 'Cucapá Clásica', \"AleSmith Lil' Devil\", 'Greenroom Pale Ale', 'Palmetto Amber', 'Point Defiance IPA', 'Trafalgar Bock Lager', 'Czecko', 'Obscura Amber', 'Dama India Pale Ale', \"Moe's Backroom Pale Ale\", 'Infusco', 'Urchon', 'Black Rock Stout', 'Wildbräu Meistersud', 'Tripel Klok', 'Tröegs Java Head Stout', 'Gosilla', \"Mahr's Christmas Bock\", 'Hefe-Weizen', \"Samuel Smith's, The Famous Taddy Porter\", 'Hit The Trail Ale', \"Rickard's Red\", 'Belzebuth', 'Humulus Lager', 'Hoppe (Imperial Extra Pale Ale)', 'Old Scouters Barley Wine', 'Montauk Light', 'Cerveza Negra Extra', 'Double Wit', 'HotShot ESB', 'Tripel Vision Belgian-Style Ale', \"Brewer's Alley Kölsch\", 'Old Cherry', 'Old Style Light', 'Scratch Beer 31 - 2010 (Citra Of Brotherly Love IPA)', 'Dreher Bak', \"Oma's Altbier\", 'Hot Blooded Foreign Stout', 'Point Special', 'DUIPA', 'Golden Gate Park Porter', 'Barons Lemon Myrtle Witbier', 'Great Lakes Cleveland Brown Ale', 'Olvi Ykkönen', 'Great Lakes Lake Erie Monster', 'White Ale', 'Vanilla Cream Ale', 'White Water Wheat', \"Newport Storm '02\", 'Misery Bay IPA', 'Orange Blossom Pilsner', 'White Birch Wild AKA American Wild Ale', 'Bourbon Barrel Stout (Clay Street Series)', 'Smooth Hoperator', 'Snake Dog IPA', \"Devil's Elbow IPA\", 'Caserne 30', 'Peeper Ale', 'Splinter Gold', 'Hopfenmandli Zuger Lager Hell', 'Kronenbourg Blanc', 'Pure Malt Lager', 'Bohemian', 'Abbaye Des Rocs Spéciale Noël', 'Borgio', 'La Meule', '\"Stout Stoat\" Stout', 'Elephant IPA', 'Knickerbocker Red', 'Lou P Lin IPA', 'Exit 13', \"Johnny's Irish Red\", 'East End Witte', \"Parkins Special Bitter (Brewed For Sainsbury's Supermarket Plc)\", 'Frank Graham Oatmeal Porter', 'Super Natural IPA', 'Hoss', 'Chiostro', 'Great Lakes Schwarzbier', 'Ingver Alus Sarkanais', 'Samuel Adams New World Tripel (Barrel Room Collection)', 'Demon DPA', 'Jai Alai IPA', 'Lobotomy Bock', 'Hop 15', 'Asahi Beijing Beer', 'Unplugged Imperial IPA', 'Ruby Lager', 'Rauchenfelser Steinbrau', \"Samuel Smith's Old Brewery Pale Ale\", 'Tuborg Classic', \"Achievement Beyond Life's Experiences (A.B.L.E.) (Pizza Port San Clemente)\", 'Saison De Pecore (8th Anniversary)', 'British Attack IPA', 'Entire Butt English Porter', 'Imperor Imperial IPA', 'Coors Extra Gold', 'Buzzards Bay Olde Buzzard Lager', 'Founders Homegrown Spite (Mild)', 'Off The Rail Ale', 'Maribo Den Blå', 'St. Peters Festival Ale', 'Mort Subite Kriek', 'Wisconsin Belgian Red', '17th Anniversary Wood Aged Double IPA', 'Falke Tripel Monasterium', 'Kennebunk Porter', \"Newport Storm '04\", \"Kupper's\", 'Skull Splitter Ale', 'Vuja De', 'Springboard', 'Founders Rye Whisky Aged Porter', 'Czar Tar Imperial Stout', 'Lips Of Faith - Dunkelweiss 30°', 'INDIAna Pale Ale', 'Tap Room No. 21 Pale Ale', '\"Jessica & Brendan\\'s\" Bridal Ale', 'Victoria Light', 'Festivity', 'Side-Pocket For A Toad', 'Saison Belgian Style Farmhouse Ale', 'Benediction Ale', 'Dirac', 'Oktoberfest Märzen', 'Old Clam Digger', 'Arbor Brewing Espresso Love', 'Arbor Brewing Big Ben House Mild', 'Schwarzer Steiger', \"Brewer's Art Resurrection\", \"Brewer's Alley India Pale Ale\", 'Mogul Madness (JLS Release #2)', 'Evolution', 'Compass IPA', 'Whitewater Wheat', 'Town Crier', \"CB's English Pale Ale\", 'Hopgasm', 'Déesse Nocturne', 'Dunegrass', 'Southampton IPA', 'Atwater Maibock', 'The Kind IPA', 'Certified Organic Amber Ale', 'White Birch Belgian Style Pale Ale', 'Muskoka FIX Hellas Beer', 'Kalyani Black Label Premium Lager Beer', 'R&D Gueuze', 'Blue Hills Marzen Spring Lager', 'Sour Puss', 'Samuel Adams Weiss Bier', \"30th Anniversary - Fritz And Ken's Ale\", 'Moonstone Oyster Stout', 'Scheherezade', 'Hawaïenne', 'White Out Winter Ale', 'Bernard Celebration Lager', \"Sigda's Green Chili\", 'Picture City Porter Infused With Star Anise', 'Cantillon Blåbær Lambik', 'Asahi Honnama Aqua Blue', 'Black Diamond Imperial Porter', 'Arbor Brewing Phat Abbot Belgian Triple', 'Knightro ESB - Beer Camp #23', 'Scratch Beer 44 - 2011 (Team America)', '21st Anniversary Belgian Strong Ale Aged With Old Vine Zin Grapes', 'Woodie Gold', 'Best Of Beer Camp: Double IPA - Beer Camp #29', \"Newport Storm '07\", 'White Chocolate Espresso Stout', 'Extra Special Oak (ESO)', 'Founders Berserker 37', 'Imperial Cherry Saison', 'Treasure Chest', 'Sunshine Coast Hefeweizen', 'I-10 IPA', 'Kerstmutske Christmas Nightcap', 'Casco Bay RipTide Red Ale', 'Satsuma Harvest Wit', 'Moylander Double IPA', 'Seson', 'C-Note Imperial Pale Ale', 'Samuel Adams Black & Brew Coffee Stout', 'Debauched (Import Series Vol. 5)', '110K+OT Batch #3 - The Other West Coast IPA - Cedar Aged (Humidor Series)', 'Bishops Tippel Trippel', \"Dad's Little Helper Malt Liquor\", 'Cornemuse', 'A. Le Coq Double Bock', 'Euphoria', 'First Snow Ale', 'Thy Ale', 'Canadian Gold', 'Claire Blonde', 'Two Women Lager', 'Marmageddon Porter', 'Golden Chaos Golden Ale', 'Espresso Oak Aged Yeti Imperial Stout', 'Trois Filles Tripel', 'Oak Creek Pale Ale', 'Pioneer Doublebock', 'Jaded (Import Series Vol. #3)', 'Faxe Strong', 'Molson Canadian 67 Sublime', 'Sierra Nevada Crystal Wheat Beer', 'Rogue Ten Thousand Brew Ale (Brew 10,000)', 'Sticke It To The Man', \"Solstice D'hiver\", 'O.K. Beer', 'Club Premium Lager', 'LadyFace IPA', 'Brahma Extra', 'Vapeur En Folie', 'Blacksox Porter', \"Founders Red's Rye PA\", 'Auerhahn-Bräu Bütten Alt', 'AleSmith Wee Heavy', 'Gintarinis', 'Jacob Best Pilsner', 'Balto Heroic Lager', \"To The 9's\", 'Scratch Beer 27 - 2010 (Cocaoabunga)', 'River Horse Special Ale Amber', 'Alt', 'Summer Buzz Honey Wheat Ale', '440 Pepper Smoker', 'Hyland Dark Harvest Ale ESB', 'Class V Stout', 'Cascade I.P.A.', 'Hop Suey', 'The Gift (WinterBock Lager)', 'Barrel Aged Old Ruffian', 'Fumisterie', 'Bebop Blonde Ale', 'Cantillon Zwanze 2010', 'Racer X', 'Atwater Voodoovator', 'Black Wattle Superior Wattle Seed Ale', 'Brahma Malzbier', 'Great Lakes Loch Erie Scotch Ale', 'Black Rocket Porter', \"'Pooya Porter\", 'Voyageur Des Brumes', 'Fantapants', 'Welcome Back Wipeout', 'Hitachino Nest Extra High (XH)', 'Regatta Golden', 'Muskoka Harvest Ale', 'Saison Harvest Ale', 'Kennebunkport Wheat Beer - KBC Wheat Beer', 'Cantillon Don Quijote', 'Fraile', 'Evil Twin Ashtray Heart', 'Küppers Kolsch', 'Nils Oscar Coffee Stout', \"Sean's Super Nugget IPA\", \"Plowman's Ale\", \"D' Inn'Staade\", 'Neil Armstrong Ale', 'Samuel Adams Cherry Wheat', 'Samuel Adams Cream Stout', 'Lost Sailor IPA', 'St. Rogue Red', 'Abracadabra Brown Ale', 'Arbor Brasserie Blonde Belgian', 'Dreher Classic', 'Genny Light', 'YuleSmith (Winter)', \"Rosée D'hibiscus\", 'Point Honey Light', \"Rickard's Dark\", 'No Coast IPA', \"Rickard's Honeybrown\", 'Nils Oscar Hop Yard IPA', 'Ovila Abbey Dubbel', 'Blue Hills Xtra Pale Ale', 'Maelstrom IPA', 'Whole Hog Six Hop IPA', 'Wit Belgium White Beer', 'Sierra Nevada Pale Ale', 'Peculiar', 'S1nist0r Black Ale', 'Perla Chmielowa (Hop Pearl)', 'Golden Eagle Ale', 'Irish Amber', 'Pays Du Soleil', 'Monster Mash', 'Old Milwaukee Beer', 'Batemans Marie Celeste', 'RIP - Russian Imperial Porter', 'Cucapá Chupacabras Pale Ale', 'Newport Storm - James (Cyclone Series)', 'Samuel Adams Holiday Porter', 'Gold Beer', 'Redhawk Ale', 'Chocolate Mint Stout', 'Kona Moon Porter', 'John John Dead Guy Ale', 'Good Grief Brown Ale', 'Port Barrel Odin', 'Oak Creek Hefeweizen', 'Mogli', \"CB's St. Patricks Ale\", 'Capsicum Stout', '8 Second IBA', 'Dunedin Nitro Stout', 'Barons Extra Special Bitter', 'Black Saison', 'Southampton West Coast Steam Beer', 'Beerlao Lager', 'Samuel Adams Chocolate Cherry Bock', 'Shotgun Betty', \"Gayle's Pale\", 'Black Snow Coffee Porter', 'Thirteen', 'Fullsuit Belgian-Style Brown Ale', 'Abbaye Des Rocs Grand Cru Belgian Special Brown', 'Ölsch', 'Brahma Light', \"Samuel Smith's Old Brewery Extra Stout\", 'Deluxe Organic Ale', 'Bowes Original Lager', 'Rousse Speciale', 'Thunder', 'Piedmont Pilsner', 'Grand Cru Winter Reserve', 'Weizen Berry', 'Old Godfather Barley Wine-Style Ale', 'Oak Aged Old Ruffian Barley Wine', 'Augustijn Brune', 'Ginger Beer', 'X-Mas Zinnebir', 'Unplugged Sour Brown Ale', 'Maduro Oatmeal Brown Ale - Vanilla', 'Commercial Suicide', \"CB's Double Dark Cream Porter\", 'New Dublin Brown Ale', 'XXXX Gold', 'Dubbelicious', 'Red Light Raspberry Ale', 'Karl Strauss Parrot In A Palm Tree Holiday Baltic Porter', 'Aiko Pale', 'Gage Roads Wahoo', 'Thumb Print IIPA', 'Beck Feinherbes Pils', 'Endeavor IPA', 'Castle Lager', 'Williwaw IPA', 'Molson Kick', 'Pilsner Lager', \"Stoudt's Weizen\", 'Genesee Cream Ale', 'Bearings Draught', 'Old Credit Amber Ale', 'I Love PA', 'Great Lakes Moondog ESB', 'White Birch Colonial Ale', 'Uosto Pale', 'Three Beavers Imperial Red Ale', 'Formula 48 IPA', 'Folklore (aka 25 To One)', 'Samuel Adams Secret Ale', \"Ram's Head India Pale Ale\", 'Kilt Lifter Scottish Style Ale', 'Celtic Irish Red', 'Corolla Gold Helles Lager', 'Berthold Keller Premium Lager', '12 Horse Ale', 'Old Style', \"Pikop Andropov's Rushin' Imperial Stout\", 'Prime Max', 'Gully Washer Winter Ale', 'York Bitter', 'Old Sol Wheatwine Ale', 'Eastern Sierra Lager', 'Sweetwater Dank Tank BSP Quad Ale', 'Old Man (Winter Ale)', 'St. Sebastiaan Grand Cru', 'Watermelon Wampatuck Wheat', 'Red Stripe Light', 'King Coconut Porter', 'Oak Aged Pumking', \"Devil's Post Pale Ale\", 'Tap It IPA', 'KLB Cream Ale', 'Hop Head Ale', 'Bullant Bitter', 'Beaver Stubble Stout', 'Okocim Mocne', 'Meta Export Lager', 'SAVOR Flowers', '1812 India Pale Ale', 'La Brunante', 'Wineglass Bay Hazards Ale', \"L'Amarante\", 'Calapooia Barleywine', 'Berkshire Weiss', 'James Ready 5.5', \"Roscoe's Hop House Original India Pale Ale\", 'Diekirch Christmas', 'Haymaker', 'Doppel Caramel', 'HopCat Zugspitze', 'Founders All Day IPA', 'Kriek Classique', '\"Old Yeltsin\" Imperial Stout', 'Scratch Beer 15 - 2008', 'R.J. King Wingwalker Winter Brew', 'Mango Mama', 'Gemini (Imperial Blended Ale)', 'Miami Weiss', 'Blue Bridge Double Pale Ale', 'Mystic Saison', 'Cantillon Lou Pepe - Gueuze', 'Cucapá Barleywine', 'Lips Of Faith - Le Fleur Misseur?', 'Oktoberator', 'Alpha Deuce IPA', 'Anchor Pilsener', 'Where Lizards Dare', 'Rumble IPA', 'Big Ticket Double IPA', 'Founders Sappy Slappy Bastard', 'Jean Chris Nomad 2011', 'Summer 2010 Vintage - Blackberry', 'Old Bat Rastard', 'Ovila Abbey Saison', 'Mommeriete Speciaal Rookbier', 'Bug Jar Brown Hornet Ale', 'Iron Works Alt', 'Shipwrecked', 'Black 47 Stout', 'Alley Kat Coffee Porter', 'Orchard White', 'Hacker-Pschorr Kristall Weisse', 'City Pale Ale', 'Samuel Adams Pale Ale', 'Honey Pale Ale', 'Sweetwater Hummer', 'Great Lakes Big Black Smoke', 'Ysta Färsköl 3,5', 'Elora Irish Ale', 'Hoppy Holidays', 'Nimbus Pale Ale', 'Tiny', 'Mountain Goat The Craig', 'Rigor Mortis ABT', 'Milwaukee Premium Brewing Company Classic Ice', 'River Horse Lager', '7 Threads Symposium Ale', 'Sundby Stout', 'Meister Pils', 'November', 'Sweetwater Barrel-Aged Ron Burgundy', 'Saku Tume', 'Somersault', \"Samuel Smith's India Ale\", 'Plum Street Porter', 'Starkenberger Tiroler Märzen', 'Pale', 'Claymore Scotch Ale', 'Thames Welsh ESB', \"Monteith's Black\", 'Vapeur D Antan', 'Trapp Vienna Lager', 'Iniquity (Imperial Black Ale)', 'Swamp Ape IPA', 'Sierra Nevada Hellraiser Chocolate Chili Imperial Stout', 'Kamenitza 1881', 'Doppel Dunkel Weisen Heisen', 'Super Happoshu No. 2', 'Certified Extra Pale Ale', 'Piels', 'Lightning Storm', 'Keystone Lager', 'Scratch Beer 47 - 2011 (Wit [or Witout] Two)', 'Grand Cru', 'Crazy Ivan', 'Caldera IPA', 'Dark Lord', 'Gordon Halloween', 'Scratch Beer 3 - 2007', 'Pike Tandem', 'Aurora Amber Ale', 'Frankenhammer', 'Alpine Glacier Lager', 'Holiday Imperial', \"O'Hara's Leann Folláin\", 'Mike Duggan #09 IPA', 'Exit 6', 'Samuel Adams Harvest Pumpkin Ale', 'Midnight Run India Black Ale IBA', 'Imperial Espresso Porter', 'Wheat Wine Ale', 'Waiheke Island Wharf Rd', 'Side Pocket High Gravity Ale', 'Bravoure', 'Barrel Aged Frosted Frog Christmas Ale', 'Orgemont Brune', \"Rickard's Pale Ale\", 'Rose De Cambrinus', 'Sue', 'Winter Ale', 'Lips Of Faith - Ooh La La!', 'Nils Oscar Barley Wine', 'Scratch Beer 6 - 2007', 'Oettinger Hell', 'Benchwarmer Porter', 'Colt 45 Double Malt Liquor', 'Hop Dam Triple IPA', 'Colón Light', 'Tripel Van De Garre', \"Brewer's Alley 1634 Ale\", \"Puller's Pils\", 'AleSmith Speedway Stout', 'Stillwater Barrel-Aged Existent', 'Black Label 11-11 Malt Liquor', 'White Water Wheat Beer', 'Sierra Nevada Blonde Ale', 'Lasko Club', 'Of Love & Regret (Import Series Vol. #1)', 'Victoria Frost', 'Peacemaker Pale Ale', \"Monteith's Celtic Red\", 'Wampatuck Wheat', 'Noël Des Géants', 'Sweetwater Happy Ending Imperial Stout', 'Curmudgeon IPA', 'Ichthysaur IPA', 'Lizard Head Red', 'Birra Al Farro', 'Mishawaka Kolsch', 'Bourbon Barrel Aged Payback Porter', 'Founders Kaiser Curmudgeon', 'Weihnachtskatze', \"Stoudt's Fat Dog Stout\", 'Aecht Schlenkerla Rauchbier Weizen', 'Carling Beer', \"DeGroen's Maibock\", \"Einer's Folly Vanilla Imperial Porter (Holiday Wine Cellar's 45th Aniv Ale)\", 'Ename Tripel', \"Veldensteiner Zwick'l\", 'Adriaen Brouwer Audenaerds Bruyn', 'Lunch', \"Lil's Pils\", 'Sax-a-Pale Ale', 'Founders CBS Imperial Stout', 'Double Berry Wheat', 'Xfume', 'Black Beer Stout', 'Wild Rose Brown', 'Zipfer Original', 'Lake Placid India Pale Ale', 'Newport Storm Spring Ale', \"Newport Storm '08\", 'Aphrodisiaque', 'Corps Mort', \"Brewer's Alley Hefe-Weizen\", 'Gem', '2nd Anniversary Double IPA', 'Racer 5 India Pale Ale', 'Oatmeal Stout', 'Black Forest Schwarz Beer', 'Sunshine Coast Bitter', 'Stout', 'Pentucket Porter', 'Sierra Nevada Chico Estate Harvest Wet Hop Ale (2008)', 'Red Giant', \"DeGroen's Dunkles\", 'OMB Copper', 'Founders Dirty Bastard', 'Arbor Brewing Tree Fort Beer', 'Samuel Adams Revolutionary Rye Ale', 'Kilkenny Irish Cream Ale', 'Bullant Midland Fettler', 'Tahoe Blue', 'Sweetwater Exodus Porter', 'Winter White (Brewmaster Series)', 'La Binchoise Bière Des Ours (Berenbier)', 'Vichtenaar', 'Palone', 'Dark Knight', 'Tikka Gold', 'Percussion Porter', 'Tremblay', 'Whiskey River IPA', 'La Rullés Estivale (Bière De Gaume)', 'Curim Gold Celtic Wheat Beer', 'Rampage Imperial IPA', 'Tatonka Stout', 'Prohibition Ale', 'Scoresby Stout', 'Aiko', 'Southampton Pale Ale', 'Hurricane Hefeweizen', 'Presidential Blonde Bock', 'St. Croix Anniversary Sour', 'Arbor Brewing Velvet Hammer', 'Prima Donna', 'Double Triple', \"Nor'Cal\", 'Iron Rat Imperial Stout', 'Markgrafenbräu Export', 'Pike Entire - Wood Aged Stout', 'Celebrator', 'Éphémère (Apple)', 'Blueberry Wheat', 'Black Lager', 'Samuel Adams Imperial White', \"Brewer's Blackbird Black IPA - Beer Camp #27\", 'Stock Porter', 'Red-Eye P.A.', 'Blackberry Wheat', 'Dernière Volonté', 'Able Danger IPA', \"Coopersmith's Not Brown Ale\", 'Ramstein Winter Wheat Eisbock', 'Fischer LaBelle', 'Équinoxe Du Printemps', 'Carling Black Label', 'Syuzan Kaido Beer - Weizen', 'Helheim Black India Pale Ale', \"McSorley's Black & Tan\", 'Legend Of The Liquid Brain', '110K+OT Batch #1 - Der Rauch Gott', 'Green Flash Anniversary Ale 2004', 'Sweet Child Of Vine', 'Torobayo Pale Ale', 'Cambridge Amber', 'Minaret ESB', 'Standard Ale', 'Skid Mark (OB)', 'End 09', 'Amstel Bright', 'St. Sebastiaan Grande Reserve', 'Old Ruffian Barley Wine', 'Elm City Lager', 'Harar Beer', 'Montagnarde Altitude 6', 'Founders Noble Lager', 'Solstice', 'Saison Vice - Beer Camp #30', 'Olympia Gold', 'APA', 'Amber Lager (Archive Series)', 'Gruut Bruin', 'Tundrabeary Ale', 'Nils Oscar Imperial Stout', 'Southampton Imperial Baltic Porter', 'Flemish Red Ale Grand Cru', 'Devassa Loura (Tropical Lager)', 'I.C. Light', 'Lucky Number High Gravity Lager', 'Monkey Head', 'AmeriBelg Pale Ale', 'Butte Creek Organic Pilsner', 'Staropolskie Mocne', 'Great Lakes Burning River Pale Ale', 'Raspberry Pils', 'Réserve', 'Uerige Altbier (Classic)', 'Heritage Premium Lager', 'Jagged Edge IPA', 'Lokal', 'Guinness (Ghana)', 'Fruitesse Kriekbier', 'White Birch Barrel Aged Morning Breaks', \"Samuel Smith's Imperial Stout\", 'American Amber Ale', \"Dann's Wild Belgian Amber\", 'Bibb City Blonde', 'Cleansing Ale', 'Homerun APA', 'Kingfisher Blue', 'Amstel 1870', 'Game Day Ice', 'SOS (Save Our Shore)', 'Harveys Blue Label', 'Organic Münster Alt', 'Cantillon Rosé De Gambrinus', 'Taybeh Golden', 'Southampton Grand Cru', \"Santa's Little Helper\", \"Sainte Colombe Bière D'Hiver\", 'Cantillon Lou Pepe - Framboise', 'Lips Of Faith - Imperial Berliner Style Weisse', 'Samuel Adams East-West Kölsch', 'Golden Ale', \"McSorley's Ale\", 'Derailed Black Cherry Ale', 'La Binchoise Rose Des Remparts', 'Provisions Series: Cuádruple', 'Slavutych Pivo (Slavutich Premium)', 'Fischer Tradition Blonde', '62 Pilsner', 'Founders Red Eye Amber Ale', 'Provisions Series: Iniquitous', 'Ryevalry', 'Founders Bad Habit Belgian Quad', 'Corne Du Diable', 'Mandarin Orange Amber Ale', 'Chakra', 'Coopers Extra Strong Vintage Ale', 'Atwater Cherry Stout', 'Exit 1', 'Lions Winter Ale', 'Hop Warrior Imperial IPA', 'Bolt', 'Primo', \"Naughty Nellie's Ale\", 'Repoterroir Collaboration Lager', 'Lightning Bolt Gold', 'Dorée', 'Huckleberry Ale', 'Weize Guy Light Hefeweizen', 'Scallywag Extra Pale Ale', 'Bernard Sváte&#269;ní Le\\x9eák', 'Original Oettinger Pils', 'Belgian White', 'Bête Noire', 'Brewers Reserve Belgian-Style Quad', 'Stag', 'La Blanche De Laval', 'Ten Penny Old Stock Ale', 'Newport Storm - Brent (Cyclone Series)', 'Imperial Smoked Porter', 'Blunderbuss Barley Wine', 'Clasica', 'Cap Espoir', 'Chocolate Oak Aged Yeti', 'Jai Alai IPA - Papaya', 'Griffintown Montréalaise', 'Olympia Ice', \"Grumpy's Oatmeal Stout\", 'PA Dutch Dunkel Brewers Reserve', 'Sakara Gold', 'Slaapmutske Blond', 'Founders Black Rye', 'Rauchbier', 'Sweetwater Dank Tank Fresh Sticky Nugs', 'Samuel Adams Triple Bock', 'Jennings Sneck Lifter', 'La Vie De Château', \"Monk's Cafe Cuvee De Monk's Gueuze\", 'The Vixen Chocolate Chili Bock', 'Old Milwaukee Light', 'Yankee Jim Honey Ice', 'Bitto Honey IPA', 'Steelhead Red', 'Kipling Light', 'Karl Strauss Amber Lager', 'Blonde Ale', 'Lobkowicz Prince', 'AleSmith Decadence 2007 Imperial Porter', 'Ise Kadoya Stout', 'Brown Mountain Light', 'Tanilla Porter', 'Vienna Gold', 'Saison Du Chene', 'Sierra Nevada Estate Brewers Harvest Ale', 'Gradisca', 'Provisions Series: Imperial White Orchid', \"L'Orgasme\", '????? (Hayama Beer)', 'AleSmith Horny Devil', 'Lighter Shade Of Pale', 'Loup-Garou', 'Bareville Pilsner', 'Dundee Stout', 'Taurino', 'Imperial Cherry Amber Ale', \"Coopersmith's Albert Damm Bitter\", 'Premium', 'Earth Thirst Double IPA', 'Smoke Ale', 'Mischief Gone Wild', 'Samuel Adams Utopias MMII', 'Ijnde Jaars', 'Caracole Ambrée', 'Loch Leech Monster', 'Wheat', 'Unplugged Imperial Weizen', 'Dundee Pale Bock Lager', 'Mean Old Tom', 'St.Galler Klosterbräu', 'Morning Wood IPA', 'Hitachino Nest Amber Ale', 'Torrey Pines IPA', 'R & R', 'Tango', 'Ginseng Porter', 'Founders Frangelic Stout', \"Caffrey's Premium Beer\", 'Riserva', 'Bayer', 'Buzzards Bay Golden Ale', 'Great Lakes York Street Bitter', 'La Blonde Du Boss', 'Jonas Porter', 'Hyland American Pale Ale', \"DeGroen's Weizen\", 'Oak Creek Pullman Porter', 'Mountain Street Wheat', 'Palabre Du Bot\\x92Aouelle', 'Hopcicle Double IPA', 'Amstel Malt', 'Palapa Pale Ale', 'Pabst Blue Ribbon Light', 'Hitachino Nest White Ale', 'Interurban IPA', 'English Bay Pale Ale', 'Pabst Blue Ribbon Extra Light', 'Mesabi Red', 'XXXX DL Lager', 'Nils Oscar Sorachi Blond', 'German Wheat Ale', 'Hops Infusion', 'Distelhäuser Hefe-Weizen', 'Anniversary Tripel 2008', 'Firehouse Blonde', 'Gulden Draak Vintage', 'Camo Black Ice', 'Obispado', 'Kronenbourg 1664 Gold', 'Triple Exultation', 'Cowabunga Cream Stout', 'Dank Imperial Red', 'Antwerp Belgian', 'Big Rapids Ale', 'Tennoz Wheat Ale', 'Quasar Double IPA', 'Scratch Beer 45 - 2011', 'Camo Silver ICE', 'Nelson Sauvin', 'Karl Strauss Scotch Ale', \"Hunahpu's Imperial Stout - Virgin Oak Barrel Aged\", 'Scratch Beer 39 - 2010 (IPA #3 Of 4)', 'Cozumel Loaded Goat', 'Jubel', 'Saison (Bottle)', \"O'Keefe Ale\", 'Wayan', 'The Highland Flame', 'Old Mill Lager', 'Frank Jones Ale', 'Lysée Dorée', 'Decadence', 'Imperial Gold Malt Liquor', 'Thunder Holt', 'Karg Weißbier Hell', 'HopFish IPA', 'Hopsplosion!', 'Cuvée Du 7ème', 'Big Dog Double IPA', 'Decade India Pale Ale', 'Groundswell', \"CB's Canandaigua Lake Ale\", 'M&S Christmas Ale', 'Black Powder Stout', 'Chimay Grande Réserve (Blue)', 'König Ludwig Dunkel', 'Rockhopper IPA', \"Professor Gesser's Mind Numbing Ale\", 'Petite Orval', 'Caldera Oatmeal Stout', 'BlackFish', \"Brewer's Art Green Peppercorn Tripel\", 'Notch Session Pils', 'Atwater Grand Circus IPA', 'Fat Squirrel Ale', 'Kirkland Signature Amber Ale', 'Six Point Star Golden American Lager', 'Great Lakes Rockefeller Bock', 'Vastas Velvet Stout', 'Risky Biscuit Barleywine', 'Itaipava Pilsen', 'Kilt Lifter Scotch Ale', 'Casta Bruna (Pale Ale)', 'Hemp Hop Rye Amber Ale', \"Hale's Pale Ale\", 'Asahi Shinnama 3', 'KGB', 'La Maitresse', 'Weltenburger Hefe-Weissbier Dunkel', 'Grand Imperial Porter', 'Thomas Jeffe-Weizen', 'Fire Drake Barleywine', 'Aprikat', 'Hop Box', 'Goats Breath Bock', 'Pumpkin Pie Spiced Ale', 'Pigs Fly Pale Ale', 'Green Flash Extra Pale Ale', 'Loopy Lupulin Double IPA', 'Presidio India Pale Ale', 'Steam Whistle Pilsner', 'Mill Race Mild', 'Savannah Fest Beer', 'Creme Brulee (Imperial Milk Stout)', 'Diebels Pils', 'Dark Hollow Artisanal Ale', 'Mountain Goat Steam Ale', 'Harveys Tom Paine Original Old Porter', 'H&#333;jun Shitate Classic Ale (Cedar Aged) Brewed For Isetan', 'Mousel Premium Pils', 'Old Slugger', 'Sunshine Coast Robinsons Ginger Kegs', 'Olde Brick Alt', 'Carling Black Label Suprême 8.0%', 'Hefe', 'Southampton Altbier', 'Papier', \"Stoudt's Double IPA (India Pale Ale)\", 'Baadog', 'Pike Tandem Double Ale', '12 Dogs Of Christmas Ale', 'Julius', 'Heller Hound Bock Beer', 'Loft', 'Nutfield India Pale Ale', 'Puget Sound Vanilla Porter', 'Raging Bitch Belgian-Style IPA', \"Hunahpu's Imperial Stout - Laird's Apple Brandy Barrel\", 'Ohota Krepkoye (Strong)', 'Rheingold Beer', 'Trippel Belgian Style Ale', 'Indian Pale', 'Black Onyx Stout', 'Raspberry Lambic', '3 French Hens', 'Gandhi-Bot Double IPA', \"Brewer's Art Cerberus Tripel\", 'Wild Mild', 'Hansa Imported Dortmunder', 'Fish Paralyzer', 'Swag And Tails English Brown Ale', 'FestiveAle', 'AleSmith Evil Dead Red', 'Harvester Jim', 'Atomium Grand Cru', 'Mohawk Barley Wine', 'Seven Hills Pale Ale', 'La Trappe Tripel (Koningshoeven / Dominus)', 'Schweinsbräu Gold', \"Green Flash Palate Wrecker (Hamilton's 2nd Annie Ale)\", 'Radegast Premium', 'Night Train', 'Fischer Bière Speciale', 'Creemore Springs UrBock', 'St. Sebastiaan Golden', 'Kopernik', \"La Folie Falling Rock's 10th Anniversary\", 'Pumpkin Imperial Spruce Stout', 'Finkbräu Pilsener', 'Muskoka Craft Lager', 'La Folie', 'Little Korkny Ale (Niepoort Port Barrel Aged)', 'Warning IPA', 'Blonde Ambition', 'Yellowjacket Pale Ale', 'Anniversary IPA', 'Beaver Tail Blonde', 'Xyauyù Etichetta Rame (Copper)', \"O'Hara's Irish Red\", 'Kripple Dick', 'Session Blonde', 'Choklat', 'Halida Beer', \"Brewer's Reserve Munich Dark Lager\", 'Bluebelly Barleywine', 'Monticello Reserve Ale', 'Tröegs Hopback Amber Ale', 'Shaughnessy Stout', 'Ambree Speciale', 'Casta Dorada (Golden Ale)', 'Chasing Tail Golden Ale', 'Bootleg Sou West Wheat', \"Bhagwan's Best IPA\", 'Cucapá Obscura'}\n"
          ],
          "name": "stdout"
        }
      ]
    },
    {
      "cell_type": "code",
      "metadata": {
        "id": "ZP7u1_9ZCjHx",
        "colab_type": "code",
        "colab": {}
      },
      "source": [
        ""
      ],
      "execution_count": 0,
      "outputs": []
    }
  ]
}