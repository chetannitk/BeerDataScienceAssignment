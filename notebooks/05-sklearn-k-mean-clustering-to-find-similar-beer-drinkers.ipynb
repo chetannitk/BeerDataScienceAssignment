{
 "cells": [
  {
   "cell_type": "markdown",
   "metadata": {
    "colab_type": "text",
    "id": "view-in-github"
   },
   "source": [
    "<a href=\"https://colab.research.google.com/github/chetannitk/BeerDataScienceAssignment/blob/master/notebooks/04-k-mean-clustering-to-find-similar-beer-drinkers.ipynb\" target=\"_parent\"><img src=\"https://colab.research.google.com/assets/colab-badge.svg\" alt=\"Open In Colab\"/></a>"
   ]
  },
  {
   "cell_type": "markdown",
   "metadata": {
    "colab_type": "text",
    "id": "_KeSXgV-8YKi"
   },
   "source": [
    "<div class=\"alert alert-success\">\n",
    "    <h1> Beer Data Science Assignment <br/></h1>\n",
    "    K-mean clustering to find similar group of beer drinkers.\n",
    "</div>\n"
   ]
  },
  {
   "cell_type": "code",
   "execution_count": 1,
   "metadata": {
    "colab": {
     "base_uri": "https://localhost:8080/",
     "height": 122
    },
    "colab_type": "code",
    "id": "M54Jfmer8YKk",
    "outputId": "9dec37af-e9b9-4ab5-f008-20759ca6fda4"
   },
   "outputs": [],
   "source": [
    "from IPython.display import HTML\n",
    "import pandas as pd\n",
    "import os\n",
    "import numpy as np\n",
    "from datetime import datetime\n",
    "import wordcloud\n",
    "import warnings\n",
    "import seaborn as sns; sns.set()\n",
    "import matplotlib.pyplot as plt\n",
    "from tqdm._tqdm_notebook import tqdm_notebook\n",
    "tqdm_notebook.pandas()\n",
    "warnings.filterwarnings('ignore')\n",
    "\n",
    "BASE_PATH = \"../\"\n",
    "INPUT_DATA_PATH = os.path.join(BASE_PATH, \"data/raw/BeerDataScienceProject.csv\")"
   ]
  },
  {
   "cell_type": "code",
   "execution_count": null,
   "metadata": {
    "colab": {
     "base_uri": "https://localhost:8080/",
     "height": 34
    },
    "colab_type": "code",
    "id": "0n4Zed3z8YKp",
    "outputId": "52361868-49c5-4b62-e53b-41c5b0baa2e6"
   },
   "outputs": [],
   "source": [
    "## Upload BeerDataScienceProject.csv file from local system.\n",
    "import zipfile\n",
    "from google.colab import drive\n",
    "\n",
    "drive.mount('/content/drive/')\n",
    "\n",
    "zip_ref = zipfile.ZipFile(\"/content/drive/My Drive/data/BeerDataScienceProject.zip\", 'r')\n",
    "zip_ref.extractall(\"/tmp\")\n",
    "zip_ref.close()"
   ]
  },
  {
   "cell_type": "code",
   "execution_count": 2,
   "metadata": {
    "colab": {
     "base_uri": "https://localhost:8080/",
     "height": 187
    },
    "colab_type": "code",
    "id": "7jaSmyo8_2Sm",
    "outputId": "d3fee9d7-d1a5-4150-b10a-25e2b5b75bcd"
   },
   "outputs": [
    {
     "name": "stdout",
     "output_type": "stream",
     "text": [
      "total 60\r\n",
      "drwx------ 3 root     root     4096 Jun  1 16:03 systemd-private-7b8394c3094347b783aa86ee65a3c8aa-systemd-resolved.service-qQI2cV\r\n",
      "drwx------ 3 root     root     4096 Jun  1 16:03 systemd-private-7b8394c3094347b783aa86ee65a3c8aa-systemd-timesyncd.service-Y0nCvX\r\n",
      "drwx------ 3 root     root     4096 Jun  1 16:03 systemd-private-7b8394c3094347b783aa86ee65a3c8aa-ModemManager.service-lQxy3b\r\n",
      "drwx------ 3 root     root     4096 Jun  1 16:04 systemd-private-7b8394c3094347b783aa86ee65a3c8aa-redis-server.service-ERAkfu\r\n",
      "drwxr-xr-x 3 www-data www-data 4096 Jun  1 16:04 www-data-temp-aspnet-0\r\n",
      "drwx------ 3 root     root     4096 Jun  1 16:05 systemd-private-7b8394c3094347b783aa86ee65a3c8aa-rtkit-daemon.service-UNNFok\r\n",
      "drwx------ 3 root     root     4096 Jun  1 16:05 systemd-private-7b8394c3094347b783aa86ee65a3c8aa-bolt.service-33hoKw\r\n",
      "drwx------ 3 root     root     4096 Jun  1 16:05 systemd-private-7b8394c3094347b783aa86ee65a3c8aa-colord.service-EEdyF8\r\n",
      "-rw------- 1 chetan   chetan      0 Jun  1 16:05 config-err-dAlyJ5\r\n",
      "drwx------ 2 chetan   chetan   4096 Jun  1 16:05 ssh-mVQTiOYby8t3\r\n",
      "drwx------ 2 chetan   chetan   4096 Jun  1 16:05 net-export\r\n",
      "drwxrwxr-x 3 chetan   chetan   4096 Jun  1 16:05 v8-compile-cache-1000\r\n",
      "drwx------ 3 root     root     4096 Jun  1 16:06 systemd-private-7b8394c3094347b783aa86ee65a3c8aa-fwupd.service-SKDnHn\r\n",
      "srwxr-xr-x 1 chetan   chetan      0 Jun  1 17:32 OSL_PIPE_1000_SingleOfficeIPC_c5553b7adcf7beba9cc335f0e0bb7e20\r\n",
      "drwx------ 2 chetan   chetan   4096 Jun  1 18:09 lu12908wg0vcg.tmp\r\n",
      "drwxr-xr-x 3 chetan   chetan   4096 Jun  1 21:52 tfhub_modules\r\n",
      "drwxr-xr-x 2 chetan   chetan   4096 Jun  1 21:59 hsperfdata_chetan\r\n"
     ]
    }
   ],
   "source": [
    "!ls -lrt /tmp"
   ]
  },
  {
   "cell_type": "code",
   "execution_count": 3,
   "metadata": {
    "colab": {},
    "colab_type": "code",
    "id": "ddLSfoL586l1"
   },
   "outputs": [],
   "source": [
    "import io\n",
    "df_beer_raw = pd.read_csv(INPUT_DATA_PATH, encoding=\"ISO-8859-1\")"
   ]
  },
  {
   "cell_type": "code",
   "execution_count": 4,
   "metadata": {
    "colab": {
     "base_uri": "https://localhost:8080/",
     "height": 34
    },
    "colab_type": "code",
    "id": "RGVHajpO8YKv",
    "outputId": "ee9d9a7f-1308-4ecc-d60d-1d207884fc20"
   },
   "outputs": [
    {
     "data": {
      "text/plain": [
       "(528870, 13)"
      ]
     },
     "execution_count": 4,
     "metadata": {},
     "output_type": "execute_result"
    }
   ],
   "source": [
    "df_beer_raw.shape"
   ]
  },
  {
   "cell_type": "code",
   "execution_count": 5,
   "metadata": {
    "colab": {
     "base_uri": "https://localhost:8080/",
     "height": 255
    },
    "colab_type": "code",
    "id": "3ruuejTi8YK1",
    "outputId": "cb7a5b6a-595a-4faa-fbdf-3f6a0963f491"
   },
   "outputs": [
    {
     "data": {
      "text/plain": [
       "beer_ABV              float64\n",
       "beer_beerId             int64\n",
       "beer_brewerId           int64\n",
       "beer_name              object\n",
       "beer_style             object\n",
       "review_appearance     float64\n",
       "review_palette        float64\n",
       "review_overall        float64\n",
       "review_taste          float64\n",
       "review_profileName     object\n",
       "review_aroma          float64\n",
       "review_text            object\n",
       "review_time             int64\n",
       "dtype: object"
      ]
     },
     "execution_count": 5,
     "metadata": {},
     "output_type": "execute_result"
    }
   ],
   "source": [
    "df_beer_raw.dtypes"
   ]
  },
  {
   "cell_type": "markdown",
   "metadata": {
    "colab_type": "text",
    "id": "a61brCIO8YK6"
   },
   "source": [
    "### Data Cleaning\n",
    "```In the below cell we can see that there are some columns where data is missing. \n",
    "   We need to remove those data points from our data set.\n",
    "```"
   ]
  },
  {
   "cell_type": "code",
   "execution_count": 6,
   "metadata": {
    "colab": {
     "base_uri": "https://localhost:8080/",
     "height": 255
    },
    "colab_type": "code",
    "id": "uzLn8W108YK7",
    "outputId": "04de98f8-203f-45dd-fe7b-b766087724ea"
   },
   "outputs": [
    {
     "data": {
      "text/plain": [
       "beer_ABV              20280\n",
       "beer_beerId               0\n",
       "beer_brewerId             0\n",
       "beer_name                 0\n",
       "beer_style                0\n",
       "review_appearance         0\n",
       "review_palette            0\n",
       "review_overall            0\n",
       "review_taste              0\n",
       "review_profileName      115\n",
       "review_aroma              0\n",
       "review_text             119\n",
       "review_time               0\n",
       "dtype: int64"
      ]
     },
     "execution_count": 6,
     "metadata": {},
     "output_type": "execute_result"
    }
   ],
   "source": [
    "df_beer_raw.isna().sum()"
   ]
  },
  {
   "cell_type": "code",
   "execution_count": 7,
   "metadata": {
    "colab": {},
    "colab_type": "code",
    "id": "kpgOI5iQ8YLB"
   },
   "outputs": [],
   "source": [
    "df_beer = df_beer_raw.dropna()"
   ]
  },
  {
   "cell_type": "code",
   "execution_count": 8,
   "metadata": {
    "colab": {
     "base_uri": "https://localhost:8080/",
     "height": 357
    },
    "colab_type": "code",
    "id": "4W4cl4A68YLG",
    "outputId": "4c326437-1835-4840-cfa6-6ff9260f84cb"
   },
   "outputs": [
    {
     "name": "stdout",
     "output_type": "stream",
     "text": [
      "<class 'pandas.core.frame.DataFrame'>\n",
      "Int64Index: 508358 entries, 0 to 528796\n",
      "Data columns (total 13 columns):\n",
      "beer_ABV              508358 non-null float64\n",
      "beer_beerId           508358 non-null int64\n",
      "beer_brewerId         508358 non-null int64\n",
      "beer_name             508358 non-null object\n",
      "beer_style            508358 non-null object\n",
      "review_appearance     508358 non-null float64\n",
      "review_palette        508358 non-null float64\n",
      "review_overall        508358 non-null float64\n",
      "review_taste          508358 non-null float64\n",
      "review_profileName    508358 non-null object\n",
      "review_aroma          508358 non-null float64\n",
      "review_text           508358 non-null object\n",
      "review_time           508358 non-null int64\n",
      "dtypes: float64(6), int64(3), object(4)\n",
      "memory usage: 54.3+ MB\n"
     ]
    }
   ],
   "source": [
    "df_beer.info()"
   ]
  },
  {
   "cell_type": "code",
   "execution_count": 9,
   "metadata": {
    "colab": {},
    "colab_type": "code",
    "id": "RybRJkkjKyaD"
   },
   "outputs": [],
   "source": [
    "df_beer = df_beer.reset_index()\n",
    "df_beer['id'] = df_beer.index"
   ]
  },
  {
   "cell_type": "markdown",
   "metadata": {
    "colab_type": "text",
    "id": "NlBk4FG38YLL"
   },
   "source": [
    "## Data Changes in Raw and Clean dataset"
   ]
  },
  {
   "cell_type": "code",
   "execution_count": 10,
   "metadata": {
    "colab": {
     "base_uri": "https://localhost:8080/",
     "height": 68
    },
    "colab_type": "code",
    "id": "MJz6u1KX8YLM",
    "outputId": "cfe755aa-daa3-4fcd-b2ea-c8cd15de79ce"
   },
   "outputs": [
    {
     "name": "stdout",
     "output_type": "stream",
     "text": [
      "Raw data size:  528870\n",
      "Clean data size:  508358\n",
      "Data points difference:  20512\n"
     ]
    }
   ],
   "source": [
    "print(\"Raw data size: \", df_beer_raw.shape[0])\n",
    "print(\"Clean data size: \", df_beer.shape[0])\n",
    "print(\"Data points difference: \", df_beer_raw.shape[0]-df_beer.shape[0])"
   ]
  },
  {
   "cell_type": "markdown",
   "metadata": {
    "colab_type": "text",
    "id": "SSl1S2dA8YLR"
   },
   "source": [
    "### Describe the categorical features"
   ]
  },
  {
   "cell_type": "code",
   "execution_count": 11,
   "metadata": {
    "colab": {
     "base_uri": "https://localhost:8080/",
     "height": 173
    },
    "colab_type": "code",
    "id": "IBmfjHHG8YLS",
    "outputId": "f3680abf-42e3-40f0-a5fd-5ab4f468d8db"
   },
   "outputs": [
    {
     "data": {
      "text/html": [
       "<div>\n",
       "<style scoped>\n",
       "    .dataframe tbody tr th:only-of-type {\n",
       "        vertical-align: middle;\n",
       "    }\n",
       "\n",
       "    .dataframe tbody tr th {\n",
       "        vertical-align: top;\n",
       "    }\n",
       "\n",
       "    .dataframe thead th {\n",
       "        text-align: right;\n",
       "    }\n",
       "</style>\n",
       "<table border=\"1\" class=\"dataframe\">\n",
       "  <thead>\n",
       "    <tr style=\"text-align: right;\">\n",
       "      <th></th>\n",
       "      <th>beer_name</th>\n",
       "      <th>beer_style</th>\n",
       "      <th>review_profileName</th>\n",
       "      <th>review_text</th>\n",
       "    </tr>\n",
       "  </thead>\n",
       "  <tbody>\n",
       "    <tr>\n",
       "      <th>count</th>\n",
       "      <td>508358</td>\n",
       "      <td>508358</td>\n",
       "      <td>508358</td>\n",
       "      <td>508358</td>\n",
       "    </tr>\n",
       "    <tr>\n",
       "      <th>unique</th>\n",
       "      <td>14028</td>\n",
       "      <td>104</td>\n",
       "      <td>22563</td>\n",
       "      <td>508007</td>\n",
       "    </tr>\n",
       "    <tr>\n",
       "      <th>top</th>\n",
       "      <td>Sierra Nevada Celebration Ale</td>\n",
       "      <td>American IPA</td>\n",
       "      <td>northyorksammy</td>\n",
       "      <td>#NAME?</td>\n",
       "    </tr>\n",
       "    <tr>\n",
       "      <th>freq</th>\n",
       "      <td>2998</td>\n",
       "      <td>42092</td>\n",
       "      <td>1732</td>\n",
       "      <td>90</td>\n",
       "    </tr>\n",
       "  </tbody>\n",
       "</table>\n",
       "</div>"
      ],
      "text/plain": [
       "                            beer_name    beer_style review_profileName  \\\n",
       "count                          508358        508358             508358   \n",
       "unique                          14028           104              22563   \n",
       "top     Sierra Nevada Celebration Ale  American IPA     northyorksammy   \n",
       "freq                             2998         42092               1732   \n",
       "\n",
       "       review_text  \n",
       "count       508358  \n",
       "unique      508007  \n",
       "top         #NAME?  \n",
       "freq            90  "
      ]
     },
     "execution_count": 11,
     "metadata": {},
     "output_type": "execute_result"
    }
   ],
   "source": [
    "df_beer.describe(include=[np.object])"
   ]
  },
  {
   "cell_type": "markdown",
   "metadata": {
    "colab_type": "text",
    "id": "GAgq6D8K8YLW"
   },
   "source": [
    "### Describe the numerical features"
   ]
  },
  {
   "cell_type": "code",
   "execution_count": 12,
   "metadata": {
    "colab": {
     "base_uri": "https://localhost:8080/",
     "height": 317
    },
    "colab_type": "code",
    "id": "tW2Tuqlc8YLX",
    "outputId": "7387ed66-a82f-4600-f883-f7724f0f3382"
   },
   "outputs": [
    {
     "data": {
      "text/html": [
       "<div>\n",
       "<style scoped>\n",
       "    .dataframe tbody tr th:only-of-type {\n",
       "        vertical-align: middle;\n",
       "    }\n",
       "\n",
       "    .dataframe tbody tr th {\n",
       "        vertical-align: top;\n",
       "    }\n",
       "\n",
       "    .dataframe thead th {\n",
       "        text-align: right;\n",
       "    }\n",
       "</style>\n",
       "<table border=\"1\" class=\"dataframe\">\n",
       "  <thead>\n",
       "    <tr style=\"text-align: right;\">\n",
       "      <th></th>\n",
       "      <th>index</th>\n",
       "      <th>beer_ABV</th>\n",
       "      <th>beer_beerId</th>\n",
       "      <th>beer_brewerId</th>\n",
       "      <th>review_appearance</th>\n",
       "      <th>review_palette</th>\n",
       "      <th>review_overall</th>\n",
       "      <th>review_taste</th>\n",
       "      <th>review_aroma</th>\n",
       "      <th>review_time</th>\n",
       "      <th>id</th>\n",
       "    </tr>\n",
       "  </thead>\n",
       "  <tbody>\n",
       "    <tr>\n",
       "      <th>count</th>\n",
       "      <td>508358.000000</td>\n",
       "      <td>508358.000000</td>\n",
       "      <td>508358.000000</td>\n",
       "      <td>508358.000000</td>\n",
       "      <td>508358.000000</td>\n",
       "      <td>508358.000000</td>\n",
       "      <td>508358.000000</td>\n",
       "      <td>508358.000000</td>\n",
       "      <td>508358.000000</td>\n",
       "      <td>5.083580e+05</td>\n",
       "      <td>508358.00000</td>\n",
       "    </tr>\n",
       "    <tr>\n",
       "      <th>mean</th>\n",
       "      <td>263669.490377</td>\n",
       "      <td>7.017400</td>\n",
       "      <td>21824.120840</td>\n",
       "      <td>2534.273207</td>\n",
       "      <td>3.872676</td>\n",
       "      <td>3.768993</td>\n",
       "      <td>3.840805</td>\n",
       "      <td>3.775327</td>\n",
       "      <td>3.827646</td>\n",
       "      <td>1.226175e+09</td>\n",
       "      <td>254178.50000</td>\n",
       "    </tr>\n",
       "    <tr>\n",
       "      <th>std</th>\n",
       "      <td>152590.091973</td>\n",
       "      <td>2.204528</td>\n",
       "      <td>22124.969107</td>\n",
       "      <td>5237.843825</td>\n",
       "      <td>0.601764</td>\n",
       "      <td>0.682355</td>\n",
       "      <td>0.706408</td>\n",
       "      <td>0.665586</td>\n",
       "      <td>0.715121</td>\n",
       "      <td>7.530843e+07</td>\n",
       "      <td>146750.45841</td>\n",
       "    </tr>\n",
       "    <tr>\n",
       "      <th>min</th>\n",
       "      <td>0.000000</td>\n",
       "      <td>0.010000</td>\n",
       "      <td>5.000000</td>\n",
       "      <td>1.000000</td>\n",
       "      <td>0.000000</td>\n",
       "      <td>1.000000</td>\n",
       "      <td>0.000000</td>\n",
       "      <td>1.000000</td>\n",
       "      <td>1.000000</td>\n",
       "      <td>8.843904e+08</td>\n",
       "      <td>0.00000</td>\n",
       "    </tr>\n",
       "    <tr>\n",
       "      <th>25%</th>\n",
       "      <td>131284.250000</td>\n",
       "      <td>5.300000</td>\n",
       "      <td>1673.000000</td>\n",
       "      <td>132.000000</td>\n",
       "      <td>3.500000</td>\n",
       "      <td>3.500000</td>\n",
       "      <td>3.500000</td>\n",
       "      <td>3.500000</td>\n",
       "      <td>3.500000</td>\n",
       "      <td>1.177202e+09</td>\n",
       "      <td>127089.25000</td>\n",
       "    </tr>\n",
       "    <tr>\n",
       "      <th>50%</th>\n",
       "      <td>263756.500000</td>\n",
       "      <td>6.500000</td>\n",
       "      <td>13850.000000</td>\n",
       "      <td>392.000000</td>\n",
       "      <td>4.000000</td>\n",
       "      <td>4.000000</td>\n",
       "      <td>4.000000</td>\n",
       "      <td>4.000000</td>\n",
       "      <td>4.000000</td>\n",
       "      <td>1.241503e+09</td>\n",
       "      <td>254178.50000</td>\n",
       "    </tr>\n",
       "    <tr>\n",
       "      <th>75%</th>\n",
       "      <td>395689.750000</td>\n",
       "      <td>8.500000</td>\n",
       "      <td>40418.000000</td>\n",
       "      <td>1315.000000</td>\n",
       "      <td>4.000000</td>\n",
       "      <td>4.000000</td>\n",
       "      <td>4.500000</td>\n",
       "      <td>4.000000</td>\n",
       "      <td>4.500000</td>\n",
       "      <td>1.289073e+09</td>\n",
       "      <td>381267.75000</td>\n",
       "    </tr>\n",
       "    <tr>\n",
       "      <th>max</th>\n",
       "      <td>528796.000000</td>\n",
       "      <td>57.700000</td>\n",
       "      <td>77310.000000</td>\n",
       "      <td>27980.000000</td>\n",
       "      <td>5.000000</td>\n",
       "      <td>5.000000</td>\n",
       "      <td>5.000000</td>\n",
       "      <td>5.000000</td>\n",
       "      <td>5.000000</td>\n",
       "      <td>1.326277e+09</td>\n",
       "      <td>508357.00000</td>\n",
       "    </tr>\n",
       "  </tbody>\n",
       "</table>\n",
       "</div>"
      ],
      "text/plain": [
       "               index       beer_ABV    beer_beerId  beer_brewerId  \\\n",
       "count  508358.000000  508358.000000  508358.000000  508358.000000   \n",
       "mean   263669.490377       7.017400   21824.120840    2534.273207   \n",
       "std    152590.091973       2.204528   22124.969107    5237.843825   \n",
       "min         0.000000       0.010000       5.000000       1.000000   \n",
       "25%    131284.250000       5.300000    1673.000000     132.000000   \n",
       "50%    263756.500000       6.500000   13850.000000     392.000000   \n",
       "75%    395689.750000       8.500000   40418.000000    1315.000000   \n",
       "max    528796.000000      57.700000   77310.000000   27980.000000   \n",
       "\n",
       "       review_appearance  review_palette  review_overall   review_taste  \\\n",
       "count      508358.000000   508358.000000   508358.000000  508358.000000   \n",
       "mean            3.872676        3.768993        3.840805       3.775327   \n",
       "std             0.601764        0.682355        0.706408       0.665586   \n",
       "min             0.000000        1.000000        0.000000       1.000000   \n",
       "25%             3.500000        3.500000        3.500000       3.500000   \n",
       "50%             4.000000        4.000000        4.000000       4.000000   \n",
       "75%             4.000000        4.000000        4.500000       4.000000   \n",
       "max             5.000000        5.000000        5.000000       5.000000   \n",
       "\n",
       "        review_aroma   review_time            id  \n",
       "count  508358.000000  5.083580e+05  508358.00000  \n",
       "mean        3.827646  1.226175e+09  254178.50000  \n",
       "std         0.715121  7.530843e+07  146750.45841  \n",
       "min         1.000000  8.843904e+08       0.00000  \n",
       "25%         3.500000  1.177202e+09  127089.25000  \n",
       "50%         4.000000  1.241503e+09  254178.50000  \n",
       "75%         4.500000  1.289073e+09  381267.75000  \n",
       "max         5.000000  1.326277e+09  508357.00000  "
      ]
     },
     "execution_count": 12,
     "metadata": {},
     "output_type": "execute_result"
    }
   ],
   "source": [
    "df_beer.describe(include=[np.number])"
   ]
  },
  {
   "cell_type": "code",
   "execution_count": 13,
   "metadata": {
    "colab": {},
    "colab_type": "code",
    "id": "-A1piu-U8YLb"
   },
   "outputs": [],
   "source": [
    "NUMERICAL_ATTRIBUTE = ['beer_ABV', 'review_appearance', 'review_palette', \n",
    "                       'review_overall', 'review_taste', 'review_aroma', 'review_time']\n",
    "CATEGORICAL_ATTRIBUTE = ['beer_name', 'beer_style', 'review_profileName', 'review_text']"
   ]
  },
  {
   "cell_type": "code",
   "execution_count": 14,
   "metadata": {
    "colab": {
     "base_uri": "https://localhost:8080/",
     "height": 397
    },
    "colab_type": "code",
    "id": "hUunnLlE8YLg",
    "outputId": "fbb734c0-81a6-4847-9c36-5ef3a2716c03"
   },
   "outputs": [
    {
     "data": {
      "text/html": [
       "<div>\n",
       "<style scoped>\n",
       "    .dataframe tbody tr th:only-of-type {\n",
       "        vertical-align: middle;\n",
       "    }\n",
       "\n",
       "    .dataframe tbody tr th {\n",
       "        vertical-align: top;\n",
       "    }\n",
       "\n",
       "    .dataframe thead th {\n",
       "        text-align: right;\n",
       "    }\n",
       "</style>\n",
       "<table border=\"1\" class=\"dataframe\">\n",
       "  <thead>\n",
       "    <tr style=\"text-align: right;\">\n",
       "      <th></th>\n",
       "      <th>index</th>\n",
       "      <th>beer_ABV</th>\n",
       "      <th>beer_beerId</th>\n",
       "      <th>beer_brewerId</th>\n",
       "      <th>beer_name</th>\n",
       "      <th>beer_style</th>\n",
       "      <th>review_appearance</th>\n",
       "      <th>review_palette</th>\n",
       "      <th>review_overall</th>\n",
       "      <th>review_taste</th>\n",
       "      <th>review_profileName</th>\n",
       "      <th>review_aroma</th>\n",
       "      <th>review_text</th>\n",
       "      <th>review_time</th>\n",
       "      <th>id</th>\n",
       "    </tr>\n",
       "  </thead>\n",
       "  <tbody>\n",
       "    <tr>\n",
       "      <th>53761</th>\n",
       "      <td>55896</td>\n",
       "      <td>7.3</td>\n",
       "      <td>38841</td>\n",
       "      <td>688</td>\n",
       "      <td>Newport Storm - Gloria (Cyclone Series)</td>\n",
       "      <td>Pumpkin Ale</td>\n",
       "      <td>4.0</td>\n",
       "      <td>4.0</td>\n",
       "      <td>4.0</td>\n",
       "      <td>3.5</td>\n",
       "      <td>fank2788</td>\n",
       "      <td>3.5</td>\n",
       "      <td>12oz bottle served in a pint glass In the glas...</td>\n",
       "      <td>1239929046</td>\n",
       "      <td>53761</td>\n",
       "    </tr>\n",
       "    <tr>\n",
       "      <th>353716</th>\n",
       "      <td>367055</td>\n",
       "      <td>5.5</td>\n",
       "      <td>3523</td>\n",
       "      <td>22</td>\n",
       "      <td>Éphémère (Apple)</td>\n",
       "      <td>Fruit / Vegetable Beer</td>\n",
       "      <td>4.0</td>\n",
       "      <td>4.0</td>\n",
       "      <td>4.0</td>\n",
       "      <td>3.0</td>\n",
       "      <td>UncleFlip</td>\n",
       "      <td>3.5</td>\n",
       "      <td>Large, thick white creamy head springs up quic...</td>\n",
       "      <td>1123052341</td>\n",
       "      <td>353716</td>\n",
       "    </tr>\n",
       "    <tr>\n",
       "      <th>13730</th>\n",
       "      <td>14976</td>\n",
       "      <td>4.2</td>\n",
       "      <td>512</td>\n",
       "      <td>14</td>\n",
       "      <td>Regatta Golden</td>\n",
       "      <td>Kölsch</td>\n",
       "      <td>4.0</td>\n",
       "      <td>3.5</td>\n",
       "      <td>3.5</td>\n",
       "      <td>3.5</td>\n",
       "      <td>gentlebubbles</td>\n",
       "      <td>3.5</td>\n",
       "      <td>on cask with Halletauer hops It's golden all r...</td>\n",
       "      <td>1105554255</td>\n",
       "      <td>13730</td>\n",
       "    </tr>\n",
       "    <tr>\n",
       "      <th>235603</th>\n",
       "      <td>243884</td>\n",
       "      <td>5.4</td>\n",
       "      <td>1984</td>\n",
       "      <td>692</td>\n",
       "      <td>Nut Brown Ale</td>\n",
       "      <td>English Brown Ale</td>\n",
       "      <td>3.0</td>\n",
       "      <td>3.5</td>\n",
       "      <td>3.5</td>\n",
       "      <td>3.0</td>\n",
       "      <td>mooseisloose</td>\n",
       "      <td>3.5</td>\n",
       "      <td>A recent BOTMC arrival, let's give it a whirl....</td>\n",
       "      <td>1272821677</td>\n",
       "      <td>235603</td>\n",
       "    </tr>\n",
       "  </tbody>\n",
       "</table>\n",
       "</div>"
      ],
      "text/plain": [
       "         index  beer_ABV  beer_beerId  beer_brewerId  \\\n",
       "53761    55896       7.3        38841            688   \n",
       "353716  367055       5.5         3523             22   \n",
       "13730    14976       4.2          512             14   \n",
       "235603  243884       5.4         1984            692   \n",
       "\n",
       "                                      beer_name              beer_style  \\\n",
       "53761   Newport Storm - Gloria (Cyclone Series)             Pumpkin Ale   \n",
       "353716                         Éphémère (Apple)  Fruit / Vegetable Beer   \n",
       "13730                            Regatta Golden                  Kölsch   \n",
       "235603                            Nut Brown Ale       English Brown Ale   \n",
       "\n",
       "        review_appearance  review_palette  review_overall  review_taste  \\\n",
       "53761                 4.0             4.0             4.0           3.5   \n",
       "353716                4.0             4.0             4.0           3.0   \n",
       "13730                 4.0             3.5             3.5           3.5   \n",
       "235603                3.0             3.5             3.5           3.0   \n",
       "\n",
       "       review_profileName  review_aroma  \\\n",
       "53761            fank2788           3.5   \n",
       "353716          UncleFlip           3.5   \n",
       "13730       gentlebubbles           3.5   \n",
       "235603       mooseisloose           3.5   \n",
       "\n",
       "                                              review_text  review_time      id  \n",
       "53761   12oz bottle served in a pint glass In the glas...   1239929046   53761  \n",
       "353716  Large, thick white creamy head springs up quic...   1123052341  353716  \n",
       "13730   on cask with Halletauer hops It's golden all r...   1105554255   13730  \n",
       "235603  A recent BOTMC arrival, let's give it a whirl....   1272821677  235603  "
      ]
     },
     "execution_count": 14,
     "metadata": {},
     "output_type": "execute_result"
    }
   ],
   "source": [
    "df_beer.sample(4)"
   ]
  },
  {
   "cell_type": "markdown",
   "metadata": {
    "colab_type": "text",
    "id": "L2S4osXP8YLl"
   },
   "source": [
    "<div class=\"alert alert-info\">\n",
    "Convert the review timestamp to datetime format\n",
    "</div>"
   ]
  },
  {
   "cell_type": "code",
   "execution_count": 15,
   "metadata": {
    "colab": {},
    "colab_type": "code",
    "id": "L8IcyT1Q8YLl"
   },
   "outputs": [],
   "source": [
    "df_beer['d_review_time'] = df_beer.review_time.apply(lambda t: datetime.fromtimestamp(t))"
   ]
  },
  {
   "cell_type": "code",
   "execution_count": 16,
   "metadata": {
    "colab": {},
    "colab_type": "code",
    "id": "I1EY1hW68YLp"
   },
   "outputs": [],
   "source": [
    "df_beer['d_review_time_year'] = df_beer['d_review_time'].dt.year\n",
    "df_beer['d_review_time_month'] = df_beer['d_review_time'].dt.month"
   ]
  },
  {
   "cell_type": "markdown",
   "metadata": {
    "colab_type": "text",
    "id": "n-nr8xtCAOho"
   },
   "source": [
    "<div class=\"alert alert-success\">\n",
    "Q7) How do find similar beer drinkers by using written reviews only?   \n",
    "</div>"
   ]
  },
  {
   "cell_type": "code",
   "execution_count": null,
   "metadata": {
    "colab": {
     "base_uri": "https://localhost:8080/",
     "height": 683
    },
    "colab_type": "code",
    "id": "C2QGO9dkAzPZ",
    "outputId": "9883b8a8-3ab0-4196-a0d0-6b617908cfe9"
   },
   "outputs": [],
   "source": [
    "!pip install tensorflow_text"
   ]
  },
  {
   "cell_type": "code",
   "execution_count": 17,
   "metadata": {
    "colab": {
     "base_uri": "https://localhost:8080/",
     "height": 34
    },
    "colab_type": "code",
    "id": "kNeilvDdBlwx",
    "outputId": "94d475f9-b742-4486-b43a-4fb71869eeb6"
   },
   "outputs": [
    {
     "data": {
      "text/plain": [
       "True"
      ]
     },
     "execution_count": 17,
     "metadata": {},
     "output_type": "execute_result"
    }
   ],
   "source": [
    "import tensorflow as tf\n",
    "import tensorflow_hub as hub\n",
    "import tensorflow_text\n",
    "tf.executing_eagerly()"
   ]
  },
  {
   "cell_type": "code",
   "execution_count": 18,
   "metadata": {
    "colab": {},
    "colab_type": "code",
    "id": "-Ev62HgSBvDj"
   },
   "outputs": [],
   "source": [
    "embed = hub.load(\"https://tfhub.dev/google/nnlm-en-dim50-with-normalization/2\")"
   ]
  },
  {
   "cell_type": "code",
   "execution_count": 19,
   "metadata": {
    "colab": {},
    "colab_type": "code",
    "id": "9cJTFCIn8YMW"
   },
   "outputs": [],
   "source": [
    "train = df_beer.review_text.tolist()\n",
    "list_train = [train[i:i+100] for i in range(0,len(train),100)]"
   ]
  },
  {
   "cell_type": "code",
   "execution_count": 20,
   "metadata": {
    "colab": {
     "base_uri": "https://localhost:8080/",
     "height": 34
    },
    "colab_type": "code",
    "id": "ra6uhTeC7ltT",
    "outputId": "8c3a8e59-30ee-4694-949c-a2e4584934a9"
   },
   "outputs": [
    {
     "name": "stderr",
     "output_type": "stream",
     "text": [
      "100%|██████████| 5084/5084 [00:22<00:00, 221.55it/s]\n"
     ]
    }
   ],
   "source": [
    "from tqdm import tqdm\n",
    "data = []\n",
    "for d in tqdm(list_train):\n",
    "    data.extend(embed(d).numpy())"
   ]
  },
  {
   "cell_type": "markdown",
   "metadata": {},
   "source": [
    "## Optimal number of k in K-Means"
   ]
  },
  {
   "cell_type": "code",
   "execution_count": 23,
   "metadata": {},
   "outputs": [
    {
     "name": "stderr",
     "output_type": "stream",
     "text": [
      "100%|██████████| 10/10 [20:03<00:00, 120.32s/it]\n"
     ]
    },
    {
     "data": {
      "image/png": "[encoded data removed]",
      "text/plain": [
       "<Figure size 432x288 with 1 Axes>"
      ]
     },
     "metadata": {
      "needs_background": "light"
     },
     "output_type": "display_data"
    }
   ],
   "source": [
    "distortions = []\n",
    "for i in tqdm(range(1, 11)):\n",
    "    km = KMeans(\n",
    "        n_clusters=i, init='random',\n",
    "        n_init=10, max_iter=300,\n",
    "        tol=1e-04, random_state=0\n",
    "    )\n",
    "    km.fit(data)\n",
    "    distortions.append(km.inertia_)\n",
    "\n",
    "# plot\n",
    "plt.plot(range(1, 11), distortions, marker='o')\n",
    "plt.xlabel('Number of clusters')\n",
    "plt.ylabel('Distortion')\n",
    "plt.show()"
   ]
  },
  {
   "cell_type": "code",
   "execution_count": null,
   "metadata": {},
   "outputs": [],
   "source": [
    "from sklearn.cluster import KMeans\n",
    "\n",
    "k=10\n",
    "km = KMeans(\n",
    "    n_clusters=k, init='random',\n",
    "    n_init=10, max_iter=300, \n",
    "    tol=1e-04, random_state=0\n",
    ")\n",
    "y_km = km.fit_predict(data)"
   ]
  }
 ],
 "metadata": {
  "accelerator": "GPU",
  "colab": {
   "include_colab_link": true,
   "name": "02-Beer_review_natural_language_understanding.ipynb",
   "provenance": []
  },
  "kernelspec": {
   "display_name": "Python [conda env:chetan_spark]",
   "language": "python",
   "name": "conda-env-chetan_spark-py"
  },
  "language_info": {
   "codemirror_mode": {
    "name": "ipython",
    "version": 3
   },
   "file_extension": ".py",
   "mimetype": "text/x-python",
   "name": "python",
   "nbconvert_exporter": "python",
   "pygments_lexer": "ipython3",
   "version": "3.7.3"
  }
 },
 "nbformat": 4,
 "nbformat_minor": 1
}
