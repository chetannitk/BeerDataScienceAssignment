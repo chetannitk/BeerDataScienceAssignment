{
 "cells": [
  {
   "cell_type": "markdown",
   "metadata": {},
   "source": [
    "<div class=\"alert alert-success\">\n",
    "<h1> Beer Data Science Assignment </h1>\n",
    "</div>\n"
   ]
  },
  {
   "cell_type": "code",
   "execution_count": 110,
   "metadata": {},
   "outputs": [],
   "source": [
    "from IPython.display import HTML\n",
    "import pandas as pd\n",
    "import os\n",
    "import numpy as np\n",
    "from datetime import datetime\n",
    "import wordcloud\n",
    "import warnings\n",
    "import seaborn as sns; sns.set()\n",
    "import matplotlib.pyplot as plt\n",
    "warnings.filterwarnings('ignore')\n",
    "\n",
    "BASE_PATH = \"../\"\n",
    "INPUT_DATA_PATH = os.path.join(BASE_PATH, \"data/raw/BeerDataScienceProject.csv\")"
   ]
  },
  {
   "cell_type": "code",
   "execution_count": 2,
   "metadata": {},
   "outputs": [],
   "source": [
    "df_beer_raw = pd.read_csv(INPUT_DATA_PATH, encoding=\"ISO-8859-1\")"
   ]
  },
  {
   "cell_type": "code",
   "execution_count": 3,
   "metadata": {},
   "outputs": [
    {
     "data": {
      "text/plain": [
       "(528870, 13)"
      ]
     },
     "execution_count": 3,
     "metadata": {},
     "output_type": "execute_result"
    }
   ],
   "source": [
    "df_beer_raw.shape"
   ]
  },
  {
   "cell_type": "code",
   "execution_count": 4,
   "metadata": {},
   "outputs": [
    {
     "data": {
      "text/plain": [
       "beer_ABV              float64\n",
       "beer_beerId             int64\n",
       "beer_brewerId           int64\n",
       "beer_name              object\n",
       "beer_style             object\n",
       "review_appearance     float64\n",
       "review_palette        float64\n",
       "review_overall        float64\n",
       "review_taste          float64\n",
       "review_profileName     object\n",
       "review_aroma          float64\n",
       "review_text            object\n",
       "review_time             int64\n",
       "dtype: object"
      ]
     },
     "execution_count": 4,
     "metadata": {},
     "output_type": "execute_result"
    }
   ],
   "source": [
    "df_beer_raw.dtypes"
   ]
  },
  {
   "cell_type": "markdown",
   "metadata": {},
   "source": [
    "### Data Cleaning\n",
    "```In the below cell we can see that there are some columns where data is missing. \n",
    "   We need to remove those data points from our data set.\n",
    "```"
   ]
  },
  {
   "cell_type": "code",
   "execution_count": 5,
   "metadata": {},
   "outputs": [
    {
     "data": {
      "text/plain": [
       "beer_ABV              20280\n",
       "beer_beerId               0\n",
       "beer_brewerId             0\n",
       "beer_name                 0\n",
       "beer_style                0\n",
       "review_appearance         0\n",
       "review_palette            0\n",
       "review_overall            0\n",
       "review_taste              0\n",
       "review_profileName      115\n",
       "review_aroma              0\n",
       "review_text             119\n",
       "review_time               0\n",
       "dtype: int64"
      ]
     },
     "execution_count": 5,
     "metadata": {},
     "output_type": "execute_result"
    }
   ],
   "source": [
    "df_beer_raw.isna().sum()"
   ]
  },
  {
   "cell_type": "code",
   "execution_count": 6,
   "metadata": {},
   "outputs": [],
   "source": [
    "df_beer = df_beer_raw.dropna()"
   ]
  },
  {
   "cell_type": "code",
   "execution_count": 7,
   "metadata": {},
   "outputs": [
    {
     "name": "stdout",
     "output_type": "stream",
     "text": [
      "<class 'pandas.core.frame.DataFrame'>\n",
      "Int64Index: 508358 entries, 0 to 528796\n",
      "Data columns (total 13 columns):\n",
      "beer_ABV              508358 non-null float64\n",
      "beer_beerId           508358 non-null int64\n",
      "beer_brewerId         508358 non-null int64\n",
      "beer_name             508358 non-null object\n",
      "beer_style            508358 non-null object\n",
      "review_appearance     508358 non-null float64\n",
      "review_palette        508358 non-null float64\n",
      "review_overall        508358 non-null float64\n",
      "review_taste          508358 non-null float64\n",
      "review_profileName    508358 non-null object\n",
      "review_aroma          508358 non-null float64\n",
      "review_text           508358 non-null object\n",
      "review_time           508358 non-null int64\n",
      "dtypes: float64(6), int64(3), object(4)\n",
      "memory usage: 54.3+ MB\n"
     ]
    }
   ],
   "source": [
    "df_beer.info()"
   ]
  },
  {
   "cell_type": "markdown",
   "metadata": {},
   "source": [
    "## Data Changes in Raw and Clean dataset"
   ]
  },
  {
   "cell_type": "code",
   "execution_count": 8,
   "metadata": {},
   "outputs": [
    {
     "name": "stdout",
     "output_type": "stream",
     "text": [
      "Raw data size:  528870\n",
      "Clean data size:  508358\n",
      "Data points difference:  20512\n"
     ]
    }
   ],
   "source": [
    "print(\"Raw data size: \", df_beer_raw.shape[0])\n",
    "print(\"Clean data size: \", df_beer.shape[0])\n",
    "print(\"Data points difference: \", df_beer_raw.shape[0]-df_beer.shape[0])"
   ]
  },
  {
   "cell_type": "markdown",
   "metadata": {},
   "source": [
    "### Describe the categorical features"
   ]
  },
  {
   "cell_type": "code",
   "execution_count": 9,
   "metadata": {},
   "outputs": [
    {
     "data": {
      "text/html": [
       "<div>\n",
       "<style scoped>\n",
       "    .dataframe tbody tr th:only-of-type {\n",
       "        vertical-align: middle;\n",
       "    }\n",
       "\n",
       "    .dataframe tbody tr th {\n",
       "        vertical-align: top;\n",
       "    }\n",
       "\n",
       "    .dataframe thead th {\n",
       "        text-align: right;\n",
       "    }\n",
       "</style>\n",
       "<table border=\"1\" class=\"dataframe\">\n",
       "  <thead>\n",
       "    <tr style=\"text-align: right;\">\n",
       "      <th></th>\n",
       "      <th>beer_name</th>\n",
       "      <th>beer_style</th>\n",
       "      <th>review_profileName</th>\n",
       "      <th>review_text</th>\n",
       "    </tr>\n",
       "  </thead>\n",
       "  <tbody>\n",
       "    <tr>\n",
       "      <th>count</th>\n",
       "      <td>508358</td>\n",
       "      <td>508358</td>\n",
       "      <td>508358</td>\n",
       "      <td>508358</td>\n",
       "    </tr>\n",
       "    <tr>\n",
       "      <th>unique</th>\n",
       "      <td>14028</td>\n",
       "      <td>104</td>\n",
       "      <td>22563</td>\n",
       "      <td>508007</td>\n",
       "    </tr>\n",
       "    <tr>\n",
       "      <th>top</th>\n",
       "      <td>Sierra Nevada Celebration Ale</td>\n",
       "      <td>American IPA</td>\n",
       "      <td>northyorksammy</td>\n",
       "      <td>#NAME?</td>\n",
       "    </tr>\n",
       "    <tr>\n",
       "      <th>freq</th>\n",
       "      <td>2998</td>\n",
       "      <td>42092</td>\n",
       "      <td>1732</td>\n",
       "      <td>90</td>\n",
       "    </tr>\n",
       "  </tbody>\n",
       "</table>\n",
       "</div>"
      ],
      "text/plain": [
       "                            beer_name    beer_style review_profileName  \\\n",
       "count                          508358        508358             508358   \n",
       "unique                          14028           104              22563   \n",
       "top     Sierra Nevada Celebration Ale  American IPA     northyorksammy   \n",
       "freq                             2998         42092               1732   \n",
       "\n",
       "       review_text  \n",
       "count       508358  \n",
       "unique      508007  \n",
       "top         #NAME?  \n",
       "freq            90  "
      ]
     },
     "execution_count": 9,
     "metadata": {},
     "output_type": "execute_result"
    }
   ],
   "source": [
    "df_beer.describe(include=[np.object])"
   ]
  },
  {
   "cell_type": "markdown",
   "metadata": {},
   "source": [
    "### Describe the numerical features"
   ]
  },
  {
   "cell_type": "code",
   "execution_count": 10,
   "metadata": {},
   "outputs": [
    {
     "data": {
      "text/html": [
       "<div>\n",
       "<style scoped>\n",
       "    .dataframe tbody tr th:only-of-type {\n",
       "        vertical-align: middle;\n",
       "    }\n",
       "\n",
       "    .dataframe tbody tr th {\n",
       "        vertical-align: top;\n",
       "    }\n",
       "\n",
       "    .dataframe thead th {\n",
       "        text-align: right;\n",
       "    }\n",
       "</style>\n",
       "<table border=\"1\" class=\"dataframe\">\n",
       "  <thead>\n",
       "    <tr style=\"text-align: right;\">\n",
       "      <th></th>\n",
       "      <th>beer_ABV</th>\n",
       "      <th>beer_beerId</th>\n",
       "      <th>beer_brewerId</th>\n",
       "      <th>review_appearance</th>\n",
       "      <th>review_palette</th>\n",
       "      <th>review_overall</th>\n",
       "      <th>review_taste</th>\n",
       "      <th>review_aroma</th>\n",
       "      <th>review_time</th>\n",
       "    </tr>\n",
       "  </thead>\n",
       "  <tbody>\n",
       "    <tr>\n",
       "      <th>count</th>\n",
       "      <td>508358.000000</td>\n",
       "      <td>508358.000000</td>\n",
       "      <td>508358.000000</td>\n",
       "      <td>508358.000000</td>\n",
       "      <td>508358.000000</td>\n",
       "      <td>508358.000000</td>\n",
       "      <td>508358.000000</td>\n",
       "      <td>508358.000000</td>\n",
       "      <td>5.083580e+05</td>\n",
       "    </tr>\n",
       "    <tr>\n",
       "      <th>mean</th>\n",
       "      <td>7.017400</td>\n",
       "      <td>21824.120840</td>\n",
       "      <td>2534.273207</td>\n",
       "      <td>3.872676</td>\n",
       "      <td>3.768993</td>\n",
       "      <td>3.840805</td>\n",
       "      <td>3.775327</td>\n",
       "      <td>3.827646</td>\n",
       "      <td>1.226175e+09</td>\n",
       "    </tr>\n",
       "    <tr>\n",
       "      <th>std</th>\n",
       "      <td>2.204528</td>\n",
       "      <td>22124.969107</td>\n",
       "      <td>5237.843825</td>\n",
       "      <td>0.601764</td>\n",
       "      <td>0.682355</td>\n",
       "      <td>0.706408</td>\n",
       "      <td>0.665586</td>\n",
       "      <td>0.715121</td>\n",
       "      <td>7.530843e+07</td>\n",
       "    </tr>\n",
       "    <tr>\n",
       "      <th>min</th>\n",
       "      <td>0.010000</td>\n",
       "      <td>5.000000</td>\n",
       "      <td>1.000000</td>\n",
       "      <td>0.000000</td>\n",
       "      <td>1.000000</td>\n",
       "      <td>0.000000</td>\n",
       "      <td>1.000000</td>\n",
       "      <td>1.000000</td>\n",
       "      <td>8.843904e+08</td>\n",
       "    </tr>\n",
       "    <tr>\n",
       "      <th>25%</th>\n",
       "      <td>5.300000</td>\n",
       "      <td>1673.000000</td>\n",
       "      <td>132.000000</td>\n",
       "      <td>3.500000</td>\n",
       "      <td>3.500000</td>\n",
       "      <td>3.500000</td>\n",
       "      <td>3.500000</td>\n",
       "      <td>3.500000</td>\n",
       "      <td>1.177202e+09</td>\n",
       "    </tr>\n",
       "    <tr>\n",
       "      <th>50%</th>\n",
       "      <td>6.500000</td>\n",
       "      <td>13850.000000</td>\n",
       "      <td>392.000000</td>\n",
       "      <td>4.000000</td>\n",
       "      <td>4.000000</td>\n",
       "      <td>4.000000</td>\n",
       "      <td>4.000000</td>\n",
       "      <td>4.000000</td>\n",
       "      <td>1.241503e+09</td>\n",
       "    </tr>\n",
       "    <tr>\n",
       "      <th>75%</th>\n",
       "      <td>8.500000</td>\n",
       "      <td>40418.000000</td>\n",
       "      <td>1315.000000</td>\n",
       "      <td>4.000000</td>\n",
       "      <td>4.000000</td>\n",
       "      <td>4.500000</td>\n",
       "      <td>4.000000</td>\n",
       "      <td>4.500000</td>\n",
       "      <td>1.289073e+09</td>\n",
       "    </tr>\n",
       "    <tr>\n",
       "      <th>max</th>\n",
       "      <td>57.700000</td>\n",
       "      <td>77310.000000</td>\n",
       "      <td>27980.000000</td>\n",
       "      <td>5.000000</td>\n",
       "      <td>5.000000</td>\n",
       "      <td>5.000000</td>\n",
       "      <td>5.000000</td>\n",
       "      <td>5.000000</td>\n",
       "      <td>1.326277e+09</td>\n",
       "    </tr>\n",
       "  </tbody>\n",
       "</table>\n",
       "</div>"
      ],
      "text/plain": [
       "            beer_ABV    beer_beerId  beer_brewerId  review_appearance  \\\n",
       "count  508358.000000  508358.000000  508358.000000      508358.000000   \n",
       "mean        7.017400   21824.120840    2534.273207           3.872676   \n",
       "std         2.204528   22124.969107    5237.843825           0.601764   \n",
       "min         0.010000       5.000000       1.000000           0.000000   \n",
       "25%         5.300000    1673.000000     132.000000           3.500000   \n",
       "50%         6.500000   13850.000000     392.000000           4.000000   \n",
       "75%         8.500000   40418.000000    1315.000000           4.000000   \n",
       "max        57.700000   77310.000000   27980.000000           5.000000   \n",
       "\n",
       "       review_palette  review_overall   review_taste   review_aroma  \\\n",
       "count   508358.000000   508358.000000  508358.000000  508358.000000   \n",
       "mean         3.768993        3.840805       3.775327       3.827646   \n",
       "std          0.682355        0.706408       0.665586       0.715121   \n",
       "min          1.000000        0.000000       1.000000       1.000000   \n",
       "25%          3.500000        3.500000       3.500000       3.500000   \n",
       "50%          4.000000        4.000000       4.000000       4.000000   \n",
       "75%          4.000000        4.500000       4.000000       4.500000   \n",
       "max          5.000000        5.000000       5.000000       5.000000   \n",
       "\n",
       "        review_time  \n",
       "count  5.083580e+05  \n",
       "mean   1.226175e+09  \n",
       "std    7.530843e+07  \n",
       "min    8.843904e+08  \n",
       "25%    1.177202e+09  \n",
       "50%    1.241503e+09  \n",
       "75%    1.289073e+09  \n",
       "max    1.326277e+09  "
      ]
     },
     "execution_count": 10,
     "metadata": {},
     "output_type": "execute_result"
    }
   ],
   "source": [
    "df_beer.describe(include=[np.number])"
   ]
  },
  {
   "cell_type": "code",
   "execution_count": 11,
   "metadata": {},
   "outputs": [],
   "source": [
    "NUMERICAL_ATTRIBUTE = ['beer_ABV', 'review_appearance', 'review_palette', \n",
    "                       'review_overall', 'review_taste', 'review_aroma', 'review_time']\n",
    "CATEGORICAL_ATTRIBUTE = ['beer_name', 'beer_style', 'review_profileName', 'review_text']"
   ]
  },
  {
   "cell_type": "code",
   "execution_count": 12,
   "metadata": {},
   "outputs": [
    {
     "data": {
      "text/html": [
       "<div>\n",
       "<style scoped>\n",
       "    .dataframe tbody tr th:only-of-type {\n",
       "        vertical-align: middle;\n",
       "    }\n",
       "\n",
       "    .dataframe tbody tr th {\n",
       "        vertical-align: top;\n",
       "    }\n",
       "\n",
       "    .dataframe thead th {\n",
       "        text-align: right;\n",
       "    }\n",
       "</style>\n",
       "<table border=\"1\" class=\"dataframe\">\n",
       "  <thead>\n",
       "    <tr style=\"text-align: right;\">\n",
       "      <th></th>\n",
       "      <th>beer_ABV</th>\n",
       "      <th>beer_beerId</th>\n",
       "      <th>beer_brewerId</th>\n",
       "      <th>beer_name</th>\n",
       "      <th>beer_style</th>\n",
       "      <th>review_appearance</th>\n",
       "      <th>review_palette</th>\n",
       "      <th>review_overall</th>\n",
       "      <th>review_taste</th>\n",
       "      <th>review_profileName</th>\n",
       "      <th>review_aroma</th>\n",
       "      <th>review_text</th>\n",
       "      <th>review_time</th>\n",
       "    </tr>\n",
       "  </thead>\n",
       "  <tbody>\n",
       "    <tr>\n",
       "      <th>444951</th>\n",
       "      <td>5.5</td>\n",
       "      <td>51761</td>\n",
       "      <td>590</td>\n",
       "      <td>Unplugged Old English Porter</td>\n",
       "      <td>English Porter</td>\n",
       "      <td>4.0</td>\n",
       "      <td>3.5</td>\n",
       "      <td>3.0</td>\n",
       "      <td>3.5</td>\n",
       "      <td>emmasdad</td>\n",
       "      <td>3.0</td>\n",
       "      <td>Part of a New Glarus mix pack Dan brought me b...</td>\n",
       "      <td>1290137977</td>\n",
       "    </tr>\n",
       "    <tr>\n",
       "      <th>461820</th>\n",
       "      <td>6.5</td>\n",
       "      <td>1472</td>\n",
       "      <td>559</td>\n",
       "      <td>Big Daddy IPA</td>\n",
       "      <td>American IPA</td>\n",
       "      <td>4.0</td>\n",
       "      <td>3.0</td>\n",
       "      <td>4.5</td>\n",
       "      <td>4.0</td>\n",
       "      <td>jcdiflorio</td>\n",
       "      <td>3.0</td>\n",
       "      <td>Poured into a nonic glass from a 12oz brown lo...</td>\n",
       "      <td>1178323230</td>\n",
       "    </tr>\n",
       "    <tr>\n",
       "      <th>400156</th>\n",
       "      <td>9.3</td>\n",
       "      <td>48224</td>\n",
       "      <td>694</td>\n",
       "      <td>Flying Mouflan</td>\n",
       "      <td>American Barleywine</td>\n",
       "      <td>4.0</td>\n",
       "      <td>4.5</td>\n",
       "      <td>4.5</td>\n",
       "      <td>4.5</td>\n",
       "      <td>denniskuehn</td>\n",
       "      <td>4.5</td>\n",
       "      <td>Poured from the 22oz bottle into a wine glass....</td>\n",
       "      <td>1239496271</td>\n",
       "    </tr>\n",
       "    <tr>\n",
       "      <th>463812</th>\n",
       "      <td>8.0</td>\n",
       "      <td>1128</td>\n",
       "      <td>392</td>\n",
       "      <td>Old Heathen Imperial Stout</td>\n",
       "      <td>Russian Imperial Stout</td>\n",
       "      <td>4.0</td>\n",
       "      <td>4.0</td>\n",
       "      <td>3.5</td>\n",
       "      <td>3.5</td>\n",
       "      <td>shivtim</td>\n",
       "      <td>3.5</td>\n",
       "      <td>Love the name. Pours out an opaque black, with...</td>\n",
       "      <td>1203878205</td>\n",
       "    </tr>\n",
       "  </tbody>\n",
       "</table>\n",
       "</div>"
      ],
      "text/plain": [
       "        beer_ABV  beer_beerId  beer_brewerId                     beer_name  \\\n",
       "444951       5.5        51761            590  Unplugged Old English Porter   \n",
       "461820       6.5         1472            559                 Big Daddy IPA   \n",
       "400156       9.3        48224            694                Flying Mouflan   \n",
       "463812       8.0         1128            392    Old Heathen Imperial Stout   \n",
       "\n",
       "                    beer_style  review_appearance  review_palette  \\\n",
       "444951          English Porter                4.0             3.5   \n",
       "461820            American IPA                4.0             3.0   \n",
       "400156     American Barleywine                4.0             4.5   \n",
       "463812  Russian Imperial Stout                4.0             4.0   \n",
       "\n",
       "        review_overall  review_taste review_profileName  review_aroma  \\\n",
       "444951             3.0           3.5           emmasdad           3.0   \n",
       "461820             4.5           4.0         jcdiflorio           3.0   \n",
       "400156             4.5           4.5        denniskuehn           4.5   \n",
       "463812             3.5           3.5            shivtim           3.5   \n",
       "\n",
       "                                              review_text  review_time  \n",
       "444951  Part of a New Glarus mix pack Dan brought me b...   1290137977  \n",
       "461820  Poured into a nonic glass from a 12oz brown lo...   1178323230  \n",
       "400156  Poured from the 22oz bottle into a wine glass....   1239496271  \n",
       "463812  Love the name. Pours out an opaque black, with...   1203878205  "
      ]
     },
     "execution_count": 12,
     "metadata": {},
     "output_type": "execute_result"
    }
   ],
   "source": [
    "df_beer.sample(4)"
   ]
  },
  {
   "cell_type": "markdown",
   "metadata": {},
   "source": [
    "<div class=\"alert alert-info\">\n",
    "Convert the review timestamp to datetime format\n",
    "</div>"
   ]
  },
  {
   "cell_type": "code",
   "execution_count": 13,
   "metadata": {},
   "outputs": [],
   "source": [
    "df_beer['d_review_time'] = df_beer.review_time.apply(lambda t: datetime.fromtimestamp(t))"
   ]
  },
  {
   "cell_type": "code",
   "execution_count": 14,
   "metadata": {},
   "outputs": [],
   "source": [
    "df_beer['d_review_time_year'] = df_beer['d_review_time'].dt.year\n",
    "df_beer['d_review_time_month'] = df_beer['d_review_time'].dt.month"
   ]
  },
  {
   "cell_type": "markdown",
   "metadata": {},
   "source": []
  },
  {
   "cell_type": "markdown",
   "metadata": {},
   "source": [
    "<div class=\"alert alert-success\">\n",
    "Q1) Rank top 3 Breweries which produce the strongest beers?\n",
    "</div>\n"
   ]
  },
  {
   "cell_type": "markdown",
   "metadata": {},
   "source": [
    "```TOP 3 Breweries which produce strongest beers:  [6513, 35, 16866]\n",
    "```"
   ]
  },
  {
   "cell_type": "code",
   "execution_count": 81,
   "metadata": {},
   "outputs": [],
   "source": [
    "top_n_strongest_beer = df_beer.sort_values(by=[\"beer_ABV\"], ascending=False).groupby(['beer_brewerId'])['beer_brewerId', 'beer_ABV', 'beer_name'].head(1).reset_index()"
   ]
  },
  {
   "cell_type": "code",
   "execution_count": 86,
   "metadata": {},
   "outputs": [
    {
     "data": {
      "text/html": [
       "<div>\n",
       "<style scoped>\n",
       "    .dataframe tbody tr th:only-of-type {\n",
       "        vertical-align: middle;\n",
       "    }\n",
       "\n",
       "    .dataframe tbody tr th {\n",
       "        vertical-align: top;\n",
       "    }\n",
       "\n",
       "    .dataframe thead th {\n",
       "        text-align: right;\n",
       "    }\n",
       "</style>\n",
       "<table border=\"1\" class=\"dataframe\">\n",
       "  <thead>\n",
       "    <tr style=\"text-align: right;\">\n",
       "      <th></th>\n",
       "      <th>index</th>\n",
       "      <th>beer_brewerId</th>\n",
       "      <th>beer_ABV</th>\n",
       "      <th>beer_name</th>\n",
       "    </tr>\n",
       "  </thead>\n",
       "  <tbody>\n",
       "    <tr>\n",
       "      <th>0</th>\n",
       "      <td>12889</td>\n",
       "      <td>6513</td>\n",
       "      <td>57.7</td>\n",
       "      <td>Schorschbräu Schorschbock 57%</td>\n",
       "    </tr>\n",
       "    <tr>\n",
       "      <th>1</th>\n",
       "      <td>293762</td>\n",
       "      <td>35</td>\n",
       "      <td>27.0</td>\n",
       "      <td>Samuel Adams Utopias</td>\n",
       "    </tr>\n",
       "    <tr>\n",
       "      <th>2</th>\n",
       "      <td>58570</td>\n",
       "      <td>16866</td>\n",
       "      <td>19.5</td>\n",
       "      <td>Grey Monday</td>\n",
       "    </tr>\n",
       "  </tbody>\n",
       "</table>\n",
       "</div>"
      ],
      "text/plain": [
       "    index  beer_brewerId  beer_ABV                      beer_name\n",
       "0   12889           6513      57.7  Schorschbräu Schorschbock 57%\n",
       "1  293762             35      27.0           Samuel Adams Utopias\n",
       "2   58570          16866      19.5                    Grey Monday"
      ]
     },
     "execution_count": 86,
     "metadata": {},
     "output_type": "execute_result"
    }
   ],
   "source": [
    "top_n_strongest_beer.head(3)"
   ]
  },
  {
   "cell_type": "code",
   "execution_count": 92,
   "metadata": {},
   "outputs": [
    {
     "name": "stdout",
     "output_type": "stream",
     "text": [
      "TOP 3 Breweries which produce strongest beers:  [6513, 35, 16866]\n"
     ]
    }
   ],
   "source": [
    "print(\"TOP 3 Breweries which produce strongest beers: \", top_n_strongest_beer.beer_brewerId.tolist()[:3])"
   ]
  },
  {
   "cell_type": "markdown",
   "metadata": {},
   "source": [
    "<div class=\"alert alert-success\">\n",
    "Q2) Which year did beers enjoy the highest ratings? \n",
    "</div>\n"
   ]
  },
  {
   "cell_type": "markdown",
   "metadata": {},
   "source": [
    "```Beer enjoy the highest rating in the year: ``` **2010**"
   ]
  },
  {
   "cell_type": "code",
   "execution_count": 104,
   "metadata": {},
   "outputs": [],
   "source": [
    "beer_enjoy_highest_rating = df_beer.groupby(['d_review_time_year', 'review_overall']).size().reset_index(name='counts')"
   ]
  },
  {
   "cell_type": "code",
   "execution_count": 108,
   "metadata": {},
   "outputs": [
    {
     "data": {
      "text/html": [
       "<div>\n",
       "<style scoped>\n",
       "    .dataframe tbody tr th:only-of-type {\n",
       "        vertical-align: middle;\n",
       "    }\n",
       "\n",
       "    .dataframe tbody tr th {\n",
       "        vertical-align: top;\n",
       "    }\n",
       "\n",
       "    .dataframe thead th {\n",
       "        text-align: right;\n",
       "    }\n",
       "</style>\n",
       "<table border=\"1\" class=\"dataframe\">\n",
       "  <thead>\n",
       "    <tr style=\"text-align: right;\">\n",
       "      <th></th>\n",
       "      <th>d_review_time_year</th>\n",
       "      <th>review_overall</th>\n",
       "      <th>counts</th>\n",
       "    </tr>\n",
       "  </thead>\n",
       "  <tbody>\n",
       "    <tr>\n",
       "      <th>101</th>\n",
       "      <td>2010</td>\n",
       "      <td>5.0</td>\n",
       "      <td>5974</td>\n",
       "    </tr>\n",
       "    <tr>\n",
       "      <th>92</th>\n",
       "      <td>2009</td>\n",
       "      <td>5.0</td>\n",
       "      <td>5149</td>\n",
       "    </tr>\n",
       "    <tr>\n",
       "      <th>110</th>\n",
       "      <td>2011</td>\n",
       "      <td>5.0</td>\n",
       "      <td>4496</td>\n",
       "    </tr>\n",
       "    <tr>\n",
       "      <th>83</th>\n",
       "      <td>2008</td>\n",
       "      <td>5.0</td>\n",
       "      <td>4127</td>\n",
       "    </tr>\n",
       "    <tr>\n",
       "      <th>74</th>\n",
       "      <td>2007</td>\n",
       "      <td>5.0</td>\n",
       "      <td>2826</td>\n",
       "    </tr>\n",
       "    <tr>\n",
       "      <th>65</th>\n",
       "      <td>2006</td>\n",
       "      <td>5.0</td>\n",
       "      <td>2564</td>\n",
       "    </tr>\n",
       "    <tr>\n",
       "      <th>56</th>\n",
       "      <td>2005</td>\n",
       "      <td>5.0</td>\n",
       "      <td>1937</td>\n",
       "    </tr>\n",
       "    <tr>\n",
       "      <th>47</th>\n",
       "      <td>2004</td>\n",
       "      <td>5.0</td>\n",
       "      <td>1411</td>\n",
       "    </tr>\n",
       "    <tr>\n",
       "      <th>38</th>\n",
       "      <td>2003</td>\n",
       "      <td>5.0</td>\n",
       "      <td>982</td>\n",
       "    </tr>\n",
       "    <tr>\n",
       "      <th>29</th>\n",
       "      <td>2002</td>\n",
       "      <td>5.0</td>\n",
       "      <td>526</td>\n",
       "    </tr>\n",
       "  </tbody>\n",
       "</table>\n",
       "</div>"
      ],
      "text/plain": [
       "     d_review_time_year  review_overall  counts\n",
       "101                2010             5.0    5974\n",
       "92                 2009             5.0    5149\n",
       "110                2011             5.0    4496\n",
       "83                 2008             5.0    4127\n",
       "74                 2007             5.0    2826\n",
       "65                 2006             5.0    2564\n",
       "56                 2005             5.0    1937\n",
       "47                 2004             5.0    1411\n",
       "38                 2003             5.0     982\n",
       "29                 2002             5.0     526"
      ]
     },
     "execution_count": 108,
     "metadata": {},
     "output_type": "execute_result"
    }
   ],
   "source": [
    "beer_enjoy_highest_rating.sort_values(by=[\"review_overall\", 'counts'], ascending=False).head(10)"
   ]
  },
  {
   "cell_type": "markdown",
   "metadata": {},
   "source": [
    "<div class=\"alert alert-success\">\n",
    "Q3) Based on the user’s ratings which factors are important among taste, aroma, appearance, and palette?\n",
    "</div>"
   ]
  },
  {
   "cell_type": "code",
   "execution_count": 133,
   "metadata": {},
   "outputs": [],
   "source": [
    "correlation_df_beer = df_beer[['review_appearance', 'review_palette', 'review_overall',\n",
    "       'review_taste', 'review_aroma']].corr(method='pearson')"
   ]
  },
  {
   "cell_type": "code",
   "execution_count": 134,
   "metadata": {},
   "outputs": [
    {
     "data": {
      "text/html": [
       "<div>\n",
       "<style scoped>\n",
       "    .dataframe tbody tr th:only-of-type {\n",
       "        vertical-align: middle;\n",
       "    }\n",
       "\n",
       "    .dataframe tbody tr th {\n",
       "        vertical-align: top;\n",
       "    }\n",
       "\n",
       "    .dataframe thead th {\n",
       "        text-align: right;\n",
       "    }\n",
       "</style>\n",
       "<table border=\"1\" class=\"dataframe\">\n",
       "  <thead>\n",
       "    <tr style=\"text-align: right;\">\n",
       "      <th></th>\n",
       "      <th>review_appearance</th>\n",
       "      <th>review_palette</th>\n",
       "      <th>review_overall</th>\n",
       "      <th>review_taste</th>\n",
       "      <th>review_aroma</th>\n",
       "    </tr>\n",
       "  </thead>\n",
       "  <tbody>\n",
       "    <tr>\n",
       "      <th>review_appearance</th>\n",
       "      <td>1.000000</td>\n",
       "      <td>0.544724</td>\n",
       "      <td>0.483091</td>\n",
       "      <td>0.551979</td>\n",
       "      <td>0.531204</td>\n",
       "    </tr>\n",
       "    <tr>\n",
       "      <th>review_palette</th>\n",
       "      <td>0.544724</td>\n",
       "      <td>1.000000</td>\n",
       "      <td>0.598048</td>\n",
       "      <td>0.600842</td>\n",
       "      <td>0.703428</td>\n",
       "    </tr>\n",
       "    <tr>\n",
       "      <th>review_overall</th>\n",
       "      <td>0.483091</td>\n",
       "      <td>0.598048</td>\n",
       "      <td>1.000000</td>\n",
       "      <td>0.689276</td>\n",
       "      <td>0.780310</td>\n",
       "    </tr>\n",
       "    <tr>\n",
       "      <th>review_taste</th>\n",
       "      <td>0.551979</td>\n",
       "      <td>0.600842</td>\n",
       "      <td>0.689276</td>\n",
       "      <td>1.000000</td>\n",
       "      <td>0.722737</td>\n",
       "    </tr>\n",
       "    <tr>\n",
       "      <th>review_aroma</th>\n",
       "      <td>0.531204</td>\n",
       "      <td>0.703428</td>\n",
       "      <td>0.780310</td>\n",
       "      <td>0.722737</td>\n",
       "      <td>1.000000</td>\n",
       "    </tr>\n",
       "  </tbody>\n",
       "</table>\n",
       "</div>"
      ],
      "text/plain": [
       "                   review_appearance  review_palette  review_overall  \\\n",
       "review_appearance           1.000000        0.544724        0.483091   \n",
       "review_palette              0.544724        1.000000        0.598048   \n",
       "review_overall              0.483091        0.598048        1.000000   \n",
       "review_taste                0.551979        0.600842        0.689276   \n",
       "review_aroma                0.531204        0.703428        0.780310   \n",
       "\n",
       "                   review_taste  review_aroma  \n",
       "review_appearance      0.551979      0.531204  \n",
       "review_palette         0.600842      0.703428  \n",
       "review_overall         0.689276      0.780310  \n",
       "review_taste           1.000000      0.722737  \n",
       "review_aroma           0.722737      1.000000  "
      ]
     },
     "execution_count": 134,
     "metadata": {},
     "output_type": "execute_result"
    }
   ],
   "source": [
    "correlation_df_beer"
   ]
  },
  {
   "cell_type": "code",
   "execution_count": 135,
   "metadata": {},
   "outputs": [
    {
     "data": {
      "text/plain": [
       "[Text(0, 0.5, 'review_appearance'),\n",
       " Text(0, 1.5, 'review_palette'),\n",
       " Text(0, 2.5, 'review_overall'),\n",
       " Text(0, 3.5, 'review_taste'),\n",
       " Text(0, 4.5, 'review_aroma')]"
      ]
     },
     "execution_count": 135,
     "metadata": {},
     "output_type": "execute_result"
    },
    {
     "data": {
      "image/png": "[encoded data removed]",
      "text/plain": [
       "<Figure size 576x576 with 2 Axes>"
      ]
     },
     "metadata": {},
     "output_type": "display_data"
    }
   ],
   "source": [
    "plt.figure(figsize=(8,8))\n",
    "g = sns.heatmap(correlation_df_beer, annot=True,cmap=\"RdYlGn\")\n",
    "g.set_yticklabels(g.get_yticklabels(), rotation = 0, fontsize = 12)"
   ]
  },
  {
   "cell_type": "markdown",
   "metadata": {},
   "source": [
    "<div class=\"alert alert-info\">\n",
    "     From the above heat map. If you can see the review_overall row. We can easily see the following feature importance ranking:<br/>\n",
    "        aroma > taste > palette > apperance \n",
    "</div>"
   ]
  },
  {
   "cell_type": "code",
   "execution_count": null,
   "metadata": {},
   "outputs": [],
   "source": []
  }
 ],
 "metadata": {
  "kernelspec": {
   "display_name": "Python [conda env:chetan_ml] *",
   "language": "python",
   "name": "conda-env-chetan_ml-py"
  },
  "language_info": {
   "codemirror_mode": {
    "name": "ipython",
    "version": 3
   },
   "file_extension": ".py",
   "mimetype": "text/x-python",
   "name": "python",
   "nbconvert_exporter": "python",
   "pygments_lexer": "ipython3",
   "version": "3.7.3"
  }
 },
 "nbformat": 4,
 "nbformat_minor": 2
}
