{
  "nbformat": 4,
  "nbformat_minor": 0,
  "metadata": {
    "accelerator": "GPU",
    "colab": {
      "name": "02-Beer_review_natural_language_understanding.ipynb",
      "provenance": [],
      "include_colab_link": true
    },
    "kernelspec": {
      "display_name": "Python [conda env:chetan_ml] *",
      "language": "python",
      "name": "conda-env-chetan_ml-py"
    },
    "language_info": {
      "codemirror_mode": {
        "name": "ipython",
        "version": 3
      },
      "file_extension": ".py",
      "mimetype": "text/x-python",
      "name": "python",
      "nbconvert_exporter": "python",
      "pygments_lexer": "ipython3",
      "version": "3.7.3"
    }
  },
  "cells": [
    {
      "cell_type": "markdown",
      "metadata": {
        "id": "view-in-github",
        "colab_type": "text"
      },
      "source": [
        "<a href=\"https://colab.research.google.com/github/chetannitk/BeerDataScienceAssignment/blob/master/notebooks/03-Beer_recommendation_based_on_review.ipynb\" target=\"_parent\"><img src=\"https://colab.research.google.com/assets/colab-badge.svg\" alt=\"Open In Colab\"/></a>"
      ]
    },
    {
      "cell_type": "markdown",
      "metadata": {
        "colab_type": "text",
        "id": "_KeSXgV-8YKi"
      },
      "source": [
        "<div class=\"alert alert-success\">\n",
        "<h1> Beer Data Science Assignment </h1>\n",
        "</div>\n"
      ]
    },
    {
      "cell_type": "code",
      "metadata": {
        "colab_type": "code",
        "id": "M54Jfmer8YKk",
        "outputId": "b1fd5be5-b89a-4e01-a444-0fc9800d2d7f",
        "colab": {
          "base_uri": "https://localhost:8080/",
          "height": 122
        }
      },
      "source": [
        "from IPython.display import HTML\n",
        "import pandas as pd\n",
        "import os\n",
        "import numpy as np\n",
        "from datetime import datetime\n",
        "import wordcloud\n",
        "import warnings\n",
        "import seaborn as sns; sns.set()\n",
        "import matplotlib.pyplot as plt\n",
        "from tqdm._tqdm_notebook import tqdm_notebook\n",
        "tqdm_notebook.pandas()\n",
        "warnings.filterwarnings('ignore')\n",
        "\n",
        "#BASE_PATH = \"../\"\n",
        "#INPUT_DATA_PATH = os.path.join(BASE_PATH, \"data/raw/BeerDataScienceProject.csv\")"
      ],
      "execution_count": 1,
      "outputs": [
        {
          "output_type": "stream",
          "text": [
            "/usr/local/lib/python3.6/dist-packages/statsmodels/tools/_testing.py:19: FutureWarning: pandas.util.testing is deprecated. Use the functions in the public API at pandas.testing instead.\n",
            "  import pandas.util.testing as tm\n",
            "/usr/local/lib/python3.6/dist-packages/ipykernel_launcher.py:10: TqdmDeprecationWarning: This function will be removed in tqdm==5.0.0\n",
            "Please use `tqdm.notebook.*` instead of `tqdm._tqdm_notebook.*`\n",
            "  # Remove the CWD from sys.path while we load stuff.\n"
          ],
          "name": "stderr"
        }
      ]
    },
    {
      "cell_type": "code",
      "metadata": {
        "colab_type": "code",
        "id": "0n4Zed3z8YKp",
        "outputId": "2d0ee6bd-1249-4b2d-b4b9-d9a2412ea3e3",
        "colab": {
          "base_uri": "https://localhost:8080/",
          "height": 122
        }
      },
      "source": [
        "## Upload BeerDataScienceProject.csv file from local system.\n",
        "import zipfile\n",
        "from google.colab import drive\n",
        "\n",
        "drive.mount('/content/drive/')\n",
        "\n",
        "zip_ref = zipfile.ZipFile(\"/content/drive/My Drive/data/BeerDataScienceProject.zip\", 'r')\n",
        "zip_ref.extractall(\"/tmp\")\n",
        "zip_ref.close()"
      ],
      "execution_count": 2,
      "outputs": [
        {
          "output_type": "stream",
          "text": [
            "Go to this URL in a browser: https://accounts.google.com/o/oauth2/auth?client_id=947318989803-6bn6qk8qdgf4n4g3pfee6491hc0brc4i.apps.googleusercontent.com&redirect_uri=urn%3aietf%3awg%3aoauth%3a2.0%3aoob&response_type=code&scope=email%20https%3a%2f%2fwww.googleapis.com%2fauth%2fdocs.test%20https%3a%2f%2fwww.googleapis.com%2fauth%2fdrive%20https%3a%2f%2fwww.googleapis.com%2fauth%2fdrive.photos.readonly%20https%3a%2f%2fwww.googleapis.com%2fauth%2fpeopleapi.readonly\n",
            "\n",
            "Enter your authorization code:\n",
            "··········\n",
            "Mounted at /content/drive/\n"
          ],
          "name": "stdout"
        }
      ]
    },
    {
      "cell_type": "code",
      "metadata": {
        "colab_type": "code",
        "id": "7jaSmyo8_2Sm",
        "outputId": "52800542-e7f6-48f3-c0f0-7f2790267d8b",
        "colab": {
          "base_uri": "https://localhost:8080/",
          "height": 102
        }
      },
      "source": [
        "!ls -lrt /tmp"
      ],
      "execution_count": 3,
      "outputs": [
        {
          "output_type": "stream",
          "text": [
            "total 405172\n",
            "drwx------ 2 root root      4096 May 31 17:39 tmpzsm_sijy\n",
            "srw------- 1 root root         0 May 31 17:40 drivefs_ipc.0\n",
            "srw------- 1 root root         0 May 31 17:40 drivefs_ipc.0_shell\n",
            "-rw-r--r-- 1 root root 414885425 May 31 17:40 BeerDataScienceProject.csv\n"
          ],
          "name": "stdout"
        }
      ]
    },
    {
      "cell_type": "code",
      "metadata": {
        "colab_type": "code",
        "id": "ddLSfoL586l1",
        "colab": {}
      },
      "source": [
        "import io\n",
        "df_beer_raw = pd.read_csv('/tmp/BeerDataScienceProject.csv', encoding=\"ISO-8859-1\")"
      ],
      "execution_count": 0,
      "outputs": []
    },
    {
      "cell_type": "code",
      "metadata": {
        "colab_type": "code",
        "id": "RGVHajpO8YKv",
        "outputId": "0b17d5b4-d2c8-4b83-b80d-0f72f499575a",
        "colab": {
          "base_uri": "https://localhost:8080/",
          "height": 34
        }
      },
      "source": [
        "df_beer_raw.shape"
      ],
      "execution_count": 5,
      "outputs": [
        {
          "output_type": "execute_result",
          "data": {
            "text/plain": [
              "(528870, 13)"
            ]
          },
          "metadata": {
            "tags": []
          },
          "execution_count": 5
        }
      ]
    },
    {
      "cell_type": "code",
      "metadata": {
        "colab_type": "code",
        "id": "3ruuejTi8YK1",
        "outputId": "216c1d5a-7f48-4005-dfa7-ac797a3c627a",
        "colab": {
          "base_uri": "https://localhost:8080/",
          "height": 255
        }
      },
      "source": [
        "df_beer_raw.dtypes"
      ],
      "execution_count": 6,
      "outputs": [
        {
          "output_type": "execute_result",
          "data": {
            "text/plain": [
              "beer_ABV              float64\n",
              "beer_beerId             int64\n",
              "beer_brewerId           int64\n",
              "beer_name              object\n",
              "beer_style             object\n",
              "review_appearance     float64\n",
              "review_palette        float64\n",
              "review_overall        float64\n",
              "review_taste          float64\n",
              "review_profileName     object\n",
              "review_aroma          float64\n",
              "review_text            object\n",
              "review_time             int64\n",
              "dtype: object"
            ]
          },
          "metadata": {
            "tags": []
          },
          "execution_count": 6
        }
      ]
    },
    {
      "cell_type": "markdown",
      "metadata": {
        "colab_type": "text",
        "id": "a61brCIO8YK6"
      },
      "source": [
        "### Data Cleaning\n",
        "```In the below cell we can see that there are some columns where data is missing. \n",
        "   We need to remove those data points from our data set.\n",
        "```"
      ]
    },
    {
      "cell_type": "code",
      "metadata": {
        "colab_type": "code",
        "id": "uzLn8W108YK7",
        "outputId": "7a17be1e-2ebc-445b-9a00-99155ff19776",
        "colab": {
          "base_uri": "https://localhost:8080/",
          "height": 255
        }
      },
      "source": [
        "df_beer_raw.isna().sum()"
      ],
      "execution_count": 7,
      "outputs": [
        {
          "output_type": "execute_result",
          "data": {
            "text/plain": [
              "beer_ABV              20280\n",
              "beer_beerId               0\n",
              "beer_brewerId             0\n",
              "beer_name                 0\n",
              "beer_style                0\n",
              "review_appearance         0\n",
              "review_palette            0\n",
              "review_overall            0\n",
              "review_taste              0\n",
              "review_profileName      115\n",
              "review_aroma              0\n",
              "review_text             119\n",
              "review_time               0\n",
              "dtype: int64"
            ]
          },
          "metadata": {
            "tags": []
          },
          "execution_count": 7
        }
      ]
    },
    {
      "cell_type": "code",
      "metadata": {
        "colab_type": "code",
        "id": "kpgOI5iQ8YLB",
        "colab": {}
      },
      "source": [
        "df_beer = df_beer_raw.dropna()"
      ],
      "execution_count": 0,
      "outputs": []
    },
    {
      "cell_type": "code",
      "metadata": {
        "colab_type": "code",
        "id": "4W4cl4A68YLG",
        "outputId": "cebb9b3a-3426-46c9-84b0-a956c345b4ea",
        "colab": {
          "base_uri": "https://localhost:8080/",
          "height": 357
        }
      },
      "source": [
        "df_beer.info()"
      ],
      "execution_count": 9,
      "outputs": [
        {
          "output_type": "stream",
          "text": [
            "<class 'pandas.core.frame.DataFrame'>\n",
            "Int64Index: 508358 entries, 0 to 528796\n",
            "Data columns (total 13 columns):\n",
            " #   Column              Non-Null Count   Dtype  \n",
            "---  ------              --------------   -----  \n",
            " 0   beer_ABV            508358 non-null  float64\n",
            " 1   beer_beerId         508358 non-null  int64  \n",
            " 2   beer_brewerId       508358 non-null  int64  \n",
            " 3   beer_name           508358 non-null  object \n",
            " 4   beer_style          508358 non-null  object \n",
            " 5   review_appearance   508358 non-null  float64\n",
            " 6   review_palette      508358 non-null  float64\n",
            " 7   review_overall      508358 non-null  float64\n",
            " 8   review_taste        508358 non-null  float64\n",
            " 9   review_profileName  508358 non-null  object \n",
            " 10  review_aroma        508358 non-null  float64\n",
            " 11  review_text         508358 non-null  object \n",
            " 12  review_time         508358 non-null  int64  \n",
            "dtypes: float64(6), int64(3), object(4)\n",
            "memory usage: 54.3+ MB\n"
          ],
          "name": "stdout"
        }
      ]
    },
    {
      "cell_type": "code",
      "metadata": {
        "colab_type": "code",
        "id": "RybRJkkjKyaD",
        "colab": {}
      },
      "source": [
        "df_beer = df_beer.reset_index()\n",
        "df_beer['id'] = df_beer.index"
      ],
      "execution_count": 0,
      "outputs": []
    },
    {
      "cell_type": "markdown",
      "metadata": {
        "colab_type": "text",
        "id": "NlBk4FG38YLL"
      },
      "source": [
        "## Data Changes in Raw and Clean dataset"
      ]
    },
    {
      "cell_type": "code",
      "metadata": {
        "colab_type": "code",
        "id": "MJz6u1KX8YLM",
        "outputId": "c97c8a55-2e48-4aac-c8f4-bf7e01f47395",
        "colab": {
          "base_uri": "https://localhost:8080/",
          "height": 68
        }
      },
      "source": [
        "print(\"Raw data size: \", df_beer_raw.shape[0])\n",
        "print(\"Clean data size: \", df_beer.shape[0])\n",
        "print(\"Data points difference: \", df_beer_raw.shape[0]-df_beer.shape[0])"
      ],
      "execution_count": 11,
      "outputs": [
        {
          "output_type": "stream",
          "text": [
            "Raw data size:  528870\n",
            "Clean data size:  508358\n",
            "Data points difference:  20512\n"
          ],
          "name": "stdout"
        }
      ]
    },
    {
      "cell_type": "markdown",
      "metadata": {
        "colab_type": "text",
        "id": "SSl1S2dA8YLR"
      },
      "source": [
        "### Describe the categorical features"
      ]
    },
    {
      "cell_type": "code",
      "metadata": {
        "colab_type": "code",
        "id": "IBmfjHHG8YLS",
        "outputId": "af90894a-c386-418e-d4ba-154b14838ac1",
        "colab": {
          "base_uri": "https://localhost:8080/",
          "height": 173
        }
      },
      "source": [
        "df_beer.describe(include=[np.object])"
      ],
      "execution_count": 12,
      "outputs": [
        {
          "output_type": "execute_result",
          "data": {
            "text/html": [
              "<div>\n",
              "<style scoped>\n",
              "    .dataframe tbody tr th:only-of-type {\n",
              "        vertical-align: middle;\n",
              "    }\n",
              "\n",
              "    .dataframe tbody tr th {\n",
              "        vertical-align: top;\n",
              "    }\n",
              "\n",
              "    .dataframe thead th {\n",
              "        text-align: right;\n",
              "    }\n",
              "</style>\n",
              "<table border=\"1\" class=\"dataframe\">\n",
              "  <thead>\n",
              "    <tr style=\"text-align: right;\">\n",
              "      <th></th>\n",
              "      <th>beer_name</th>\n",
              "      <th>beer_style</th>\n",
              "      <th>review_profileName</th>\n",
              "      <th>review_text</th>\n",
              "    </tr>\n",
              "  </thead>\n",
              "  <tbody>\n",
              "    <tr>\n",
              "      <th>count</th>\n",
              "      <td>508358</td>\n",
              "      <td>508358</td>\n",
              "      <td>508358</td>\n",
              "      <td>508358</td>\n",
              "    </tr>\n",
              "    <tr>\n",
              "      <th>unique</th>\n",
              "      <td>14028</td>\n",
              "      <td>104</td>\n",
              "      <td>22563</td>\n",
              "      <td>508007</td>\n",
              "    </tr>\n",
              "    <tr>\n",
              "      <th>top</th>\n",
              "      <td>Sierra Nevada Celebration Ale</td>\n",
              "      <td>American IPA</td>\n",
              "      <td>northyorksammy</td>\n",
              "      <td>#NAME?</td>\n",
              "    </tr>\n",
              "    <tr>\n",
              "      <th>freq</th>\n",
              "      <td>2998</td>\n",
              "      <td>42092</td>\n",
              "      <td>1732</td>\n",
              "      <td>90</td>\n",
              "    </tr>\n",
              "  </tbody>\n",
              "</table>\n",
              "</div>"
            ],
            "text/plain": [
              "                            beer_name  ... review_text\n",
              "count                          508358  ...      508358\n",
              "unique                          14028  ...      508007\n",
              "top     Sierra Nevada Celebration Ale  ...      #NAME?\n",
              "freq                             2998  ...          90\n",
              "\n",
              "[4 rows x 4 columns]"
            ]
          },
          "metadata": {
            "tags": []
          },
          "execution_count": 12
        }
      ]
    },
    {
      "cell_type": "markdown",
      "metadata": {
        "colab_type": "text",
        "id": "GAgq6D8K8YLW"
      },
      "source": [
        "### Describe the numerical features"
      ]
    },
    {
      "cell_type": "code",
      "metadata": {
        "colab_type": "code",
        "id": "tW2Tuqlc8YLX",
        "outputId": "13cd85e9-e81a-4929-f885-6dd3340e1233",
        "colab": {
          "base_uri": "https://localhost:8080/",
          "height": 317
        }
      },
      "source": [
        "df_beer.describe(include=[np.number])"
      ],
      "execution_count": 13,
      "outputs": [
        {
          "output_type": "execute_result",
          "data": {
            "text/html": [
              "<div>\n",
              "<style scoped>\n",
              "    .dataframe tbody tr th:only-of-type {\n",
              "        vertical-align: middle;\n",
              "    }\n",
              "\n",
              "    .dataframe tbody tr th {\n",
              "        vertical-align: top;\n",
              "    }\n",
              "\n",
              "    .dataframe thead th {\n",
              "        text-align: right;\n",
              "    }\n",
              "</style>\n",
              "<table border=\"1\" class=\"dataframe\">\n",
              "  <thead>\n",
              "    <tr style=\"text-align: right;\">\n",
              "      <th></th>\n",
              "      <th>index</th>\n",
              "      <th>beer_ABV</th>\n",
              "      <th>beer_beerId</th>\n",
              "      <th>beer_brewerId</th>\n",
              "      <th>review_appearance</th>\n",
              "      <th>review_palette</th>\n",
              "      <th>review_overall</th>\n",
              "      <th>review_taste</th>\n",
              "      <th>review_aroma</th>\n",
              "      <th>review_time</th>\n",
              "      <th>id</th>\n",
              "    </tr>\n",
              "  </thead>\n",
              "  <tbody>\n",
              "    <tr>\n",
              "      <th>count</th>\n",
              "      <td>508358.000000</td>\n",
              "      <td>508358.000000</td>\n",
              "      <td>508358.000000</td>\n",
              "      <td>508358.000000</td>\n",
              "      <td>508358.000000</td>\n",
              "      <td>508358.000000</td>\n",
              "      <td>508358.000000</td>\n",
              "      <td>508358.000000</td>\n",
              "      <td>508358.000000</td>\n",
              "      <td>5.083580e+05</td>\n",
              "      <td>508358.000000</td>\n",
              "    </tr>\n",
              "    <tr>\n",
              "      <th>mean</th>\n",
              "      <td>263669.490377</td>\n",
              "      <td>7.017400</td>\n",
              "      <td>21824.120840</td>\n",
              "      <td>2534.273207</td>\n",
              "      <td>3.872676</td>\n",
              "      <td>3.768993</td>\n",
              "      <td>3.840805</td>\n",
              "      <td>3.775327</td>\n",
              "      <td>3.827646</td>\n",
              "      <td>1.226175e+09</td>\n",
              "      <td>254178.500000</td>\n",
              "    </tr>\n",
              "    <tr>\n",
              "      <th>std</th>\n",
              "      <td>152590.091973</td>\n",
              "      <td>2.204528</td>\n",
              "      <td>22124.969107</td>\n",
              "      <td>5237.843825</td>\n",
              "      <td>0.601764</td>\n",
              "      <td>0.682355</td>\n",
              "      <td>0.706408</td>\n",
              "      <td>0.665586</td>\n",
              "      <td>0.715121</td>\n",
              "      <td>7.530843e+07</td>\n",
              "      <td>146750.458409</td>\n",
              "    </tr>\n",
              "    <tr>\n",
              "      <th>min</th>\n",
              "      <td>0.000000</td>\n",
              "      <td>0.010000</td>\n",
              "      <td>5.000000</td>\n",
              "      <td>1.000000</td>\n",
              "      <td>0.000000</td>\n",
              "      <td>1.000000</td>\n",
              "      <td>0.000000</td>\n",
              "      <td>1.000000</td>\n",
              "      <td>1.000000</td>\n",
              "      <td>8.843904e+08</td>\n",
              "      <td>0.000000</td>\n",
              "    </tr>\n",
              "    <tr>\n",
              "      <th>25%</th>\n",
              "      <td>131284.250000</td>\n",
              "      <td>5.300000</td>\n",
              "      <td>1673.000000</td>\n",
              "      <td>132.000000</td>\n",
              "      <td>3.500000</td>\n",
              "      <td>3.500000</td>\n",
              "      <td>3.500000</td>\n",
              "      <td>3.500000</td>\n",
              "      <td>3.500000</td>\n",
              "      <td>1.177202e+09</td>\n",
              "      <td>127089.250000</td>\n",
              "    </tr>\n",
              "    <tr>\n",
              "      <th>50%</th>\n",
              "      <td>263756.500000</td>\n",
              "      <td>6.500000</td>\n",
              "      <td>13850.000000</td>\n",
              "      <td>392.000000</td>\n",
              "      <td>4.000000</td>\n",
              "      <td>4.000000</td>\n",
              "      <td>4.000000</td>\n",
              "      <td>4.000000</td>\n",
              "      <td>4.000000</td>\n",
              "      <td>1.241503e+09</td>\n",
              "      <td>254178.500000</td>\n",
              "    </tr>\n",
              "    <tr>\n",
              "      <th>75%</th>\n",
              "      <td>395689.750000</td>\n",
              "      <td>8.500000</td>\n",
              "      <td>40418.000000</td>\n",
              "      <td>1315.000000</td>\n",
              "      <td>4.000000</td>\n",
              "      <td>4.000000</td>\n",
              "      <td>4.500000</td>\n",
              "      <td>4.000000</td>\n",
              "      <td>4.500000</td>\n",
              "      <td>1.289073e+09</td>\n",
              "      <td>381267.750000</td>\n",
              "    </tr>\n",
              "    <tr>\n",
              "      <th>max</th>\n",
              "      <td>528796.000000</td>\n",
              "      <td>57.700000</td>\n",
              "      <td>77310.000000</td>\n",
              "      <td>27980.000000</td>\n",
              "      <td>5.000000</td>\n",
              "      <td>5.000000</td>\n",
              "      <td>5.000000</td>\n",
              "      <td>5.000000</td>\n",
              "      <td>5.000000</td>\n",
              "      <td>1.326277e+09</td>\n",
              "      <td>508357.000000</td>\n",
              "    </tr>\n",
              "  </tbody>\n",
              "</table>\n",
              "</div>"
            ],
            "text/plain": [
              "               index       beer_ABV  ...   review_time             id\n",
              "count  508358.000000  508358.000000  ...  5.083580e+05  508358.000000\n",
              "mean   263669.490377       7.017400  ...  1.226175e+09  254178.500000\n",
              "std    152590.091973       2.204528  ...  7.530843e+07  146750.458409\n",
              "min         0.000000       0.010000  ...  8.843904e+08       0.000000\n",
              "25%    131284.250000       5.300000  ...  1.177202e+09  127089.250000\n",
              "50%    263756.500000       6.500000  ...  1.241503e+09  254178.500000\n",
              "75%    395689.750000       8.500000  ...  1.289073e+09  381267.750000\n",
              "max    528796.000000      57.700000  ...  1.326277e+09  508357.000000\n",
              "\n",
              "[8 rows x 11 columns]"
            ]
          },
          "metadata": {
            "tags": []
          },
          "execution_count": 13
        }
      ]
    },
    {
      "cell_type": "code",
      "metadata": {
        "colab_type": "code",
        "id": "-A1piu-U8YLb",
        "colab": {}
      },
      "source": [
        "NUMERICAL_ATTRIBUTE = ['beer_ABV', 'review_appearance', 'review_palette', \n",
        "                       'review_overall', 'review_taste', 'review_aroma', 'review_time']\n",
        "CATEGORICAL_ATTRIBUTE = ['beer_name', 'beer_style', 'review_profileName', 'review_text']"
      ],
      "execution_count": 0,
      "outputs": []
    },
    {
      "cell_type": "code",
      "metadata": {
        "colab_type": "code",
        "id": "hUunnLlE8YLg",
        "outputId": "ffcfd4f0-c6d4-4fa6-91ea-75a39c6096f8",
        "colab": {
          "base_uri": "https://localhost:8080/",
          "height": 431
        }
      },
      "source": [
        "df_beer.sample(4)"
      ],
      "execution_count": 15,
      "outputs": [
        {
          "output_type": "execute_result",
          "data": {
            "text/html": [
              "<div>\n",
              "<style scoped>\n",
              "    .dataframe tbody tr th:only-of-type {\n",
              "        vertical-align: middle;\n",
              "    }\n",
              "\n",
              "    .dataframe tbody tr th {\n",
              "        vertical-align: top;\n",
              "    }\n",
              "\n",
              "    .dataframe thead th {\n",
              "        text-align: right;\n",
              "    }\n",
              "</style>\n",
              "<table border=\"1\" class=\"dataframe\">\n",
              "  <thead>\n",
              "    <tr style=\"text-align: right;\">\n",
              "      <th></th>\n",
              "      <th>index</th>\n",
              "      <th>beer_ABV</th>\n",
              "      <th>beer_beerId</th>\n",
              "      <th>beer_brewerId</th>\n",
              "      <th>beer_name</th>\n",
              "      <th>beer_style</th>\n",
              "      <th>review_appearance</th>\n",
              "      <th>review_palette</th>\n",
              "      <th>review_overall</th>\n",
              "      <th>review_taste</th>\n",
              "      <th>review_profileName</th>\n",
              "      <th>review_aroma</th>\n",
              "      <th>review_text</th>\n",
              "      <th>review_time</th>\n",
              "      <th>id</th>\n",
              "    </tr>\n",
              "  </thead>\n",
              "  <tbody>\n",
              "    <tr>\n",
              "      <th>213894</th>\n",
              "      <td>221956</td>\n",
              "      <td>9.5</td>\n",
              "      <td>42723</td>\n",
              "      <td>158</td>\n",
              "      <td>Espresso Oak Aged Yeti Imperial Stout</td>\n",
              "      <td>American Double / Imperial Stout</td>\n",
              "      <td>4.0</td>\n",
              "      <td>4.5</td>\n",
              "      <td>4.5</td>\n",
              "      <td>4.0</td>\n",
              "      <td>SkunkWorks</td>\n",
              "      <td>4.5</td>\n",
              "      <td>Had on tap at Strong Place in Brooklyn, New Yo...</td>\n",
              "      <td>1301233406</td>\n",
              "      <td>213894</td>\n",
              "    </tr>\n",
              "    <tr>\n",
              "      <th>133759</th>\n",
              "      <td>138412</td>\n",
              "      <td>4.6</td>\n",
              "      <td>11961</td>\n",
              "      <td>783</td>\n",
              "      <td>Faxe Amber</td>\n",
              "      <td>Euro Dark Lager</td>\n",
              "      <td>2.5</td>\n",
              "      <td>3.0</td>\n",
              "      <td>3.0</td>\n",
              "      <td>3.0</td>\n",
              "      <td>canadianbarman</td>\n",
              "      <td>3.5</td>\n",
              "      <td>--500 ml can, no freshness date to be found. -...</td>\n",
              "      <td>1078780822</td>\n",
              "      <td>133759</td>\n",
              "    </tr>\n",
              "    <tr>\n",
              "      <th>334924</th>\n",
              "      <td>347653</td>\n",
              "      <td>6.8</td>\n",
              "      <td>69760</td>\n",
              "      <td>23222</td>\n",
              "      <td>Golden Nugget IPA</td>\n",
              "      <td>American IPA</td>\n",
              "      <td>3.5</td>\n",
              "      <td>4.0</td>\n",
              "      <td>4.0</td>\n",
              "      <td>4.0</td>\n",
              "      <td>Pintofbrown</td>\n",
              "      <td>4.5</td>\n",
              "      <td>Appearance: A cloudy, golden - orange body wit...</td>\n",
              "      <td>1314660130</td>\n",
              "      <td>334924</td>\n",
              "    </tr>\n",
              "    <tr>\n",
              "      <th>169582</th>\n",
              "      <td>175111</td>\n",
              "      <td>4.6</td>\n",
              "      <td>272</td>\n",
              "      <td>94</td>\n",
              "      <td>Harvest</td>\n",
              "      <td>American Brown Ale</td>\n",
              "      <td>3.5</td>\n",
              "      <td>3.5</td>\n",
              "      <td>4.0</td>\n",
              "      <td>3.0</td>\n",
              "      <td>brdc</td>\n",
              "      <td>3.5</td>\n",
              "      <td>Thanks johnnnniee for this one. Poured into a ...</td>\n",
              "      <td>1225808965</td>\n",
              "      <td>169582</td>\n",
              "    </tr>\n",
              "  </tbody>\n",
              "</table>\n",
              "</div>"
            ],
            "text/plain": [
              "         index  beer_ABV  ...  review_time      id\n",
              "213894  221956       9.5  ...   1301233406  213894\n",
              "133759  138412       4.6  ...   1078780822  133759\n",
              "334924  347653       6.8  ...   1314660130  334924\n",
              "169582  175111       4.6  ...   1225808965  169582\n",
              "\n",
              "[4 rows x 15 columns]"
            ]
          },
          "metadata": {
            "tags": []
          },
          "execution_count": 15
        }
      ]
    },
    {
      "cell_type": "markdown",
      "metadata": {
        "colab_type": "text",
        "id": "L2S4osXP8YLl"
      },
      "source": [
        "<div class=\"alert alert-info\">\n",
        "Convert the review timestamp to datetime format\n",
        "</div>"
      ]
    },
    {
      "cell_type": "code",
      "metadata": {
        "colab_type": "code",
        "id": "L8IcyT1Q8YLl",
        "colab": {}
      },
      "source": [
        "df_beer['d_review_time'] = df_beer.review_time.apply(lambda t: datetime.fromtimestamp(t))"
      ],
      "execution_count": 0,
      "outputs": []
    },
    {
      "cell_type": "code",
      "metadata": {
        "colab_type": "code",
        "id": "I1EY1hW68YLp",
        "colab": {}
      },
      "source": [
        "df_beer['d_review_time_year'] = df_beer['d_review_time'].dt.year\n",
        "df_beer['d_review_time_month'] = df_beer['d_review_time'].dt.month"
      ],
      "execution_count": 0,
      "outputs": []
    },
    {
      "cell_type": "markdown",
      "metadata": {
        "colab_type": "text",
        "id": "n-nr8xtCAOho"
      },
      "source": [
        "<div class=\"alert alert-success\">\n",
        "Q7) How do find similar beer drinkers by using written reviews only?   \n",
        "</div>"
      ]
    },
    {
      "cell_type": "code",
      "metadata": {
        "colab_type": "code",
        "id": "C2QGO9dkAzPZ",
        "outputId": "25807b20-4084-4bae-9f09-de35a74a3a9d",
        "colab": {
          "base_uri": "https://localhost:8080/",
          "height": 751
        }
      },
      "source": [
        "!pip install tensorflow_text"
      ],
      "execution_count": 18,
      "outputs": [
        {
          "output_type": "stream",
          "text": [
            "Collecting tensorflow_text\n",
            "\u001b[?25l  Downloading https://files.pythonhosted.org/packages/78/e7/d260e51d44bea241e8eee39d0266df9b33a3d6219ded118a1c81a872e848/tensorflow_text-2.2.0-cp36-cp36m-manylinux1_x86_64.whl (3.0MB)\n",
            "\r\u001b[K     |                                | 10kB 21.2MB/s eta 0:00:01\r\u001b[K     |▏                               | 20kB 6.1MB/s eta 0:00:01\r\u001b[K     |▎                               | 30kB 7.4MB/s eta 0:00:01\r\u001b[K     |▍                               | 40kB 8.2MB/s eta 0:00:01\r\u001b[K     |▌                               | 51kB 6.8MB/s eta 0:00:01\r\u001b[K     |▋                               | 61kB 7.6MB/s eta 0:00:01\r\u001b[K     |▊                               | 71kB 8.1MB/s eta 0:00:01\r\u001b[K     |▉                               | 81kB 8.3MB/s eta 0:00:01\r\u001b[K     |█                               | 92kB 7.9MB/s eta 0:00:01\r\u001b[K     |█                               | 102kB 8.1MB/s eta 0:00:01\r\u001b[K     |█▏                              | 112kB 8.1MB/s eta 0:00:01\r\u001b[K     |█▎                              | 122kB 8.1MB/s eta 0:00:01\r\u001b[K     |█▍                              | 133kB 8.1MB/s eta 0:00:01\r\u001b[K     |█▌                              | 143kB 8.1MB/s eta 0:00:01\r\u001b[K     |█▋                              | 153kB 8.1MB/s eta 0:00:01\r\u001b[K     |█▊                              | 163kB 8.1MB/s eta 0:00:01\r\u001b[K     |█▉                              | 174kB 8.1MB/s eta 0:00:01\r\u001b[K     |██                              | 184kB 8.1MB/s eta 0:00:01\r\u001b[K     |██                              | 194kB 8.1MB/s eta 0:00:01\r\u001b[K     |██▏                             | 204kB 8.1MB/s eta 0:00:01\r\u001b[K     |██▎                             | 215kB 8.1MB/s eta 0:00:01\r\u001b[K     |██▍                             | 225kB 8.1MB/s eta 0:00:01\r\u001b[K     |██▌                             | 235kB 8.1MB/s eta 0:00:01\r\u001b[K     |██▋                             | 245kB 8.1MB/s eta 0:00:01\r\u001b[K     |██▊                             | 256kB 8.1MB/s eta 0:00:01\r\u001b[K     |██▉                             | 266kB 8.1MB/s eta 0:00:01\r\u001b[K     |███                             | 276kB 8.1MB/s eta 0:00:01\r\u001b[K     |███                             | 286kB 8.1MB/s eta 0:00:01\r\u001b[K     |███▏                            | 296kB 8.1MB/s eta 0:00:01\r\u001b[K     |███▎                            | 307kB 8.1MB/s eta 0:00:01\r\u001b[K     |███▍                            | 317kB 8.1MB/s eta 0:00:01\r\u001b[K     |███▌                            | 327kB 8.1MB/s eta 0:00:01\r\u001b[K     |███▋                            | 337kB 8.1MB/s eta 0:00:01\r\u001b[K     |███▊                            | 348kB 8.1MB/s eta 0:00:01\r\u001b[K     |███▉                            | 358kB 8.1MB/s eta 0:00:01\r\u001b[K     |████                            | 368kB 8.1MB/s eta 0:00:01\r\u001b[K     |████                            | 378kB 8.1MB/s eta 0:00:01\r\u001b[K     |████▏                           | 389kB 8.1MB/s eta 0:00:01\r\u001b[K     |████▎                           | 399kB 8.1MB/s eta 0:00:01\r\u001b[K     |████▍                           | 409kB 8.1MB/s eta 0:00:01\r\u001b[K     |████▌                           | 419kB 8.1MB/s eta 0:00:01\r\u001b[K     |████▌                           | 430kB 8.1MB/s eta 0:00:01\r\u001b[K     |████▋                           | 440kB 8.1MB/s eta 0:00:01\r\u001b[K     |████▊                           | 450kB 8.1MB/s eta 0:00:01\r\u001b[K     |████▉                           | 460kB 8.1MB/s eta 0:00:01\r\u001b[K     |█████                           | 471kB 8.1MB/s eta 0:00:01\r\u001b[K     |█████                           | 481kB 8.1MB/s eta 0:00:01\r\u001b[K     |█████▏                          | 491kB 8.1MB/s eta 0:00:01\r\u001b[K     |█████▎                          | 501kB 8.1MB/s eta 0:00:01\r\u001b[K     |█████▍                          | 512kB 8.1MB/s eta 0:00:01\r\u001b[K     |█████▌                          | 522kB 8.1MB/s eta 0:00:01\r\u001b[K     |█████▋                          | 532kB 8.1MB/s eta 0:00:01\r\u001b[K     |█████▊                          | 542kB 8.1MB/s eta 0:00:01\r\u001b[K     |█████▉                          | 552kB 8.1MB/s eta 0:00:01\r\u001b[K     |██████                          | 563kB 8.1MB/s eta 0:00:01\r\u001b[K     |██████                          | 573kB 8.1MB/s eta 0:00:01\r\u001b[K     |██████▏                         | 583kB 8.1MB/s eta 0:00:01\r\u001b[K     |██████▎                         | 593kB 8.1MB/s eta 0:00:01\r\u001b[K     |██████▍                         | 604kB 8.1MB/s eta 0:00:01\r\u001b[K     |██████▌                         | 614kB 8.1MB/s eta 0:00:01\r\u001b[K     |██████▋                         | 624kB 8.1MB/s eta 0:00:01\r\u001b[K     |██████▊                         | 634kB 8.1MB/s eta 0:00:01\r\u001b[K     |██████▉                         | 645kB 8.1MB/s eta 0:00:01\r\u001b[K     |███████                         | 655kB 8.1MB/s eta 0:00:01\r\u001b[K     |███████                         | 665kB 8.1MB/s eta 0:00:01\r\u001b[K     |███████▏                        | 675kB 8.1MB/s eta 0:00:01\r\u001b[K     |███████▎                        | 686kB 8.1MB/s eta 0:00:01\r\u001b[K     |███████▍                        | 696kB 8.1MB/s eta 0:00:01\r\u001b[K     |███████▌                        | 706kB 8.1MB/s eta 0:00:01\r\u001b[K     |███████▋                        | 716kB 8.1MB/s eta 0:00:01\r\u001b[K     |███████▊                        | 727kB 8.1MB/s eta 0:00:01\r\u001b[K     |███████▉                        | 737kB 8.1MB/s eta 0:00:01\r\u001b[K     |████████                        | 747kB 8.1MB/s eta 0:00:01\r\u001b[K     |████████                        | 757kB 8.1MB/s eta 0:00:01\r\u001b[K     |████████▏                       | 768kB 8.1MB/s eta 0:00:01\r\u001b[K     |████████▎                       | 778kB 8.1MB/s eta 0:00:01\r\u001b[K     |████████▍                       | 788kB 8.1MB/s eta 0:00:01\r\u001b[K     |████████▌                       | 798kB 8.1MB/s eta 0:00:01\r\u001b[K     |████████▋                       | 808kB 8.1MB/s eta 0:00:01\r\u001b[K     |████████▊                       | 819kB 8.1MB/s eta 0:00:01\r\u001b[K     |████████▉                       | 829kB 8.1MB/s eta 0:00:01\r\u001b[K     |█████████                       | 839kB 8.1MB/s eta 0:00:01\r\u001b[K     |█████████                       | 849kB 8.1MB/s eta 0:00:01\r\u001b[K     |█████████                       | 860kB 8.1MB/s eta 0:00:01\r\u001b[K     |█████████▏                      | 870kB 8.1MB/s eta 0:00:01\r\u001b[K     |█████████▎                      | 880kB 8.1MB/s eta 0:00:01\r\u001b[K     |█████████▍                      | 890kB 8.1MB/s eta 0:00:01\r\u001b[K     |█████████▌                      | 901kB 8.1MB/s eta 0:00:01\r\u001b[K     |█████████▋                      | 911kB 8.1MB/s eta 0:00:01\r\u001b[K     |█████████▊                      | 921kB 8.1MB/s eta 0:00:01\r\u001b[K     |█████████▉                      | 931kB 8.1MB/s eta 0:00:01\r\u001b[K     |██████████                      | 942kB 8.1MB/s eta 0:00:01\r\u001b[K     |██████████                      | 952kB 8.1MB/s eta 0:00:01\r\u001b[K     |██████████▏                     | 962kB 8.1MB/s eta 0:00:01\r\u001b[K     |██████████▎                     | 972kB 8.1MB/s eta 0:00:01\r\u001b[K     |██████████▍                     | 983kB 8.1MB/s eta 0:00:01\r\u001b[K     |██████████▌                     | 993kB 8.1MB/s eta 0:00:01\r\u001b[K     |██████████▋                     | 1.0MB 8.1MB/s eta 0:00:01\r\u001b[K     |██████████▊                     | 1.0MB 8.1MB/s eta 0:00:01\r\u001b[K     |██████████▉                     | 1.0MB 8.1MB/s eta 0:00:01\r\u001b[K     |███████████                     | 1.0MB 8.1MB/s eta 0:00:01\r\u001b[K     |███████████                     | 1.0MB 8.1MB/s eta 0:00:01\r\u001b[K     |███████████▏                    | 1.1MB 8.1MB/s eta 0:00:01\r\u001b[K     |███████████▎                    | 1.1MB 8.1MB/s eta 0:00:01\r\u001b[K     |███████████▍                    | 1.1MB 8.1MB/s eta 0:00:01\r\u001b[K     |███████████▌                    | 1.1MB 8.1MB/s eta 0:00:01\r\u001b[K     |███████████▋                    | 1.1MB 8.1MB/s eta 0:00:01\r\u001b[K     |███████████▊                    | 1.1MB 8.1MB/s eta 0:00:01\r\u001b[K     |███████████▉                    | 1.1MB 8.1MB/s eta 0:00:01\r\u001b[K     |████████████                    | 1.1MB 8.1MB/s eta 0:00:01\r\u001b[K     |████████████                    | 1.1MB 8.1MB/s eta 0:00:01\r\u001b[K     |████████████▏                   | 1.1MB 8.1MB/s eta 0:00:01\r\u001b[K     |████████████▎                   | 1.2MB 8.1MB/s eta 0:00:01\r\u001b[K     |████████████▍                   | 1.2MB 8.1MB/s eta 0:00:01\r\u001b[K     |████████████▌                   | 1.2MB 8.1MB/s eta 0:00:01\r\u001b[K     |████████████▋                   | 1.2MB 8.1MB/s eta 0:00:01\r\u001b[K     |████████████▊                   | 1.2MB 8.1MB/s eta 0:00:01\r\u001b[K     |████████████▉                   | 1.2MB 8.1MB/s eta 0:00:01\r\u001b[K     |█████████████                   | 1.2MB 8.1MB/s eta 0:00:01\r\u001b[K     |█████████████                   | 1.2MB 8.1MB/s eta 0:00:01\r\u001b[K     |█████████████▏                  | 1.2MB 8.1MB/s eta 0:00:01\r\u001b[K     |█████████████▎                  | 1.2MB 8.1MB/s eta 0:00:01\r\u001b[K     |█████████████▍                  | 1.3MB 8.1MB/s eta 0:00:01\r\u001b[K     |█████████████▌                  | 1.3MB 8.1MB/s eta 0:00:01\r\u001b[K     |█████████████▌                  | 1.3MB 8.1MB/s eta 0:00:01\r\u001b[K     |█████████████▋                  | 1.3MB 8.1MB/s eta 0:00:01\r\u001b[K     |█████████████▊                  | 1.3MB 8.1MB/s eta 0:00:01\r\u001b[K     |█████████████▉                  | 1.3MB 8.1MB/s eta 0:00:01\r\u001b[K     |██████████████                  | 1.3MB 8.1MB/s eta 0:00:01\r\u001b[K     |██████████████                  | 1.3MB 8.1MB/s eta 0:00:01\r\u001b[K     |██████████████▏                 | 1.3MB 8.1MB/s eta 0:00:01\r\u001b[K     |██████████████▎                 | 1.4MB 8.1MB/s eta 0:00:01\r\u001b[K     |██████████████▍                 | 1.4MB 8.1MB/s eta 0:00:01\r\u001b[K     |██████████████▌                 | 1.4MB 8.1MB/s eta 0:00:01\r\u001b[K     |██████████████▋                 | 1.4MB 8.1MB/s eta 0:00:01\r\u001b[K     |██████████████▊                 | 1.4MB 8.1MB/s eta 0:00:01\r\u001b[K     |██████████████▉                 | 1.4MB 8.1MB/s eta 0:00:01\r\u001b[K     |███████████████                 | 1.4MB 8.1MB/s eta 0:00:01\r\u001b[K     |███████████████                 | 1.4MB 8.1MB/s eta 0:00:01\r\u001b[K     |███████████████▏                | 1.4MB 8.1MB/s eta 0:00:01\r\u001b[K     |███████████████▎                | 1.4MB 8.1MB/s eta 0:00:01\r\u001b[K     |███████████████▍                | 1.5MB 8.1MB/s eta 0:00:01\r\u001b[K     |███████████████▌                | 1.5MB 8.1MB/s eta 0:00:01\r\u001b[K     |███████████████▋                | 1.5MB 8.1MB/s eta 0:00:01\r\u001b[K     |███████████████▊                | 1.5MB 8.1MB/s eta 0:00:01\r\u001b[K     |███████████████▉                | 1.5MB 8.1MB/s eta 0:00:01\r\u001b[K     |████████████████                | 1.5MB 8.1MB/s eta 0:00:01\r\u001b[K     |████████████████                | 1.5MB 8.1MB/s eta 0:00:01\r\u001b[K     |████████████████▏               | 1.5MB 8.1MB/s eta 0:00:01\r\u001b[K     |████████████████▎               | 1.5MB 8.1MB/s eta 0:00:01\r\u001b[K     |████████████████▍               | 1.5MB 8.1MB/s eta 0:00:01\r\u001b[K     |████████████████▌               | 1.6MB 8.1MB/s eta 0:00:01\r\u001b[K     |████████████████▋               | 1.6MB 8.1MB/s eta 0:00:01\r\u001b[K     |████████████████▊               | 1.6MB 8.1MB/s eta 0:00:01\r\u001b[K     |████████████████▉               | 1.6MB 8.1MB/s eta 0:00:01\r\u001b[K     |█████████████████               | 1.6MB 8.1MB/s eta 0:00:01\r\u001b[K     |█████████████████               | 1.6MB 8.1MB/s eta 0:00:01\r\u001b[K     |█████████████████▏              | 1.6MB 8.1MB/s eta 0:00:01\r\u001b[K     |█████████████████▎              | 1.6MB 8.1MB/s eta 0:00:01\r\u001b[K     |█████████████████▍              | 1.6MB 8.1MB/s eta 0:00:01\r\u001b[K     |█████████████████▌              | 1.6MB 8.1MB/s eta 0:00:01\r\u001b[K     |█████████████████▋              | 1.7MB 8.1MB/s eta 0:00:01\r\u001b[K     |█████████████████▊              | 1.7MB 8.1MB/s eta 0:00:01\r\u001b[K     |█████████████████▉              | 1.7MB 8.1MB/s eta 0:00:01\r\u001b[K     |██████████████████              | 1.7MB 8.1MB/s eta 0:00:01\r\u001b[K     |██████████████████              | 1.7MB 8.1MB/s eta 0:00:01\r\u001b[K     |██████████████████              | 1.7MB 8.1MB/s eta 0:00:01\r\u001b[K     |██████████████████▏             | 1.7MB 8.1MB/s eta 0:00:01\r\u001b[K     |██████████████████▎             | 1.7MB 8.1MB/s eta 0:00:01\r\u001b[K     |██████████████████▍             | 1.7MB 8.1MB/s eta 0:00:01\r\u001b[K     |██████████████████▌             | 1.8MB 8.1MB/s eta 0:00:01\r\u001b[K     |██████████████████▋             | 1.8MB 8.1MB/s eta 0:00:01\r\u001b[K     |██████████████████▊             | 1.8MB 8.1MB/s eta 0:00:01\r\u001b[K     |██████████████████▉             | 1.8MB 8.1MB/s eta 0:00:01\r\u001b[K     |███████████████████             | 1.8MB 8.1MB/s eta 0:00:01\r\u001b[K     |███████████████████             | 1.8MB 8.1MB/s eta 0:00:01\r\u001b[K     |███████████████████▏            | 1.8MB 8.1MB/s eta 0:00:01\r\u001b[K     |███████████████████▎            | 1.8MB 8.1MB/s eta 0:00:01\r\u001b[K     |███████████████████▍            | 1.8MB 8.1MB/s eta 0:00:01\r\u001b[K     |███████████████████▌            | 1.8MB 8.1MB/s eta 0:00:01\r\u001b[K     |███████████████████▋            | 1.9MB 8.1MB/s eta 0:00:01\r\u001b[K     |███████████████████▊            | 1.9MB 8.1MB/s eta 0:00:01\r\u001b[K     |███████████████████▉            | 1.9MB 8.1MB/s eta 0:00:01\r\u001b[K     |████████████████████            | 1.9MB 8.1MB/s eta 0:00:01\r\u001b[K     |████████████████████            | 1.9MB 8.1MB/s eta 0:00:01\r\u001b[K     |████████████████████▏           | 1.9MB 8.1MB/s eta 0:00:01\r\u001b[K     |████████████████████▎           | 1.9MB 8.1MB/s eta 0:00:01\r\u001b[K     |████████████████████▍           | 1.9MB 8.1MB/s eta 0:00:01\r\u001b[K     |████████████████████▌           | 1.9MB 8.1MB/s eta 0:00:01\r\u001b[K     |████████████████████▋           | 1.9MB 8.1MB/s eta 0:00:01\r\u001b[K     |████████████████████▊           | 2.0MB 8.1MB/s eta 0:00:01\r\u001b[K     |████████████████████▉           | 2.0MB 8.1MB/s eta 0:00:01\r\u001b[K     |█████████████████████           | 2.0MB 8.1MB/s eta 0:00:01\r\u001b[K     |█████████████████████           | 2.0MB 8.1MB/s eta 0:00:01\r\u001b[K     |█████████████████████▏          | 2.0MB 8.1MB/s eta 0:00:01\r\u001b[K     |█████████████████████▎          | 2.0MB 8.1MB/s eta 0:00:01\r\u001b[K     |█████████████████████▍          | 2.0MB 8.1MB/s eta 0:00:01\r\u001b[K     |█████████████████████▌          | 2.0MB 8.1MB/s eta 0:00:01\r\u001b[K     |█████████████████████▋          | 2.0MB 8.1MB/s eta 0:00:01\r\u001b[K     |█████████████████████▊          | 2.0MB 8.1MB/s eta 0:00:01\r\u001b[K     |█████████████████████▉          | 2.1MB 8.1MB/s eta 0:00:01\r\u001b[K     |██████████████████████          | 2.1MB 8.1MB/s eta 0:00:01\r\u001b[K     |██████████████████████          | 2.1MB 8.1MB/s eta 0:00:01\r\u001b[K     |██████████████████████▏         | 2.1MB 8.1MB/s eta 0:00:01\r\u001b[K     |██████████████████████▎         | 2.1MB 8.1MB/s eta 0:00:01\r\u001b[K     |██████████████████████▍         | 2.1MB 8.1MB/s eta 0:00:01\r\u001b[K     |██████████████████████▌         | 2.1MB 8.1MB/s eta 0:00:01\r\u001b[K     |██████████████████████▋         | 2.1MB 8.1MB/s eta 0:00:01\r\u001b[K     |██████████████████████▋         | 2.1MB 8.1MB/s eta 0:00:01\r\u001b[K     |██████████████████████▊         | 2.2MB 8.1MB/s eta 0:00:01\r\u001b[K     |██████████████████████▉         | 2.2MB 8.1MB/s eta 0:00:01\r\u001b[K     |███████████████████████         | 2.2MB 8.1MB/s eta 0:00:01\r\u001b[K     |███████████████████████         | 2.2MB 8.1MB/s eta 0:00:01\r\u001b[K     |███████████████████████▏        | 2.2MB 8.1MB/s eta 0:00:01\r\u001b[K     |███████████████████████▎        | 2.2MB 8.1MB/s eta 0:00:01\r\u001b[K     |███████████████████████▍        | 2.2MB 8.1MB/s eta 0:00:01\r\u001b[K     |███████████████████████▌        | 2.2MB 8.1MB/s eta 0:00:01\r\u001b[K     |███████████████████████▋        | 2.2MB 8.1MB/s eta 0:00:01\r\u001b[K     |███████████████████████▊        | 2.2MB 8.1MB/s eta 0:00:01\r\u001b[K     |███████████████████████▉        | 2.3MB 8.1MB/s eta 0:00:01\r\u001b[K     |████████████████████████        | 2.3MB 8.1MB/s eta 0:00:01\r\u001b[K     |████████████████████████        | 2.3MB 8.1MB/s eta 0:00:01\r\u001b[K     |████████████████████████▏       | 2.3MB 8.1MB/s eta 0:00:01\r\u001b[K     |████████████████████████▎       | 2.3MB 8.1MB/s eta 0:00:01\r\u001b[K     |████████████████████████▍       | 2.3MB 8.1MB/s eta 0:00:01\r\u001b[K     |████████████████████████▌       | 2.3MB 8.1MB/s eta 0:00:01\r\u001b[K     |████████████████████████▋       | 2.3MB 8.1MB/s eta 0:00:01\r\u001b[K     |████████████████████████▊       | 2.3MB 8.1MB/s eta 0:00:01\r\u001b[K     |████████████████████████▉       | 2.3MB 8.1MB/s eta 0:00:01\r\u001b[K     |█████████████████████████       | 2.4MB 8.1MB/s eta 0:00:01\r\u001b[K     |█████████████████████████       | 2.4MB 8.1MB/s eta 0:00:01\r\u001b[K     |█████████████████████████▏      | 2.4MB 8.1MB/s eta 0:00:01\r\u001b[K     |█████████████████████████▎      | 2.4MB 8.1MB/s eta 0:00:01\r\u001b[K     |█████████████████████████▍      | 2.4MB 8.1MB/s eta 0:00:01\r\u001b[K     |█████████████████████████▌      | 2.4MB 8.1MB/s eta 0:00:01\r\u001b[K     |█████████████████████████▋      | 2.4MB 8.1MB/s eta 0:00:01\r\u001b[K     |█████████████████████████▊      | 2.4MB 8.1MB/s eta 0:00:01\r\u001b[K     |█████████████████████████▉      | 2.4MB 8.1MB/s eta 0:00:01\r\u001b[K     |██████████████████████████      | 2.4MB 8.1MB/s eta 0:00:01\r\u001b[K     |██████████████████████████      | 2.5MB 8.1MB/s eta 0:00:01\r\u001b[K     |██████████████████████████▏     | 2.5MB 8.1MB/s eta 0:00:01\r\u001b[K     |██████████████████████████▎     | 2.5MB 8.1MB/s eta 0:00:01\r\u001b[K     |██████████████████████████▍     | 2.5MB 8.1MB/s eta 0:00:01\r\u001b[K     |██████████████████████████▌     | 2.5MB 8.1MB/s eta 0:00:01\r\u001b[K     |██████████████████████████▋     | 2.5MB 8.1MB/s eta 0:00:01\r\u001b[K     |██████████████████████████▊     | 2.5MB 8.1MB/s eta 0:00:01\r\u001b[K     |██████████████████████████▉     | 2.5MB 8.1MB/s eta 0:00:01\r\u001b[K     |███████████████████████████     | 2.5MB 8.1MB/s eta 0:00:01\r\u001b[K     |███████████████████████████     | 2.5MB 8.1MB/s eta 0:00:01\r\u001b[K     |███████████████████████████     | 2.6MB 8.1MB/s eta 0:00:01\r\u001b[K     |███████████████████████████▏    | 2.6MB 8.1MB/s eta 0:00:01\r\u001b[K     |███████████████████████████▎    | 2.6MB 8.1MB/s eta 0:00:01\r\u001b[K     |███████████████████████████▍    | 2.6MB 8.1MB/s eta 0:00:01\r\u001b[K     |███████████████████████████▌    | 2.6MB 8.1MB/s eta 0:00:01\r\u001b[K     |███████████████████████████▋    | 2.6MB 8.1MB/s eta 0:00:01\r\u001b[K     |███████████████████████████▊    | 2.6MB 8.1MB/s eta 0:00:01\r\u001b[K     |███████████████████████████▉    | 2.6MB 8.1MB/s eta 0:00:01\r\u001b[K     |████████████████████████████    | 2.6MB 8.1MB/s eta 0:00:01\r\u001b[K     |████████████████████████████    | 2.7MB 8.1MB/s eta 0:00:01\r\u001b[K     |████████████████████████████▏   | 2.7MB 8.1MB/s eta 0:00:01\r\u001b[K     |████████████████████████████▎   | 2.7MB 8.1MB/s eta 0:00:01\r\u001b[K     |████████████████████████████▍   | 2.7MB 8.1MB/s eta 0:00:01\r\u001b[K     |████████████████████████████▌   | 2.7MB 8.1MB/s eta 0:00:01\r\u001b[K     |████████████████████████████▋   | 2.7MB 8.1MB/s eta 0:00:01\r\u001b[K     |████████████████████████████▊   | 2.7MB 8.1MB/s eta 0:00:01\r\u001b[K     |████████████████████████████▉   | 2.7MB 8.1MB/s eta 0:00:01\r\u001b[K     |█████████████████████████████   | 2.7MB 8.1MB/s eta 0:00:01\r\u001b[K     |█████████████████████████████   | 2.7MB 8.1MB/s eta 0:00:01\r\u001b[K     |█████████████████████████████▏  | 2.8MB 8.1MB/s eta 0:00:01\r\u001b[K     |█████████████████████████████▎  | 2.8MB 8.1MB/s eta 0:00:01\r\u001b[K     |█████████████████████████████▍  | 2.8MB 8.1MB/s eta 0:00:01\r\u001b[K     |█████████████████████████████▌  | 2.8MB 8.1MB/s eta 0:00:01\r\u001b[K     |█████████████████████████████▋  | 2.8MB 8.1MB/s eta 0:00:01\r\u001b[K     |█████████████████████████████▊  | 2.8MB 8.1MB/s eta 0:00:01\r\u001b[K     |█████████████████████████████▉  | 2.8MB 8.1MB/s eta 0:00:01\r\u001b[K     |██████████████████████████████  | 2.8MB 8.1MB/s eta 0:00:01\r\u001b[K     |██████████████████████████████  | 2.8MB 8.1MB/s eta 0:00:01\r\u001b[K     |██████████████████████████████▏ | 2.8MB 8.1MB/s eta 0:00:01\r\u001b[K     |██████████████████████████████▎ | 2.9MB 8.1MB/s eta 0:00:01\r\u001b[K     |██████████████████████████████▍ | 2.9MB 8.1MB/s eta 0:00:01\r\u001b[K     |██████████████████████████████▌ | 2.9MB 8.1MB/s eta 0:00:01\r\u001b[K     |██████████████████████████████▋ | 2.9MB 8.1MB/s eta 0:00:01\r\u001b[K     |██████████████████████████████▊ | 2.9MB 8.1MB/s eta 0:00:01\r\u001b[K     |██████████████████████████████▉ | 2.9MB 8.1MB/s eta 0:00:01\r\u001b[K     |███████████████████████████████ | 2.9MB 8.1MB/s eta 0:00:01\r\u001b[K     |███████████████████████████████ | 2.9MB 8.1MB/s eta 0:00:01\r\u001b[K     |███████████████████████████████▏| 2.9MB 8.1MB/s eta 0:00:01\r\u001b[K     |███████████████████████████████▎| 2.9MB 8.1MB/s eta 0:00:01\r\u001b[K     |███████████████████████████████▍| 3.0MB 8.1MB/s eta 0:00:01\r\u001b[K     |███████████████████████████████▌| 3.0MB 8.1MB/s eta 0:00:01\r\u001b[K     |███████████████████████████████▋| 3.0MB 8.1MB/s eta 0:00:01\r\u001b[K     |███████████████████████████████▋| 3.0MB 8.1MB/s eta 0:00:01\r\u001b[K     |███████████████████████████████▊| 3.0MB 8.1MB/s eta 0:00:01\r\u001b[K     |███████████████████████████████▉| 3.0MB 8.1MB/s eta 0:00:01\r\u001b[K     |████████████████████████████████| 3.0MB 8.1MB/s eta 0:00:01\r\u001b[K     |████████████████████████████████| 3.0MB 8.1MB/s \n",
            "\u001b[?25hRequirement already satisfied: tensorflow<2.3,>=2.2.0 in /usr/local/lib/python3.6/dist-packages (from tensorflow_text) (2.2.0)\n",
            "Requirement already satisfied: keras-preprocessing>=1.1.0 in /usr/local/lib/python3.6/dist-packages (from tensorflow<2.3,>=2.2.0->tensorflow_text) (1.1.2)\n",
            "Requirement already satisfied: h5py<2.11.0,>=2.10.0 in /usr/local/lib/python3.6/dist-packages (from tensorflow<2.3,>=2.2.0->tensorflow_text) (2.10.0)\n",
            "Requirement already satisfied: wheel>=0.26; python_version >= \"3\" in /usr/local/lib/python3.6/dist-packages (from tensorflow<2.3,>=2.2.0->tensorflow_text) (0.34.2)\n",
            "Requirement already satisfied: google-pasta>=0.1.8 in /usr/local/lib/python3.6/dist-packages (from tensorflow<2.3,>=2.2.0->tensorflow_text) (0.2.0)\n",
            "Requirement already satisfied: tensorboard<2.3.0,>=2.2.0 in /usr/local/lib/python3.6/dist-packages (from tensorflow<2.3,>=2.2.0->tensorflow_text) (2.2.1)\n",
            "Requirement already satisfied: termcolor>=1.1.0 in /usr/local/lib/python3.6/dist-packages (from tensorflow<2.3,>=2.2.0->tensorflow_text) (1.1.0)\n",
            "Requirement already satisfied: opt-einsum>=2.3.2 in /usr/local/lib/python3.6/dist-packages (from tensorflow<2.3,>=2.2.0->tensorflow_text) (3.2.1)\n",
            "Requirement already satisfied: gast==0.3.3 in /usr/local/lib/python3.6/dist-packages (from tensorflow<2.3,>=2.2.0->tensorflow_text) (0.3.3)\n",
            "Requirement already satisfied: astunparse==1.6.3 in /usr/local/lib/python3.6/dist-packages (from tensorflow<2.3,>=2.2.0->tensorflow_text) (1.6.3)\n",
            "Requirement already satisfied: tensorflow-estimator<2.3.0,>=2.2.0 in /usr/local/lib/python3.6/dist-packages (from tensorflow<2.3,>=2.2.0->tensorflow_text) (2.2.0)\n",
            "Requirement already satisfied: absl-py>=0.7.0 in /usr/local/lib/python3.6/dist-packages (from tensorflow<2.3,>=2.2.0->tensorflow_text) (0.9.0)\n",
            "Requirement already satisfied: numpy<2.0,>=1.16.0 in /usr/local/lib/python3.6/dist-packages (from tensorflow<2.3,>=2.2.0->tensorflow_text) (1.18.4)\n",
            "Requirement already satisfied: wrapt>=1.11.1 in /usr/local/lib/python3.6/dist-packages (from tensorflow<2.3,>=2.2.0->tensorflow_text) (1.12.1)\n",
            "Requirement already satisfied: six>=1.12.0 in /usr/local/lib/python3.6/dist-packages (from tensorflow<2.3,>=2.2.0->tensorflow_text) (1.12.0)\n",
            "Requirement already satisfied: scipy==1.4.1; python_version >= \"3\" in /usr/local/lib/python3.6/dist-packages (from tensorflow<2.3,>=2.2.0->tensorflow_text) (1.4.1)\n",
            "Requirement already satisfied: protobuf>=3.8.0 in /usr/local/lib/python3.6/dist-packages (from tensorflow<2.3,>=2.2.0->tensorflow_text) (3.10.0)\n",
            "Requirement already satisfied: grpcio>=1.8.6 in /usr/local/lib/python3.6/dist-packages (from tensorflow<2.3,>=2.2.0->tensorflow_text) (1.29.0)\n",
            "Requirement already satisfied: tensorboard-plugin-wit>=1.6.0 in /usr/local/lib/python3.6/dist-packages (from tensorboard<2.3.0,>=2.2.0->tensorflow<2.3,>=2.2.0->tensorflow_text) (1.6.0.post3)\n",
            "Requirement already satisfied: setuptools>=41.0.0 in /usr/local/lib/python3.6/dist-packages (from tensorboard<2.3.0,>=2.2.0->tensorflow<2.3,>=2.2.0->tensorflow_text) (46.4.0)\n",
            "Requirement already satisfied: google-auth-oauthlib<0.5,>=0.4.1 in /usr/local/lib/python3.6/dist-packages (from tensorboard<2.3.0,>=2.2.0->tensorflow<2.3,>=2.2.0->tensorflow_text) (0.4.1)\n",
            "Requirement already satisfied: werkzeug>=0.11.15 in /usr/local/lib/python3.6/dist-packages (from tensorboard<2.3.0,>=2.2.0->tensorflow<2.3,>=2.2.0->tensorflow_text) (1.0.1)\n",
            "Requirement already satisfied: markdown>=2.6.8 in /usr/local/lib/python3.6/dist-packages (from tensorboard<2.3.0,>=2.2.0->tensorflow<2.3,>=2.2.0->tensorflow_text) (3.2.2)\n",
            "Requirement already satisfied: google-auth<2,>=1.6.3 in /usr/local/lib/python3.6/dist-packages (from tensorboard<2.3.0,>=2.2.0->tensorflow<2.3,>=2.2.0->tensorflow_text) (1.7.2)\n",
            "Requirement already satisfied: requests<3,>=2.21.0 in /usr/local/lib/python3.6/dist-packages (from tensorboard<2.3.0,>=2.2.0->tensorflow<2.3,>=2.2.0->tensorflow_text) (2.23.0)\n",
            "Requirement already satisfied: requests-oauthlib>=0.7.0 in /usr/local/lib/python3.6/dist-packages (from google-auth-oauthlib<0.5,>=0.4.1->tensorboard<2.3.0,>=2.2.0->tensorflow<2.3,>=2.2.0->tensorflow_text) (1.3.0)\n",
            "Requirement already satisfied: importlib-metadata; python_version < \"3.8\" in /usr/local/lib/python3.6/dist-packages (from markdown>=2.6.8->tensorboard<2.3.0,>=2.2.0->tensorflow<2.3,>=2.2.0->tensorflow_text) (1.6.0)\n",
            "Requirement already satisfied: pyasn1-modules>=0.2.1 in /usr/local/lib/python3.6/dist-packages (from google-auth<2,>=1.6.3->tensorboard<2.3.0,>=2.2.0->tensorflow<2.3,>=2.2.0->tensorflow_text) (0.2.8)\n",
            "Requirement already satisfied: cachetools<3.2,>=2.0.0 in /usr/local/lib/python3.6/dist-packages (from google-auth<2,>=1.6.3->tensorboard<2.3.0,>=2.2.0->tensorflow<2.3,>=2.2.0->tensorflow_text) (3.1.1)\n",
            "Requirement already satisfied: rsa<4.1,>=3.1.4 in /usr/local/lib/python3.6/dist-packages (from google-auth<2,>=1.6.3->tensorboard<2.3.0,>=2.2.0->tensorflow<2.3,>=2.2.0->tensorflow_text) (4.0)\n",
            "Requirement already satisfied: idna<3,>=2.5 in /usr/local/lib/python3.6/dist-packages (from requests<3,>=2.21.0->tensorboard<2.3.0,>=2.2.0->tensorflow<2.3,>=2.2.0->tensorflow_text) (2.9)\n",
            "Requirement already satisfied: certifi>=2017.4.17 in /usr/local/lib/python3.6/dist-packages (from requests<3,>=2.21.0->tensorboard<2.3.0,>=2.2.0->tensorflow<2.3,>=2.2.0->tensorflow_text) (2020.4.5.1)\n",
            "Requirement already satisfied: chardet<4,>=3.0.2 in /usr/local/lib/python3.6/dist-packages (from requests<3,>=2.21.0->tensorboard<2.3.0,>=2.2.0->tensorflow<2.3,>=2.2.0->tensorflow_text) (3.0.4)\n",
            "Requirement already satisfied: urllib3!=1.25.0,!=1.25.1,<1.26,>=1.21.1 in /usr/local/lib/python3.6/dist-packages (from requests<3,>=2.21.0->tensorboard<2.3.0,>=2.2.0->tensorflow<2.3,>=2.2.0->tensorflow_text) (1.24.3)\n",
            "Requirement already satisfied: oauthlib>=3.0.0 in /usr/local/lib/python3.6/dist-packages (from requests-oauthlib>=0.7.0->google-auth-oauthlib<0.5,>=0.4.1->tensorboard<2.3.0,>=2.2.0->tensorflow<2.3,>=2.2.0->tensorflow_text) (3.1.0)\n",
            "Requirement already satisfied: zipp>=0.5 in /usr/local/lib/python3.6/dist-packages (from importlib-metadata; python_version < \"3.8\"->markdown>=2.6.8->tensorboard<2.3.0,>=2.2.0->tensorflow<2.3,>=2.2.0->tensorflow_text) (3.1.0)\n",
            "Requirement already satisfied: pyasn1<0.5.0,>=0.4.6 in /usr/local/lib/python3.6/dist-packages (from pyasn1-modules>=0.2.1->google-auth<2,>=1.6.3->tensorboard<2.3.0,>=2.2.0->tensorflow<2.3,>=2.2.0->tensorflow_text) (0.4.8)\n",
            "Installing collected packages: tensorflow-text\n",
            "Successfully installed tensorflow-text-2.2.0\n"
          ],
          "name": "stdout"
        }
      ]
    },
    {
      "cell_type": "code",
      "metadata": {
        "colab_type": "code",
        "id": "kNeilvDdBlwx",
        "outputId": "83b0e3cb-3f83-40cb-82bb-d81852db33ed",
        "colab": {
          "base_uri": "https://localhost:8080/",
          "height": 34
        }
      },
      "source": [
        "import tensorflow as tf\n",
        "import tensorflow_hub as hub\n",
        "import tensorflow_text\n",
        "tf.executing_eagerly()"
      ],
      "execution_count": 19,
      "outputs": [
        {
          "output_type": "execute_result",
          "data": {
            "text/plain": [
              "True"
            ]
          },
          "metadata": {
            "tags": []
          },
          "execution_count": 19
        }
      ]
    },
    {
      "cell_type": "code",
      "metadata": {
        "colab_type": "code",
        "id": "-Ev62HgSBvDj",
        "colab": {}
      },
      "source": [
        "embed = hub.load(\"https://tfhub.dev/google/universal-sentence-encoder-multilingual-large/3\")"
      ],
      "execution_count": 0,
      "outputs": []
    },
    {
      "cell_type": "code",
      "metadata": {
        "colab_type": "code",
        "id": "0b6sAvF7CF2f",
        "outputId": "52337663-e6f9-4903-b012-19dabe66f1de",
        "colab": {
          "base_uri": "https://localhost:8080/",
          "height": 139
        }
      },
      "source": [
        "!pip install faiss-gpu "
      ],
      "execution_count": 21,
      "outputs": [
        {
          "output_type": "stream",
          "text": [
            "Collecting faiss-gpu\n",
            "\u001b[?25l  Downloading https://files.pythonhosted.org/packages/a8/69/0e3f56024bb1423a518287673071ae512f9965d1faa6150deef5cc9e7996/faiss_gpu-1.6.3-cp36-cp36m-manylinux2010_x86_64.whl (35.5MB)\n",
            "\u001b[K     |████████████████████████████████| 35.5MB 90kB/s \n",
            "\u001b[?25hRequirement already satisfied: numpy in /usr/local/lib/python3.6/dist-packages (from faiss-gpu) (1.18.4)\n",
            "Installing collected packages: faiss-gpu\n",
            "Successfully installed faiss-gpu-1.6.3\n"
          ],
          "name": "stdout"
        }
      ]
    },
    {
      "cell_type": "code",
      "metadata": {
        "colab_type": "code",
        "id": "9cJTFCIn8YMW",
        "colab": {}
      },
      "source": [
        "import faiss\n",
        "\n",
        "index = faiss.read_index(\"/content/drive/My Drive/data/beer_review_index_v1\")\n"
      ],
      "execution_count": 0,
      "outputs": []
    },
    {
      "cell_type": "markdown",
      "metadata": {
        "colab_type": "text",
        "id": "SWCk1UcVHxTa"
      },
      "source": [
        "\n",
        "## REALTIME BEER RECOMENDATION BASED ON REVIEW SIMILARITY.\n"
      ]
    },
    {
      "cell_type": "code",
      "metadata": {
        "colab_type": "code",
        "id": "OIVQ8BzrH0nX",
        "outputId": "57682109-23a3-4a08-f071-82b72d33ec7a",
        "colab": {
          "base_uri": "https://localhost:8080/",
          "height": 462
        }
      },
      "source": [
        "from  more_itertools import unique_everseen\n",
        "while True:\n",
        "    print(\"Enter review Query? ... Press 'q' to Quit\")\n",
        "    print(\"==\"*10)\n",
        "    inp_query = input()\n",
        "    if inp_query in ['q', 'Q']:\n",
        "        break\n",
        "    query_vectors = embed([inp_query]).numpy()\n",
        "    print(\"Answer\")\n",
        "    distances, indices = index.search(query_vectors, 2)\n",
        "    for ind in list(unique_everseen(indices[0])):\n",
        "        print(\"BEER NAME: \", df_beer[df_beer['id']==ind].beer_name.tolist()[0])\n",
        "        print(\"SIMILAR REVIEW TEXT: \", df_beer[df_beer['id']==ind].review_text.tolist()[0])\n",
        "        print(\"==\"*10)\n",
        "    print(\"==\"*10)"
      ],
      "execution_count": 23,
      "outputs": [
        {
          "output_type": "stream",
          "text": [
            "Enter review Query? ... Press 'q' to Quit\n",
            "====================\n",
            "Looking for draught beer.\n",
            "Answer\n",
            "BEER NAME:  Tröegs Pale Ale\n",
            "SIMILAR REVIEW TEXT:  Always looking for beers I'd want to drink on a regular basis. Found one here, for sure. Nice golden hue. Immediately after the pour, the head and flavor are moderately hoppy, quite tasty. As it warms up a bit, a few very pleasing characteristics emerge - floral nose, subtle citrus, vaguely nutty in the aftertaste. Wait a few minutes. This is best enjoyed not too cold, as a really well-balanced beer takes shape. Recommended for sessioning.\n",
            "====================\n",
            "BEER NAME:  CB's Caged Alpha Monkey IPA\n",
            "SIMILAR REVIEW TEXT:  I actually didn't see the beer. It came in a bottle, and I drank it until it was gone. It was very good. Nice, hoppy, fragrant, and good. I will get more, just so I can pour it in a glass and drink it again. This is a beer worth looking for. I know I will.\n",
            "====================\n",
            "====================\n",
            "Enter review Query? ... Press 'q' to Quit\n",
            "====================\n",
            "subtle citrus, vaguely nutty in the aftertaste\n",
            "Answer\n",
            "BEER NAME:  Centennial Red (Brewmaster Series)\n",
            "SIMILAR REVIEW TEXT:  Smells sweet. Mostly caramel, and floral hops in the background. Slight fruit aromas too? Citrus maybe? I don't like this one at all. Some folks below claim this to be balanced. Not so much. Starts off slightly sweet with a bit of fruitiness to it. After that, it straight up bitter. And the bitterness just lingers forever. Overall, I don't like this one. It's just too bitter for the style I think. Perhaps if they backed off on the bitterness, some of the more subtle flavors would have a chance.\n",
            "====================\n",
            "BEER NAME:  Purple Haze\n",
            "SIMILAR REVIEW TEXT:  A decent, very light, fruit flavored brew.\n",
            "====================\n",
            "====================\n",
            "Enter review Query? ... Press 'q' to Quit\n",
            "====================\n",
            "q\n"
          ],
          "name": "stdout"
        }
      ]
    },
    {
      "cell_type": "code",
      "metadata": {
        "id": "3xISmTZv1O9v",
        "colab_type": "code",
        "colab": {}
      },
      "source": [
        ""
      ],
      "execution_count": 0,
      "outputs": []
    }
  ]
}